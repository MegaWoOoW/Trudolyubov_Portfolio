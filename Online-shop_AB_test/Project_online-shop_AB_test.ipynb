{
 "cells": [
  {
   "cell_type": "markdown",
   "metadata": {},
   "source": [
    "# Анализ результатов А/В-тестирования гипотез для интернет-магазина"
   ]
  },
  {
   "cell_type": "markdown",
   "metadata": {},
   "source": [
    "Данная работа состоит из двух частей: \n",
    "- В первой части данном исследовании проводится приоритизация из изначально предложенных отделом маркетинга гипотез методами ICE и RICE.\n",
    "- Во второй части проводится анализ результатов А/В-тестирования (какая конкретно гипотеза тестировалась в рамках задания не указано). \n",
    "\n",
    "<b>Используемые данные:</b>\n",
    "- Таблица с предложенными гипотезами и их оценками.\n",
    "- Лог транзакций в магазине за месяц среди пользователей, включенных в группы.\n",
    "- Сводная таблица с количеством посещений за месяц среди пользователей, включенных в группы.\n",
    "\n",
    "В рамках работы использовались библиотеки `pandas`, `matplotlib`, `numpy`, `seaborn`, `scipy`. Проводилась подготовка и компоновка данных, формирование описательных статистик, визуализаций, а также тестирование статистических гипотез с помощью критерия Манна-Уитни.\n",
    "\n",
    "\n",
    "<b>Ключевые выводы:</b>\n",
    "- Добавление критерия \"Охват\" изменило изначальную приоритизацию гипотез, ТОП-3 составили: увеличение числа форм, в которых пользователи могут подписаться на рассылку, добавление новых каналов привлечения, изменение структуры категорий на сайте. \n",
    "- Тест признан завершенным.\n",
    "- Зафиксировано значимое преимущество группы В в уровне конверсии пользователей при отсутствии разницы в среднем чеке."
   ]
  },
  {
   "cell_type": "markdown",
   "metadata": {},
   "source": [
    "<a id=\"title\"></a>"
   ]
  },
  {
   "cell_type": "markdown",
   "metadata": {},
   "source": [
    "<b>Оглавление:</b>\n",
    "1. [Открытие и первичный анализ данных](#start)\n",
    "1. [I. Приоретизация гипотез](#hypothesis)\n",
    "1. [II. Обработка результатов A/B тестирования](#A/B)\n",
    "2. [Предобработка данных](#A/B)\n",
    "    * [Замена типов данных](#types)\n",
    "    * [Обработка ошибок](#mistakes)\n",
    "    * [Промежуточный вывод](#first_conclusion)\n",
    "3. [Анализ данных](#second_step)\n",
    "    * [Динамика кумулятивных значений по группам](#second_step)\n",
    "    * [Промежуточный вывод](#second_conclusion)\n",
    "4. [Поиск выбросов](#third_step)\n",
    "    * [Промежуточный вывод](#regions)\n",
    "5. [A/B-тестирование](#test)\n",
    "5. [Итоговый вывод](#final_step)"
   ]
  },
  {
   "cell_type": "markdown",
   "metadata": {},
   "source": [
    "<a id=\"start\"></a>"
   ]
  },
  {
   "cell_type": "markdown",
   "metadata": {},
   "source": [
    "## Открытие и первичный анализ данных "
   ]
  },
  {
   "cell_type": "code",
   "execution_count": 1,
   "metadata": {},
   "outputs": [],
   "source": [
    "import pandas as pd\n",
    "import matplotlib as mpl\n",
    "import matplotlib.pyplot as plt\n",
    "import numpy as np\n",
    "import seaborn as sns\n",
    "from scipy import stats as st\n",
    "import datetime as dt"
   ]
  },
  {
   "cell_type": "code",
   "execution_count": 2,
   "metadata": {},
   "outputs": [],
   "source": [
    "sns.set(rc={'figure.figsize':(12,9)})"
   ]
  },
  {
   "cell_type": "code",
   "execution_count": 3,
   "metadata": {},
   "outputs": [],
   "source": [
    "pd.set_option('display.precision', 3)\n",
    "pd.options.display.max_colwidth = 1"
   ]
  },
  {
   "cell_type": "markdown",
   "metadata": {},
   "source": [
    "Подгружаем библиотеки"
   ]
  },
  {
   "cell_type": "code",
   "execution_count": 4,
   "metadata": {},
   "outputs": [],
   "source": [
    "hypothesis = pd.read_csv('https://code.s3.yandex.net/datasets/hypothesis.csv')\n",
    "orders = pd.read_csv('https://code.s3.yandex.net/datasets/orders.csv')\n",
    "visitors = pd.read_csv('https://code.s3.yandex.net/datasets/visitors.csv')"
   ]
  },
  {
   "cell_type": "markdown",
   "metadata": {},
   "source": [
    "Подгружаем массивы"
   ]
  },
  {
   "cell_type": "code",
   "execution_count": 5,
   "metadata": {
    "scrolled": true
   },
   "outputs": [
    {
     "data": {
      "text/html": [
       "<div>\n",
       "<style scoped>\n",
       "    .dataframe tbody tr th:only-of-type {\n",
       "        vertical-align: middle;\n",
       "    }\n",
       "\n",
       "    .dataframe tbody tr th {\n",
       "        vertical-align: top;\n",
       "    }\n",
       "\n",
       "    .dataframe thead th {\n",
       "        text-align: right;\n",
       "    }\n",
       "</style>\n",
       "<table border=\"1\" class=\"dataframe\">\n",
       "  <thead>\n",
       "    <tr style=\"text-align: right;\">\n",
       "      <th></th>\n",
       "      <th>Hypothesis</th>\n",
       "      <th>Reach</th>\n",
       "      <th>Impact</th>\n",
       "      <th>Confidence</th>\n",
       "      <th>Efforts</th>\n",
       "    </tr>\n",
       "  </thead>\n",
       "  <tbody>\n",
       "    <tr>\n",
       "      <th>0</th>\n",
       "      <td>Добавить два новых канала привлечения трафика, что позволит привлекать на 30% больше пользователей</td>\n",
       "      <td>3</td>\n",
       "      <td>10</td>\n",
       "      <td>8</td>\n",
       "      <td>6</td>\n",
       "    </tr>\n",
       "    <tr>\n",
       "      <th>1</th>\n",
       "      <td>Запустить собственную службу доставки, что сократит срок доставки заказов</td>\n",
       "      <td>2</td>\n",
       "      <td>5</td>\n",
       "      <td>4</td>\n",
       "      <td>10</td>\n",
       "    </tr>\n",
       "    <tr>\n",
       "      <th>2</th>\n",
       "      <td>Добавить блоки рекомендаций товаров на сайт интернет магазина, чтобы повысить конверсию и средний чек заказа</td>\n",
       "      <td>8</td>\n",
       "      <td>3</td>\n",
       "      <td>7</td>\n",
       "      <td>3</td>\n",
       "    </tr>\n",
       "    <tr>\n",
       "      <th>3</th>\n",
       "      <td>Изменить структура категорий, что увеличит конверсию, т.к. пользователи быстрее найдут нужный товар</td>\n",
       "      <td>8</td>\n",
       "      <td>3</td>\n",
       "      <td>3</td>\n",
       "      <td>8</td>\n",
       "    </tr>\n",
       "    <tr>\n",
       "      <th>4</th>\n",
       "      <td>Изменить цвет фона главной страницы, чтобы увеличить вовлеченность пользователей</td>\n",
       "      <td>3</td>\n",
       "      <td>1</td>\n",
       "      <td>1</td>\n",
       "      <td>1</td>\n",
       "    </tr>\n",
       "    <tr>\n",
       "      <th>5</th>\n",
       "      <td>Добавить страницу отзывов клиентов о магазине, что позволит увеличить количество заказов</td>\n",
       "      <td>3</td>\n",
       "      <td>2</td>\n",
       "      <td>2</td>\n",
       "      <td>3</td>\n",
       "    </tr>\n",
       "    <tr>\n",
       "      <th>6</th>\n",
       "      <td>Показать на главной странице баннеры с актуальными акциями и распродажами, чтобы увеличить конверсию</td>\n",
       "      <td>5</td>\n",
       "      <td>3</td>\n",
       "      <td>8</td>\n",
       "      <td>3</td>\n",
       "    </tr>\n",
       "    <tr>\n",
       "      <th>7</th>\n",
       "      <td>Добавить форму подписки на все основные страницы, чтобы собрать базу клиентов для email-рассылок</td>\n",
       "      <td>10</td>\n",
       "      <td>7</td>\n",
       "      <td>8</td>\n",
       "      <td>5</td>\n",
       "    </tr>\n",
       "    <tr>\n",
       "      <th>8</th>\n",
       "      <td>Запустить акцию, дающую скидку на товар в день рождения</td>\n",
       "      <td>1</td>\n",
       "      <td>9</td>\n",
       "      <td>9</td>\n",
       "      <td>5</td>\n",
       "    </tr>\n",
       "  </tbody>\n",
       "</table>\n",
       "</div>"
      ],
      "text/plain": [
       "                                                                                                     Hypothesis  \\\n",
       "0  Добавить два новых канала привлечения трафика, что позволит привлекать на 30% больше пользователей             \n",
       "1  Запустить собственную службу доставки, что сократит срок доставки заказов                                      \n",
       "2  Добавить блоки рекомендаций товаров на сайт интернет магазина, чтобы повысить конверсию и средний чек заказа   \n",
       "3  Изменить структура категорий, что увеличит конверсию, т.к. пользователи быстрее найдут нужный товар            \n",
       "4  Изменить цвет фона главной страницы, чтобы увеличить вовлеченность пользователей                               \n",
       "5  Добавить страницу отзывов клиентов о магазине, что позволит увеличить количество заказов                       \n",
       "6  Показать на главной странице баннеры с актуальными акциями и распродажами, чтобы увеличить конверсию           \n",
       "7  Добавить форму подписки на все основные страницы, чтобы собрать базу клиентов для email-рассылок               \n",
       "8  Запустить акцию, дающую скидку на товар в день рождения                                                        \n",
       "\n",
       "   Reach  Impact  Confidence  Efforts  \n",
       "0  3      10      8           6        \n",
       "1  2      5       4           10       \n",
       "2  8      3       7           3        \n",
       "3  8      3       3           8        \n",
       "4  3      1       1           1        \n",
       "5  3      2       2           3        \n",
       "6  5      3       8           3        \n",
       "7  10     7       8           5        \n",
       "8  1      9       9           5        "
      ]
     },
     "execution_count": 5,
     "metadata": {},
     "output_type": "execute_result"
    }
   ],
   "source": [
    "hypothesis"
   ]
  },
  {
   "cell_type": "code",
   "execution_count": 6,
   "metadata": {
    "scrolled": false
   },
   "outputs": [
    {
     "data": {
      "text/html": [
       "<div>\n",
       "<style scoped>\n",
       "    .dataframe tbody tr th:only-of-type {\n",
       "        vertical-align: middle;\n",
       "    }\n",
       "\n",
       "    .dataframe tbody tr th {\n",
       "        vertical-align: top;\n",
       "    }\n",
       "\n",
       "    .dataframe thead th {\n",
       "        text-align: right;\n",
       "    }\n",
       "</style>\n",
       "<table border=\"1\" class=\"dataframe\">\n",
       "  <thead>\n",
       "    <tr style=\"text-align: right;\">\n",
       "      <th></th>\n",
       "      <th>transactionId</th>\n",
       "      <th>visitorId</th>\n",
       "      <th>date</th>\n",
       "      <th>revenue</th>\n",
       "      <th>group</th>\n",
       "    </tr>\n",
       "  </thead>\n",
       "  <tbody>\n",
       "    <tr>\n",
       "      <th>0</th>\n",
       "      <td>3667963787</td>\n",
       "      <td>3312258926</td>\n",
       "      <td>2019-08-15</td>\n",
       "      <td>1650</td>\n",
       "      <td>B</td>\n",
       "    </tr>\n",
       "    <tr>\n",
       "      <th>1</th>\n",
       "      <td>2804400009</td>\n",
       "      <td>3642806036</td>\n",
       "      <td>2019-08-15</td>\n",
       "      <td>730</td>\n",
       "      <td>B</td>\n",
       "    </tr>\n",
       "    <tr>\n",
       "      <th>2</th>\n",
       "      <td>2961555356</td>\n",
       "      <td>4069496402</td>\n",
       "      <td>2019-08-15</td>\n",
       "      <td>400</td>\n",
       "      <td>A</td>\n",
       "    </tr>\n",
       "    <tr>\n",
       "      <th>3</th>\n",
       "      <td>3797467345</td>\n",
       "      <td>1196621759</td>\n",
       "      <td>2019-08-15</td>\n",
       "      <td>9759</td>\n",
       "      <td>B</td>\n",
       "    </tr>\n",
       "    <tr>\n",
       "      <th>4</th>\n",
       "      <td>2282983706</td>\n",
       "      <td>2322279887</td>\n",
       "      <td>2019-08-15</td>\n",
       "      <td>2308</td>\n",
       "      <td>B</td>\n",
       "    </tr>\n",
       "    <tr>\n",
       "      <th>...</th>\n",
       "      <td>...</td>\n",
       "      <td>...</td>\n",
       "      <td>...</td>\n",
       "      <td>...</td>\n",
       "      <td>...</td>\n",
       "    </tr>\n",
       "    <tr>\n",
       "      <th>1192</th>\n",
       "      <td>2662137336</td>\n",
       "      <td>3733762160</td>\n",
       "      <td>2019-08-14</td>\n",
       "      <td>6490</td>\n",
       "      <td>B</td>\n",
       "    </tr>\n",
       "    <tr>\n",
       "      <th>1193</th>\n",
       "      <td>2203539145</td>\n",
       "      <td>370388673</td>\n",
       "      <td>2019-08-14</td>\n",
       "      <td>3190</td>\n",
       "      <td>A</td>\n",
       "    </tr>\n",
       "    <tr>\n",
       "      <th>1194</th>\n",
       "      <td>1807773912</td>\n",
       "      <td>573423106</td>\n",
       "      <td>2019-08-14</td>\n",
       "      <td>10550</td>\n",
       "      <td>A</td>\n",
       "    </tr>\n",
       "    <tr>\n",
       "      <th>1195</th>\n",
       "      <td>1947021204</td>\n",
       "      <td>1614305549</td>\n",
       "      <td>2019-08-14</td>\n",
       "      <td>100</td>\n",
       "      <td>A</td>\n",
       "    </tr>\n",
       "    <tr>\n",
       "      <th>1196</th>\n",
       "      <td>3936777065</td>\n",
       "      <td>2108080724</td>\n",
       "      <td>2019-08-15</td>\n",
       "      <td>202740</td>\n",
       "      <td>B</td>\n",
       "    </tr>\n",
       "  </tbody>\n",
       "</table>\n",
       "<p>1197 rows × 5 columns</p>\n",
       "</div>"
      ],
      "text/plain": [
       "      transactionId   visitorId        date  revenue group\n",
       "0     3667963787     3312258926  2019-08-15  1650     B   \n",
       "1     2804400009     3642806036  2019-08-15  730      B   \n",
       "2     2961555356     4069496402  2019-08-15  400      A   \n",
       "3     3797467345     1196621759  2019-08-15  9759     B   \n",
       "4     2282983706     2322279887  2019-08-15  2308     B   \n",
       "...          ...            ...         ...   ...    ..   \n",
       "1192  2662137336     3733762160  2019-08-14  6490     B   \n",
       "1193  2203539145     370388673   2019-08-14  3190     A   \n",
       "1194  1807773912     573423106   2019-08-14  10550    A   \n",
       "1195  1947021204     1614305549  2019-08-14  100      A   \n",
       "1196  3936777065     2108080724  2019-08-15  202740   B   \n",
       "\n",
       "[1197 rows x 5 columns]"
      ]
     },
     "execution_count": 6,
     "metadata": {},
     "output_type": "execute_result"
    }
   ],
   "source": [
    "orders"
   ]
  },
  {
   "cell_type": "code",
   "execution_count": 7,
   "metadata": {},
   "outputs": [
    {
     "data": {
      "text/html": [
       "<div>\n",
       "<style scoped>\n",
       "    .dataframe tbody tr th:only-of-type {\n",
       "        vertical-align: middle;\n",
       "    }\n",
       "\n",
       "    .dataframe tbody tr th {\n",
       "        vertical-align: top;\n",
       "    }\n",
       "\n",
       "    .dataframe thead th {\n",
       "        text-align: right;\n",
       "    }\n",
       "</style>\n",
       "<table border=\"1\" class=\"dataframe\">\n",
       "  <thead>\n",
       "    <tr style=\"text-align: right;\">\n",
       "      <th></th>\n",
       "      <th>date</th>\n",
       "      <th>group</th>\n",
       "      <th>visitors</th>\n",
       "    </tr>\n",
       "  </thead>\n",
       "  <tbody>\n",
       "    <tr>\n",
       "      <th>0</th>\n",
       "      <td>2019-08-01</td>\n",
       "      <td>A</td>\n",
       "      <td>719</td>\n",
       "    </tr>\n",
       "    <tr>\n",
       "      <th>1</th>\n",
       "      <td>2019-08-02</td>\n",
       "      <td>A</td>\n",
       "      <td>619</td>\n",
       "    </tr>\n",
       "    <tr>\n",
       "      <th>2</th>\n",
       "      <td>2019-08-03</td>\n",
       "      <td>A</td>\n",
       "      <td>507</td>\n",
       "    </tr>\n",
       "    <tr>\n",
       "      <th>3</th>\n",
       "      <td>2019-08-04</td>\n",
       "      <td>A</td>\n",
       "      <td>717</td>\n",
       "    </tr>\n",
       "    <tr>\n",
       "      <th>4</th>\n",
       "      <td>2019-08-05</td>\n",
       "      <td>A</td>\n",
       "      <td>756</td>\n",
       "    </tr>\n",
       "    <tr>\n",
       "      <th>...</th>\n",
       "      <td>...</td>\n",
       "      <td>...</td>\n",
       "      <td>...</td>\n",
       "    </tr>\n",
       "    <tr>\n",
       "      <th>57</th>\n",
       "      <td>2019-08-27</td>\n",
       "      <td>B</td>\n",
       "      <td>720</td>\n",
       "    </tr>\n",
       "    <tr>\n",
       "      <th>58</th>\n",
       "      <td>2019-08-28</td>\n",
       "      <td>B</td>\n",
       "      <td>654</td>\n",
       "    </tr>\n",
       "    <tr>\n",
       "      <th>59</th>\n",
       "      <td>2019-08-29</td>\n",
       "      <td>B</td>\n",
       "      <td>531</td>\n",
       "    </tr>\n",
       "    <tr>\n",
       "      <th>60</th>\n",
       "      <td>2019-08-30</td>\n",
       "      <td>B</td>\n",
       "      <td>490</td>\n",
       "    </tr>\n",
       "    <tr>\n",
       "      <th>61</th>\n",
       "      <td>2019-08-31</td>\n",
       "      <td>B</td>\n",
       "      <td>718</td>\n",
       "    </tr>\n",
       "  </tbody>\n",
       "</table>\n",
       "<p>62 rows × 3 columns</p>\n",
       "</div>"
      ],
      "text/plain": [
       "          date group  visitors\n",
       "0   2019-08-01  A     719     \n",
       "1   2019-08-02  A     619     \n",
       "2   2019-08-03  A     507     \n",
       "3   2019-08-04  A     717     \n",
       "4   2019-08-05  A     756     \n",
       "..         ... ..     ...     \n",
       "57  2019-08-27  B     720     \n",
       "58  2019-08-28  B     654     \n",
       "59  2019-08-29  B     531     \n",
       "60  2019-08-30  B     490     \n",
       "61  2019-08-31  B     718     \n",
       "\n",
       "[62 rows x 3 columns]"
      ]
     },
     "execution_count": 7,
     "metadata": {},
     "output_type": "execute_result"
    }
   ],
   "source": [
    "visitors"
   ]
  },
  {
   "cell_type": "markdown",
   "metadata": {},
   "source": [
    "[Вернуться к оглавлению](#title)"
   ]
  },
  {
   "cell_type": "markdown",
   "metadata": {},
   "source": [
    "<a id=\"hypothesis\"></a>"
   ]
  },
  {
   "cell_type": "markdown",
   "metadata": {},
   "source": [
    " "
   ]
  },
  {
   "cell_type": "markdown",
   "metadata": {},
   "source": [
    " "
   ]
  },
  {
   "cell_type": "markdown",
   "metadata": {},
   "source": [
    " "
   ]
  },
  {
   "cell_type": "markdown",
   "metadata": {},
   "source": [
    "## I. Приоритизация гипотез "
   ]
  },
  {
   "cell_type": "code",
   "execution_count": 8,
   "metadata": {
    "scrolled": false
   },
   "outputs": [
    {
     "data": {
      "text/html": [
       "<div>\n",
       "<style scoped>\n",
       "    .dataframe tbody tr th:only-of-type {\n",
       "        vertical-align: middle;\n",
       "    }\n",
       "\n",
       "    .dataframe tbody tr th {\n",
       "        vertical-align: top;\n",
       "    }\n",
       "\n",
       "    .dataframe thead th {\n",
       "        text-align: right;\n",
       "    }\n",
       "</style>\n",
       "<table border=\"1\" class=\"dataframe\">\n",
       "  <thead>\n",
       "    <tr style=\"text-align: right;\">\n",
       "      <th></th>\n",
       "      <th>Hypothesis</th>\n",
       "      <th>Reach</th>\n",
       "      <th>Impact</th>\n",
       "      <th>Confidence</th>\n",
       "      <th>Efforts</th>\n",
       "    </tr>\n",
       "  </thead>\n",
       "  <tbody>\n",
       "    <tr>\n",
       "      <th>0</th>\n",
       "      <td>Добавить два новых канала привлечения трафика, что позволит привлекать на 30% больше пользователей</td>\n",
       "      <td>3</td>\n",
       "      <td>10</td>\n",
       "      <td>8</td>\n",
       "      <td>6</td>\n",
       "    </tr>\n",
       "    <tr>\n",
       "      <th>1</th>\n",
       "      <td>Запустить собственную службу доставки, что сократит срок доставки заказов</td>\n",
       "      <td>2</td>\n",
       "      <td>5</td>\n",
       "      <td>4</td>\n",
       "      <td>10</td>\n",
       "    </tr>\n",
       "    <tr>\n",
       "      <th>2</th>\n",
       "      <td>Добавить блоки рекомендаций товаров на сайт интернет магазина, чтобы повысить конверсию и средний чек заказа</td>\n",
       "      <td>8</td>\n",
       "      <td>3</td>\n",
       "      <td>7</td>\n",
       "      <td>3</td>\n",
       "    </tr>\n",
       "    <tr>\n",
       "      <th>3</th>\n",
       "      <td>Изменить структура категорий, что увеличит конверсию, т.к. пользователи быстрее найдут нужный товар</td>\n",
       "      <td>8</td>\n",
       "      <td>3</td>\n",
       "      <td>3</td>\n",
       "      <td>8</td>\n",
       "    </tr>\n",
       "    <tr>\n",
       "      <th>4</th>\n",
       "      <td>Изменить цвет фона главной страницы, чтобы увеличить вовлеченность пользователей</td>\n",
       "      <td>3</td>\n",
       "      <td>1</td>\n",
       "      <td>1</td>\n",
       "      <td>1</td>\n",
       "    </tr>\n",
       "    <tr>\n",
       "      <th>5</th>\n",
       "      <td>Добавить страницу отзывов клиентов о магазине, что позволит увеличить количество заказов</td>\n",
       "      <td>3</td>\n",
       "      <td>2</td>\n",
       "      <td>2</td>\n",
       "      <td>3</td>\n",
       "    </tr>\n",
       "    <tr>\n",
       "      <th>6</th>\n",
       "      <td>Показать на главной странице баннеры с актуальными акциями и распродажами, чтобы увеличить конверсию</td>\n",
       "      <td>5</td>\n",
       "      <td>3</td>\n",
       "      <td>8</td>\n",
       "      <td>3</td>\n",
       "    </tr>\n",
       "    <tr>\n",
       "      <th>7</th>\n",
       "      <td>Добавить форму подписки на все основные страницы, чтобы собрать базу клиентов для email-рассылок</td>\n",
       "      <td>10</td>\n",
       "      <td>7</td>\n",
       "      <td>8</td>\n",
       "      <td>5</td>\n",
       "    </tr>\n",
       "    <tr>\n",
       "      <th>8</th>\n",
       "      <td>Запустить акцию, дающую скидку на товар в день рождения</td>\n",
       "      <td>1</td>\n",
       "      <td>9</td>\n",
       "      <td>9</td>\n",
       "      <td>5</td>\n",
       "    </tr>\n",
       "  </tbody>\n",
       "</table>\n",
       "</div>"
      ],
      "text/plain": [
       "                                                                                                     Hypothesis  \\\n",
       "0  Добавить два новых канала привлечения трафика, что позволит привлекать на 30% больше пользователей             \n",
       "1  Запустить собственную службу доставки, что сократит срок доставки заказов                                      \n",
       "2  Добавить блоки рекомендаций товаров на сайт интернет магазина, чтобы повысить конверсию и средний чек заказа   \n",
       "3  Изменить структура категорий, что увеличит конверсию, т.к. пользователи быстрее найдут нужный товар            \n",
       "4  Изменить цвет фона главной страницы, чтобы увеличить вовлеченность пользователей                               \n",
       "5  Добавить страницу отзывов клиентов о магазине, что позволит увеличить количество заказов                       \n",
       "6  Показать на главной странице баннеры с актуальными акциями и распродажами, чтобы увеличить конверсию           \n",
       "7  Добавить форму подписки на все основные страницы, чтобы собрать базу клиентов для email-рассылок               \n",
       "8  Запустить акцию, дающую скидку на товар в день рождения                                                        \n",
       "\n",
       "   Reach  Impact  Confidence  Efforts  \n",
       "0  3      10      8           6        \n",
       "1  2      5       4           10       \n",
       "2  8      3       7           3        \n",
       "3  8      3       3           8        \n",
       "4  3      1       1           1        \n",
       "5  3      2       2           3        \n",
       "6  5      3       8           3        \n",
       "7  10     7       8           5        \n",
       "8  1      9       9           5        "
      ]
     },
     "execution_count": 8,
     "metadata": {},
     "output_type": "execute_result"
    }
   ],
   "source": [
    "hypothesis"
   ]
  },
  {
   "cell_type": "markdown",
   "metadata": {},
   "source": [
    "Итак, мы видим полный перечень гипотез, среди которых есть как касающиеся небольших изменений в дизайне (\"поменять цвет страницы\"), так и предполагающих создание целых структурных подразделений в компании (\"запуск собственной службы доставки\")."
   ]
  },
  {
   "cell_type": "code",
   "execution_count": 9,
   "metadata": {},
   "outputs": [],
   "source": [
    "hypothesis['ICE'] = hypothesis['Impact']*hypothesis['Confidence']/hypothesis['Efforts']"
   ]
  },
  {
   "cell_type": "code",
   "execution_count": 10,
   "metadata": {
    "scrolled": false
   },
   "outputs": [
    {
     "data": {
      "text/html": [
       "<style type=\"text/css\">\n",
       "#T_93178_row0_col1 {\n",
       "  background-color: #b40426;\n",
       "  color: #f1f1f1;\n",
       "}\n",
       "#T_93178_row1_col1 {\n",
       "  background-color: #ec7f63;\n",
       "  color: #f1f1f1;\n",
       "}\n",
       "#T_93178_row2_col1 {\n",
       "  background-color: #f7b79b;\n",
       "  color: #000000;\n",
       "}\n",
       "#T_93178_row3_col1 {\n",
       "  background-color: #d2dbe8;\n",
       "  color: #000000;\n",
       "}\n",
       "#T_93178_row4_col1 {\n",
       "  background-color: #bfd3f6;\n",
       "  color: #000000;\n",
       "}\n",
       "#T_93178_row5_col1 {\n",
       "  background-color: #4e68d8;\n",
       "  color: #f1f1f1;\n",
       "}\n",
       "#T_93178_row6_col1 {\n",
       "  background-color: #4055c8;\n",
       "  color: #f1f1f1;\n",
       "}\n",
       "#T_93178_row7_col1 {\n",
       "  background-color: #3d50c3;\n",
       "  color: #f1f1f1;\n",
       "}\n",
       "#T_93178_row8_col1 {\n",
       "  background-color: #3b4cc0;\n",
       "  color: #f1f1f1;\n",
       "}\n",
       "</style>\n",
       "<table id=\"T_93178\">\n",
       "  <thead>\n",
       "    <tr>\n",
       "      <th class=\"blank level0\" >&nbsp;</th>\n",
       "      <th id=\"T_93178_level0_col0\" class=\"col_heading level0 col0\" >Hypothesis</th>\n",
       "      <th id=\"T_93178_level0_col1\" class=\"col_heading level0 col1\" >ICE</th>\n",
       "    </tr>\n",
       "  </thead>\n",
       "  <tbody>\n",
       "    <tr>\n",
       "      <th id=\"T_93178_level0_row0\" class=\"row_heading level0 row0\" >8</th>\n",
       "      <td id=\"T_93178_row0_col0\" class=\"data row0 col0\" >Запустить акцию, дающую скидку на товар в день рождения</td>\n",
       "      <td id=\"T_93178_row0_col1\" class=\"data row0 col1\" >16.200000</td>\n",
       "    </tr>\n",
       "    <tr>\n",
       "      <th id=\"T_93178_level0_row1\" class=\"row_heading level0 row1\" >0</th>\n",
       "      <td id=\"T_93178_row1_col0\" class=\"data row1 col0\" >Добавить два новых канала привлечения трафика, что позволит привлекать на 30% больше пользователей</td>\n",
       "      <td id=\"T_93178_row1_col1\" class=\"data row1 col1\" >13.333333</td>\n",
       "    </tr>\n",
       "    <tr>\n",
       "      <th id=\"T_93178_level0_row2\" class=\"row_heading level0 row2\" >7</th>\n",
       "      <td id=\"T_93178_row2_col0\" class=\"data row2 col0\" >Добавить форму подписки на все основные страницы, чтобы собрать базу клиентов для email-рассылок</td>\n",
       "      <td id=\"T_93178_row2_col1\" class=\"data row2 col1\" >11.200000</td>\n",
       "    </tr>\n",
       "    <tr>\n",
       "      <th id=\"T_93178_level0_row3\" class=\"row_heading level0 row3\" >6</th>\n",
       "      <td id=\"T_93178_row3_col0\" class=\"data row3 col0\" >Показать на главной странице баннеры с актуальными акциями и распродажами, чтобы увеличить конверсию</td>\n",
       "      <td id=\"T_93178_row3_col1\" class=\"data row3 col1\" >8.000000</td>\n",
       "    </tr>\n",
       "    <tr>\n",
       "      <th id=\"T_93178_level0_row4\" class=\"row_heading level0 row4\" >2</th>\n",
       "      <td id=\"T_93178_row4_col0\" class=\"data row4 col0\" >Добавить блоки рекомендаций товаров на сайт интернет магазина, чтобы повысить конверсию и средний чек заказа</td>\n",
       "      <td id=\"T_93178_row4_col1\" class=\"data row4 col1\" >7.000000</td>\n",
       "    </tr>\n",
       "    <tr>\n",
       "      <th id=\"T_93178_level0_row5\" class=\"row_heading level0 row5\" >1</th>\n",
       "      <td id=\"T_93178_row5_col0\" class=\"data row5 col0\" >Запустить собственную службу доставки, что сократит срок доставки заказов</td>\n",
       "      <td id=\"T_93178_row5_col1\" class=\"data row5 col1\" >2.000000</td>\n",
       "    </tr>\n",
       "    <tr>\n",
       "      <th id=\"T_93178_level0_row6\" class=\"row_heading level0 row6\" >5</th>\n",
       "      <td id=\"T_93178_row6_col0\" class=\"data row6 col0\" >Добавить страницу отзывов клиентов о магазине, что позволит увеличить количество заказов</td>\n",
       "      <td id=\"T_93178_row6_col1\" class=\"data row6 col1\" >1.333333</td>\n",
       "    </tr>\n",
       "    <tr>\n",
       "      <th id=\"T_93178_level0_row7\" class=\"row_heading level0 row7\" >3</th>\n",
       "      <td id=\"T_93178_row7_col0\" class=\"data row7 col0\" >Изменить структура категорий, что увеличит конверсию, т.к. пользователи быстрее найдут нужный товар</td>\n",
       "      <td id=\"T_93178_row7_col1\" class=\"data row7 col1\" >1.125000</td>\n",
       "    </tr>\n",
       "    <tr>\n",
       "      <th id=\"T_93178_level0_row8\" class=\"row_heading level0 row8\" >4</th>\n",
       "      <td id=\"T_93178_row8_col0\" class=\"data row8 col0\" >Изменить цвет фона главной страницы, чтобы увеличить вовлеченность пользователей</td>\n",
       "      <td id=\"T_93178_row8_col1\" class=\"data row8 col1\" >1.000000</td>\n",
       "    </tr>\n",
       "  </tbody>\n",
       "</table>\n"
      ],
      "text/plain": [
       "<pandas.io.formats.style.Styler at 0x22b26a544c0>"
      ]
     },
     "execution_count": 10,
     "metadata": {},
     "output_type": "execute_result"
    }
   ],
   "source": [
    "hypothesis[['Hypothesis', 'ICE']].sort_values(by = 'ICE', ascending = False).style.background_gradient('coolwarm')"
   ]
  },
  {
   "cell_type": "markdown",
   "metadata": {},
   "source": [
    "По результатам приоритизации методом ICE, мы видим, что наверху списка оказались предложения в основном маркетингового характера - реклама, акции. Меры же, предполагающие какую-то техническую работу, а-ля переструктуризация сайта, или вышеупомянутая служба доставки оказались ниже в списке."
   ]
  },
  {
   "cell_type": "code",
   "execution_count": 11,
   "metadata": {},
   "outputs": [],
   "source": [
    "hypothesis['RICE'] = hypothesis['Reach']*hypothesis['Impact']*hypothesis['Confidence']*hypothesis['Efforts']"
   ]
  },
  {
   "cell_type": "code",
   "execution_count": 12,
   "metadata": {
    "scrolled": true
   },
   "outputs": [
    {
     "data": {
      "text/html": [
       "<style type=\"text/css\">\n",
       "#T_7519d_row0_col1, #T_7519d_row4_col2 {\n",
       "  background-color: #b40426;\n",
       "  color: #f1f1f1;\n",
       "}\n",
       "#T_7519d_row0_col2 {\n",
       "  background-color: #f7b79b;\n",
       "  color: #000000;\n",
       "}\n",
       "#T_7519d_row1_col1 {\n",
       "  background-color: #e0dbd8;\n",
       "  color: #000000;\n",
       "}\n",
       "#T_7519d_row1_col2 {\n",
       "  background-color: #ec7f63;\n",
       "  color: #f1f1f1;\n",
       "}\n",
       "#T_7519d_row2_col1 {\n",
       "  background-color: #7da0f9;\n",
       "  color: #f1f1f1;\n",
       "}\n",
       "#T_7519d_row2_col2 {\n",
       "  background-color: #3d50c3;\n",
       "  color: #f1f1f1;\n",
       "}\n",
       "#T_7519d_row3_col1 {\n",
       "  background-color: #7396f5;\n",
       "  color: #f1f1f1;\n",
       "}\n",
       "#T_7519d_row3_col2 {\n",
       "  background-color: #bfd3f6;\n",
       "  color: #000000;\n",
       "}\n",
       "#T_7519d_row4_col1, #T_7519d_row5_col1 {\n",
       "  background-color: #6788ee;\n",
       "  color: #f1f1f1;\n",
       "}\n",
       "#T_7519d_row5_col2 {\n",
       "  background-color: #4e68d8;\n",
       "  color: #f1f1f1;\n",
       "}\n",
       "#T_7519d_row6_col1 {\n",
       "  background-color: #6282ea;\n",
       "  color: #f1f1f1;\n",
       "}\n",
       "#T_7519d_row6_col2 {\n",
       "  background-color: #d2dbe8;\n",
       "  color: #000000;\n",
       "}\n",
       "#T_7519d_row7_col1 {\n",
       "  background-color: #3e51c5;\n",
       "  color: #f1f1f1;\n",
       "}\n",
       "#T_7519d_row7_col2 {\n",
       "  background-color: #4055c8;\n",
       "  color: #f1f1f1;\n",
       "}\n",
       "#T_7519d_row8_col1, #T_7519d_row8_col2 {\n",
       "  background-color: #3b4cc0;\n",
       "  color: #f1f1f1;\n",
       "}\n",
       "</style>\n",
       "<table id=\"T_7519d\">\n",
       "  <thead>\n",
       "    <tr>\n",
       "      <th class=\"blank level0\" >&nbsp;</th>\n",
       "      <th id=\"T_7519d_level0_col0\" class=\"col_heading level0 col0\" >Hypothesis</th>\n",
       "      <th id=\"T_7519d_level0_col1\" class=\"col_heading level0 col1\" >RICE</th>\n",
       "      <th id=\"T_7519d_level0_col2\" class=\"col_heading level0 col2\" >ICE</th>\n",
       "    </tr>\n",
       "  </thead>\n",
       "  <tbody>\n",
       "    <tr>\n",
       "      <th id=\"T_7519d_level0_row0\" class=\"row_heading level0 row0\" >7</th>\n",
       "      <td id=\"T_7519d_row0_col0\" class=\"data row0 col0\" >Добавить форму подписки на все основные страницы, чтобы собрать базу клиентов для email-рассылок</td>\n",
       "      <td id=\"T_7519d_row0_col1\" class=\"data row0 col1\" >2800</td>\n",
       "      <td id=\"T_7519d_row0_col2\" class=\"data row0 col2\" >11.200000</td>\n",
       "    </tr>\n",
       "    <tr>\n",
       "      <th id=\"T_7519d_level0_row1\" class=\"row_heading level0 row1\" >0</th>\n",
       "      <td id=\"T_7519d_row1_col0\" class=\"data row1 col0\" >Добавить два новых канала привлечения трафика, что позволит привлекать на 30% больше пользователей</td>\n",
       "      <td id=\"T_7519d_row1_col1\" class=\"data row1 col1\" >1440</td>\n",
       "      <td id=\"T_7519d_row1_col2\" class=\"data row1 col2\" >13.333333</td>\n",
       "    </tr>\n",
       "    <tr>\n",
       "      <th id=\"T_7519d_level0_row2\" class=\"row_heading level0 row2\" >3</th>\n",
       "      <td id=\"T_7519d_row2_col0\" class=\"data row2 col0\" >Изменить структура категорий, что увеличит конверсию, т.к. пользователи быстрее найдут нужный товар</td>\n",
       "      <td id=\"T_7519d_row2_col1\" class=\"data row2 col1\" >576</td>\n",
       "      <td id=\"T_7519d_row2_col2\" class=\"data row2 col2\" >1.125000</td>\n",
       "    </tr>\n",
       "    <tr>\n",
       "      <th id=\"T_7519d_level0_row3\" class=\"row_heading level0 row3\" >2</th>\n",
       "      <td id=\"T_7519d_row3_col0\" class=\"data row3 col0\" >Добавить блоки рекомендаций товаров на сайт интернет магазина, чтобы повысить конверсию и средний чек заказа</td>\n",
       "      <td id=\"T_7519d_row3_col1\" class=\"data row3 col1\" >504</td>\n",
       "      <td id=\"T_7519d_row3_col2\" class=\"data row3 col2\" >7.000000</td>\n",
       "    </tr>\n",
       "    <tr>\n",
       "      <th id=\"T_7519d_level0_row4\" class=\"row_heading level0 row4\" >8</th>\n",
       "      <td id=\"T_7519d_row4_col0\" class=\"data row4 col0\" >Запустить акцию, дающую скидку на товар в день рождения</td>\n",
       "      <td id=\"T_7519d_row4_col1\" class=\"data row4 col1\" >405</td>\n",
       "      <td id=\"T_7519d_row4_col2\" class=\"data row4 col2\" >16.200000</td>\n",
       "    </tr>\n",
       "    <tr>\n",
       "      <th id=\"T_7519d_level0_row5\" class=\"row_heading level0 row5\" >1</th>\n",
       "      <td id=\"T_7519d_row5_col0\" class=\"data row5 col0\" >Запустить собственную службу доставки, что сократит срок доставки заказов</td>\n",
       "      <td id=\"T_7519d_row5_col1\" class=\"data row5 col1\" >400</td>\n",
       "      <td id=\"T_7519d_row5_col2\" class=\"data row5 col2\" >2.000000</td>\n",
       "    </tr>\n",
       "    <tr>\n",
       "      <th id=\"T_7519d_level0_row6\" class=\"row_heading level0 row6\" >6</th>\n",
       "      <td id=\"T_7519d_row6_col0\" class=\"data row6 col0\" >Показать на главной странице баннеры с актуальными акциями и распродажами, чтобы увеличить конверсию</td>\n",
       "      <td id=\"T_7519d_row6_col1\" class=\"data row6 col1\" >360</td>\n",
       "      <td id=\"T_7519d_row6_col2\" class=\"data row6 col2\" >8.000000</td>\n",
       "    </tr>\n",
       "    <tr>\n",
       "      <th id=\"T_7519d_level0_row7\" class=\"row_heading level0 row7\" >5</th>\n",
       "      <td id=\"T_7519d_row7_col0\" class=\"data row7 col0\" >Добавить страницу отзывов клиентов о магазине, что позволит увеличить количество заказов</td>\n",
       "      <td id=\"T_7519d_row7_col1\" class=\"data row7 col1\" >36</td>\n",
       "      <td id=\"T_7519d_row7_col2\" class=\"data row7 col2\" >1.333333</td>\n",
       "    </tr>\n",
       "    <tr>\n",
       "      <th id=\"T_7519d_level0_row8\" class=\"row_heading level0 row8\" >4</th>\n",
       "      <td id=\"T_7519d_row8_col0\" class=\"data row8 col0\" >Изменить цвет фона главной страницы, чтобы увеличить вовлеченность пользователей</td>\n",
       "      <td id=\"T_7519d_row8_col1\" class=\"data row8 col1\" >3</td>\n",
       "      <td id=\"T_7519d_row8_col2\" class=\"data row8 col2\" >1.000000</td>\n",
       "    </tr>\n",
       "  </tbody>\n",
       "</table>\n"
      ],
      "text/plain": [
       "<pandas.io.formats.style.Styler at 0x22b26a545b0>"
      ]
     },
     "execution_count": 12,
     "metadata": {},
     "output_type": "execute_result"
    }
   ],
   "source": [
    "hypothesis[['Hypothesis', 'RICE', 'ICE']].sort_values(by = 'RICE', ascending = False).style.background_gradient('coolwarm')"
   ]
  },
  {
   "cell_type": "markdown",
   "metadata": {},
   "source": [
    "<b>Итоги приоритизации гипотез:</b><br>\n",
    "- Добавление параметра \"Охват\" изменило картину с результатами приоритизации гипотез.\n",
    "- Занимавшие позиции в топ-3 предложения по подписке и по добавлению новых каналов привлечения в топ-3 остались, однако, акции ко дню рождения резко съехали вниз именно из-за низкого охвата (у среднестатистического пользователя ДР раз в году:))\n",
    "- При этом поднялись в рейтинге гипотезы, предполагающие переделку в сайте, ввиду того, что эти изменения точно увидят все пользователи."
   ]
  },
  {
   "cell_type": "markdown",
   "metadata": {},
   "source": [
    " "
   ]
  },
  {
   "cell_type": "markdown",
   "metadata": {},
   "source": [
    " "
   ]
  },
  {
   "cell_type": "markdown",
   "metadata": {},
   "source": [
    " "
   ]
  },
  {
   "cell_type": "markdown",
   "metadata": {},
   "source": [
    "<a id=\"A/B\"></a>"
   ]
  },
  {
   "cell_type": "markdown",
   "metadata": {},
   "source": [
    "## II. Обработка результатов A/B тестирования "
   ]
  },
  {
   "cell_type": "markdown",
   "metadata": {},
   "source": [
    "## Предобработка данных "
   ]
  },
  {
   "cell_type": "markdown",
   "metadata": {},
   "source": [
    "В данном разделе мы изменим типы данных и проведем поиск дубликатов, пропущенных значений и других возможных ошибок."
   ]
  },
  {
   "cell_type": "markdown",
   "metadata": {},
   "source": [
    "[Вернуться к оглавлению](#title)"
   ]
  },
  {
   "cell_type": "markdown",
   "metadata": {},
   "source": [
    "<a id=\"types\"></a>"
   ]
  },
  {
   "cell_type": "markdown",
   "metadata": {},
   "source": [
    "### Замена типов данных "
   ]
  },
  {
   "cell_type": "code",
   "execution_count": 13,
   "metadata": {
    "scrolled": false
   },
   "outputs": [
    {
     "name": "stdout",
     "output_type": "stream",
     "text": [
      "<class 'pandas.core.frame.DataFrame'>\n",
      "RangeIndex: 62 entries, 0 to 61\n",
      "Data columns (total 3 columns):\n",
      " #   Column    Non-Null Count  Dtype \n",
      "---  ------    --------------  ----- \n",
      " 0   date      62 non-null     object\n",
      " 1   group     62 non-null     object\n",
      " 2   visitors  62 non-null     int64 \n",
      "dtypes: int64(1), object(2)\n",
      "memory usage: 1.6+ KB\n"
     ]
    }
   ],
   "source": [
    "visitors.info()"
   ]
  },
  {
   "cell_type": "code",
   "execution_count": 14,
   "metadata": {
    "scrolled": false
   },
   "outputs": [
    {
     "name": "stdout",
     "output_type": "stream",
     "text": [
      "<class 'pandas.core.frame.DataFrame'>\n",
      "RangeIndex: 1197 entries, 0 to 1196\n",
      "Data columns (total 5 columns):\n",
      " #   Column         Non-Null Count  Dtype \n",
      "---  ------         --------------  ----- \n",
      " 0   transactionId  1197 non-null   int64 \n",
      " 1   visitorId      1197 non-null   int64 \n",
      " 2   date           1197 non-null   object\n",
      " 3   revenue        1197 non-null   int64 \n",
      " 4   group          1197 non-null   object\n",
      "dtypes: int64(3), object(2)\n",
      "memory usage: 46.9+ KB\n"
     ]
    }
   ],
   "source": [
    "orders.info()"
   ]
  },
  {
   "cell_type": "markdown",
   "metadata": {},
   "source": [
    "В обоих таблицах необходимо поменять тип данных у даты."
   ]
  },
  {
   "cell_type": "code",
   "execution_count": 15,
   "metadata": {},
   "outputs": [],
   "source": [
    "orders['date'] = pd.to_datetime(orders['date'], format = '%Y-%m-%dT%H:%M:%S')"
   ]
  },
  {
   "cell_type": "code",
   "execution_count": 16,
   "metadata": {},
   "outputs": [],
   "source": [
    "visitors['date'] = pd.to_datetime(visitors['date'], format = '%Y-%m-%dT%H:%M:%S')"
   ]
  },
  {
   "cell_type": "markdown",
   "metadata": {},
   "source": [
    "Типы данных заменены для оптимальной работы с ними."
   ]
  },
  {
   "cell_type": "markdown",
   "metadata": {},
   "source": [
    "[Вернуться к оглавлению](#title)"
   ]
  },
  {
   "cell_type": "markdown",
   "metadata": {},
   "source": [
    "<a id=\"mistakes\"></a>"
   ]
  },
  {
   "cell_type": "markdown",
   "metadata": {},
   "source": [
    "### Обработка ошибок"
   ]
  },
  {
   "cell_type": "markdown",
   "metadata": {},
   "source": [
    "Для начала изучим на факт наличия пропущенных значений"
   ]
  },
  {
   "cell_type": "code",
   "execution_count": 17,
   "metadata": {},
   "outputs": [],
   "source": [
    "def miss_table(data):\n",
    "    missings = pd.DataFrame(data.isna().mean()*100, columns = ['% miss'])\n",
    "    missings['# miss'] = pd.DataFrame(data.isna().sum())\n",
    "    display (missings.style.background_gradient('coolwarm'))"
   ]
  },
  {
   "cell_type": "code",
   "execution_count": 18,
   "metadata": {},
   "outputs": [
    {
     "data": {
      "text/html": [
       "<style type=\"text/css\">\n",
       "#T_20e85_row0_col0, #T_20e85_row0_col1, #T_20e85_row1_col0, #T_20e85_row1_col1, #T_20e85_row2_col0, #T_20e85_row2_col1 {\n",
       "  background-color: #3b4cc0;\n",
       "  color: #f1f1f1;\n",
       "}\n",
       "</style>\n",
       "<table id=\"T_20e85\">\n",
       "  <thead>\n",
       "    <tr>\n",
       "      <th class=\"blank level0\" >&nbsp;</th>\n",
       "      <th id=\"T_20e85_level0_col0\" class=\"col_heading level0 col0\" >% miss</th>\n",
       "      <th id=\"T_20e85_level0_col1\" class=\"col_heading level0 col1\" ># miss</th>\n",
       "    </tr>\n",
       "  </thead>\n",
       "  <tbody>\n",
       "    <tr>\n",
       "      <th id=\"T_20e85_level0_row0\" class=\"row_heading level0 row0\" >date</th>\n",
       "      <td id=\"T_20e85_row0_col0\" class=\"data row0 col0\" >0.000000</td>\n",
       "      <td id=\"T_20e85_row0_col1\" class=\"data row0 col1\" >0</td>\n",
       "    </tr>\n",
       "    <tr>\n",
       "      <th id=\"T_20e85_level0_row1\" class=\"row_heading level0 row1\" >group</th>\n",
       "      <td id=\"T_20e85_row1_col0\" class=\"data row1 col0\" >0.000000</td>\n",
       "      <td id=\"T_20e85_row1_col1\" class=\"data row1 col1\" >0</td>\n",
       "    </tr>\n",
       "    <tr>\n",
       "      <th id=\"T_20e85_level0_row2\" class=\"row_heading level0 row2\" >visitors</th>\n",
       "      <td id=\"T_20e85_row2_col0\" class=\"data row2 col0\" >0.000000</td>\n",
       "      <td id=\"T_20e85_row2_col1\" class=\"data row2 col1\" >0</td>\n",
       "    </tr>\n",
       "  </tbody>\n",
       "</table>\n"
      ],
      "text/plain": [
       "<pandas.io.formats.style.Styler at 0x22b26c16b80>"
      ]
     },
     "metadata": {},
     "output_type": "display_data"
    }
   ],
   "source": [
    "miss_table(visitors)"
   ]
  },
  {
   "cell_type": "code",
   "execution_count": 19,
   "metadata": {
    "scrolled": true
   },
   "outputs": [
    {
     "data": {
      "text/html": [
       "<style type=\"text/css\">\n",
       "#T_7a045_row0_col0, #T_7a045_row0_col1, #T_7a045_row1_col0, #T_7a045_row1_col1, #T_7a045_row2_col0, #T_7a045_row2_col1, #T_7a045_row3_col0, #T_7a045_row3_col1, #T_7a045_row4_col0, #T_7a045_row4_col1 {\n",
       "  background-color: #3b4cc0;\n",
       "  color: #f1f1f1;\n",
       "}\n",
       "</style>\n",
       "<table id=\"T_7a045\">\n",
       "  <thead>\n",
       "    <tr>\n",
       "      <th class=\"blank level0\" >&nbsp;</th>\n",
       "      <th id=\"T_7a045_level0_col0\" class=\"col_heading level0 col0\" >% miss</th>\n",
       "      <th id=\"T_7a045_level0_col1\" class=\"col_heading level0 col1\" ># miss</th>\n",
       "    </tr>\n",
       "  </thead>\n",
       "  <tbody>\n",
       "    <tr>\n",
       "      <th id=\"T_7a045_level0_row0\" class=\"row_heading level0 row0\" >transactionId</th>\n",
       "      <td id=\"T_7a045_row0_col0\" class=\"data row0 col0\" >0.000000</td>\n",
       "      <td id=\"T_7a045_row0_col1\" class=\"data row0 col1\" >0</td>\n",
       "    </tr>\n",
       "    <tr>\n",
       "      <th id=\"T_7a045_level0_row1\" class=\"row_heading level0 row1\" >visitorId</th>\n",
       "      <td id=\"T_7a045_row1_col0\" class=\"data row1 col0\" >0.000000</td>\n",
       "      <td id=\"T_7a045_row1_col1\" class=\"data row1 col1\" >0</td>\n",
       "    </tr>\n",
       "    <tr>\n",
       "      <th id=\"T_7a045_level0_row2\" class=\"row_heading level0 row2\" >date</th>\n",
       "      <td id=\"T_7a045_row2_col0\" class=\"data row2 col0\" >0.000000</td>\n",
       "      <td id=\"T_7a045_row2_col1\" class=\"data row2 col1\" >0</td>\n",
       "    </tr>\n",
       "    <tr>\n",
       "      <th id=\"T_7a045_level0_row3\" class=\"row_heading level0 row3\" >revenue</th>\n",
       "      <td id=\"T_7a045_row3_col0\" class=\"data row3 col0\" >0.000000</td>\n",
       "      <td id=\"T_7a045_row3_col1\" class=\"data row3 col1\" >0</td>\n",
       "    </tr>\n",
       "    <tr>\n",
       "      <th id=\"T_7a045_level0_row4\" class=\"row_heading level0 row4\" >group</th>\n",
       "      <td id=\"T_7a045_row4_col0\" class=\"data row4 col0\" >0.000000</td>\n",
       "      <td id=\"T_7a045_row4_col1\" class=\"data row4 col1\" >0</td>\n",
       "    </tr>\n",
       "  </tbody>\n",
       "</table>\n"
      ],
      "text/plain": [
       "<pandas.io.formats.style.Styler at 0x22b26c16a60>"
      ]
     },
     "metadata": {},
     "output_type": "display_data"
    }
   ],
   "source": [
    "miss_table(orders)"
   ]
  },
  {
   "cell_type": "markdown",
   "metadata": {},
   "source": [
    "Пропуски в обеих таблицах отсутствуют"
   ]
  },
  {
   "cell_type": "code",
   "execution_count": 20,
   "metadata": {},
   "outputs": [
    {
     "data": {
      "text/plain": [
       "0"
      ]
     },
     "execution_count": 20,
     "metadata": {},
     "output_type": "execute_result"
    }
   ],
   "source": [
    "visitors.duplicated().sum()"
   ]
  },
  {
   "cell_type": "code",
   "execution_count": 21,
   "metadata": {
    "scrolled": false
   },
   "outputs": [
    {
     "data": {
      "text/plain": [
       "0"
      ]
     },
     "execution_count": 21,
     "metadata": {},
     "output_type": "execute_result"
    }
   ],
   "source": [
    "orders.duplicated().sum()"
   ]
  },
  {
   "cell_type": "markdown",
   "metadata": {},
   "source": [
    "Также проверим возможное наличие пользователей, оказавшихся сразу в двух группах."
   ]
  },
  {
   "cell_type": "code",
   "execution_count": 22,
   "metadata": {
    "scrolled": false
   },
   "outputs": [
    {
     "name": "stdout",
     "output_type": "stream",
     "text": [
      "Всего пользователей, оказавшихся сразу в обеих группах: 2\n"
     ]
    }
   ],
   "source": [
    "double_users = orders[['visitorId', 'group']].groupby(by = 'visitorId', as_index = False).nunique().sort_values(by = 'group', ascending = False)\n",
    "\n",
    "double_users = double_users[double_users['group']>1]\n",
    "\n",
    "print ('Всего пользователей, оказавшихся сразу в обеих группах:', double_users.shape[1])"
   ]
  },
  {
   "cell_type": "markdown",
   "metadata": {},
   "source": [
    "Итак, мы нашли 58 пользователей, который оказались сразу в обеих группах. Теперь их надо удалить из нашего массива."
   ]
  },
  {
   "cell_type": "code",
   "execution_count": 23,
   "metadata": {},
   "outputs": [
    {
     "data": {
      "text/plain": [
       "1031"
      ]
     },
     "execution_count": 23,
     "metadata": {},
     "output_type": "execute_result"
    }
   ],
   "source": [
    "orders['visitorId'].nunique()"
   ]
  },
  {
   "cell_type": "code",
   "execution_count": 24,
   "metadata": {},
   "outputs": [],
   "source": [
    "orders = orders[~orders.loc[:,'visitorId'].isin(double_users['visitorId'])]"
   ]
  },
  {
   "cell_type": "code",
   "execution_count": 25,
   "metadata": {
    "scrolled": true
   },
   "outputs": [
    {
     "data": {
      "text/plain": [
       "973"
      ]
     },
     "execution_count": 25,
     "metadata": {},
     "output_type": "execute_result"
    }
   ],
   "source": [
    "orders['visitorId'].nunique()"
   ]
  },
  {
   "cell_type": "markdown",
   "metadata": {},
   "source": [
    "Итак, мы удалили из нашего массива пользователей, которые оказались сразу в обеих группах."
   ]
  },
  {
   "cell_type": "markdown",
   "metadata": {},
   "source": [
    "Более очевидных дубликатов также не наблюдается. Неочевидные дубликаты можно не искать в силу того, что в первой таблице все строки - это результаты посещаемости сайта за конкретный день, а во второй - лог транзакций с уникальными айди."
   ]
  },
  {
   "cell_type": "code",
   "execution_count": 26,
   "metadata": {},
   "outputs": [],
   "source": [
    "def des_var(data):\n",
    "    for i in list(data):\n",
    "        if (data[i].dtypes!='object') and (data[i].nunique() > 20):\n",
    "             display (data[i].describe())\n",
    "        else: \n",
    "            display (data[i].value_counts())\n",
    "        print ('------------------------------')\n",
    "        print (' ')"
   ]
  },
  {
   "cell_type": "code",
   "execution_count": 27,
   "metadata": {
    "scrolled": true
   },
   "outputs": [
    {
     "data": {
      "text/plain": [
       "count    1.016e+03\n",
       "mean     2.155e+09\n",
       "std      1.234e+09\n",
       "min      1.062e+06\n",
       "25%      1.143e+09\n",
       "50%      2.144e+09\n",
       "75%      3.257e+09\n",
       "max      4.289e+09\n",
       "Name: transactionId, dtype: float64"
      ]
     },
     "metadata": {},
     "output_type": "display_data"
    },
    {
     "name": "stdout",
     "output_type": "stream",
     "text": [
      "------------------------------\n",
      " \n"
     ]
    },
    {
     "data": {
      "text/plain": [
       "count    1.016e+03\n",
       "mean     2.129e+09\n",
       "std      1.222e+09\n",
       "min      5.115e+06\n",
       "25%      1.044e+09\n",
       "50%      2.150e+09\n",
       "75%      3.147e+09\n",
       "max      4.284e+09\n",
       "Name: visitorId, dtype: float64"
      ]
     },
     "metadata": {},
     "output_type": "display_data"
    },
    {
     "name": "stdout",
     "output_type": "stream",
     "text": [
      "------------------------------\n",
      " \n"
     ]
    },
    {
     "name": "stderr",
     "output_type": "stream",
     "text": [
      "C:\\Users\\CaIII\\AppData\\Local\\Temp\\ipykernel_17972\\2963841314.py:4: FutureWarning: Treating datetime data as categorical rather than numeric in `.describe` is deprecated and will be removed in a future version of pandas. Specify `datetime_is_numeric=True` to silence this warning and adopt the future behavior now.\n",
      "  display (data[i].describe())\n"
     ]
    },
    {
     "data": {
      "text/plain": [
       "count     1016               \n",
       "unique    31                 \n",
       "top       2019-08-05 00:00:00\n",
       "freq      43                 \n",
       "first     2019-08-01 00:00:00\n",
       "last      2019-08-31 00:00:00\n",
       "Name: date, dtype: object"
      ]
     },
     "metadata": {},
     "output_type": "display_data"
    },
    {
     "name": "stdout",
     "output_type": "stream",
     "text": [
      "------------------------------\n",
      " \n"
     ]
    },
    {
     "data": {
      "text/plain": [
       "count    1.016e+03\n",
       "mean     8.301e+03\n",
       "std      4.212e+04\n",
       "min      5.000e+01\n",
       "25%      1.190e+03\n",
       "50%      2.955e+03\n",
       "75%      8.134e+03\n",
       "max      1.294e+06\n",
       "Name: revenue, dtype: float64"
      ]
     },
     "metadata": {},
     "output_type": "display_data"
    },
    {
     "name": "stdout",
     "output_type": "stream",
     "text": [
      "------------------------------\n",
      " \n"
     ]
    },
    {
     "data": {
      "text/plain": [
       "B    548\n",
       "A    468\n",
       "Name: group, dtype: int64"
      ]
     },
     "metadata": {},
     "output_type": "display_data"
    },
    {
     "name": "stdout",
     "output_type": "stream",
     "text": [
      "------------------------------\n",
      " \n"
     ]
    }
   ],
   "source": [
    "des_var(orders)"
   ]
  },
  {
   "cell_type": "code",
   "execution_count": 28,
   "metadata": {
    "scrolled": true
   },
   "outputs": [
    {
     "name": "stderr",
     "output_type": "stream",
     "text": [
      "C:\\Users\\CaIII\\AppData\\Local\\Temp\\ipykernel_17972\\2963841314.py:4: FutureWarning: Treating datetime data as categorical rather than numeric in `.describe` is deprecated and will be removed in a future version of pandas. Specify `datetime_is_numeric=True` to silence this warning and adopt the future behavior now.\n",
      "  display (data[i].describe())\n"
     ]
    },
    {
     "data": {
      "text/plain": [
       "count     62                 \n",
       "unique    31                 \n",
       "top       2019-08-01 00:00:00\n",
       "freq      2                  \n",
       "first     2019-08-01 00:00:00\n",
       "last      2019-08-31 00:00:00\n",
       "Name: date, dtype: object"
      ]
     },
     "metadata": {},
     "output_type": "display_data"
    },
    {
     "name": "stdout",
     "output_type": "stream",
     "text": [
      "------------------------------\n",
      " \n"
     ]
    },
    {
     "data": {
      "text/plain": [
       "A    31\n",
       "B    31\n",
       "Name: group, dtype: int64"
      ]
     },
     "metadata": {},
     "output_type": "display_data"
    },
    {
     "name": "stdout",
     "output_type": "stream",
     "text": [
      "------------------------------\n",
      " \n"
     ]
    },
    {
     "data": {
      "text/plain": [
       "count    62.000 \n",
       "mean     607.290\n",
       "std      114.401\n",
       "min      361.000\n",
       "25%      534.000\n",
       "50%      624.500\n",
       "75%      710.500\n",
       "max      770.000\n",
       "Name: visitors, dtype: float64"
      ]
     },
     "metadata": {},
     "output_type": "display_data"
    },
    {
     "name": "stdout",
     "output_type": "stream",
     "text": [
      "------------------------------\n",
      " \n"
     ]
    }
   ],
   "source": [
    "des_var(visitors)"
   ]
  },
  {
   "cell_type": "markdown",
   "metadata": {},
   "source": [
    "<a id=\"title\"></a>"
   ]
  },
  {
   "cell_type": "markdown",
   "metadata": {},
   "source": [
    "### Промежуточный вывод"
   ]
  },
  {
   "cell_type": "markdown",
   "metadata": {},
   "source": [
    "- Типы данных заменены\n",
    "- Пропуски, дубликаты и другие ошибки не обнаружены\n",
    "- Лишние даты отсутствуют, тест проходил ровно на протяжении месяца для обеих групп"
   ]
  },
  {
   "cell_type": "markdown",
   "metadata": {},
   "source": [
    "[Вернуться к оглавлению](#title)"
   ]
  },
  {
   "cell_type": "markdown",
   "metadata": {},
   "source": [
    "<a id=\"second_step\"></a>"
   ]
  },
  {
   "cell_type": "markdown",
   "metadata": {},
   "source": [
    "## Анализ данных"
   ]
  },
  {
   "cell_type": "markdown",
   "metadata": {},
   "source": [
    "### Динамика кумулятивных значений по группам"
   ]
  },
  {
   "cell_type": "code",
   "execution_count": 29,
   "metadata": {},
   "outputs": [],
   "source": [
    "datesGroups = orders[['date','group']].drop_duplicates()"
   ]
  },
  {
   "cell_type": "code",
   "execution_count": 30,
   "metadata": {},
   "outputs": [],
   "source": [
    "ordersAggregated = datesGroups.apply(lambda x: orders[np.logical_and(orders['date'] <= x['date'], orders['group'] == x['group'])].agg({'date' : 'max', 'group' : 'max', 'transactionId' : 'nunique', 'visitorId' : 'nunique', 'revenue' : 'sum'}), axis=1).sort_values(by=['date','group'])"
   ]
  },
  {
   "cell_type": "code",
   "execution_count": 31,
   "metadata": {},
   "outputs": [],
   "source": [
    "visitorsAggregated = datesGroups.apply(lambda x: visitors[np.logical_and(visitors['date'] <= x['date'], visitors['group'] == x['group'])].agg({'date' : 'max', 'group' : 'max', 'visitors' : 'sum'}), axis=1).sort_values(by=['date','group'])"
   ]
  },
  {
   "cell_type": "markdown",
   "metadata": {},
   "source": [
    "Получаем аггрегированные кумулятивные данные по заказам и посетителям."
   ]
  },
  {
   "cell_type": "code",
   "execution_count": 32,
   "metadata": {},
   "outputs": [],
   "source": [
    "cumulativeData = ordersAggregated.merge(visitorsAggregated, on=['date', 'group'])"
   ]
  },
  {
   "cell_type": "code",
   "execution_count": 33,
   "metadata": {},
   "outputs": [],
   "source": [
    "cumulativeData.columns = ['date', 'group', 'orders', 'buyers', 'revenue', 'visitors']"
   ]
  },
  {
   "cell_type": "markdown",
   "metadata": {},
   "source": [
    "Визуализируем кумулятивные данные по выручке, абсолютному и относительному среднему чеку, абсолютной и относительной конверсии в обеих анализируемых группах."
   ]
  },
  {
   "cell_type": "code",
   "execution_count": 34,
   "metadata": {
    "scrolled": false
   },
   "outputs": [
    {
     "data": {
      "text/plain": [
       "Text(0.5, 0, 'Дата')"
      ]
     },
     "execution_count": 34,
     "metadata": {},
     "output_type": "execute_result"
    },
    {
     "data": {
      "image/png": "[encoded data removed]",
      "text/plain": [
       "<Figure size 1200x900 with 1 Axes>"
      ]
     },
     "metadata": {},
     "output_type": "display_data"
    }
   ],
   "source": [
    "ax = sns.lineplot(data=cumulativeData, x='date', y='revenue', hue='group')\n",
    "ax.set_title('Динамика кумулятивной выручки по группам', fontsize=20)\n",
    "ax.set_ylabel('Кумулятивная выручка, млн. руб.', fontsize=15)\n",
    "ax.set_xlabel('Дата', fontsize=15)"
   ]
  },
  {
   "cell_type": "markdown",
   "metadata": {},
   "source": [
    "1. <b>График кумулятивной выручки на протяжении исследуемого месяца:</b>\n",
    "- На протяжении всего анализируемого периода группа B превосходит группу А, только в одной точке сближаясь. \n",
    "- При этом в последней трети месяца в какой-то момент происходит резкий скачок, видимо аномально дорогой заказ или большое число заказов."
   ]
  },
  {
   "cell_type": "code",
   "execution_count": 35,
   "metadata": {
    "scrolled": false
   },
   "outputs": [],
   "source": [
    "cumulativeRevenueA = cumulativeData[cumulativeData['group']=='A'][['date','revenue', 'orders']]\n",
    "\n",
    "cumulativeRevenueB = cumulativeData[cumulativeData['group']=='B'][['date','revenue', 'orders']]"
   ]
  },
  {
   "cell_type": "code",
   "execution_count": 36,
   "metadata": {},
   "outputs": [
    {
     "data": {
      "text/plain": [
       "Text(0.5, 0, 'Дата')"
      ]
     },
     "execution_count": 36,
     "metadata": {},
     "output_type": "execute_result"
    },
    {
     "data": {
      "image/png": "[encoded data removed]",
      "text/plain": [
       "<Figure size 1200x900 with 1 Axes>"
      ]
     },
     "metadata": {},
     "output_type": "display_data"
    }
   ],
   "source": [
    "ax = sns.lineplot(data=cumulativeData, x='date', y=cumulativeData['revenue']/cumulativeData['orders'], hue='group')\n",
    "ax.set_title('Динамика среднего чека по группам', fontsize=20)\n",
    "ax.set_ylabel('Средний чек, тыс. руб.', fontsize=15)\n",
    "ax.set_xlabel('Дата', fontsize=15)"
   ]
  },
  {
   "cell_type": "markdown",
   "metadata": {},
   "source": [
    "2. <b>График кумулятивного среднего чека на протяжении исследуемого месяца:</b>\n",
    "- В среднем чеке у группы В не было постоянного превосходства на протяжении всего анализируемого периода вплоть до последней трети месяца, когда происходит аномальный скачок.\n",
    "- То есть мы понимаем, что этот резкий рост был вызван не большим количеством заказов, а именно высокой стоимостью одного или нескольких заказов."
   ]
  },
  {
   "cell_type": "code",
   "execution_count": 37,
   "metadata": {},
   "outputs": [],
   "source": [
    "mergedCumulativeRevenue = cumulativeRevenueA.merge(cumulativeRevenueB, left_on='date', right_on='date', how='left', suffixes=['A', 'B'])"
   ]
  },
  {
   "cell_type": "code",
   "execution_count": 38,
   "metadata": {},
   "outputs": [
    {
     "data": {
      "text/plain": [
       "<matplotlib.lines.Line2D at 0x22b274d0970>"
      ]
     },
     "execution_count": 38,
     "metadata": {},
     "output_type": "execute_result"
    },
    {
     "data": {
      "image/png": "[encoded data removed]",
      "text/plain": [
       "<Figure size 1200x900 with 1 Axes>"
      ]
     },
     "metadata": {},
     "output_type": "display_data"
    }
   ],
   "source": [
    "ax = sns.lineplot(data=mergedCumulativeRevenue, x='date', y=(mergedCumulativeRevenue['revenueB']/mergedCumulativeRevenue['ordersB'])/(mergedCumulativeRevenue['revenueA']/mergedCumulativeRevenue['ordersA'])-1)\n",
    "ax.set_title('Динамика относительного изменения кумулятивного среднего чека группы B к группе A', fontsize=20)\n",
    "ax.set_ylabel('Отношение среднего чека В к среднему чеку А', fontsize=15)\n",
    "ax.set_xlabel('Дата', fontsize=15)\n",
    "\n",
    "plt.axhline(y=0, color='black', linestyle='--')"
   ]
  },
  {
   "cell_type": "markdown",
   "metadata": {},
   "source": [
    "3. <b>График относительного изменения кумулятивного среднего чека группы В к группе А на протяжении исследуемого месяца:</b>\n",
    "- Большую часть месяца средний чек в группе В большем, чем в группе А - это достаточно устойчивый тренд."
   ]
  },
  {
   "cell_type": "code",
   "execution_count": 39,
   "metadata": {},
   "outputs": [],
   "source": [
    "cumulativeData['conversion'] = cumulativeData['orders']/cumulativeData['visitors']"
   ]
  },
  {
   "cell_type": "code",
   "execution_count": 40,
   "metadata": {},
   "outputs": [],
   "source": [
    "cumulativeDataA = cumulativeData[cumulativeData['group']=='A']\n",
    "\n",
    "cumulativeDataB = cumulativeData[cumulativeData['group']=='B']"
   ]
  },
  {
   "cell_type": "code",
   "execution_count": 41,
   "metadata": {},
   "outputs": [
    {
     "data": {
      "text/plain": [
       "Text(0.5, 0, 'Дата')"
      ]
     },
     "execution_count": 41,
     "metadata": {},
     "output_type": "execute_result"
    },
    {
     "data": {
      "image/png": "[encoded data removed]",
      "text/plain": [
       "<Figure size 1200x900 with 1 Axes>"
      ]
     },
     "metadata": {},
     "output_type": "display_data"
    }
   ],
   "source": [
    "ax = sns.lineplot(data=cumulativeData, x='date', y='conversion', hue='group')\n",
    "ax.set_title('Динамика кумулятивной конверсии по группам', fontsize=20)\n",
    "ax.set_ylabel('Конверсия', fontsize=15)\n",
    "ax.set_xlabel('Дата', fontsize=15)"
   ]
  },
  {
   "cell_type": "markdown",
   "metadata": {},
   "source": [
    "4. <b>График кумулятивной конверсии на протяжении исследуемого месяца:</b>\n",
    "- После некоторых колебаний в начале исследуемого периода графики обеих групп стабилизируются и мы видим, что группа В стабильно превосходит группу А на 3-4%."
   ]
  },
  {
   "cell_type": "code",
   "execution_count": 42,
   "metadata": {},
   "outputs": [],
   "source": [
    "mergedCumulativeConversions = cumulativeDataA[['date','conversion']].merge(cumulativeDataB[['date','conversion']], left_on='date', right_on='date', how='left', suffixes=['A', 'B'])"
   ]
  },
  {
   "cell_type": "code",
   "execution_count": 43,
   "metadata": {},
   "outputs": [
    {
     "data": {
      "text/plain": [
       "<matplotlib.lines.Line2D at 0x22b27cf0070>"
      ]
     },
     "execution_count": 43,
     "metadata": {},
     "output_type": "execute_result"
    },
    {
     "data": {
      "image/png": "[encoded data removed]",
      "text/plain": [
       "<Figure size 1200x900 with 1 Axes>"
      ]
     },
     "metadata": {},
     "output_type": "display_data"
    }
   ],
   "source": [
    "ax = sns.lineplot(data=mergedCumulativeConversions, x='date', y=mergedCumulativeConversions['conversionB']/mergedCumulativeConversions['conversionA']-1)\n",
    "ax.set_title('Динамика относительного изменения кумулятивной конверсии группы B к группе A', fontsize=20)\n",
    "ax.set_ylabel('Отношение конверсии В к конверсии А', fontsize=15)\n",
    "ax.set_xlabel('Дата', fontsize=15)\n",
    "\n",
    "plt.axhline(y=0, color='black', linestyle='--')\n",
    "plt.axhline(y=0.1, color='grey', linestyle='--')"
   ]
  },
  {
   "cell_type": "markdown",
   "metadata": {},
   "source": [
    "5. <b>График относительного изменения кумулятивной конверсии группы В к группе А на протяжении исследуемого месяца:</b>\n",
    "- Данный график подтверждает наш предыдущий вывод о стабильном превосходстве группы В - стабильно на 10% выше относительно группы А."
   ]
  },
  {
   "cell_type": "markdown",
   "metadata": {},
   "source": [
    "<a id=\"second_conclusion\"></a>"
   ]
  },
  {
   "cell_type": "markdown",
   "metadata": {},
   "source": [
    "### Промежуточный вывод"
   ]
  },
  {
   "cell_type": "markdown",
   "metadata": {},
   "source": [
    "По результатам визуального анализа кумулятивных показателей можно отметить, что группа В стабильно превосходит группу А по всем исследуемым параметрам: кумулятивной выручке, среднему чеку и конверсии. В то же время, если по конверсия превосходство группы В неоспоримо, то относительно выручки и среднего чека мы можем заметить наличие аномалии, которая могла повлиять на результаты группы В. "
   ]
  },
  {
   "cell_type": "markdown",
   "metadata": {},
   "source": [
    "[Вернуться к оглавлению](#title)"
   ]
  },
  {
   "cell_type": "markdown",
   "metadata": {},
   "source": [
    "<a id=\"third_step\"></a>"
   ]
  },
  {
   "cell_type": "markdown",
   "metadata": {},
   "source": [
    "## Поиск выбросов"
   ]
  },
  {
   "cell_type": "markdown",
   "metadata": {},
   "source": [
    "Далее для выявления и ликвидации потенциальной аномалии необходимо сформировать список пользователей, демонстрировавших слишком высокие показатели количества заказов и их стоимости."
   ]
  },
  {
   "cell_type": "code",
   "execution_count": 44,
   "metadata": {
    "scrolled": true
   },
   "outputs": [
    {
     "name": "stdout",
     "output_type": "stream",
     "text": [
      "         userId  orders\n",
      "908  3967698036  3     \n",
      "55   249864742   3     \n",
      "478  2108163459  3     \n",
      "687  2988190573  3     \n",
      "890  3908431265  3     \n",
      "138  611059232   3     \n",
      "632  2742574263  3     \n",
      "157  678354126   2     \n",
      "323  1404560065  2     \n",
      "452  1985475298  2     \n"
     ]
    }
   ],
   "source": [
    "ordersByUsers = (\n",
    "    orders.groupby('visitorId', as_index=False)\n",
    "    .agg({'transactionId': 'nunique'})\n",
    ")\n",
    "\n",
    "ordersByUsers.columns = ['userId', 'orders']\n",
    "\n",
    "print(ordersByUsers.sort_values(by='orders', ascending=False).head(10)) "
   ]
  },
  {
   "cell_type": "markdown",
   "metadata": {},
   "source": [
    "Как мы видим 7 клиентов точно выбиваются из общего списка, однако, для точности необходимо также посмотреть точечный график для этой переменной."
   ]
  },
  {
   "cell_type": "code",
   "execution_count": 45,
   "metadata": {},
   "outputs": [
    {
     "data": {
      "text/plain": [
       "Text(0.5, 0, 'Пользователь')"
      ]
     },
     "execution_count": 45,
     "metadata": {},
     "output_type": "execute_result"
    },
    {
     "data": {
      "image/png": "[encoded data removed]",
      "text/plain": [
       "<Figure size 1200x900 with 1 Axes>"
      ]
     },
     "metadata": {},
     "output_type": "display_data"
    }
   ],
   "source": [
    "x_values = pd.Series(range(0,len(ordersByUsers['orders'])))\n",
    "\n",
    "ax = sns.scatterplot(data=ordersByUsers, x=x_values, y='orders')\n",
    "ax.set_title('Точечная диаграмма количества заказов по пользователям', fontsize=20)\n",
    "ax.set_ylabel('Количество заказов', fontsize=15)\n",
    "ax.set_xlabel('Пользователь', fontsize=15)"
   ]
  },
  {
   "cell_type": "markdown",
   "metadata": {},
   "source": [
    "6. <b>Точечный график количества заказов на пользователя:</b>\n",
    "- На графике мы видим, что подавляющее большинство пользователей сделали за этот месяц только один заказ, однако, и 2 заказа тоже не являются чем-то ненормальным.\n",
    "- Для более точных данных нам необходимо изучить процентили данной переменной. "
   ]
  },
  {
   "cell_type": "code",
   "execution_count": 46,
   "metadata": {},
   "outputs": [
    {
     "name": "stdout",
     "output_type": "stream",
     "text": [
      "95% и 99% процентили количества заказов на 1 пользователя за месяц:\n"
     ]
    },
    {
     "data": {
      "text/html": [
       "<div>\n",
       "<style scoped>\n",
       "    .dataframe tbody tr th:only-of-type {\n",
       "        vertical-align: middle;\n",
       "    }\n",
       "\n",
       "    .dataframe tbody tr th {\n",
       "        vertical-align: top;\n",
       "    }\n",
       "\n",
       "    .dataframe thead th {\n",
       "        text-align: right;\n",
       "    }\n",
       "</style>\n",
       "<table border=\"1\" class=\"dataframe\">\n",
       "  <thead>\n",
       "    <tr style=\"text-align: right;\">\n",
       "      <th></th>\n",
       "      <th>Percentile</th>\n",
       "      <th>Values</th>\n",
       "    </tr>\n",
       "  </thead>\n",
       "  <tbody>\n",
       "    <tr>\n",
       "      <th>0</th>\n",
       "      <td>95%</td>\n",
       "      <td>1.0</td>\n",
       "    </tr>\n",
       "    <tr>\n",
       "      <th>1</th>\n",
       "      <td>99%</td>\n",
       "      <td>2.0</td>\n",
       "    </tr>\n",
       "  </tbody>\n",
       "</table>\n",
       "</div>"
      ],
      "text/plain": [
       "  Percentile  Values\n",
       "0  95%        1.0   \n",
       "1  99%        2.0   "
      ]
     },
     "metadata": {},
     "output_type": "display_data"
    }
   ],
   "source": [
    "orders_percent = {'Percentile':['95%', '99%'], 'Values':np.percentile(ordersByUsers['orders'], [95, 99])}\n",
    "orders_percent = pd.DataFrame(data=orders_percent)\n",
    "print ('95% и 99% процентили количества заказов на 1 пользователя за месяц:')\n",
    "display(orders_percent)"
   ]
  },
  {
   "cell_type": "markdown",
   "metadata": {},
   "source": [
    "7. <b>95% и 99% процентили для количества заказов на пользователя в исследуемом месяце:</b>\n",
    "- Оказалось, что 2 - это все таки 99% процентиль, хотя на графике создает ощущение, что таких заказов достаточно много. \n",
    "- В качестве границы для удаления аномальных пользователей мы возьмем 99% процентиль, так как эксперимент шел целый месяц, мы имеем достаточно большой объем данных и можем себе позволить большую точность. "
   ]
  },
  {
   "cell_type": "code",
   "execution_count": 47,
   "metadata": {},
   "outputs": [
    {
     "data": {
      "text/plain": [
       "Text(0.5, 0, 'Заказ')"
      ]
     },
     "execution_count": 47,
     "metadata": {},
     "output_type": "execute_result"
    },
    {
     "data": {
      "image/png": "[encoded data removed]",
      "text/plain": [
       "<Figure size 1200x900 with 1 Axes>"
      ]
     },
     "metadata": {},
     "output_type": "display_data"
    }
   ],
   "source": [
    "x_values = pd.Series(range(0,len(orders['revenue'])))\n",
    "\n",
    "ax = sns.scatterplot(data=orders, x=x_values, y='revenue')\n",
    "ax.set_title('Точечная диаграмма стоимостей заказов', fontsize=20)\n",
    "ax.set_ylabel('Стоимость, млн. руб.', fontsize=15)\n",
    "ax.set_xlabel('Заказ', fontsize=15)"
   ]
  },
  {
   "cell_type": "markdown",
   "metadata": {},
   "source": [
    "Однако, как мы видим в данных присутствует аномальный заказ стоимостью более миллиона рублей, при том что средний чек, как мы видели на графиках выше, пребывает где-то в районе нескольких тысяч рублей, поэтому данный точечный график мало что показывает, необходимости построить его на данных без выброса."
   ]
  },
  {
   "cell_type": "code",
   "execution_count": 48,
   "metadata": {},
   "outputs": [
    {
     "data": {
      "text/plain": [
       "Text(0.5, 0, 'Заказ')"
      ]
     },
     "execution_count": 48,
     "metadata": {},
     "output_type": "execute_result"
    },
    {
     "data": {
      "image/png": "[encoded data removed]",
      "text/plain": [
       "<Figure size 1200x900 with 1 Axes>"
      ]
     },
     "metadata": {},
     "output_type": "display_data"
    }
   ],
   "source": [
    "x_values = pd.Series(range(0,len(orders['revenue'])))\n",
    "\n",
    "ax = sns.scatterplot(data=orders[orders['revenue']<200000], x=x_values, y='revenue')\n",
    "ax.set_title('Точечная диаграмма стоимостей заказов', fontsize=20)\n",
    "ax.set_ylabel('Стоимость, руб.', fontsize=15)\n",
    "ax.set_xlabel('Заказ', fontsize=15)"
   ]
  },
  {
   "cell_type": "markdown",
   "metadata": {},
   "source": [
    "8. <b>Точечный график стоимости заказов:</b>\n",
    "- На графике мы видим, что есть один очень сильно выбивающийся заказ (видимо именно он так сильно исказил нам данные по группе В), а также еще один поменьше.\n",
    "- На скорректированном графике заметно, что на самом деле остальные заказы стоят не дороже 100 тыс. руб., а большинство вообще дешевле 20 тыс. руб..\n",
    "- Для более точных данных нам необходимо изучить процентили данной переменной. "
   ]
  },
  {
   "cell_type": "code",
   "execution_count": 49,
   "metadata": {
    "scrolled": true
   },
   "outputs": [
    {
     "name": "stdout",
     "output_type": "stream",
     "text": [
      "95% и 99% процентили стоимости заказов:\n"
     ]
    },
    {
     "data": {
      "text/html": [
       "<div>\n",
       "<style scoped>\n",
       "    .dataframe tbody tr th:only-of-type {\n",
       "        vertical-align: middle;\n",
       "    }\n",
       "\n",
       "    .dataframe tbody tr th {\n",
       "        vertical-align: top;\n",
       "    }\n",
       "\n",
       "    .dataframe thead th {\n",
       "        text-align: right;\n",
       "    }\n",
       "</style>\n",
       "<table border=\"1\" class=\"dataframe\">\n",
       "  <thead>\n",
       "    <tr style=\"text-align: right;\">\n",
       "      <th></th>\n",
       "      <th>Percentile</th>\n",
       "      <th>Values</th>\n",
       "    </tr>\n",
       "  </thead>\n",
       "  <tbody>\n",
       "    <tr>\n",
       "      <th>0</th>\n",
       "      <td>95%</td>\n",
       "      <td>26785.0</td>\n",
       "    </tr>\n",
       "    <tr>\n",
       "      <th>1</th>\n",
       "      <td>99%</td>\n",
       "      <td>53904.0</td>\n",
       "    </tr>\n",
       "  </tbody>\n",
       "</table>\n",
       "</div>"
      ],
      "text/plain": [
       "  Percentile   Values\n",
       "0  95%        26785.0\n",
       "1  99%        53904.0"
      ]
     },
     "metadata": {},
     "output_type": "display_data"
    }
   ],
   "source": [
    "orders_percent = {'Percentile':['95%', '99%'], 'Values':np.percentile(orders['revenue'], [95, 99])}\n",
    "orders_percent = pd.DataFrame(data=orders_percent)\n",
    "print ('95% и 99% процентили стоимости заказов:')\n",
    "display(orders_percent)"
   ]
  },
  {
   "cell_type": "markdown",
   "metadata": {},
   "source": [
    "7. <b>95% и 99% процентили для стоимости заказов:</b>\n",
    "- В качестве границы для удаления аномальных пользователей мы здесь также возьмем 99% процентиль. "
   ]
  },
  {
   "cell_type": "markdown",
   "metadata": {},
   "source": [
    "[Вернуться к оглавлению](#title)"
   ]
  },
  {
   "cell_type": "markdown",
   "metadata": {},
   "source": [
    "<a id=\"regions\"></a>"
   ]
  },
  {
   "cell_type": "markdown",
   "metadata": {},
   "source": [
    "### Промежуточный вывод"
   ]
  },
  {
   "cell_type": "markdown",
   "metadata": {},
   "source": [
    "В предыдущем разделе мы предположили наличие аномально дорогих заказов в нашем массиве данных и они действительно нашлись. Пользователей, которые их сделали, необходимо будет удалить из выборки для чистоты результатов исследования."
   ]
  },
  {
   "cell_type": "markdown",
   "metadata": {},
   "source": [
    "[Вернуться к оглавлению](#title)"
   ]
  },
  {
   "cell_type": "markdown",
   "metadata": {},
   "source": [
    "<a id=\"test\"></a>"
   ]
  },
  {
   "cell_type": "markdown",
   "metadata": {},
   "source": [
    "## A/B-тестирование"
   ]
  },
  {
   "cell_type": "markdown",
   "metadata": {},
   "source": [
    "<a id=\"final_step\"></a>"
   ]
  },
  {
   "cell_type": "code",
   "execution_count": 50,
   "metadata": {},
   "outputs": [
    {
     "data": {
      "text/plain": [
       "Index(['date', 'group', 'visitors'], dtype='object')"
      ]
     },
     "execution_count": 50,
     "metadata": {},
     "output_type": "execute_result"
    }
   ],
   "source": [
    "visitors.columns"
   ]
  },
  {
   "cell_type": "code",
   "execution_count": 51,
   "metadata": {},
   "outputs": [
    {
     "data": {
      "text/plain": [
       "Index(['transactionId', 'visitorId', 'date', 'revenue', 'group'], dtype='object')"
      ]
     },
     "execution_count": 51,
     "metadata": {},
     "output_type": "execute_result"
    }
   ],
   "source": [
    "orders.columns"
   ]
  },
  {
   "cell_type": "markdown",
   "metadata": {},
   "source": [
    "Группируем данные и готовим их к анализу"
   ]
  },
  {
   "cell_type": "code",
   "execution_count": 52,
   "metadata": {},
   "outputs": [],
   "source": [
    "#Создаем таблицу с данными только по группе А и переименовываем столбцы\n",
    "visitorsADaily = visitors[visitors['group'] == 'A'][['date', 'visitors']]\n",
    "visitorsADaily.columns = ['date', 'visitorsPerDateA']\n",
    "\n",
    "#На ее основе формируем отдельную таблицу с кумулятивными данными и также переменовываем столбцы\n",
    "visitorsACummulative = visitorsADaily.apply(\n",
    "    lambda x: visitorsADaily[visitorsADaily['date'] <= x['date']].agg(\n",
    "        {'date': 'max', 'visitorsPerDateA': 'sum'}\n",
    "    ),\n",
    "    axis=1,\n",
    ")\n",
    "visitorsACummulative.columns = ['date', 'visitorsCummulativeA']\n",
    "\n",
    "#Проводим аналогичные манипуляции с группой В\n",
    "visitorsBDaily = visitors[visitors['group'] == 'B'][['date', 'visitors']]\n",
    "visitorsBDaily.columns = ['date', 'visitorsPerDateB']\n",
    "\n",
    "visitorsBCummulative = visitorsBDaily.apply(\n",
    "    lambda x: visitorsBDaily[visitorsBDaily['date'] <= x['date']].agg(\n",
    "        {'date': 'max', 'visitorsPerDateB': 'sum'}\n",
    "    ),\n",
    "    axis=1,\n",
    ")\n",
    "visitorsBCummulative.columns = ['date', 'visitorsCummulativeB']"
   ]
  },
  {
   "cell_type": "code",
   "execution_count": 53,
   "metadata": {},
   "outputs": [],
   "source": [
    "#Делаем все то же самое с данными по заказам - собираем дневные данные по группам, преобразуем их в кумулятивные и переименовываем столбцы \n",
    "ordersADaily = (\n",
    "    orders[orders['group'] == 'A'][['date', 'transactionId', 'visitorId', 'revenue']]\n",
    "    .groupby('date', as_index=False)\n",
    "    .agg({'transactionId': pd.Series.nunique, 'revenue': 'sum'})\n",
    ")\n",
    "ordersADaily.columns = ['date', 'ordersPerDateA', 'revenuePerDateA']\n",
    "\n",
    "ordersACummulative = ordersADaily.apply(\n",
    "    lambda x: ordersADaily[ordersADaily['date'] <= x['date']].agg(\n",
    "        {'date': 'max', 'ordersPerDateA': 'sum', 'revenuePerDateA': 'sum'}\n",
    "    ),\n",
    "    axis=1,\n",
    ").sort_values(by=['date'])\n",
    "ordersACummulative.columns = [\n",
    "    'date',\n",
    "    'ordersCummulativeA',\n",
    "    'revenueCummulativeA',\n",
    "]\n",
    "\n",
    "ordersBDaily = (\n",
    "    orders[orders['group'] == 'B'][['date', 'transactionId', 'visitorId', 'revenue']]\n",
    "    .groupby('date', as_index=False)\n",
    "    .agg({'transactionId': pd.Series.nunique, 'revenue': 'sum'})\n",
    ")\n",
    "ordersBDaily.columns = ['date', 'ordersPerDateB', 'revenuePerDateB']\n",
    "\n",
    "ordersBCummulative = ordersBDaily.apply(\n",
    "    lambda x: ordersBDaily[ordersBDaily['date'] <= x['date']].agg(\n",
    "        {'date': 'max', 'ordersPerDateB': 'sum', 'revenuePerDateB': 'sum'}\n",
    "    ),\n",
    "    axis=1,\n",
    ").sort_values(by=['date'])\n",
    "ordersBCummulative.columns = [\n",
    "    'date',\n",
    "    'ordersCummulativeB',\n",
    "    'revenueCummulativeB',\n",
    "]\n",
    "\n",
    "\n",
    "#Объединяем в единую таблицу данные по заказам и посетителям для каждой группы кумулятивные и ежедневные\n",
    "data = (\n",
    "    ordersADaily.merge(\n",
    "        ordersBDaily, left_on='date', right_on='date', how='left'\n",
    "    )\n",
    "    .merge(ordersACummulative, left_on='date', right_on='date', how='left')\n",
    "    .merge(ordersBCummulative, left_on='date', right_on='date', how='left')\n",
    "    .merge(visitorsADaily, left_on='date', right_on='date', how='left')\n",
    "    .merge(visitorsBDaily, left_on='date', right_on='date', how='left')\n",
    "    .merge(visitorsACummulative, left_on='date', right_on='date', how='left')\n",
    "    .merge(visitorsBCummulative, left_on='date', right_on='date', how='left')\n",
    ")"
   ]
  },
  {
   "cell_type": "markdown",
   "metadata": {},
   "source": [
    "В результате получаем датафрейм, в котором содержатся подневные и кумулятивные данные по выручке, числе заказов и пользователей по каждой из групп."
   ]
  },
  {
   "cell_type": "code",
   "execution_count": 54,
   "metadata": {
    "scrolled": true
   },
   "outputs": [
    {
     "data": {
      "text/html": [
       "<div>\n",
       "<style scoped>\n",
       "    .dataframe tbody tr th:only-of-type {\n",
       "        vertical-align: middle;\n",
       "    }\n",
       "\n",
       "    .dataframe tbody tr th {\n",
       "        vertical-align: top;\n",
       "    }\n",
       "\n",
       "    .dataframe thead th {\n",
       "        text-align: right;\n",
       "    }\n",
       "</style>\n",
       "<table border=\"1\" class=\"dataframe\">\n",
       "  <thead>\n",
       "    <tr style=\"text-align: right;\">\n",
       "      <th></th>\n",
       "      <th>date</th>\n",
       "      <th>ordersPerDateA</th>\n",
       "      <th>revenuePerDateA</th>\n",
       "      <th>ordersPerDateB</th>\n",
       "      <th>revenuePerDateB</th>\n",
       "      <th>ordersCummulativeA</th>\n",
       "      <th>revenueCummulativeA</th>\n",
       "      <th>ordersCummulativeB</th>\n",
       "      <th>revenueCummulativeB</th>\n",
       "      <th>visitorsPerDateA</th>\n",
       "      <th>visitorsPerDateB</th>\n",
       "      <th>visitorsCummulativeA</th>\n",
       "      <th>visitorsCummulativeB</th>\n",
       "    </tr>\n",
       "  </thead>\n",
       "  <tbody>\n",
       "    <tr>\n",
       "      <th>0</th>\n",
       "      <td>2019-08-01</td>\n",
       "      <td>23</td>\n",
       "      <td>142779</td>\n",
       "      <td>17</td>\n",
       "      <td>59758</td>\n",
       "      <td>23</td>\n",
       "      <td>142779</td>\n",
       "      <td>17</td>\n",
       "      <td>59758</td>\n",
       "      <td>719</td>\n",
       "      <td>713</td>\n",
       "      <td>719</td>\n",
       "      <td>713</td>\n",
       "    </tr>\n",
       "    <tr>\n",
       "      <th>1</th>\n",
       "      <td>2019-08-02</td>\n",
       "      <td>19</td>\n",
       "      <td>91602</td>\n",
       "      <td>23</td>\n",
       "      <td>162043</td>\n",
       "      <td>42</td>\n",
       "      <td>234381</td>\n",
       "      <td>40</td>\n",
       "      <td>221801</td>\n",
       "      <td>619</td>\n",
       "      <td>581</td>\n",
       "      <td>1338</td>\n",
       "      <td>1294</td>\n",
       "    </tr>\n",
       "    <tr>\n",
       "      <th>2</th>\n",
       "      <td>2019-08-03</td>\n",
       "      <td>24</td>\n",
       "      <td>112473</td>\n",
       "      <td>14</td>\n",
       "      <td>67049</td>\n",
       "      <td>66</td>\n",
       "      <td>346854</td>\n",
       "      <td>54</td>\n",
       "      <td>288850</td>\n",
       "      <td>507</td>\n",
       "      <td>509</td>\n",
       "      <td>1845</td>\n",
       "      <td>1803</td>\n",
       "    </tr>\n",
       "    <tr>\n",
       "      <th>3</th>\n",
       "      <td>2019-08-04</td>\n",
       "      <td>11</td>\n",
       "      <td>41176</td>\n",
       "      <td>14</td>\n",
       "      <td>96890</td>\n",
       "      <td>77</td>\n",
       "      <td>388030</td>\n",
       "      <td>68</td>\n",
       "      <td>385740</td>\n",
       "      <td>717</td>\n",
       "      <td>770</td>\n",
       "      <td>2562</td>\n",
       "      <td>2573</td>\n",
       "    </tr>\n",
       "    <tr>\n",
       "      <th>4</th>\n",
       "      <td>2019-08-05</td>\n",
       "      <td>22</td>\n",
       "      <td>86383</td>\n",
       "      <td>21</td>\n",
       "      <td>89908</td>\n",
       "      <td>99</td>\n",
       "      <td>474413</td>\n",
       "      <td>89</td>\n",
       "      <td>475648</td>\n",
       "      <td>756</td>\n",
       "      <td>707</td>\n",
       "      <td>3318</td>\n",
       "      <td>3280</td>\n",
       "    </tr>\n",
       "    <tr>\n",
       "      <th>5</th>\n",
       "      <td>2019-08-06</td>\n",
       "      <td>15</td>\n",
       "      <td>40919</td>\n",
       "      <td>23</td>\n",
       "      <td>214842</td>\n",
       "      <td>114</td>\n",
       "      <td>515332</td>\n",
       "      <td>112</td>\n",
       "      <td>690490</td>\n",
       "      <td>667</td>\n",
       "      <td>655</td>\n",
       "      <td>3985</td>\n",
       "      <td>3935</td>\n",
       "    </tr>\n",
       "    <tr>\n",
       "      <th>6</th>\n",
       "      <td>2019-08-07</td>\n",
       "      <td>16</td>\n",
       "      <td>123248</td>\n",
       "      <td>23</td>\n",
       "      <td>219164</td>\n",
       "      <td>130</td>\n",
       "      <td>638580</td>\n",
       "      <td>135</td>\n",
       "      <td>909654</td>\n",
       "      <td>644</td>\n",
       "      <td>709</td>\n",
       "      <td>4629</td>\n",
       "      <td>4644</td>\n",
       "    </tr>\n",
       "    <tr>\n",
       "      <th>7</th>\n",
       "      <td>2019-08-08</td>\n",
       "      <td>14</td>\n",
       "      <td>88639</td>\n",
       "      <td>22</td>\n",
       "      <td>150141</td>\n",
       "      <td>144</td>\n",
       "      <td>727219</td>\n",
       "      <td>157</td>\n",
       "      <td>1059795</td>\n",
       "      <td>610</td>\n",
       "      <td>654</td>\n",
       "      <td>5239</td>\n",
       "      <td>5298</td>\n",
       "    </tr>\n",
       "    <tr>\n",
       "      <th>8</th>\n",
       "      <td>2019-08-09</td>\n",
       "      <td>11</td>\n",
       "      <td>134237</td>\n",
       "      <td>19</td>\n",
       "      <td>103166</td>\n",
       "      <td>155</td>\n",
       "      <td>861456</td>\n",
       "      <td>176</td>\n",
       "      <td>1162961</td>\n",
       "      <td>617</td>\n",
       "      <td>610</td>\n",
       "      <td>5856</td>\n",
       "      <td>5908</td>\n",
       "    </tr>\n",
       "    <tr>\n",
       "      <th>9</th>\n",
       "      <td>2019-08-10</td>\n",
       "      <td>15</td>\n",
       "      <td>152275</td>\n",
       "      <td>22</td>\n",
       "      <td>105162</td>\n",
       "      <td>170</td>\n",
       "      <td>1013731</td>\n",
       "      <td>198</td>\n",
       "      <td>1268123</td>\n",
       "      <td>406</td>\n",
       "      <td>369</td>\n",
       "      <td>6262</td>\n",
       "      <td>6277</td>\n",
       "    </tr>\n",
       "    <tr>\n",
       "      <th>10</th>\n",
       "      <td>2019-08-11</td>\n",
       "      <td>11</td>\n",
       "      <td>60665</td>\n",
       "      <td>12</td>\n",
       "      <td>53060</td>\n",
       "      <td>181</td>\n",
       "      <td>1074396</td>\n",
       "      <td>210</td>\n",
       "      <td>1321183</td>\n",
       "      <td>718</td>\n",
       "      <td>721</td>\n",
       "      <td>6980</td>\n",
       "      <td>6998</td>\n",
       "    </tr>\n",
       "    <tr>\n",
       "      <th>11</th>\n",
       "      <td>2019-08-12</td>\n",
       "      <td>19</td>\n",
       "      <td>220392</td>\n",
       "      <td>19</td>\n",
       "      <td>104054</td>\n",
       "      <td>200</td>\n",
       "      <td>1294788</td>\n",
       "      <td>229</td>\n",
       "      <td>1425237</td>\n",
       "      <td>595</td>\n",
       "      <td>543</td>\n",
       "      <td>7575</td>\n",
       "      <td>7541</td>\n",
       "    </tr>\n",
       "    <tr>\n",
       "      <th>12</th>\n",
       "      <td>2019-08-13</td>\n",
       "      <td>14</td>\n",
       "      <td>263638</td>\n",
       "      <td>20</td>\n",
       "      <td>117691</td>\n",
       "      <td>214</td>\n",
       "      <td>1558426</td>\n",
       "      <td>249</td>\n",
       "      <td>1542928</td>\n",
       "      <td>748</td>\n",
       "      <td>769</td>\n",
       "      <td>8323</td>\n",
       "      <td>8310</td>\n",
       "    </tr>\n",
       "    <tr>\n",
       "      <th>13</th>\n",
       "      <td>2019-08-14</td>\n",
       "      <td>17</td>\n",
       "      <td>43266</td>\n",
       "      <td>14</td>\n",
       "      <td>107340</td>\n",
       "      <td>231</td>\n",
       "      <td>1601692</td>\n",
       "      <td>263</td>\n",
       "      <td>1650268</td>\n",
       "      <td>735</td>\n",
       "      <td>746</td>\n",
       "      <td>9058</td>\n",
       "      <td>9056</td>\n",
       "    </tr>\n",
       "    <tr>\n",
       "      <th>14</th>\n",
       "      <td>2019-08-15</td>\n",
       "      <td>10</td>\n",
       "      <td>80877</td>\n",
       "      <td>26</td>\n",
       "      <td>310159</td>\n",
       "      <td>241</td>\n",
       "      <td>1682569</td>\n",
       "      <td>289</td>\n",
       "      <td>1960427</td>\n",
       "      <td>628</td>\n",
       "      <td>544</td>\n",
       "      <td>9686</td>\n",
       "      <td>9600</td>\n",
       "    </tr>\n",
       "    <tr>\n",
       "      <th>15</th>\n",
       "      <td>2019-08-16</td>\n",
       "      <td>18</td>\n",
       "      <td>99851</td>\n",
       "      <td>18</td>\n",
       "      <td>114250</td>\n",
       "      <td>259</td>\n",
       "      <td>1782420</td>\n",
       "      <td>307</td>\n",
       "      <td>2074677</td>\n",
       "      <td>361</td>\n",
       "      <td>413</td>\n",
       "      <td>10047</td>\n",
       "      <td>10013</td>\n",
       "    </tr>\n",
       "    <tr>\n",
       "      <th>16</th>\n",
       "      <td>2019-08-17</td>\n",
       "      <td>6</td>\n",
       "      <td>34740</td>\n",
       "      <td>13</td>\n",
       "      <td>80865</td>\n",
       "      <td>265</td>\n",
       "      <td>1817160</td>\n",
       "      <td>320</td>\n",
       "      <td>2155542</td>\n",
       "      <td>412</td>\n",
       "      <td>421</td>\n",
       "      <td>10459</td>\n",
       "      <td>10434</td>\n",
       "    </tr>\n",
       "    <tr>\n",
       "      <th>17</th>\n",
       "      <td>2019-08-18</td>\n",
       "      <td>13</td>\n",
       "      <td>59581</td>\n",
       "      <td>7</td>\n",
       "      <td>35323</td>\n",
       "      <td>278</td>\n",
       "      <td>1876741</td>\n",
       "      <td>327</td>\n",
       "      <td>2190865</td>\n",
       "      <td>668</td>\n",
       "      <td>737</td>\n",
       "      <td>11127</td>\n",
       "      <td>11171</td>\n",
       "    </tr>\n",
       "    <tr>\n",
       "      <th>18</th>\n",
       "      <td>2019-08-19</td>\n",
       "      <td>21</td>\n",
       "      <td>168193</td>\n",
       "      <td>21</td>\n",
       "      <td>1429920</td>\n",
       "      <td>299</td>\n",
       "      <td>2044934</td>\n",
       "      <td>348</td>\n",
       "      <td>3620785</td>\n",
       "      <td>502</td>\n",
       "      <td>487</td>\n",
       "      <td>11629</td>\n",
       "      <td>11658</td>\n",
       "    </tr>\n",
       "    <tr>\n",
       "      <th>19</th>\n",
       "      <td>2019-08-20</td>\n",
       "      <td>10</td>\n",
       "      <td>58679</td>\n",
       "      <td>20</td>\n",
       "      <td>147274</td>\n",
       "      <td>309</td>\n",
       "      <td>2103613</td>\n",
       "      <td>368</td>\n",
       "      <td>3768059</td>\n",
       "      <td>575</td>\n",
       "      <td>560</td>\n",
       "      <td>12204</td>\n",
       "      <td>12218</td>\n",
       "    </tr>\n",
       "    <tr>\n",
       "      <th>20</th>\n",
       "      <td>2019-08-21</td>\n",
       "      <td>20</td>\n",
       "      <td>170169</td>\n",
       "      <td>12</td>\n",
       "      <td>140347</td>\n",
       "      <td>329</td>\n",
       "      <td>2273782</td>\n",
       "      <td>380</td>\n",
       "      <td>3908406</td>\n",
       "      <td>646</td>\n",
       "      <td>656</td>\n",
       "      <td>12850</td>\n",
       "      <td>12874</td>\n",
       "    </tr>\n",
       "    <tr>\n",
       "      <th>21</th>\n",
       "      <td>2019-08-22</td>\n",
       "      <td>10</td>\n",
       "      <td>92365</td>\n",
       "      <td>21</td>\n",
       "      <td>141728</td>\n",
       "      <td>339</td>\n",
       "      <td>2366147</td>\n",
       "      <td>401</td>\n",
       "      <td>4050134</td>\n",
       "      <td>609</td>\n",
       "      <td>650</td>\n",
       "      <td>13459</td>\n",
       "      <td>13524</td>\n",
       "    </tr>\n",
       "    <tr>\n",
       "      <th>22</th>\n",
       "      <td>2019-08-23</td>\n",
       "      <td>20</td>\n",
       "      <td>57863</td>\n",
       "      <td>13</td>\n",
       "      <td>77269</td>\n",
       "      <td>359</td>\n",
       "      <td>2424010</td>\n",
       "      <td>414</td>\n",
       "      <td>4127403</td>\n",
       "      <td>468</td>\n",
       "      <td>546</td>\n",
       "      <td>13927</td>\n",
       "      <td>14070</td>\n",
       "    </tr>\n",
       "    <tr>\n",
       "      <th>23</th>\n",
       "      <td>2019-08-24</td>\n",
       "      <td>13</td>\n",
       "      <td>122013</td>\n",
       "      <td>14</td>\n",
       "      <td>87866</td>\n",
       "      <td>372</td>\n",
       "      <td>2546023</td>\n",
       "      <td>428</td>\n",
       "      <td>4215269</td>\n",
       "      <td>395</td>\n",
       "      <td>378</td>\n",
       "      <td>14322</td>\n",
       "      <td>14448</td>\n",
       "    </tr>\n",
       "    <tr>\n",
       "      <th>24</th>\n",
       "      <td>2019-08-25</td>\n",
       "      <td>8</td>\n",
       "      <td>51884</td>\n",
       "      <td>12</td>\n",
       "      <td>79257</td>\n",
       "      <td>380</td>\n",
       "      <td>2597907</td>\n",
       "      <td>440</td>\n",
       "      <td>4294526</td>\n",
       "      <td>621</td>\n",
       "      <td>679</td>\n",
       "      <td>14943</td>\n",
       "      <td>15127</td>\n",
       "    </tr>\n",
       "    <tr>\n",
       "      <th>25</th>\n",
       "      <td>2019-08-26</td>\n",
       "      <td>16</td>\n",
       "      <td>157214</td>\n",
       "      <td>22</td>\n",
       "      <td>173439</td>\n",
       "      <td>396</td>\n",
       "      <td>2755121</td>\n",
       "      <td>462</td>\n",
       "      <td>4467965</td>\n",
       "      <td>722</td>\n",
       "      <td>676</td>\n",
       "      <td>15665</td>\n",
       "      <td>15803</td>\n",
       "    </tr>\n",
       "    <tr>\n",
       "      <th>26</th>\n",
       "      <td>2019-08-27</td>\n",
       "      <td>23</td>\n",
       "      <td>185350</td>\n",
       "      <td>11</td>\n",
       "      <td>111347</td>\n",
       "      <td>419</td>\n",
       "      <td>2940471</td>\n",
       "      <td>473</td>\n",
       "      <td>4579312</td>\n",
       "      <td>711</td>\n",
       "      <td>720</td>\n",
       "      <td>16376</td>\n",
       "      <td>16523</td>\n",
       "    </tr>\n",
       "    <tr>\n",
       "      <th>27</th>\n",
       "      <td>2019-08-28</td>\n",
       "      <td>15</td>\n",
       "      <td>96462</td>\n",
       "      <td>22</td>\n",
       "      <td>61198</td>\n",
       "      <td>434</td>\n",
       "      <td>3036933</td>\n",
       "      <td>495</td>\n",
       "      <td>4640510</td>\n",
       "      <td>594</td>\n",
       "      <td>654</td>\n",
       "      <td>16970</td>\n",
       "      <td>17177</td>\n",
       "    </tr>\n",
       "    <tr>\n",
       "      <th>28</th>\n",
       "      <td>2019-08-29</td>\n",
       "      <td>17</td>\n",
       "      <td>196300</td>\n",
       "      <td>15</td>\n",
       "      <td>106100</td>\n",
       "      <td>451</td>\n",
       "      <td>3233233</td>\n",
       "      <td>510</td>\n",
       "      <td>4746610</td>\n",
       "      <td>577</td>\n",
       "      <td>531</td>\n",
       "      <td>17547</td>\n",
       "      <td>17708</td>\n",
       "    </tr>\n",
       "    <tr>\n",
       "      <th>29</th>\n",
       "      <td>2019-08-30</td>\n",
       "      <td>9</td>\n",
       "      <td>78180</td>\n",
       "      <td>21</td>\n",
       "      <td>209223</td>\n",
       "      <td>460</td>\n",
       "      <td>3311413</td>\n",
       "      <td>531</td>\n",
       "      <td>4955833</td>\n",
       "      <td>490</td>\n",
       "      <td>490</td>\n",
       "      <td>18037</td>\n",
       "      <td>18198</td>\n",
       "    </tr>\n",
       "    <tr>\n",
       "      <th>30</th>\n",
       "      <td>2019-08-31</td>\n",
       "      <td>8</td>\n",
       "      <td>53243</td>\n",
       "      <td>17</td>\n",
       "      <td>113139</td>\n",
       "      <td>468</td>\n",
       "      <td>3364656</td>\n",
       "      <td>548</td>\n",
       "      <td>5068972</td>\n",
       "      <td>699</td>\n",
       "      <td>718</td>\n",
       "      <td>18736</td>\n",
       "      <td>18916</td>\n",
       "    </tr>\n",
       "  </tbody>\n",
       "</table>\n",
       "</div>"
      ],
      "text/plain": [
       "         date  ordersPerDateA  revenuePerDateA  ordersPerDateB  \\\n",
       "0  2019-08-01  23              142779           17               \n",
       "1  2019-08-02  19              91602            23               \n",
       "2  2019-08-03  24              112473           14               \n",
       "3  2019-08-04  11              41176            14               \n",
       "4  2019-08-05  22              86383            21               \n",
       "5  2019-08-06  15              40919            23               \n",
       "6  2019-08-07  16              123248           23               \n",
       "7  2019-08-08  14              88639            22               \n",
       "8  2019-08-09  11              134237           19               \n",
       "9  2019-08-10  15              152275           22               \n",
       "10 2019-08-11  11              60665            12               \n",
       "11 2019-08-12  19              220392           19               \n",
       "12 2019-08-13  14              263638           20               \n",
       "13 2019-08-14  17              43266            14               \n",
       "14 2019-08-15  10              80877            26               \n",
       "15 2019-08-16  18              99851            18               \n",
       "16 2019-08-17  6               34740            13               \n",
       "17 2019-08-18  13              59581            7                \n",
       "18 2019-08-19  21              168193           21               \n",
       "19 2019-08-20  10              58679            20               \n",
       "20 2019-08-21  20              170169           12               \n",
       "21 2019-08-22  10              92365            21               \n",
       "22 2019-08-23  20              57863            13               \n",
       "23 2019-08-24  13              122013           14               \n",
       "24 2019-08-25  8               51884            12               \n",
       "25 2019-08-26  16              157214           22               \n",
       "26 2019-08-27  23              185350           11               \n",
       "27 2019-08-28  15              96462            22               \n",
       "28 2019-08-29  17              196300           15               \n",
       "29 2019-08-30  9               78180            21               \n",
       "30 2019-08-31  8               53243            17               \n",
       "\n",
       "    revenuePerDateB  ordersCummulativeA  revenueCummulativeA  \\\n",
       "0   59758            23                  142779                \n",
       "1   162043           42                  234381                \n",
       "2   67049            66                  346854                \n",
       "3   96890            77                  388030                \n",
       "4   89908            99                  474413                \n",
       "5   214842           114                 515332                \n",
       "6   219164           130                 638580                \n",
       "7   150141           144                 727219                \n",
       "8   103166           155                 861456                \n",
       "9   105162           170                 1013731               \n",
       "10  53060            181                 1074396               \n",
       "11  104054           200                 1294788               \n",
       "12  117691           214                 1558426               \n",
       "13  107340           231                 1601692               \n",
       "14  310159           241                 1682569               \n",
       "15  114250           259                 1782420               \n",
       "16  80865            265                 1817160               \n",
       "17  35323            278                 1876741               \n",
       "18  1429920          299                 2044934               \n",
       "19  147274           309                 2103613               \n",
       "20  140347           329                 2273782               \n",
       "21  141728           339                 2366147               \n",
       "22  77269            359                 2424010               \n",
       "23  87866            372                 2546023               \n",
       "24  79257            380                 2597907               \n",
       "25  173439           396                 2755121               \n",
       "26  111347           419                 2940471               \n",
       "27  61198            434                 3036933               \n",
       "28  106100           451                 3233233               \n",
       "29  209223           460                 3311413               \n",
       "30  113139           468                 3364656               \n",
       "\n",
       "    ordersCummulativeB  revenueCummulativeB  visitorsPerDateA  \\\n",
       "0   17                  59758                719                \n",
       "1   40                  221801               619                \n",
       "2   54                  288850               507                \n",
       "3   68                  385740               717                \n",
       "4   89                  475648               756                \n",
       "5   112                 690490               667                \n",
       "6   135                 909654               644                \n",
       "7   157                 1059795              610                \n",
       "8   176                 1162961              617                \n",
       "9   198                 1268123              406                \n",
       "10  210                 1321183              718                \n",
       "11  229                 1425237              595                \n",
       "12  249                 1542928              748                \n",
       "13  263                 1650268              735                \n",
       "14  289                 1960427              628                \n",
       "15  307                 2074677              361                \n",
       "16  320                 2155542              412                \n",
       "17  327                 2190865              668                \n",
       "18  348                 3620785              502                \n",
       "19  368                 3768059              575                \n",
       "20  380                 3908406              646                \n",
       "21  401                 4050134              609                \n",
       "22  414                 4127403              468                \n",
       "23  428                 4215269              395                \n",
       "24  440                 4294526              621                \n",
       "25  462                 4467965              722                \n",
       "26  473                 4579312              711                \n",
       "27  495                 4640510              594                \n",
       "28  510                 4746610              577                \n",
       "29  531                 4955833              490                \n",
       "30  548                 5068972              699                \n",
       "\n",
       "    visitorsPerDateB  visitorsCummulativeA  visitorsCummulativeB  \n",
       "0   713               719                   713                   \n",
       "1   581               1338                  1294                  \n",
       "2   509               1845                  1803                  \n",
       "3   770               2562                  2573                  \n",
       "4   707               3318                  3280                  \n",
       "5   655               3985                  3935                  \n",
       "6   709               4629                  4644                  \n",
       "7   654               5239                  5298                  \n",
       "8   610               5856                  5908                  \n",
       "9   369               6262                  6277                  \n",
       "10  721               6980                  6998                  \n",
       "11  543               7575                  7541                  \n",
       "12  769               8323                  8310                  \n",
       "13  746               9058                  9056                  \n",
       "14  544               9686                  9600                  \n",
       "15  413               10047                 10013                 \n",
       "16  421               10459                 10434                 \n",
       "17  737               11127                 11171                 \n",
       "18  487               11629                 11658                 \n",
       "19  560               12204                 12218                 \n",
       "20  656               12850                 12874                 \n",
       "21  650               13459                 13524                 \n",
       "22  546               13927                 14070                 \n",
       "23  378               14322                 14448                 \n",
       "24  679               14943                 15127                 \n",
       "25  676               15665                 15803                 \n",
       "26  720               16376                 16523                 \n",
       "27  654               16970                 17177                 \n",
       "28  531               17547                 17708                 \n",
       "29  490               18037                 18198                 \n",
       "30  718               18736                 18916                 "
      ]
     },
     "metadata": {},
     "output_type": "display_data"
    }
   ],
   "source": [
    "display(data)"
   ]
  },
  {
   "cell_type": "code",
   "execution_count": 55,
   "metadata": {},
   "outputs": [],
   "source": [
    "ordersByUsersA = (\n",
    "    orders[orders['group'] == 'A']\n",
    "    .groupby('visitorId', as_index=False)\n",
    "    .agg({'transactionId': pd.Series.nunique})\n",
    ")\n",
    "ordersByUsersA.columns = ['userId', 'orders']\n",
    "\n",
    "ordersByUsersB = (\n",
    "    orders[orders['group'] == 'B']\n",
    "    .groupby('visitorId', as_index=False)\n",
    "    .agg({'transactionId': pd.Series.nunique})\n",
    ")\n",
    "ordersByUsersB.columns = ['userId', 'orders']"
   ]
  },
  {
   "cell_type": "markdown",
   "metadata": {},
   "source": [
    "Теперь, когда данные готовы, необходимо посчитать разницу в конверсии и среднем чеке между группами, для начала по сырым данным."
   ]
  },
  {
   "cell_type": "code",
   "execution_count": 56,
   "metadata": {},
   "outputs": [],
   "source": [
    "#Создаем выборки для тестирования гипотез\n",
    "sampleA = pd.concat(\n",
    "    [\n",
    "        ordersByUsersA['orders'],\n",
    "        pd.Series(\n",
    "            0,\n",
    "            index=np.arange(\n",
    "                data['visitorsPerDateA'].sum() - len(ordersByUsersA['orders'])\n",
    "            ),\n",
    "            name='orders',\n",
    "        ),\n",
    "    ],\n",
    "    axis=0,\n",
    ")\n",
    "\n",
    "sampleB = pd.concat(\n",
    "    [\n",
    "        ordersByUsersB['orders'],\n",
    "        pd.Series(\n",
    "            0,\n",
    "            index=np.arange(\n",
    "                data['visitorsPerDateB'].sum() - len(ordersByUsersB['orders'])\n",
    "            ),\n",
    "            name='orders',\n",
    "        ),\n",
    "    ],\n",
    "    axis=0,\n",
    ")"
   ]
  },
  {
   "cell_type": "markdown",
   "metadata": {},
   "source": [
    "Итак по конверсии: <br>\n",
    "H0 - отсутствие разницы между средними значеними конверсии групп А и В <br>\n",
    "H1 - наличие разницы между средними значеними конверсии групп А и В\n",
    "\n",
    "Для их проверки мы будем использовать критерий Манна-Уиттни для выявления статистический различий в параметре между двумя выборками. За уровень статистической значимости мы возьмем <b>0.05</b>, как наиболее часто встречающийся и не создающий такой высокой вероятности ошибки 2 рода, как 0.01."
   ]
  },
  {
   "cell_type": "code",
   "execution_count": 57,
   "metadata": {
    "scrolled": false
   },
   "outputs": [
    {
     "name": "stdout",
     "output_type": "stream",
     "text": [
      "p-value по результатам теста:  0.011\n",
      "Отвергаем нулевую гипотезу о равных средних\n",
      "Разница между средними значением конверсии групп А и В составила:  0.160\n"
     ]
    }
   ],
   "source": [
    "alpha = 0.05\n",
    "\n",
    "print('p-value по результатам теста: ', \"{0:.3f}\".format(st.mannwhitneyu(sampleA, sampleB)[1]))\n",
    "\n",
    "if st.mannwhitneyu(sampleA, sampleB)[1] > alpha:\n",
    "    print ('Нет оснований отвергнуть нулевую гипотезу')\n",
    "else:\n",
    "    print ('Отвергаем нулевую гипотезу о равных средних')\n",
    "\n",
    "\n",
    "print('Разница между средними значением конверсии групп А и В составила: ', \"{0:.3f}\".format(sampleB.mean() / sampleA.mean() - 1))"
   ]
  },
  {
   "cell_type": "markdown",
   "metadata": {},
   "source": [
    "10. <b>Тест на статистическую значимость разницы в конверсии:</b>\n",
    "- При проверке по сырым данным и принятии уровня значимости в 0.05 нулевая гипотеза о равенстве средних показателей конверсии отклоеняется.\n",
    "- При этом сама средняя относительная разница достаточно велика - 16%."
   ]
  },
  {
   "cell_type": "markdown",
   "metadata": {},
   "source": [
    "Проверяем на сырых же данных гипотезы по среднему чеку.<br>\n",
    "H0 - отсутствие разницы между средним чеком групп А и В <br>\n",
    "H1 - наличие разницы между средним чеком групп А и В\n",
    "\n",
    "Использоваться так же будет критерий Манна-Уиттни с уровнем статистической значимости в 0.05."
   ]
  },
  {
   "cell_type": "code",
   "execution_count": 58,
   "metadata": {
    "scrolled": false
   },
   "outputs": [
    {
     "name": "stdout",
     "output_type": "stream",
     "text": [
      "p-value по результатам теста:  0.829\n",
      "Нет оснований отвергнуть нулевую гипотезу\n",
      "Разница между средними чеками групп А и В составила:  0.287\n"
     ]
    }
   ],
   "source": [
    "alpha = 0.05\n",
    "\n",
    "print('p-value по результатам теста: ','{0:.3f}'.format(st.mannwhitneyu(orders[orders['group']=='A']['revenue'], orders[orders['group']=='B']['revenue'])[1]))\n",
    "\n",
    "if st.mannwhitneyu(orders[orders['group']=='A']['revenue'], orders[orders['group']=='B']['revenue'])[1] > alpha:\n",
    "    print ('Нет оснований отвергнуть нулевую гипотезу')\n",
    "else:\n",
    "    print ('Отвергаем нулевую гипотезу о равных средних')\n",
    "\n",
    "\n",
    "print('Разница между средними чеками групп А и В составила: ', '{0:.3f}'.format(orders[orders['group']=='B']['revenue'].mean()/orders[orders['group']=='A']['revenue'].mean()-1)) "
   ]
  },
  {
   "cell_type": "markdown",
   "metadata": {},
   "source": [
    "11. <b>Тест на статистическую значимость разницы в средних чеках:</b>\n",
    "- Изначально разница между чеками выглядела весьма внушительно на графика, рассчеты также показали, что группа В на четверть опережает по этому показателю группу А.\n",
    "- Однако, при проверке по сырым данным и принятии уровня значимости в 0.05 нулевая гипотеза о равенстве средних чеков не может быть отклонена.\n",
    "- После удаления выбросов мы скорее всего получим еще более убедительный результат в пользу отсутствия разницы."
   ]
  },
  {
   "cell_type": "code",
   "execution_count": 59,
   "metadata": {},
   "outputs": [],
   "source": [
    "usersWithManyOrders = pd.concat(\n",
    "    [\n",
    "        ordersByUsersA[ordersByUsersA['orders'] > 2]['userId'],\n",
    "        ordersByUsersB[ordersByUsersB['orders'] > 2]['userId'],\n",
    "    ],\n",
    "    axis=0,\n",
    ")\n",
    "\n",
    "usersWithExpensiveOrders = orders[orders['revenue'] > 53904.0]['visitorId']\n",
    "usersWithExpensiveOrders.name = 'userId'\n",
    "abnormalUsers = (\n",
    "    pd.concat([usersWithManyOrders, usersWithExpensiveOrders], axis=0)\n",
    "    .drop_duplicates()\n",
    "    .sort_values()\n",
    ")"
   ]
  },
  {
   "cell_type": "code",
   "execution_count": 60,
   "metadata": {
    "scrolled": false
   },
   "outputs": [
    {
     "name": "stdout",
     "output_type": "stream",
     "text": [
      "1099    148427295\n",
      "33      249864742\n",
      "58      611059232\n",
      "949     887908475\n",
      "744     888512513\n",
      "Name: userId, dtype: int64\n",
      "16\n"
     ]
    }
   ],
   "source": [
    "print(abnormalUsers.head(5))\n",
    "print(abnormalUsers.shape[0]) "
   ]
  },
  {
   "cell_type": "markdown",
   "metadata": {},
   "source": [
    "Итак, для очищения данных мы удалим 16 пользователей с аномальными показателями."
   ]
  },
  {
   "cell_type": "code",
   "execution_count": 61,
   "metadata": {
    "scrolled": true
   },
   "outputs": [],
   "source": [
    "sampleAFiltered = pd.concat(\n",
    "    [\n",
    "        ordersByUsersA[\n",
    "            np.logical_not(ordersByUsersA['userId'].isin(abnormalUsers))\n",
    "        ]['orders'],\n",
    "        pd.Series(\n",
    "            0,\n",
    "            index=np.arange(\n",
    "                data['visitorsPerDateA'].sum() - len(ordersByUsersA['orders'])\n",
    "            ),\n",
    "            name='orders',\n",
    "        ),\n",
    "    ],\n",
    "    axis=0,\n",
    ")\n",
    "\n",
    "sampleBFiltered = pd.concat(\n",
    "    [\n",
    "        ordersByUsersB[\n",
    "            np.logical_not(ordersByUsersB['userId'].isin(abnormalUsers))\n",
    "        ]['orders'],\n",
    "        pd.Series(\n",
    "            0,\n",
    "            index=np.arange(\n",
    "                data['visitorsPerDateB'].sum() - len(ordersByUsersB['orders'])\n",
    "            ),\n",
    "            name='orders',\n",
    "        ),\n",
    "    ],\n",
    "    axis=0,\n",
    ")"
   ]
  },
  {
   "cell_type": "markdown",
   "metadata": {},
   "source": [
    "Создаем фильтрованный дата-фрейм для расчета конверсии."
   ]
  },
  {
   "cell_type": "markdown",
   "metadata": {},
   "source": [
    "Проводится тот же тест с тем же уровнем значимости."
   ]
  },
  {
   "cell_type": "code",
   "execution_count": 62,
   "metadata": {
    "scrolled": false
   },
   "outputs": [
    {
     "name": "stdout",
     "output_type": "stream",
     "text": [
      "p-value по результатам теста:  0.0070213\n",
      "Отвергаем нулевую гипотезу о равных средних\n",
      "Разница между средними значением конверсии групп А и В составила:  0.189\n"
     ]
    }
   ],
   "source": [
    "alpha = 0.05\n",
    "\n",
    "print('p-value по результатам теста: ', \"{0:.7f}\".format(st.mannwhitneyu(sampleAFiltered, sampleBFiltered)[1]))\n",
    "\n",
    "if st.mannwhitneyu(sampleAFiltered, sampleBFiltered)[1] > alpha:\n",
    "    print ('Нет оснований отвергнуть нулевую гипотезу')\n",
    "else:\n",
    "    print ('Отвергаем нулевую гипотезу о равных средних')\n",
    "\n",
    "\n",
    "print('Разница между средними значением конверсии групп А и В составила: ', \"{0:.3f}\".format(sampleBFiltered.mean() / sampleAFiltered.mean() - 1))"
   ]
  },
  {
   "cell_type": "markdown",
   "metadata": {},
   "source": [
    "12. <b>Тест на статистическую значимость разницы в конверсии по очищенным данным:</b>\n",
    "- При проверке по очищенным данным и принятии уровня значимости в 0.05 нулевая гипотеза о равенстве средних показателей конверсии все так же отклоняется.\n",
    "- Разница в конверсии группы В относительно группы А при этом оказалась достаточно существенной - почти 19%, изменившись в большую сторону относительно теста по сырым данным."
   ]
  },
  {
   "cell_type": "markdown",
   "metadata": {},
   "source": [
    "Проводится тот же тест с тем же уровнем значимости."
   ]
  },
  {
   "cell_type": "code",
   "execution_count": 63,
   "metadata": {
    "scrolled": true
   },
   "outputs": [
    {
     "name": "stdout",
     "output_type": "stream",
     "text": [
      "p-value по результатам теста:  0.788\n",
      "Нет оснований отвергнуть нулевую гипотезу\n",
      "Разница между средними чеками групп А и В составила:  -0.032\n"
     ]
    }
   ],
   "source": [
    "alpha = 0.05\n",
    "#Проводим тест, извлекаем p-value\n",
    "print('p-value по результатам теста: ', \n",
    "    '{0:.3f}'.format(\n",
    "        st.mannwhitneyu(\n",
    "            orders[\n",
    "                np.logical_and(\n",
    "                    orders['group'] == 'A',\n",
    "                    np.logical_not(orders['visitorId'].isin(abnormalUsers)),\n",
    "                )\n",
    "            ]['revenue'],\n",
    "            orders[\n",
    "                np.logical_and(\n",
    "                    orders['group'] == 'B',\n",
    "                    np.logical_not(orders['visitorId'].isin(abnormalUsers)),\n",
    "                )\n",
    "            ]['revenue'],\n",
    "        )[1]\n",
    "    )\n",
    ")\n",
    "#Выводим результаты теста в понятном виде\n",
    "if st.mannwhitneyu(\n",
    "            orders[\n",
    "                np.logical_and(\n",
    "                    orders['group'] == 'A',\n",
    "                    np.logical_not(orders['visitorId'].isin(abnormalUsers)),\n",
    "                )\n",
    "            ]['revenue'],\n",
    "            orders[\n",
    "                np.logical_and(\n",
    "                    orders['group'] == 'B',\n",
    "                    np.logical_not(orders['visitorId'].isin(abnormalUsers)),\n",
    "                )\n",
    "            ]['revenue'],\n",
    "        )[1] > alpha:\n",
    "    print ('Нет оснований отвергнуть нулевую гипотезу')\n",
    "else:\n",
    "    print ('Отвергаем нулевую гипотезу о равных средних')\n",
    "#Для большей ясности еще выводим разницу средних значений\n",
    "print('Разница между средними чеками групп А и В составила: ', \n",
    "    \"{0:.3f}\".format(\n",
    "        orders[\n",
    "            np.logical_and(\n",
    "                orders['group'] == 'B',\n",
    "                np.logical_not(orders['visitorId'].isin(abnormalUsers)),\n",
    "            )\n",
    "        ]['revenue'].mean()\n",
    "        / orders[\n",
    "            np.logical_and(\n",
    "                orders['group'] == 'A',\n",
    "                np.logical_not(orders['visitorId'].isin(abnormalUsers)),\n",
    "            )\n",
    "        ]['revenue'].mean()\n",
    "        - 1\n",
    "    )\n",
    ")"
   ]
  },
  {
   "cell_type": "markdown",
   "metadata": {},
   "source": [
    "13. <b>Тест на статистическую значимость разницы в средних чеках по очищенным данным:</b>\n",
    "- Как уже упоминалось, изначально разница между чеками выглядела весьма внушительно на графика, рассчеты на сырых данных также показали, что группа В на четверть опережает по этому показателю группу А.\n",
    "- Однако, мы изначально также предполагали, что это разница вызвана аномально дорогими заказами в группе В, которые и были удалены.\n",
    "- При проверке по очищенным данным и принятии уровня значимости в 0.05 нулевая гипотеза о равенстве средних показателей конверсии не может быть отклонена.\n",
    "- Более того, рассчет разницы в среднихч чеках на очищенных данных показал, что средний чек в группе В даже очень ненамного, но ниже, чем в группе А."
   ]
  },
  {
   "cell_type": "markdown",
   "metadata": {},
   "source": [
    "## Итоговый вывод"
   ]
  },
  {
   "cell_type": "markdown",
   "metadata": {},
   "source": [
    "- По результатам приоритезации гипотез методами ICE и RICE в топе оказались гипотезы о создании подписки для получения базы e-mail клиентов, а также о добавлении 2 новых каналов привлечения пользователей.\n",
    "- По результатам A/B-тестирования, изначально казалось, что группа B убедительно обходит группу А по всем исследуемым параметрам: конверсии, числу заказов и среднему чеку.\n",
    "- Однако, после удаления аномальных данных, выяснилось, что реально группа В превосходит группу А только в конверсии, статистически значимой разницы в средних чеках при этом нет."
   ]
  },
  {
   "cell_type": "markdown",
   "metadata": {},
   "source": [
    "14. <b>Решение по результатам теста:</b>\n",
    "- Остановить тест, зафиксировав победу группы В.\n",
    "- Так как тест шел месяц и графики кумулятивных показателей продемонстрировали свою стабилизацию, продолжать тест бесмыссленно.\n",
    "- Статистические тесты показали отсутствие статистически значимой разницы в среднем чеке.\n",
    "- При этом превосходство группы В в конверсии вполне ощутимо и составляет 19% относительно аналогичного показателя группы А."
   ]
  },
  {
   "cell_type": "markdown",
   "metadata": {},
   "source": [
    "[Вернуться к оглавлению](#title)"
   ]
  }
 ],
 "metadata": {
  "ExecuteTimeLog": [
   {
    "duration": 1087,
    "start_time": "2022-09-14T01:55:04.040Z"
   },
   {
    "duration": 3,
    "start_time": "2022-09-14T01:55:05.130Z"
   },
   {
    "duration": 857,
    "start_time": "2022-09-14T01:55:05.134Z"
   },
   {
    "duration": 64,
    "start_time": "2022-09-14T01:55:05.993Z"
   },
   {
    "duration": 30,
    "start_time": "2022-09-14T01:55:06.058Z"
   },
   {
    "duration": 38,
    "start_time": "2022-09-14T01:55:06.089Z"
   },
   {
    "duration": 41,
    "start_time": "2022-09-14T01:55:06.128Z"
   },
   {
    "duration": 135,
    "start_time": "2022-09-14T01:55:06.171Z"
   },
   {
    "duration": 31,
    "start_time": "2022-09-14T01:55:06.308Z"
   },
   {
    "duration": 7,
    "start_time": "2022-09-14T01:55:06.342Z"
   },
   {
    "duration": 22,
    "start_time": "2022-09-14T01:55:06.350Z"
   },
   {
    "duration": 14,
    "start_time": "2022-09-14T01:55:06.374Z"
   },
   {
    "duration": 29,
    "start_time": "2022-09-14T01:55:06.390Z"
   },
   {
    "duration": 7,
    "start_time": "2022-09-14T01:55:06.420Z"
   },
   {
    "duration": 33,
    "start_time": "2022-09-14T01:55:06.428Z"
   },
   {
    "duration": 26,
    "start_time": "2022-09-14T01:55:06.462Z"
   },
   {
    "duration": 26,
    "start_time": "2022-09-14T01:55:06.490Z"
   },
   {
    "duration": 21,
    "start_time": "2022-09-14T01:55:06.517Z"
   },
   {
    "duration": 28,
    "start_time": "2022-09-14T01:55:06.540Z"
   },
   {
    "duration": 16,
    "start_time": "2022-09-14T01:55:06.570Z"
   },
   {
    "duration": 12,
    "start_time": "2022-09-14T01:55:06.588Z"
   },
   {
    "duration": 24,
    "start_time": "2022-09-14T01:55:06.601Z"
   },
   {
    "duration": 26,
    "start_time": "2022-09-14T01:55:06.626Z"
   },
   {
    "duration": 13,
    "start_time": "2022-09-14T01:55:06.654Z"
   },
   {
    "duration": 11,
    "start_time": "2022-09-14T01:55:06.668Z"
   },
   {
    "duration": 9,
    "start_time": "2022-09-14T01:55:06.680Z"
   },
   {
    "duration": 12,
    "start_time": "2022-09-14T01:55:06.691Z"
   },
   {
    "duration": 9,
    "start_time": "2022-09-14T01:55:06.707Z"
   },
   {
    "duration": 7,
    "start_time": "2022-09-14T01:55:06.718Z"
   },
   {
    "duration": 63,
    "start_time": "2022-09-14T01:55:06.726Z"
   },
   {
    "duration": 33,
    "start_time": "2022-09-14T01:55:06.791Z"
   },
   {
    "duration": 20,
    "start_time": "2022-09-14T01:55:06.826Z"
   },
   {
    "duration": 12,
    "start_time": "2022-09-14T01:55:06.848Z"
   },
   {
    "duration": 102,
    "start_time": "2022-09-14T01:55:06.862Z"
   },
   {
    "duration": 31,
    "start_time": "2022-09-14T01:55:06.965Z"
   },
   {
    "duration": 43,
    "start_time": "2022-09-14T01:55:06.997Z"
   },
   {
    "duration": 6,
    "start_time": "2022-09-14T01:55:07.041Z"
   },
   {
    "duration": 9,
    "start_time": "2022-09-14T01:55:07.048Z"
   },
   {
    "duration": 212,
    "start_time": "2022-09-14T01:55:07.058Z"
   },
   {
    "duration": 139,
    "start_time": "2022-09-14T01:55:07.272Z"
   },
   {
    "duration": 10,
    "start_time": "2022-09-14T01:55:07.412Z"
   },
   {
    "duration": 29,
    "start_time": "2022-09-14T01:55:07.423Z"
   },
   {
    "duration": 6,
    "start_time": "2022-09-14T01:55:07.454Z"
   },
   {
    "duration": 8,
    "start_time": "2022-09-14T01:55:07.461Z"
   },
   {
    "duration": 52,
    "start_time": "2022-09-14T01:55:07.470Z"
   },
   {
    "duration": 14,
    "start_time": "2022-09-14T01:55:07.523Z"
   },
   {
    "duration": 111,
    "start_time": "2022-09-14T01:55:07.538Z"
   },
   {
    "duration": 60,
    "start_time": "2022-09-14T01:55:07.651Z"
   },
   {
    "duration": 15,
    "start_time": "2022-09-14T01:55:07.713Z"
   },
   {
    "duration": 5,
    "start_time": "2022-09-14T01:55:07.729Z"
   },
   {
    "duration": 5,
    "start_time": "2022-09-14T01:55:07.735Z"
   },
   {
    "duration": 11,
    "start_time": "2022-09-14T01:55:07.741Z"
   },
   {
    "duration": 12,
    "start_time": "2022-09-14T01:55:07.754Z"
   },
   {
    "duration": 5,
    "start_time": "2022-09-14T01:55:07.768Z"
   },
   {
    "duration": 51,
    "start_time": "2022-09-14T01:55:07.774Z"
   },
   {
    "duration": 29,
    "start_time": "2022-09-14T01:55:07.827Z"
   },
   {
    "duration": 27,
    "start_time": "2022-09-14T01:55:07.858Z"
   },
   {
    "duration": 23,
    "start_time": "2022-09-14T01:55:07.887Z"
   },
   {
    "duration": 4,
    "start_time": "2022-09-14T01:55:07.912Z"
   },
   {
    "duration": 11,
    "start_time": "2022-09-14T01:55:07.918Z"
   },
   {
    "duration": 3,
    "start_time": "2022-09-14T01:55:07.931Z"
   },
   {
    "duration": 27,
    "start_time": "2022-09-14T01:55:07.936Z"
   },
   {
    "duration": 46,
    "start_time": "2022-09-14T01:55:07.964Z"
   },
   {
    "duration": 2,
    "start_time": "2022-09-14T01:55:08.012Z"
   },
   {
    "duration": 5,
    "start_time": "2022-09-14T01:55:08.016Z"
   },
   {
    "duration": 97,
    "start_time": "2022-09-14T01:55:08.022Z"
   },
   {
    "duration": 69,
    "start_time": "2022-09-14T01:55:08.121Z"
   },
   {
    "duration": 28,
    "start_time": "2022-09-14T01:55:08.192Z"
   },
   {
    "duration": 24,
    "start_time": "2022-09-14T01:55:08.221Z"
   },
   {
    "duration": 22,
    "start_time": "2022-09-14T01:55:08.247Z"
   },
   {
    "duration": 47,
    "start_time": "2022-09-14T01:55:08.271Z"
   },
   {
    "duration": 3,
    "start_time": "2022-09-14T01:55:08.319Z"
   },
   {
    "duration": 7,
    "start_time": "2022-09-14T01:55:08.324Z"
   },
   {
    "duration": 10,
    "start_time": "2022-09-14T01:55:08.332Z"
   },
   {
    "duration": 5,
    "start_time": "2022-09-14T01:55:08.343Z"
   },
   {
    "duration": 24,
    "start_time": "2022-09-14T01:55:08.350Z"
   },
   {
    "duration": 3,
    "start_time": "2022-09-14T01:55:08.375Z"
   },
   {
    "duration": 7,
    "start_time": "2022-09-14T01:55:08.379Z"
   },
   {
    "duration": 29,
    "start_time": "2022-09-14T01:55:08.387Z"
   },
   {
    "duration": 3,
    "start_time": "2022-09-14T01:55:08.417Z"
   },
   {
    "duration": 5,
    "start_time": "2022-09-14T01:55:08.422Z"
   },
   {
    "duration": 33,
    "start_time": "2022-09-14T01:55:08.433Z"
   },
   {
    "duration": 102,
    "start_time": "2022-09-14T01:55:08.468Z"
   },
   {
    "duration": 46,
    "start_time": "2022-09-14T01:55:08.572Z"
   },
   {
    "duration": 91,
    "start_time": "2022-09-14T01:55:08.620Z"
   },
   {
    "duration": 32,
    "start_time": "2022-09-14T01:55:08.712Z"
   },
   {
    "duration": 92,
    "start_time": "2022-09-14T01:55:08.745Z"
   },
   {
    "duration": 13,
    "start_time": "2022-09-14T01:55:08.838Z"
   },
   {
    "duration": 15,
    "start_time": "2022-09-14T01:55:08.852Z"
   },
   {
    "duration": 7,
    "start_time": "2022-09-14T01:55:08.868Z"
   },
   {
    "duration": 48,
    "start_time": "2022-09-14T01:55:08.876Z"
   },
   {
    "duration": 15,
    "start_time": "2022-09-14T01:55:08.926Z"
   },
   {
    "duration": 168,
    "start_time": "2022-09-14T01:55:08.942Z"
   },
   {
    "duration": 219,
    "start_time": "2022-09-14T01:55:09.112Z"
   },
   {
    "duration": 4,
    "start_time": "2022-09-14T01:55:09.333Z"
   },
   {
    "duration": 89,
    "start_time": "2022-09-14T01:55:09.338Z"
   },
   {
    "duration": 19,
    "start_time": "2022-09-14T01:55:09.429Z"
   },
   {
    "duration": 6,
    "start_time": "2022-09-14T01:55:09.449Z"
   },
   {
    "duration": 365,
    "start_time": "2022-09-14T01:55:09.456Z"
   },
   {
    "duration": 5,
    "start_time": "2022-09-14T01:55:09.823Z"
   },
   {
    "duration": 28,
    "start_time": "2022-09-14T01:55:09.829Z"
   },
   {
    "duration": 249,
    "start_time": "2022-09-14T01:55:09.859Z"
   },
   {
    "duration": 0,
    "start_time": "2022-09-14T01:55:10.109Z"
   },
   {
    "duration": 0,
    "start_time": "2022-09-14T01:55:10.110Z"
   },
   {
    "duration": 0,
    "start_time": "2022-09-14T01:55:10.111Z"
   },
   {
    "duration": 0,
    "start_time": "2022-09-14T01:55:10.112Z"
   },
   {
    "duration": 0,
    "start_time": "2022-09-14T01:55:10.113Z"
   },
   {
    "duration": 0,
    "start_time": "2022-09-14T01:55:10.113Z"
   },
   {
    "duration": 0,
    "start_time": "2022-09-14T01:55:10.114Z"
   },
   {
    "duration": 0,
    "start_time": "2022-09-14T01:55:10.115Z"
   },
   {
    "duration": 0,
    "start_time": "2022-09-14T01:55:10.116Z"
   },
   {
    "duration": 0,
    "start_time": "2022-09-14T01:55:10.116Z"
   },
   {
    "duration": 0,
    "start_time": "2022-09-14T01:55:10.117Z"
   },
   {
    "duration": 0,
    "start_time": "2022-09-14T01:55:10.118Z"
   },
   {
    "duration": 0,
    "start_time": "2022-09-14T01:55:10.118Z"
   },
   {
    "duration": 0,
    "start_time": "2022-09-14T01:55:10.119Z"
   },
   {
    "duration": 0,
    "start_time": "2022-09-14T01:55:10.120Z"
   },
   {
    "duration": 0,
    "start_time": "2022-09-14T01:55:10.121Z"
   },
   {
    "duration": 0,
    "start_time": "2022-09-14T01:55:10.122Z"
   },
   {
    "duration": 0,
    "start_time": "2022-09-14T01:55:10.122Z"
   },
   {
    "duration": 0,
    "start_time": "2022-09-14T01:55:10.123Z"
   },
   {
    "duration": 0,
    "start_time": "2022-09-14T01:55:10.124Z"
   },
   {
    "duration": 0,
    "start_time": "2022-09-14T01:55:10.125Z"
   },
   {
    "duration": 1436,
    "start_time": "2022-09-15T01:35:02.110Z"
   },
   {
    "duration": 3,
    "start_time": "2022-09-15T01:35:03.548Z"
   },
   {
    "duration": 1005,
    "start_time": "2022-09-15T01:35:03.553Z"
   },
   {
    "duration": 64,
    "start_time": "2022-09-15T01:35:04.560Z"
   },
   {
    "duration": 40,
    "start_time": "2022-09-15T01:35:04.625Z"
   },
   {
    "duration": 52,
    "start_time": "2022-09-15T01:35:04.668Z"
   },
   {
    "duration": 8,
    "start_time": "2022-09-15T01:35:04.722Z"
   },
   {
    "duration": 36,
    "start_time": "2022-09-15T01:35:04.732Z"
   },
   {
    "duration": 17,
    "start_time": "2022-09-15T01:35:04.769Z"
   },
   {
    "duration": 29,
    "start_time": "2022-09-15T01:35:04.789Z"
   },
   {
    "duration": 21,
    "start_time": "2022-09-15T01:35:04.819Z"
   },
   {
    "duration": 8,
    "start_time": "2022-09-15T01:35:04.842Z"
   },
   {
    "duration": 26,
    "start_time": "2022-09-15T01:35:04.852Z"
   },
   {
    "duration": 7,
    "start_time": "2022-09-15T01:35:04.880Z"
   },
   {
    "duration": 37,
    "start_time": "2022-09-15T01:35:04.889Z"
   },
   {
    "duration": 8,
    "start_time": "2022-09-15T01:35:04.928Z"
   },
   {
    "duration": 18,
    "start_time": "2022-09-15T01:35:04.938Z"
   },
   {
    "duration": 6,
    "start_time": "2022-09-15T01:35:04.958Z"
   },
   {
    "duration": 20,
    "start_time": "2022-09-15T01:35:04.966Z"
   },
   {
    "duration": 42,
    "start_time": "2022-09-15T01:35:04.988Z"
   },
   {
    "duration": 8,
    "start_time": "2022-09-15T01:35:05.033Z"
   },
   {
    "duration": 14,
    "start_time": "2022-09-15T01:35:05.044Z"
   },
   {
    "duration": 20,
    "start_time": "2022-09-15T01:35:05.060Z"
   },
   {
    "duration": 13,
    "start_time": "2022-09-15T01:35:05.081Z"
   },
   {
    "duration": 23,
    "start_time": "2022-09-15T01:35:05.096Z"
   },
   {
    "duration": 7,
    "start_time": "2022-09-15T01:35:05.120Z"
   },
   {
    "duration": 16,
    "start_time": "2022-09-15T01:35:05.128Z"
   },
   {
    "duration": 11,
    "start_time": "2022-09-15T01:35:05.149Z"
   },
   {
    "duration": 4,
    "start_time": "2022-09-15T01:35:05.162Z"
   },
   {
    "duration": 91,
    "start_time": "2022-09-15T01:35:05.167Z"
   },
   {
    "duration": 23,
    "start_time": "2022-09-15T01:35:05.260Z"
   },
   {
    "duration": 36,
    "start_time": "2022-09-15T01:35:05.284Z"
   },
   {
    "duration": 15,
    "start_time": "2022-09-15T01:35:05.321Z"
   },
   {
    "duration": 109,
    "start_time": "2022-09-15T01:35:05.338Z"
   },
   {
    "duration": 40,
    "start_time": "2022-09-15T01:35:05.448Z"
   },
   {
    "duration": 59,
    "start_time": "2022-09-15T01:35:05.489Z"
   },
   {
    "duration": 6,
    "start_time": "2022-09-15T01:35:05.550Z"
   },
   {
    "duration": 5,
    "start_time": "2022-09-15T01:35:05.558Z"
   },
   {
    "duration": 316,
    "start_time": "2022-09-15T01:35:05.565Z"
   },
   {
    "duration": 187,
    "start_time": "2022-09-15T01:35:05.883Z"
   },
   {
    "duration": 12,
    "start_time": "2022-09-15T01:35:06.071Z"
   },
   {
    "duration": 63,
    "start_time": "2022-09-15T01:35:06.085Z"
   },
   {
    "duration": 8,
    "start_time": "2022-09-15T01:35:06.150Z"
   },
   {
    "duration": 8,
    "start_time": "2022-09-15T01:35:06.159Z"
   },
   {
    "duration": 47,
    "start_time": "2022-09-15T01:35:06.169Z"
   },
   {
    "duration": 15,
    "start_time": "2022-09-15T01:35:06.218Z"
   },
   {
    "duration": 144,
    "start_time": "2022-09-15T01:35:06.235Z"
   },
   {
    "duration": 64,
    "start_time": "2022-09-15T01:35:06.381Z"
   },
   {
    "duration": 19,
    "start_time": "2022-09-15T01:35:06.447Z"
   },
   {
    "duration": 4,
    "start_time": "2022-09-15T01:35:06.468Z"
   },
   {
    "duration": 23,
    "start_time": "2022-09-15T01:35:06.516Z"
   },
   {
    "duration": 40,
    "start_time": "2022-09-15T01:35:06.541Z"
   },
   {
    "duration": 3,
    "start_time": "2022-09-15T01:35:06.583Z"
   },
   {
    "duration": 6,
    "start_time": "2022-09-15T01:35:06.588Z"
   },
   {
    "duration": 23,
    "start_time": "2022-09-15T01:35:06.595Z"
   },
   {
    "duration": 19,
    "start_time": "2022-09-15T01:35:06.620Z"
   },
   {
    "duration": 20,
    "start_time": "2022-09-15T01:35:06.641Z"
   },
   {
    "duration": 4,
    "start_time": "2022-09-15T01:35:06.663Z"
   },
   {
    "duration": 8,
    "start_time": "2022-09-15T01:35:06.668Z"
   },
   {
    "duration": 7,
    "start_time": "2022-09-15T01:35:06.677Z"
   },
   {
    "duration": 37,
    "start_time": "2022-09-15T01:35:06.686Z"
   },
   {
    "duration": 15,
    "start_time": "2022-09-15T01:35:06.725Z"
   },
   {
    "duration": 22,
    "start_time": "2022-09-15T01:35:06.742Z"
   },
   {
    "duration": 3,
    "start_time": "2022-09-15T01:35:06.766Z"
   },
   {
    "duration": 7,
    "start_time": "2022-09-15T01:35:06.771Z"
   },
   {
    "duration": 6,
    "start_time": "2022-09-15T01:35:06.780Z"
   },
   {
    "duration": 40,
    "start_time": "2022-09-15T01:35:06.788Z"
   },
   {
    "duration": 3,
    "start_time": "2022-09-15T01:35:06.830Z"
   },
   {
    "duration": 15,
    "start_time": "2022-09-15T01:35:06.835Z"
   },
   {
    "duration": 6,
    "start_time": "2022-09-15T01:35:06.851Z"
   },
   {
    "duration": 31,
    "start_time": "2022-09-15T01:35:06.858Z"
   },
   {
    "duration": 31,
    "start_time": "2022-09-15T01:35:06.891Z"
   },
   {
    "duration": 13,
    "start_time": "2022-09-15T01:35:06.924Z"
   },
   {
    "duration": 14,
    "start_time": "2022-09-15T01:35:06.939Z"
   },
   {
    "duration": 17,
    "start_time": "2022-09-15T01:35:06.954Z"
   },
   {
    "duration": 13,
    "start_time": "2022-09-15T01:35:06.972Z"
   },
   {
    "duration": 4,
    "start_time": "2022-09-15T01:35:06.986Z"
   },
   {
    "duration": 42,
    "start_time": "2022-09-15T01:35:06.992Z"
   },
   {
    "duration": 15,
    "start_time": "2022-09-15T01:35:07.036Z"
   },
   {
    "duration": 5,
    "start_time": "2022-09-15T01:35:07.053Z"
   },
   {
    "duration": 6,
    "start_time": "2022-09-15T01:35:07.060Z"
   },
   {
    "duration": 11,
    "start_time": "2022-09-15T01:35:07.071Z"
   },
   {
    "duration": 35,
    "start_time": "2022-09-15T01:35:07.083Z"
   },
   {
    "duration": 11,
    "start_time": "2022-09-15T01:35:07.120Z"
   },
   {
    "duration": 5,
    "start_time": "2022-09-15T01:35:07.133Z"
   },
   {
    "duration": 34,
    "start_time": "2022-09-15T01:35:07.139Z"
   },
   {
    "duration": 51,
    "start_time": "2022-09-15T01:35:07.175Z"
   },
   {
    "duration": 44,
    "start_time": "2022-09-15T01:35:07.228Z"
   },
   {
    "duration": 305,
    "start_time": "2022-09-15T01:35:07.274Z"
   },
   {
    "duration": 185,
    "start_time": "2022-09-15T01:35:07.581Z"
   },
   {
    "duration": 4,
    "start_time": "2022-09-15T01:35:07.768Z"
   },
   {
    "duration": 13,
    "start_time": "2022-09-15T01:35:07.774Z"
   },
   {
    "duration": 7,
    "start_time": "2022-09-15T01:35:07.789Z"
   },
   {
    "duration": 11,
    "start_time": "2022-09-15T01:35:07.797Z"
   },
   {
    "duration": 1459,
    "start_time": "2022-09-15T01:35:07.817Z"
   },
   {
    "duration": 334,
    "start_time": "2022-09-15T01:35:09.278Z"
   },
   {
    "duration": 364,
    "start_time": "2022-09-15T01:35:09.613Z"
   },
   {
    "duration": 330,
    "start_time": "2022-09-15T01:35:09.978Z"
   },
   {
    "duration": 33,
    "start_time": "2022-09-15T01:35:10.310Z"
   },
   {
    "duration": 4,
    "start_time": "2022-09-15T01:35:10.344Z"
   },
   {
    "duration": 28,
    "start_time": "2022-09-15T01:35:10.350Z"
   },
   {
    "duration": 4,
    "start_time": "2022-09-15T01:35:10.380Z"
   },
   {
    "duration": 34,
    "start_time": "2022-09-15T01:35:10.385Z"
   },
   {
    "duration": 12,
    "start_time": "2022-09-15T01:35:10.421Z"
   },
   {
    "duration": 301,
    "start_time": "2022-09-15T01:35:10.435Z"
   },
   {
    "duration": 12,
    "start_time": "2022-09-15T01:35:10.737Z"
   },
   {
    "duration": 307,
    "start_time": "2022-09-15T01:35:10.750Z"
   },
   {
    "duration": 12,
    "start_time": "2022-09-15T01:35:11.058Z"
   },
   {
    "duration": 310,
    "start_time": "2022-09-15T01:35:11.072Z"
   },
   {
    "duration": 1168,
    "start_time": "2022-09-15T15:12:34.135Z"
   },
   {
    "duration": 5,
    "start_time": "2022-09-15T15:12:35.304Z"
   },
   {
    "duration": 975,
    "start_time": "2022-09-15T15:12:35.310Z"
   },
   {
    "duration": 65,
    "start_time": "2022-09-15T15:12:36.287Z"
   },
   {
    "duration": 30,
    "start_time": "2022-09-15T15:12:36.353Z"
   },
   {
    "duration": 41,
    "start_time": "2022-09-15T15:12:36.385Z"
   },
   {
    "duration": 7,
    "start_time": "2022-09-15T15:12:36.428Z"
   },
   {
    "duration": 32,
    "start_time": "2022-09-15T15:12:36.437Z"
   },
   {
    "duration": 16,
    "start_time": "2022-09-15T15:12:36.471Z"
   },
   {
    "duration": 9,
    "start_time": "2022-09-15T15:12:36.510Z"
   },
   {
    "duration": 20,
    "start_time": "2022-09-15T15:12:36.521Z"
   },
   {
    "duration": 9,
    "start_time": "2022-09-15T15:12:36.543Z"
   },
   {
    "duration": 23,
    "start_time": "2022-09-15T15:12:36.554Z"
   },
   {
    "duration": 6,
    "start_time": "2022-09-15T15:12:36.579Z"
   },
   {
    "duration": 15,
    "start_time": "2022-09-15T15:12:36.609Z"
   },
   {
    "duration": 7,
    "start_time": "2022-09-15T15:12:36.625Z"
   },
   {
    "duration": 20,
    "start_time": "2022-09-15T15:12:36.633Z"
   },
   {
    "duration": 6,
    "start_time": "2022-09-15T15:12:36.654Z"
   },
   {
    "duration": 25,
    "start_time": "2022-09-15T15:12:36.661Z"
   },
   {
    "duration": 31,
    "start_time": "2022-09-15T15:12:36.688Z"
   },
   {
    "duration": 6,
    "start_time": "2022-09-15T15:12:36.721Z"
   },
   {
    "duration": 11,
    "start_time": "2022-09-15T15:12:36.728Z"
   },
   {
    "duration": 10,
    "start_time": "2022-09-15T15:12:36.740Z"
   },
   {
    "duration": 8,
    "start_time": "2022-09-15T15:12:36.751Z"
   },
   {
    "duration": 5,
    "start_time": "2022-09-15T15:12:36.761Z"
   },
   {
    "duration": 5,
    "start_time": "2022-09-15T15:12:36.768Z"
   },
   {
    "duration": 14,
    "start_time": "2022-09-15T15:12:36.774Z"
   },
   {
    "duration": 10,
    "start_time": "2022-09-15T15:12:36.809Z"
   },
   {
    "duration": 4,
    "start_time": "2022-09-15T15:12:36.820Z"
   },
   {
    "duration": 63,
    "start_time": "2022-09-15T15:12:36.826Z"
   },
   {
    "duration": 37,
    "start_time": "2022-09-15T15:12:36.890Z"
   },
   {
    "duration": 19,
    "start_time": "2022-09-15T15:12:36.928Z"
   },
   {
    "duration": 12,
    "start_time": "2022-09-15T15:12:36.949Z"
   },
   {
    "duration": 97,
    "start_time": "2022-09-15T15:12:36.963Z"
   },
   {
    "duration": 29,
    "start_time": "2022-09-15T15:12:37.062Z"
   },
   {
    "duration": 41,
    "start_time": "2022-09-15T15:12:37.093Z"
   },
   {
    "duration": 6,
    "start_time": "2022-09-15T15:12:37.135Z"
   },
   {
    "duration": 5,
    "start_time": "2022-09-15T15:12:37.142Z"
   },
   {
    "duration": 237,
    "start_time": "2022-09-15T15:12:37.148Z"
   },
   {
    "duration": 138,
    "start_time": "2022-09-15T15:12:37.386Z"
   },
   {
    "duration": 10,
    "start_time": "2022-09-15T15:12:37.525Z"
   },
   {
    "duration": 33,
    "start_time": "2022-09-15T15:12:37.536Z"
   },
   {
    "duration": 40,
    "start_time": "2022-09-15T15:12:37.570Z"
   },
   {
    "duration": 7,
    "start_time": "2022-09-15T15:12:37.611Z"
   },
   {
    "duration": 13,
    "start_time": "2022-09-15T15:12:37.619Z"
   },
   {
    "duration": 13,
    "start_time": "2022-09-15T15:12:37.634Z"
   },
   {
    "duration": 109,
    "start_time": "2022-09-15T15:12:37.648Z"
   },
   {
    "duration": 57,
    "start_time": "2022-09-15T15:12:37.759Z"
   },
   {
    "duration": 15,
    "start_time": "2022-09-15T15:12:37.818Z"
   },
   {
    "duration": 5,
    "start_time": "2022-09-15T15:12:37.834Z"
   },
   {
    "duration": 14,
    "start_time": "2022-09-15T15:12:37.841Z"
   },
   {
    "duration": 70,
    "start_time": "2022-09-15T15:12:37.857Z"
   },
   {
    "duration": 5,
    "start_time": "2022-09-15T15:12:37.929Z"
   },
   {
    "duration": 5,
    "start_time": "2022-09-15T15:12:37.935Z"
   },
   {
    "duration": 4,
    "start_time": "2022-09-15T15:12:37.942Z"
   },
   {
    "duration": 11,
    "start_time": "2022-09-15T15:12:37.947Z"
   },
   {
    "duration": 17,
    "start_time": "2022-09-15T15:12:37.960Z"
   },
   {
    "duration": 32,
    "start_time": "2022-09-15T15:12:37.979Z"
   },
   {
    "duration": 5,
    "start_time": "2022-09-15T15:12:38.013Z"
   },
   {
    "duration": 5,
    "start_time": "2022-09-15T15:12:38.020Z"
   },
   {
    "duration": 14,
    "start_time": "2022-09-15T15:12:38.026Z"
   },
   {
    "duration": 13,
    "start_time": "2022-09-15T15:12:38.042Z"
   },
   {
    "duration": 20,
    "start_time": "2022-09-15T15:12:38.056Z"
   },
   {
    "duration": 3,
    "start_time": "2022-09-15T15:12:38.078Z"
   },
   {
    "duration": 27,
    "start_time": "2022-09-15T15:12:38.082Z"
   },
   {
    "duration": 7,
    "start_time": "2022-09-15T15:12:38.110Z"
   },
   {
    "duration": 16,
    "start_time": "2022-09-15T15:12:38.118Z"
   },
   {
    "duration": 2,
    "start_time": "2022-09-15T15:12:38.135Z"
   },
   {
    "duration": 14,
    "start_time": "2022-09-15T15:12:38.139Z"
   },
   {
    "duration": 4,
    "start_time": "2022-09-15T15:12:38.155Z"
   },
   {
    "duration": 20,
    "start_time": "2022-09-15T15:12:38.160Z"
   },
   {
    "duration": 33,
    "start_time": "2022-09-15T15:12:38.182Z"
   },
   {
    "duration": 12,
    "start_time": "2022-09-15T15:12:38.216Z"
   },
   {
    "duration": 12,
    "start_time": "2022-09-15T15:12:38.230Z"
   },
   {
    "duration": 12,
    "start_time": "2022-09-15T15:12:38.244Z"
   },
   {
    "duration": 6,
    "start_time": "2022-09-15T15:12:38.258Z"
   },
   {
    "duration": 4,
    "start_time": "2022-09-15T15:12:38.265Z"
   },
   {
    "duration": 51,
    "start_time": "2022-09-15T15:12:38.271Z"
   },
   {
    "duration": 14,
    "start_time": "2022-09-15T15:12:38.324Z"
   },
   {
    "duration": 6,
    "start_time": "2022-09-15T15:12:38.340Z"
   },
   {
    "duration": 5,
    "start_time": "2022-09-15T15:12:38.348Z"
   },
   {
    "duration": 10,
    "start_time": "2022-09-15T15:12:38.358Z"
   },
   {
    "duration": 41,
    "start_time": "2022-09-15T15:12:38.370Z"
   },
   {
    "duration": 10,
    "start_time": "2022-09-15T15:12:38.412Z"
   },
   {
    "duration": 4,
    "start_time": "2022-09-15T15:12:38.423Z"
   },
   {
    "duration": 29,
    "start_time": "2022-09-15T15:12:38.428Z"
   },
   {
    "duration": 23,
    "start_time": "2022-09-15T15:12:38.458Z"
   },
   {
    "duration": 50,
    "start_time": "2022-09-15T15:12:38.482Z"
   },
   {
    "duration": 269,
    "start_time": "2022-09-15T15:12:38.533Z"
   },
   {
    "duration": 149,
    "start_time": "2022-09-15T15:12:38.804Z"
   },
   {
    "duration": 4,
    "start_time": "2022-09-15T15:12:38.955Z"
   },
   {
    "duration": 7,
    "start_time": "2022-09-15T15:12:38.960Z"
   },
   {
    "duration": 6,
    "start_time": "2022-09-15T15:12:38.969Z"
   },
   {
    "duration": 8,
    "start_time": "2022-09-15T15:12:38.976Z"
   },
   {
    "duration": 1278,
    "start_time": "2022-09-15T15:12:38.985Z"
   },
   {
    "duration": 282,
    "start_time": "2022-09-15T15:12:40.265Z"
   },
   {
    "duration": 310,
    "start_time": "2022-09-15T15:12:40.549Z"
   },
   {
    "duration": 279,
    "start_time": "2022-09-15T15:12:40.861Z"
   },
   {
    "duration": 23,
    "start_time": "2022-09-15T15:12:41.142Z"
   },
   {
    "duration": 6,
    "start_time": "2022-09-15T15:12:41.167Z"
   },
   {
    "duration": 34,
    "start_time": "2022-09-15T15:12:41.175Z"
   },
   {
    "duration": 3,
    "start_time": "2022-09-15T15:12:41.211Z"
   },
   {
    "duration": 12,
    "start_time": "2022-09-15T15:12:41.216Z"
   },
   {
    "duration": 10,
    "start_time": "2022-09-15T15:12:41.230Z"
   },
   {
    "duration": 277,
    "start_time": "2022-09-15T15:12:41.241Z"
   },
   {
    "duration": 10,
    "start_time": "2022-09-15T15:12:41.519Z"
   },
   {
    "duration": 281,
    "start_time": "2022-09-15T15:12:41.531Z"
   },
   {
    "duration": 11,
    "start_time": "2022-09-15T15:12:41.813Z"
   },
   {
    "duration": 270,
    "start_time": "2022-09-15T15:12:41.825Z"
   },
   {
    "duration": 1277,
    "start_time": "2022-09-15T20:17:32.996Z"
   },
   {
    "duration": 3,
    "start_time": "2022-09-15T20:17:34.275Z"
   },
   {
    "duration": 1464,
    "start_time": "2022-09-15T20:17:34.279Z"
   },
   {
    "duration": 70,
    "start_time": "2022-09-15T20:17:35.745Z"
   },
   {
    "duration": 36,
    "start_time": "2022-09-15T20:17:35.816Z"
   },
   {
    "duration": 51,
    "start_time": "2022-09-15T20:17:35.853Z"
   },
   {
    "duration": 8,
    "start_time": "2022-09-15T20:17:35.906Z"
   },
   {
    "duration": 45,
    "start_time": "2022-09-15T20:17:35.916Z"
   },
   {
    "duration": 25,
    "start_time": "2022-09-15T20:17:35.978Z"
   },
   {
    "duration": 11,
    "start_time": "2022-09-15T20:17:36.007Z"
   },
   {
    "duration": 26,
    "start_time": "2022-09-15T20:17:36.020Z"
   },
   {
    "duration": 7,
    "start_time": "2022-09-15T20:17:36.048Z"
   },
   {
    "duration": 52,
    "start_time": "2022-09-15T20:17:36.057Z"
   },
   {
    "duration": 7,
    "start_time": "2022-09-15T20:17:36.111Z"
   },
   {
    "duration": 22,
    "start_time": "2022-09-15T20:17:36.120Z"
   },
   {
    "duration": 11,
    "start_time": "2022-09-15T20:17:36.144Z"
   },
   {
    "duration": 17,
    "start_time": "2022-09-15T20:17:36.178Z"
   },
   {
    "duration": 17,
    "start_time": "2022-09-15T20:17:36.196Z"
   },
   {
    "duration": 32,
    "start_time": "2022-09-15T20:17:36.215Z"
   },
   {
    "duration": 29,
    "start_time": "2022-09-15T20:17:36.248Z"
   },
   {
    "duration": 9,
    "start_time": "2022-09-15T20:17:36.279Z"
   },
   {
    "duration": 12,
    "start_time": "2022-09-15T20:17:36.289Z"
   },
   {
    "duration": 21,
    "start_time": "2022-09-15T20:17:36.302Z"
   },
   {
    "duration": 6,
    "start_time": "2022-09-15T20:17:36.324Z"
   },
   {
    "duration": 6,
    "start_time": "2022-09-15T20:17:36.331Z"
   },
   {
    "duration": 6,
    "start_time": "2022-09-15T20:17:36.338Z"
   },
   {
    "duration": 33,
    "start_time": "2022-09-15T20:17:36.345Z"
   },
   {
    "duration": 10,
    "start_time": "2022-09-15T20:17:36.382Z"
   },
   {
    "duration": 7,
    "start_time": "2022-09-15T20:17:36.394Z"
   },
   {
    "duration": 87,
    "start_time": "2022-09-15T20:17:36.403Z"
   },
   {
    "duration": 26,
    "start_time": "2022-09-15T20:17:36.492Z"
   },
   {
    "duration": 19,
    "start_time": "2022-09-15T20:17:36.519Z"
   },
   {
    "duration": 14,
    "start_time": "2022-09-15T20:17:36.539Z"
   },
   {
    "duration": 108,
    "start_time": "2022-09-15T20:17:36.554Z"
   },
   {
    "duration": 55,
    "start_time": "2022-09-15T20:17:36.664Z"
   },
   {
    "duration": 36,
    "start_time": "2022-09-15T20:17:36.721Z"
   },
   {
    "duration": 22,
    "start_time": "2022-09-15T20:17:36.759Z"
   },
   {
    "duration": 4,
    "start_time": "2022-09-15T20:17:36.783Z"
   },
   {
    "duration": 291,
    "start_time": "2022-09-15T20:17:36.788Z"
   },
   {
    "duration": 151,
    "start_time": "2022-09-15T20:17:37.080Z"
   },
   {
    "duration": 13,
    "start_time": "2022-09-15T20:17:37.233Z"
   },
   {
    "duration": 59,
    "start_time": "2022-09-15T20:17:37.247Z"
   },
   {
    "duration": 7,
    "start_time": "2022-09-15T20:17:37.308Z"
   },
   {
    "duration": 7,
    "start_time": "2022-09-15T20:17:37.317Z"
   },
   {
    "duration": 15,
    "start_time": "2022-09-15T20:17:37.326Z"
   },
   {
    "duration": 15,
    "start_time": "2022-09-15T20:17:37.377Z"
   },
   {
    "duration": 126,
    "start_time": "2022-09-15T20:17:37.393Z"
   },
   {
    "duration": 69,
    "start_time": "2022-09-15T20:17:37.520Z"
   },
   {
    "duration": 17,
    "start_time": "2022-09-15T20:17:37.590Z"
   },
   {
    "duration": 10,
    "start_time": "2022-09-15T20:17:37.608Z"
   },
   {
    "duration": 25,
    "start_time": "2022-09-15T20:17:37.620Z"
   },
   {
    "duration": 65,
    "start_time": "2022-09-15T20:17:37.648Z"
   },
   {
    "duration": 5,
    "start_time": "2022-09-15T20:17:37.716Z"
   },
   {
    "duration": 8,
    "start_time": "2022-09-15T20:17:37.723Z"
   },
   {
    "duration": 8,
    "start_time": "2022-09-15T20:17:37.735Z"
   },
   {
    "duration": 32,
    "start_time": "2022-09-15T20:17:37.745Z"
   },
   {
    "duration": 24,
    "start_time": "2022-09-15T20:17:37.779Z"
   },
   {
    "duration": 4,
    "start_time": "2022-09-15T20:17:37.805Z"
   },
   {
    "duration": 17,
    "start_time": "2022-09-15T20:17:37.811Z"
   },
   {
    "duration": 16,
    "start_time": "2022-09-15T20:17:37.830Z"
   },
   {
    "duration": 47,
    "start_time": "2022-09-15T20:17:37.848Z"
   },
   {
    "duration": 26,
    "start_time": "2022-09-15T20:17:37.897Z"
   },
   {
    "duration": 24,
    "start_time": "2022-09-15T20:17:37.925Z"
   },
   {
    "duration": 7,
    "start_time": "2022-09-15T20:17:37.951Z"
   },
   {
    "duration": 18,
    "start_time": "2022-09-15T20:17:37.960Z"
   },
   {
    "duration": 14,
    "start_time": "2022-09-15T20:17:37.980Z"
   },
   {
    "duration": 23,
    "start_time": "2022-09-15T20:17:37.996Z"
   },
   {
    "duration": 3,
    "start_time": "2022-09-15T20:17:38.021Z"
   },
   {
    "duration": 13,
    "start_time": "2022-09-15T20:17:38.026Z"
   },
   {
    "duration": 6,
    "start_time": "2022-09-15T20:17:38.041Z"
   },
   {
    "duration": 38,
    "start_time": "2022-09-15T20:17:38.048Z"
   },
   {
    "duration": 19,
    "start_time": "2022-09-15T20:17:38.088Z"
   },
   {
    "duration": 13,
    "start_time": "2022-09-15T20:17:38.109Z"
   },
   {
    "duration": 15,
    "start_time": "2022-09-15T20:17:38.124Z"
   },
   {
    "duration": 41,
    "start_time": "2022-09-15T20:17:38.141Z"
   },
   {
    "duration": 9,
    "start_time": "2022-09-15T20:17:38.184Z"
   },
   {
    "duration": 6,
    "start_time": "2022-09-15T20:17:38.194Z"
   },
   {
    "duration": 30,
    "start_time": "2022-09-15T20:17:38.201Z"
   },
   {
    "duration": 16,
    "start_time": "2022-09-15T20:17:38.233Z"
   },
   {
    "duration": 30,
    "start_time": "2022-09-15T20:17:38.250Z"
   },
   {
    "duration": 6,
    "start_time": "2022-09-15T20:17:38.282Z"
   },
   {
    "duration": 12,
    "start_time": "2022-09-15T20:17:38.293Z"
   },
   {
    "duration": 12,
    "start_time": "2022-09-15T20:17:38.307Z"
   },
   {
    "duration": 12,
    "start_time": "2022-09-15T20:17:38.321Z"
   },
   {
    "duration": 4,
    "start_time": "2022-09-15T20:17:38.335Z"
   },
   {
    "duration": 44,
    "start_time": "2022-09-15T20:17:38.341Z"
   },
   {
    "duration": 32,
    "start_time": "2022-09-15T20:17:38.386Z"
   },
   {
    "duration": 58,
    "start_time": "2022-09-15T20:17:38.420Z"
   },
   {
    "duration": 47,
    "start_time": "2022-09-15T20:17:38.480Z"
   },
   {
    "duration": 298,
    "start_time": "2022-09-15T20:17:38.529Z"
   },
   {
    "duration": 171,
    "start_time": "2022-09-15T20:17:38.828Z"
   },
   {
    "duration": 4,
    "start_time": "2022-09-15T20:17:39.001Z"
   },
   {
    "duration": 16,
    "start_time": "2022-09-15T20:17:39.006Z"
   },
   {
    "duration": 5,
    "start_time": "2022-09-15T20:17:39.023Z"
   },
   {
    "duration": 8,
    "start_time": "2022-09-15T20:17:39.029Z"
   },
   {
    "duration": 1333,
    "start_time": "2022-09-15T20:17:39.038Z"
   },
   {
    "duration": 311,
    "start_time": "2022-09-15T20:17:40.373Z"
   },
   {
    "duration": 337,
    "start_time": "2022-09-15T20:17:40.685Z"
   },
   {
    "duration": 331,
    "start_time": "2022-09-15T20:17:41.024Z"
   },
   {
    "duration": 37,
    "start_time": "2022-09-15T20:17:41.357Z"
   },
   {
    "duration": 4,
    "start_time": "2022-09-15T20:17:41.395Z"
   },
   {
    "duration": 7,
    "start_time": "2022-09-15T20:17:41.401Z"
   },
   {
    "duration": 69,
    "start_time": "2022-09-15T20:17:41.409Z"
   },
   {
    "duration": 7,
    "start_time": "2022-09-15T20:17:41.480Z"
   },
   {
    "duration": 400,
    "start_time": "2022-09-15T20:17:41.489Z"
   },
   {
    "duration": 222,
    "start_time": "2022-09-15T20:17:41.890Z"
   },
   {
    "duration": 7,
    "start_time": "2022-09-15T20:17:42.113Z"
   },
   {
    "duration": 367,
    "start_time": "2022-09-15T20:17:42.122Z"
   },
   {
    "duration": 32,
    "start_time": "2022-09-15T20:17:42.490Z"
   },
   {
    "duration": 258,
    "start_time": "2022-09-15T20:17:42.524Z"
   },
   {
    "duration": 10,
    "start_time": "2022-09-15T20:17:42.784Z"
   },
   {
    "duration": 431,
    "start_time": "2022-09-15T20:17:42.796Z"
   },
   {
    "duration": 3,
    "start_time": "2022-09-18T14:09:18.816Z"
   },
   {
    "duration": 1312,
    "start_time": "2022-09-18T14:09:25.989Z"
   },
   {
    "duration": 7,
    "start_time": "2022-09-18T14:09:27.302Z"
   },
   {
    "duration": 200,
    "start_time": "2022-09-18T14:09:27.310Z"
   },
   {
    "duration": 12,
    "start_time": "2022-09-18T14:09:27.512Z"
   },
   {
    "duration": 23,
    "start_time": "2022-09-18T14:09:27.525Z"
   },
   {
    "duration": 14,
    "start_time": "2022-09-18T14:09:27.549Z"
   },
   {
    "duration": 12,
    "start_time": "2022-09-18T14:09:27.565Z"
   },
   {
    "duration": 7,
    "start_time": "2022-09-18T14:09:27.579Z"
   },
   {
    "duration": 14,
    "start_time": "2022-09-18T14:09:27.588Z"
   },
   {
    "duration": 58,
    "start_time": "2022-09-18T14:09:27.604Z"
   },
   {
    "duration": 3,
    "start_time": "2022-09-18T14:09:27.664Z"
   },
   {
    "duration": 15,
    "start_time": "2022-09-18T14:09:27.669Z"
   },
   {
    "duration": 23,
    "start_time": "2022-09-18T14:09:27.685Z"
   },
   {
    "duration": 15,
    "start_time": "2022-09-18T14:09:27.709Z"
   },
   {
    "duration": 10,
    "start_time": "2022-09-18T14:09:27.726Z"
   },
   {
    "duration": 26,
    "start_time": "2022-09-18T14:09:27.737Z"
   },
   {
    "duration": 9,
    "start_time": "2022-09-18T14:09:27.765Z"
   },
   {
    "duration": 5,
    "start_time": "2022-09-18T14:09:27.775Z"
   },
   {
    "duration": 7,
    "start_time": "2022-09-18T14:09:27.781Z"
   },
   {
    "duration": 14,
    "start_time": "2022-09-18T14:09:27.789Z"
   },
   {
    "duration": 13,
    "start_time": "2022-09-18T14:09:27.804Z"
   },
   {
    "duration": 5,
    "start_time": "2022-09-18T14:09:27.818Z"
   },
   {
    "duration": 9,
    "start_time": "2022-09-18T14:09:27.824Z"
   },
   {
    "duration": 4,
    "start_time": "2022-09-18T14:09:27.834Z"
   },
   {
    "duration": 28,
    "start_time": "2022-09-18T14:09:27.839Z"
   },
   {
    "duration": 48,
    "start_time": "2022-09-18T14:09:27.869Z"
   },
   {
    "duration": 5,
    "start_time": "2022-09-18T14:09:27.918Z"
   },
   {
    "duration": 5,
    "start_time": "2022-09-18T14:09:27.926Z"
   },
   {
    "duration": 14,
    "start_time": "2022-09-18T14:09:27.932Z"
   },
   {
    "duration": 2,
    "start_time": "2022-09-18T14:09:27.947Z"
   },
   {
    "duration": 130,
    "start_time": "2022-09-18T14:09:31.970Z"
   },
   {
    "duration": 1039,
    "start_time": "2022-09-18T14:10:42.055Z"
   },
   {
    "duration": 3,
    "start_time": "2022-09-18T14:10:43.096Z"
   },
   {
    "duration": 98,
    "start_time": "2022-09-18T14:10:43.100Z"
   },
   {
    "duration": 11,
    "start_time": "2022-09-18T14:10:43.200Z"
   },
   {
    "duration": 11,
    "start_time": "2022-09-18T14:10:43.212Z"
   },
   {
    "duration": 9,
    "start_time": "2022-09-18T14:10:43.224Z"
   },
   {
    "duration": 12,
    "start_time": "2022-09-18T14:10:43.235Z"
   },
   {
    "duration": 6,
    "start_time": "2022-09-18T14:10:43.249Z"
   },
   {
    "duration": 6,
    "start_time": "2022-09-18T14:10:43.256Z"
   },
   {
    "duration": 75,
    "start_time": "2022-09-18T14:10:43.264Z"
   },
   {
    "duration": 4,
    "start_time": "2022-09-18T14:10:43.341Z"
   },
   {
    "duration": 18,
    "start_time": "2022-09-18T14:10:43.346Z"
   },
   {
    "duration": 11,
    "start_time": "2022-09-18T14:10:43.366Z"
   },
   {
    "duration": 9,
    "start_time": "2022-09-18T14:10:43.379Z"
   },
   {
    "duration": 20,
    "start_time": "2022-09-18T14:10:43.390Z"
   },
   {
    "duration": 6,
    "start_time": "2022-09-18T14:10:43.412Z"
   },
   {
    "duration": 10,
    "start_time": "2022-09-18T14:10:43.420Z"
   },
   {
    "duration": 6,
    "start_time": "2022-09-18T14:10:43.431Z"
   },
   {
    "duration": 4,
    "start_time": "2022-09-18T14:10:43.438Z"
   },
   {
    "duration": 17,
    "start_time": "2022-09-18T14:10:43.444Z"
   },
   {
    "duration": 13,
    "start_time": "2022-09-18T14:10:43.462Z"
   },
   {
    "duration": 5,
    "start_time": "2022-09-18T14:10:43.477Z"
   },
   {
    "duration": 28,
    "start_time": "2022-09-18T14:10:43.484Z"
   },
   {
    "duration": 3,
    "start_time": "2022-09-18T14:10:43.514Z"
   },
   {
    "duration": 25,
    "start_time": "2022-09-18T14:10:43.519Z"
   },
   {
    "duration": 14,
    "start_time": "2022-09-18T14:10:43.545Z"
   },
   {
    "duration": 4,
    "start_time": "2022-09-18T14:10:43.561Z"
   },
   {
    "duration": 3,
    "start_time": "2022-09-18T14:10:43.610Z"
   },
   {
    "duration": 12,
    "start_time": "2022-09-18T14:10:43.615Z"
   },
   {
    "duration": 166,
    "start_time": "2022-09-18T14:10:43.628Z"
   },
   {
    "duration": 11,
    "start_time": "2022-09-18T14:10:52.766Z"
   },
   {
    "duration": 4,
    "start_time": "2022-09-18T14:12:12.683Z"
   },
   {
    "duration": 135,
    "start_time": "2022-09-18T14:12:21.256Z"
   },
   {
    "duration": 28,
    "start_time": "2022-09-18T14:12:42.862Z"
   },
   {
    "duration": 1182,
    "start_time": "2022-09-18T14:12:54.003Z"
   },
   {
    "duration": 4,
    "start_time": "2022-09-18T14:12:55.186Z"
   },
   {
    "duration": 168,
    "start_time": "2022-09-18T14:12:55.191Z"
   },
   {
    "duration": 11,
    "start_time": "2022-09-18T14:12:55.361Z"
   },
   {
    "duration": 11,
    "start_time": "2022-09-18T14:12:55.374Z"
   },
   {
    "duration": 12,
    "start_time": "2022-09-18T14:12:55.386Z"
   },
   {
    "duration": 11,
    "start_time": "2022-09-18T14:12:55.400Z"
   },
   {
    "duration": 7,
    "start_time": "2022-09-18T14:12:55.413Z"
   },
   {
    "duration": 6,
    "start_time": "2022-09-18T14:12:55.422Z"
   },
   {
    "duration": 48,
    "start_time": "2022-09-18T14:12:55.431Z"
   },
   {
    "duration": 4,
    "start_time": "2022-09-18T14:12:55.480Z"
   },
   {
    "duration": 13,
    "start_time": "2022-09-18T14:12:55.509Z"
   },
   {
    "duration": 10,
    "start_time": "2022-09-18T14:12:55.523Z"
   },
   {
    "duration": 13,
    "start_time": "2022-09-18T14:12:55.535Z"
   },
   {
    "duration": 4,
    "start_time": "2022-09-18T14:12:55.549Z"
   },
   {
    "duration": 6,
    "start_time": "2022-09-18T14:12:55.554Z"
   },
   {
    "duration": 5,
    "start_time": "2022-09-18T14:12:55.561Z"
   },
   {
    "duration": 48,
    "start_time": "2022-09-18T14:12:55.567Z"
   },
   {
    "duration": 13,
    "start_time": "2022-09-18T14:12:55.616Z"
   },
   {
    "duration": 7,
    "start_time": "2022-09-18T14:12:55.631Z"
   },
   {
    "duration": 9,
    "start_time": "2022-09-18T14:12:55.639Z"
   },
   {
    "duration": 3,
    "start_time": "2022-09-18T14:12:55.649Z"
   },
   {
    "duration": 59,
    "start_time": "2022-09-18T14:12:55.654Z"
   },
   {
    "duration": 14,
    "start_time": "2022-09-18T14:12:55.714Z"
   },
   {
    "duration": 5,
    "start_time": "2022-09-18T14:12:55.729Z"
   },
   {
    "duration": 6,
    "start_time": "2022-09-18T14:12:55.735Z"
   },
   {
    "duration": 11,
    "start_time": "2022-09-18T14:12:55.743Z"
   },
   {
    "duration": 158,
    "start_time": "2022-09-18T14:12:55.808Z"
   },
   {
    "duration": 4,
    "start_time": "2022-09-18T14:12:55.967Z"
   },
   {
    "duration": 122,
    "start_time": "2022-09-18T14:12:55.972Z"
   },
   {
    "duration": 16,
    "start_time": "2022-09-18T14:12:56.095Z"
   },
   {
    "duration": 10,
    "start_time": "2022-09-18T14:12:59.953Z"
   },
   {
    "duration": 11,
    "start_time": "2022-09-18T14:13:11.827Z"
   },
   {
    "duration": 6,
    "start_time": "2022-09-18T14:15:22.550Z"
   },
   {
    "duration": 13,
    "start_time": "2022-09-18T14:15:30.054Z"
   },
   {
    "duration": 2,
    "start_time": "2022-09-18T14:16:09.313Z"
   },
   {
    "duration": 12,
    "start_time": "2022-09-18T14:16:09.753Z"
   },
   {
    "duration": 344,
    "start_time": "2022-09-18T14:17:09.091Z"
   },
   {
    "duration": 261,
    "start_time": "2022-09-18T14:19:07.601Z"
   },
   {
    "duration": 275,
    "start_time": "2022-09-18T14:24:23.193Z"
   },
   {
    "duration": 322,
    "start_time": "2022-09-18T14:25:48.356Z"
   },
   {
    "duration": 426,
    "start_time": "2022-09-18T14:26:22.959Z"
   },
   {
    "duration": 251,
    "start_time": "2022-09-18T14:26:37.760Z"
   },
   {
    "duration": 312,
    "start_time": "2022-09-18T14:27:10.776Z"
   },
   {
    "duration": 358,
    "start_time": "2022-09-18T14:27:29.235Z"
   },
   {
    "duration": 334,
    "start_time": "2022-09-18T14:28:55.357Z"
   },
   {
    "duration": 360,
    "start_time": "2022-09-18T14:29:16.261Z"
   },
   {
    "duration": 379,
    "start_time": "2022-09-18T14:32:47.760Z"
   },
   {
    "duration": 290,
    "start_time": "2022-09-18T14:34:43.358Z"
   },
   {
    "duration": 287,
    "start_time": "2022-09-18T14:37:04.174Z"
   },
   {
    "duration": 415,
    "start_time": "2022-09-18T14:38:04.367Z"
   },
   {
    "duration": 397,
    "start_time": "2022-09-18T14:38:21.075Z"
   },
   {
    "duration": 371,
    "start_time": "2022-09-18T14:38:42.274Z"
   },
   {
    "duration": 167,
    "start_time": "2022-09-18T15:19:40.960Z"
   },
   {
    "duration": 160,
    "start_time": "2022-09-18T15:20:39.868Z"
   },
   {
    "duration": 253,
    "start_time": "2022-09-18T15:21:19.268Z"
   },
   {
    "duration": 186,
    "start_time": "2022-09-18T15:22:18.011Z"
   },
   {
    "duration": 185,
    "start_time": "2022-09-18T15:22:26.167Z"
   },
   {
    "duration": 175,
    "start_time": "2022-09-18T15:23:06.965Z"
   },
   {
    "duration": 11,
    "start_time": "2022-09-18T15:24:49.515Z"
   },
   {
    "duration": 10,
    "start_time": "2022-09-18T15:25:14.467Z"
   },
   {
    "duration": 198,
    "start_time": "2022-09-18T15:26:08.076Z"
   },
   {
    "duration": 162,
    "start_time": "2022-09-18T15:26:58.060Z"
   },
   {
    "duration": 167,
    "start_time": "2022-09-18T15:27:16.159Z"
   },
   {
    "duration": 4,
    "start_time": "2022-09-18T15:27:48.276Z"
   },
   {
    "duration": 4,
    "start_time": "2022-09-18T15:28:26.854Z"
   },
   {
    "duration": 4,
    "start_time": "2022-09-18T17:30:24.415Z"
   },
   {
    "duration": 4,
    "start_time": "2022-09-18T17:31:05.313Z"
   },
   {
    "duration": 4,
    "start_time": "2022-09-18T17:31:12.536Z"
   },
   {
    "duration": 4,
    "start_time": "2022-09-18T17:31:19.676Z"
   },
   {
    "duration": 101,
    "start_time": "2022-09-18T17:33:04.591Z"
   },
   {
    "duration": 115,
    "start_time": "2022-09-18T17:37:41.398Z"
   },
   {
    "duration": 118,
    "start_time": "2022-09-18T17:37:48.776Z"
   },
   {
    "duration": 14,
    "start_time": "2022-09-18T17:38:06.832Z"
   },
   {
    "duration": 16,
    "start_time": "2022-09-18T17:38:42.684Z"
   },
   {
    "duration": 14,
    "start_time": "2022-09-18T17:40:15.636Z"
   },
   {
    "duration": 127,
    "start_time": "2022-09-18T18:13:03.224Z"
   },
   {
    "duration": 6,
    "start_time": "2022-09-18T18:13:05.472Z"
   },
   {
    "duration": 9,
    "start_time": "2022-09-18T18:13:40.878Z"
   },
   {
    "duration": 8,
    "start_time": "2022-09-18T18:14:05.868Z"
   },
   {
    "duration": 20,
    "start_time": "2022-09-18T18:14:09.707Z"
   },
   {
    "duration": 9,
    "start_time": "2022-09-18T18:33:18.769Z"
   },
   {
    "duration": 10,
    "start_time": "2022-09-18T18:33:25.341Z"
   },
   {
    "duration": 1601,
    "start_time": "2022-09-18T18:40:59.990Z"
   },
   {
    "duration": 1075,
    "start_time": "2022-09-18T18:41:30.620Z"
   },
   {
    "duration": 766,
    "start_time": "2022-09-18T18:41:41.132Z"
   },
   {
    "duration": 159,
    "start_time": "2022-09-18T19:10:41.544Z"
   },
   {
    "duration": 1999,
    "start_time": "2022-09-18T19:10:43.469Z"
   },
   {
    "duration": 5,
    "start_time": "2022-09-18T19:13:25.001Z"
   },
   {
    "duration": 4,
    "start_time": "2022-09-18T19:13:32.421Z"
   },
   {
    "duration": 1058,
    "start_time": "2022-09-18T19:14:06.181Z"
   },
   {
    "duration": 1172,
    "start_time": "2022-09-18T19:14:13.016Z"
   },
   {
    "duration": 16,
    "start_time": "2022-09-18T19:14:38.109Z"
   },
   {
    "duration": 5,
    "start_time": "2022-09-18T19:14:55.200Z"
   },
   {
    "duration": 15,
    "start_time": "2022-09-18T19:15:16.233Z"
   },
   {
    "duration": 8,
    "start_time": "2022-09-18T19:16:19.677Z"
   },
   {
    "duration": 4,
    "start_time": "2022-09-18T19:16:26.837Z"
   },
   {
    "duration": 8,
    "start_time": "2022-09-18T19:17:00.021Z"
   },
   {
    "duration": 9,
    "start_time": "2022-09-18T19:17:11.921Z"
   },
   {
    "duration": 20,
    "start_time": "2022-09-18T19:17:16.641Z"
   },
   {
    "duration": 10,
    "start_time": "2022-09-18T19:17:56.023Z"
   },
   {
    "duration": 16,
    "start_time": "2022-09-18T19:18:09.108Z"
   },
   {
    "duration": 60,
    "start_time": "2022-09-18T20:05:33.103Z"
   },
   {
    "duration": 4,
    "start_time": "2022-09-18T21:34:28.620Z"
   },
   {
    "duration": 5,
    "start_time": "2022-09-18T21:34:47.522Z"
   },
   {
    "duration": 4,
    "start_time": "2022-09-18T21:37:24.355Z"
   },
   {
    "duration": 78,
    "start_time": "2022-09-18T21:38:42.448Z"
   },
   {
    "duration": 147,
    "start_time": "2022-09-18T21:39:01.378Z"
   },
   {
    "duration": 44,
    "start_time": "2022-09-18T21:39:44.438Z"
   },
   {
    "duration": 16,
    "start_time": "2022-09-18T21:41:57.963Z"
   },
   {
    "duration": 63,
    "start_time": "2022-09-18T21:43:15.072Z"
   },
   {
    "duration": 48,
    "start_time": "2022-09-18T21:43:32.883Z"
   },
   {
    "duration": 7,
    "start_time": "2022-09-18T21:44:32.629Z"
   },
   {
    "duration": 4,
    "start_time": "2022-09-18T21:44:50.425Z"
   },
   {
    "duration": 80,
    "start_time": "2022-09-18T21:44:56.951Z"
   },
   {
    "duration": 12,
    "start_time": "2022-09-18T21:45:24.969Z"
   },
   {
    "duration": 11,
    "start_time": "2022-09-18T21:45:58.247Z"
   },
   {
    "duration": 9,
    "start_time": "2022-09-18T21:47:03.738Z"
   },
   {
    "duration": 188,
    "start_time": "2022-09-18T21:49:34.048Z"
   },
   {
    "duration": 12,
    "start_time": "2022-09-18T21:51:49.835Z"
   },
   {
    "duration": 12,
    "start_time": "2022-09-18T21:51:58.957Z"
   },
   {
    "duration": 3,
    "start_time": "2022-09-18T22:05:02.568Z"
   },
   {
    "duration": 6,
    "start_time": "2022-09-18T22:05:07.557Z"
   },
   {
    "duration": 6,
    "start_time": "2022-09-18T22:05:22.545Z"
   },
   {
    "duration": 8,
    "start_time": "2022-09-18T22:10:02.333Z"
   },
   {
    "duration": 52,
    "start_time": "2022-09-18T22:15:59.007Z"
   },
   {
    "duration": 7,
    "start_time": "2022-09-18T22:16:05.437Z"
   },
   {
    "duration": 8,
    "start_time": "2022-09-18T22:17:39.639Z"
   },
   {
    "duration": 62,
    "start_time": "2022-09-18T22:18:43.679Z"
   },
   {
    "duration": 63,
    "start_time": "2022-09-18T22:19:00.181Z"
   },
   {
    "duration": 75,
    "start_time": "2022-09-18T22:19:07.085Z"
   },
   {
    "duration": 136,
    "start_time": "2022-09-18T22:19:14.750Z"
   },
   {
    "duration": 15,
    "start_time": "2022-09-18T22:19:39.969Z"
   },
   {
    "duration": 6,
    "start_time": "2022-09-18T22:21:00.049Z"
   },
   {
    "duration": 6,
    "start_time": "2022-09-18T22:21:10.154Z"
   },
   {
    "duration": 8,
    "start_time": "2022-09-18T22:21:21.021Z"
   },
   {
    "duration": 7,
    "start_time": "2022-09-18T22:25:18.543Z"
   },
   {
    "duration": 5,
    "start_time": "2022-09-18T22:25:22.851Z"
   },
   {
    "duration": 7,
    "start_time": "2022-09-18T22:26:12.801Z"
   },
   {
    "duration": 10,
    "start_time": "2022-09-18T23:08:40.137Z"
   },
   {
    "duration": 36,
    "start_time": "2022-09-18T23:11:06.184Z"
   },
   {
    "duration": 10,
    "start_time": "2022-09-18T23:12:05.077Z"
   },
   {
    "duration": 4,
    "start_time": "2022-09-18T23:13:15.356Z"
   },
   {
    "duration": 21,
    "start_time": "2022-09-18T23:13:17.097Z"
   },
   {
    "duration": 22,
    "start_time": "2022-09-18T23:13:25.232Z"
   },
   {
    "duration": 21,
    "start_time": "2022-09-18T23:14:04.103Z"
   },
   {
    "duration": 18,
    "start_time": "2022-09-18T23:17:44.122Z"
   },
   {
    "duration": 48,
    "start_time": "2022-09-18T23:24:55.971Z"
   },
   {
    "duration": 1111,
    "start_time": "2022-09-18T23:33:56.980Z"
   },
   {
    "duration": 4,
    "start_time": "2022-09-18T23:33:58.093Z"
   },
   {
    "duration": 307,
    "start_time": "2022-09-18T23:33:58.098Z"
   },
   {
    "duration": 11,
    "start_time": "2022-09-18T23:33:58.407Z"
   },
   {
    "duration": 10,
    "start_time": "2022-09-18T23:33:58.419Z"
   },
   {
    "duration": 10,
    "start_time": "2022-09-18T23:33:58.430Z"
   },
   {
    "duration": 8,
    "start_time": "2022-09-18T23:33:58.442Z"
   },
   {
    "duration": 7,
    "start_time": "2022-09-18T23:33:58.452Z"
   },
   {
    "duration": 5,
    "start_time": "2022-09-18T23:33:58.460Z"
   },
   {
    "duration": 72,
    "start_time": "2022-09-18T23:33:58.467Z"
   },
   {
    "duration": 3,
    "start_time": "2022-09-18T23:33:58.540Z"
   },
   {
    "duration": 22,
    "start_time": "2022-09-18T23:33:58.545Z"
   },
   {
    "duration": 16,
    "start_time": "2022-09-18T23:33:58.569Z"
   },
   {
    "duration": 13,
    "start_time": "2022-09-18T23:33:58.587Z"
   },
   {
    "duration": 8,
    "start_time": "2022-09-18T23:33:58.602Z"
   },
   {
    "duration": 6,
    "start_time": "2022-09-18T23:33:58.611Z"
   },
   {
    "duration": 5,
    "start_time": "2022-09-18T23:33:58.618Z"
   },
   {
    "duration": 21,
    "start_time": "2022-09-18T23:33:58.624Z"
   },
   {
    "duration": 15,
    "start_time": "2022-09-18T23:33:58.647Z"
   },
   {
    "duration": 4,
    "start_time": "2022-09-18T23:33:58.664Z"
   },
   {
    "duration": 13,
    "start_time": "2022-09-18T23:33:58.669Z"
   },
   {
    "duration": 5,
    "start_time": "2022-09-18T23:33:58.683Z"
   },
   {
    "duration": 37,
    "start_time": "2022-09-18T23:33:58.689Z"
   },
   {
    "duration": 14,
    "start_time": "2022-09-18T23:33:58.728Z"
   },
   {
    "duration": 5,
    "start_time": "2022-09-18T23:33:58.743Z"
   },
   {
    "duration": 182,
    "start_time": "2022-09-18T23:33:58.749Z"
   },
   {
    "duration": 107,
    "start_time": "2022-09-18T23:33:58.933Z"
   },
   {
    "duration": 6,
    "start_time": "2022-09-18T23:33:59.043Z"
   },
   {
    "duration": 6,
    "start_time": "2022-09-18T23:33:59.050Z"
   },
   {
    "duration": 345,
    "start_time": "2022-09-18T23:33:59.057Z"
   },
   {
    "duration": 248,
    "start_time": "2022-09-18T23:33:59.409Z"
   },
   {
    "duration": 350,
    "start_time": "2022-09-18T23:33:59.659Z"
   },
   {
    "duration": 302,
    "start_time": "2022-09-18T23:34:00.010Z"
   },
   {
    "duration": 398,
    "start_time": "2022-09-18T23:34:00.313Z"
   },
   {
    "duration": 10,
    "start_time": "2022-09-18T23:34:00.712Z"
   },
   {
    "duration": 203,
    "start_time": "2022-09-18T23:34:00.724Z"
   },
   {
    "duration": 9,
    "start_time": "2022-09-18T23:34:00.928Z"
   },
   {
    "duration": 245,
    "start_time": "2022-09-18T23:34:00.939Z"
   },
   {
    "duration": 9,
    "start_time": "2022-09-18T23:34:01.185Z"
   },
   {
    "duration": 17,
    "start_time": "2022-09-18T23:34:01.195Z"
   },
   {
    "duration": 11,
    "start_time": "2022-09-18T23:34:01.214Z"
   },
   {
    "duration": 89,
    "start_time": "2022-09-18T23:34:01.227Z"
   },
   {
    "duration": 175,
    "start_time": "2022-09-18T23:34:01.318Z"
   },
   {
    "duration": 16,
    "start_time": "2022-09-18T23:34:01.495Z"
   },
   {
    "duration": 136,
    "start_time": "2022-09-18T23:34:01.513Z"
   },
   {
    "duration": 4,
    "start_time": "2022-09-18T23:34:01.651Z"
   },
   {
    "duration": 14,
    "start_time": "2022-09-18T23:34:01.657Z"
   },
   {
    "duration": 21,
    "start_time": "2022-09-18T23:34:01.673Z"
   },
   {
    "duration": 18,
    "start_time": "2022-09-18T23:34:01.695Z"
   },
   {
    "duration": 16,
    "start_time": "2022-09-18T23:34:01.715Z"
   },
   {
    "duration": 46,
    "start_time": "2022-09-18T23:34:01.732Z"
   },
   {
    "duration": 4,
    "start_time": "2022-09-18T23:34:01.780Z"
   },
   {
    "duration": 118,
    "start_time": "2022-09-18T23:34:01.786Z"
   },
   {
    "duration": 0,
    "start_time": "2022-09-18T23:34:01.906Z"
   },
   {
    "duration": 3,
    "start_time": "2022-09-18T23:34:33.613Z"
   },
   {
    "duration": 13,
    "start_time": "2022-09-18T23:34:34.343Z"
   },
   {
    "duration": 10,
    "start_time": "2022-09-18T23:34:47.240Z"
   },
   {
    "duration": 1090,
    "start_time": "2022-09-18T23:34:55.414Z"
   },
   {
    "duration": 5,
    "start_time": "2022-09-18T23:34:56.506Z"
   },
   {
    "duration": 88,
    "start_time": "2022-09-18T23:34:56.512Z"
   },
   {
    "duration": 11,
    "start_time": "2022-09-18T23:34:56.602Z"
   },
   {
    "duration": 21,
    "start_time": "2022-09-18T23:34:56.615Z"
   },
   {
    "duration": 18,
    "start_time": "2022-09-18T23:34:56.638Z"
   },
   {
    "duration": 9,
    "start_time": "2022-09-18T23:34:56.657Z"
   },
   {
    "duration": 8,
    "start_time": "2022-09-18T23:34:56.667Z"
   },
   {
    "duration": 10,
    "start_time": "2022-09-18T23:34:56.676Z"
   },
   {
    "duration": 50,
    "start_time": "2022-09-18T23:34:56.687Z"
   },
   {
    "duration": 4,
    "start_time": "2022-09-18T23:34:56.738Z"
   },
   {
    "duration": 22,
    "start_time": "2022-09-18T23:34:56.744Z"
   },
   {
    "duration": 12,
    "start_time": "2022-09-18T23:34:56.768Z"
   },
   {
    "duration": 30,
    "start_time": "2022-09-18T23:34:56.784Z"
   },
   {
    "duration": 6,
    "start_time": "2022-09-18T23:34:56.816Z"
   },
   {
    "duration": 5,
    "start_time": "2022-09-18T23:34:56.824Z"
   },
   {
    "duration": 5,
    "start_time": "2022-09-18T23:34:56.830Z"
   },
   {
    "duration": 17,
    "start_time": "2022-09-18T23:34:56.836Z"
   },
   {
    "duration": 13,
    "start_time": "2022-09-18T23:34:56.855Z"
   },
   {
    "duration": 5,
    "start_time": "2022-09-18T23:34:56.870Z"
   },
   {
    "duration": 36,
    "start_time": "2022-09-18T23:34:56.876Z"
   },
   {
    "duration": 4,
    "start_time": "2022-09-18T23:34:56.914Z"
   },
   {
    "duration": 27,
    "start_time": "2022-09-18T23:34:56.920Z"
   },
   {
    "duration": 60,
    "start_time": "2022-09-18T23:34:56.949Z"
   },
   {
    "duration": 6,
    "start_time": "2022-09-18T23:34:57.011Z"
   },
   {
    "duration": 165,
    "start_time": "2022-09-18T23:34:57.018Z"
   },
   {
    "duration": 129,
    "start_time": "2022-09-18T23:34:57.185Z"
   },
   {
    "duration": 6,
    "start_time": "2022-09-18T23:34:57.315Z"
   },
   {
    "duration": 4,
    "start_time": "2022-09-18T23:34:57.323Z"
   },
   {
    "duration": 353,
    "start_time": "2022-09-18T23:34:57.328Z"
   },
   {
    "duration": 262,
    "start_time": "2022-09-18T23:34:57.682Z"
   },
   {
    "duration": 370,
    "start_time": "2022-09-18T23:34:57.946Z"
   },
   {
    "duration": 307,
    "start_time": "2022-09-18T23:34:58.317Z"
   },
   {
    "duration": 378,
    "start_time": "2022-09-18T23:34:58.625Z"
   },
   {
    "duration": 9,
    "start_time": "2022-09-18T23:34:59.009Z"
   },
   {
    "duration": 172,
    "start_time": "2022-09-18T23:34:59.020Z"
   },
   {
    "duration": 16,
    "start_time": "2022-09-18T23:34:59.194Z"
   },
   {
    "duration": 237,
    "start_time": "2022-09-18T23:34:59.211Z"
   },
   {
    "duration": 8,
    "start_time": "2022-09-18T23:34:59.449Z"
   },
   {
    "duration": 7,
    "start_time": "2022-09-18T23:34:59.458Z"
   },
   {
    "duration": 3,
    "start_time": "2022-09-18T23:34:59.468Z"
   },
   {
    "duration": 96,
    "start_time": "2022-09-18T23:34:59.472Z"
   },
   {
    "duration": 119,
    "start_time": "2022-09-18T23:34:59.570Z"
   },
   {
    "duration": 19,
    "start_time": "2022-09-18T23:34:59.691Z"
   },
   {
    "duration": 134,
    "start_time": "2022-09-18T23:34:59.711Z"
   },
   {
    "duration": 4,
    "start_time": "2022-09-18T23:34:59.846Z"
   },
   {
    "duration": 14,
    "start_time": "2022-09-18T23:34:59.852Z"
   },
   {
    "duration": 13,
    "start_time": "2022-09-18T23:34:59.867Z"
   },
   {
    "duration": 7,
    "start_time": "2022-09-18T23:34:59.881Z"
   },
   {
    "duration": 4,
    "start_time": "2022-09-18T23:34:59.909Z"
   },
   {
    "duration": 31,
    "start_time": "2022-09-18T23:34:59.915Z"
   },
   {
    "duration": 3,
    "start_time": "2022-09-18T23:34:59.948Z"
   },
   {
    "duration": 8,
    "start_time": "2022-09-18T23:34:59.953Z"
   },
   {
    "duration": 18,
    "start_time": "2022-09-18T23:34:59.962Z"
   },
   {
    "duration": 1567,
    "start_time": "2022-09-19T16:20:16.862Z"
   },
   {
    "duration": 3,
    "start_time": "2022-09-19T16:20:18.431Z"
   },
   {
    "duration": 379,
    "start_time": "2022-09-19T16:20:18.436Z"
   },
   {
    "duration": 17,
    "start_time": "2022-09-19T16:20:18.821Z"
   },
   {
    "duration": 14,
    "start_time": "2022-09-19T16:20:18.839Z"
   },
   {
    "duration": 13,
    "start_time": "2022-09-19T16:20:18.855Z"
   },
   {
    "duration": 21,
    "start_time": "2022-09-19T16:20:18.870Z"
   },
   {
    "duration": 24,
    "start_time": "2022-09-19T16:20:18.895Z"
   },
   {
    "duration": 7,
    "start_time": "2022-09-19T16:20:18.921Z"
   },
   {
    "duration": 88,
    "start_time": "2022-09-19T16:20:18.931Z"
   },
   {
    "duration": 13,
    "start_time": "2022-09-19T16:20:19.021Z"
   },
   {
    "duration": 23,
    "start_time": "2022-09-19T16:20:19.036Z"
   },
   {
    "duration": 16,
    "start_time": "2022-09-19T16:20:19.060Z"
   },
   {
    "duration": 34,
    "start_time": "2022-09-19T16:20:19.078Z"
   },
   {
    "duration": 8,
    "start_time": "2022-09-19T16:20:19.116Z"
   },
   {
    "duration": 9,
    "start_time": "2022-09-19T16:20:19.126Z"
   },
   {
    "duration": 9,
    "start_time": "2022-09-19T16:20:19.137Z"
   },
   {
    "duration": 23,
    "start_time": "2022-09-19T16:20:19.148Z"
   },
   {
    "duration": 17,
    "start_time": "2022-09-19T16:20:19.172Z"
   },
   {
    "duration": 8,
    "start_time": "2022-09-19T16:20:19.195Z"
   },
   {
    "duration": 25,
    "start_time": "2022-09-19T16:20:19.205Z"
   },
   {
    "duration": 6,
    "start_time": "2022-09-19T16:20:19.232Z"
   },
   {
    "duration": 73,
    "start_time": "2022-09-19T16:20:19.240Z"
   },
   {
    "duration": 23,
    "start_time": "2022-09-19T16:20:19.315Z"
   },
   {
    "duration": 6,
    "start_time": "2022-09-19T16:20:19.340Z"
   },
   {
    "duration": 220,
    "start_time": "2022-09-19T16:20:19.347Z"
   },
   {
    "duration": 150,
    "start_time": "2022-09-19T16:20:19.569Z"
   },
   {
    "duration": 7,
    "start_time": "2022-09-19T16:20:19.722Z"
   },
   {
    "duration": 7,
    "start_time": "2022-09-19T16:20:19.731Z"
   },
   {
    "duration": 424,
    "start_time": "2022-09-19T16:20:19.740Z"
   },
   {
    "duration": 344,
    "start_time": "2022-09-19T16:20:20.167Z"
   },
   {
    "duration": 426,
    "start_time": "2022-09-19T16:20:20.514Z"
   },
   {
    "duration": 355,
    "start_time": "2022-09-19T16:20:20.942Z"
   },
   {
    "duration": 472,
    "start_time": "2022-09-19T16:20:21.300Z"
   },
   {
    "duration": 10,
    "start_time": "2022-09-19T16:20:21.774Z"
   },
   {
    "duration": 227,
    "start_time": "2022-09-19T16:20:21.796Z"
   },
   {
    "duration": 10,
    "start_time": "2022-09-19T16:20:22.025Z"
   },
   {
    "duration": 334,
    "start_time": "2022-09-19T16:20:22.037Z"
   },
   {
    "duration": 29,
    "start_time": "2022-09-19T16:20:22.374Z"
   },
   {
    "duration": 10,
    "start_time": "2022-09-19T16:20:22.410Z"
   },
   {
    "duration": 25,
    "start_time": "2022-09-19T16:20:22.422Z"
   },
   {
    "duration": 139,
    "start_time": "2022-09-19T16:20:22.449Z"
   },
   {
    "duration": 180,
    "start_time": "2022-09-19T16:20:22.590Z"
   },
   {
    "duration": 37,
    "start_time": "2022-09-19T16:20:22.772Z"
   },
   {
    "duration": 235,
    "start_time": "2022-09-19T16:20:22.815Z"
   },
   {
    "duration": 6,
    "start_time": "2022-09-19T16:20:23.052Z"
   },
   {
    "duration": 23,
    "start_time": "2022-09-19T16:20:23.059Z"
   },
   {
    "duration": 38,
    "start_time": "2022-09-19T16:20:23.084Z"
   },
   {
    "duration": 9,
    "start_time": "2022-09-19T16:20:23.123Z"
   },
   {
    "duration": 18,
    "start_time": "2022-09-19T16:20:23.134Z"
   },
   {
    "duration": 52,
    "start_time": "2022-09-19T16:20:23.154Z"
   },
   {
    "duration": 9,
    "start_time": "2022-09-19T16:20:23.210Z"
   },
   {
    "duration": 21,
    "start_time": "2022-09-19T16:20:23.221Z"
   },
   {
    "duration": 23,
    "start_time": "2022-09-19T16:20:23.244Z"
   },
   {
    "duration": 1168,
    "start_time": "2022-09-19T17:22:33.126Z"
   },
   {
    "duration": 4,
    "start_time": "2022-09-19T17:22:34.296Z"
   },
   {
    "duration": 239,
    "start_time": "2022-09-19T17:22:34.301Z"
   },
   {
    "duration": 12,
    "start_time": "2022-09-19T17:22:34.542Z"
   },
   {
    "duration": 14,
    "start_time": "2022-09-19T17:22:34.557Z"
   },
   {
    "duration": 12,
    "start_time": "2022-09-19T17:22:34.572Z"
   },
   {
    "duration": 9,
    "start_time": "2022-09-19T17:22:34.586Z"
   },
   {
    "duration": 9,
    "start_time": "2022-09-19T17:22:34.597Z"
   },
   {
    "duration": 8,
    "start_time": "2022-09-19T17:22:34.608Z"
   },
   {
    "duration": 84,
    "start_time": "2022-09-19T17:22:34.618Z"
   },
   {
    "duration": 5,
    "start_time": "2022-09-19T17:22:34.705Z"
   },
   {
    "duration": 25,
    "start_time": "2022-09-19T17:22:34.712Z"
   },
   {
    "duration": 15,
    "start_time": "2022-09-19T17:22:34.739Z"
   },
   {
    "duration": 39,
    "start_time": "2022-09-19T17:22:34.759Z"
   },
   {
    "duration": 9,
    "start_time": "2022-09-19T17:22:34.801Z"
   },
   {
    "duration": 6,
    "start_time": "2022-09-19T17:22:34.812Z"
   },
   {
    "duration": 8,
    "start_time": "2022-09-19T17:22:34.820Z"
   },
   {
    "duration": 23,
    "start_time": "2022-09-19T17:22:34.830Z"
   },
   {
    "duration": 33,
    "start_time": "2022-09-19T17:22:34.855Z"
   },
   {
    "duration": 5,
    "start_time": "2022-09-19T17:22:34.896Z"
   },
   {
    "duration": 6,
    "start_time": "2022-09-19T17:22:34.903Z"
   },
   {
    "duration": 9,
    "start_time": "2022-09-19T17:22:34.910Z"
   },
   {
    "duration": 33,
    "start_time": "2022-09-19T17:22:34.920Z"
   },
   {
    "duration": 54,
    "start_time": "2022-09-19T17:22:34.955Z"
   },
   {
    "duration": 6,
    "start_time": "2022-09-19T17:22:35.011Z"
   },
   {
    "duration": 212,
    "start_time": "2022-09-19T17:22:35.019Z"
   },
   {
    "duration": 136,
    "start_time": "2022-09-19T17:22:35.233Z"
   },
   {
    "duration": 6,
    "start_time": "2022-09-19T17:22:35.371Z"
   },
   {
    "duration": 16,
    "start_time": "2022-09-19T17:22:35.379Z"
   },
   {
    "duration": 404,
    "start_time": "2022-09-19T17:22:35.396Z"
   },
   {
    "duration": 325,
    "start_time": "2022-09-19T17:22:35.802Z"
   },
   {
    "duration": 457,
    "start_time": "2022-09-19T17:22:36.129Z"
   },
   {
    "duration": 425,
    "start_time": "2022-09-19T17:22:36.595Z"
   },
   {
    "duration": 435,
    "start_time": "2022-09-19T17:22:37.023Z"
   },
   {
    "duration": 10,
    "start_time": "2022-09-19T17:22:37.460Z"
   },
   {
    "duration": 212,
    "start_time": "2022-09-19T17:22:37.472Z"
   },
   {
    "duration": 17,
    "start_time": "2022-09-19T17:22:37.686Z"
   },
   {
    "duration": 303,
    "start_time": "2022-09-19T17:22:37.704Z"
   },
   {
    "duration": 12,
    "start_time": "2022-09-19T17:22:38.009Z"
   },
   {
    "duration": 18,
    "start_time": "2022-09-19T17:22:38.024Z"
   },
   {
    "duration": 6,
    "start_time": "2022-09-19T17:22:38.047Z"
   },
   {
    "duration": 123,
    "start_time": "2022-09-19T17:22:38.054Z"
   },
   {
    "duration": 164,
    "start_time": "2022-09-19T17:22:38.178Z"
   },
   {
    "duration": 16,
    "start_time": "2022-09-19T17:22:38.344Z"
   },
   {
    "duration": 170,
    "start_time": "2022-09-19T17:22:38.363Z"
   },
   {
    "duration": 5,
    "start_time": "2022-09-19T17:22:38.535Z"
   },
   {
    "duration": 11,
    "start_time": "2022-09-19T17:22:38.541Z"
   },
   {
    "duration": 16,
    "start_time": "2022-09-19T17:22:38.553Z"
   },
   {
    "duration": 31,
    "start_time": "2022-09-19T17:22:38.571Z"
   },
   {
    "duration": 7,
    "start_time": "2022-09-19T17:22:38.604Z"
   },
   {
    "duration": 39,
    "start_time": "2022-09-19T17:22:38.612Z"
   },
   {
    "duration": 5,
    "start_time": "2022-09-19T17:22:38.653Z"
   },
   {
    "duration": 47,
    "start_time": "2022-09-19T17:22:38.660Z"
   },
   {
    "duration": 29,
    "start_time": "2022-09-19T17:22:38.710Z"
   },
   {
    "duration": 1143,
    "start_time": "2022-09-19T17:23:24.301Z"
   },
   {
    "duration": 3,
    "start_time": "2022-09-19T17:23:25.446Z"
   },
   {
    "duration": 177,
    "start_time": "2022-09-19T17:23:25.451Z"
   },
   {
    "duration": 13,
    "start_time": "2022-09-19T17:23:25.630Z"
   },
   {
    "duration": 13,
    "start_time": "2022-09-19T17:23:25.645Z"
   },
   {
    "duration": 11,
    "start_time": "2022-09-19T17:23:25.659Z"
   },
   {
    "duration": 10,
    "start_time": "2022-09-19T17:23:25.672Z"
   },
   {
    "duration": 10,
    "start_time": "2022-09-19T17:23:25.684Z"
   },
   {
    "duration": 5,
    "start_time": "2022-09-19T17:23:25.696Z"
   },
   {
    "duration": 65,
    "start_time": "2022-09-19T17:23:25.704Z"
   },
   {
    "duration": 4,
    "start_time": "2022-09-19T17:23:25.771Z"
   },
   {
    "duration": 21,
    "start_time": "2022-09-19T17:23:25.796Z"
   },
   {
    "duration": 13,
    "start_time": "2022-09-19T17:23:25.819Z"
   },
   {
    "duration": 14,
    "start_time": "2022-09-19T17:23:25.834Z"
   },
   {
    "duration": 7,
    "start_time": "2022-09-19T17:23:25.850Z"
   },
   {
    "duration": 6,
    "start_time": "2022-09-19T17:23:25.859Z"
   },
   {
    "duration": 3,
    "start_time": "2022-09-19T17:23:25.896Z"
   },
   {
    "duration": 20,
    "start_time": "2022-09-19T17:23:25.901Z"
   },
   {
    "duration": 15,
    "start_time": "2022-09-19T17:23:25.923Z"
   },
   {
    "duration": 5,
    "start_time": "2022-09-19T17:23:25.939Z"
   },
   {
    "duration": 7,
    "start_time": "2022-09-19T17:23:25.946Z"
   },
   {
    "duration": 4,
    "start_time": "2022-09-19T17:23:25.955Z"
   },
   {
    "duration": 29,
    "start_time": "2022-09-19T17:23:25.996Z"
   },
   {
    "duration": 19,
    "start_time": "2022-09-19T17:23:26.026Z"
   },
   {
    "duration": 7,
    "start_time": "2022-09-19T17:23:26.047Z"
   },
   {
    "duration": 208,
    "start_time": "2022-09-19T17:23:26.096Z"
   },
   {
    "duration": 134,
    "start_time": "2022-09-19T17:23:26.306Z"
   },
   {
    "duration": 6,
    "start_time": "2022-09-19T17:23:26.444Z"
   },
   {
    "duration": 6,
    "start_time": "2022-09-19T17:23:26.452Z"
   },
   {
    "duration": 531,
    "start_time": "2022-09-19T17:23:26.460Z"
   },
   {
    "duration": 336,
    "start_time": "2022-09-19T17:23:26.996Z"
   },
   {
    "duration": 403,
    "start_time": "2022-09-19T17:23:27.334Z"
   },
   {
    "duration": 334,
    "start_time": "2022-09-19T17:23:27.739Z"
   },
   {
    "duration": 473,
    "start_time": "2022-09-19T17:23:28.076Z"
   },
   {
    "duration": 11,
    "start_time": "2022-09-19T17:23:28.551Z"
   },
   {
    "duration": 202,
    "start_time": "2022-09-19T17:23:28.564Z"
   },
   {
    "duration": 10,
    "start_time": "2022-09-19T17:23:28.768Z"
   },
   {
    "duration": 300,
    "start_time": "2022-09-19T17:23:28.780Z"
   },
   {
    "duration": 18,
    "start_time": "2022-09-19T17:23:29.082Z"
   },
   {
    "duration": 7,
    "start_time": "2022-09-19T17:23:29.102Z"
   },
   {
    "duration": 6,
    "start_time": "2022-09-19T17:23:29.110Z"
   },
   {
    "duration": 124,
    "start_time": "2022-09-19T17:23:29.117Z"
   },
   {
    "duration": 154,
    "start_time": "2022-09-19T17:23:29.243Z"
   },
   {
    "duration": 16,
    "start_time": "2022-09-19T17:23:29.398Z"
   },
   {
    "duration": 147,
    "start_time": "2022-09-19T17:23:29.416Z"
   },
   {
    "duration": 4,
    "start_time": "2022-09-19T17:23:29.565Z"
   },
   {
    "duration": 11,
    "start_time": "2022-09-19T17:23:29.572Z"
   },
   {
    "duration": 19,
    "start_time": "2022-09-19T17:23:29.596Z"
   },
   {
    "duration": 10,
    "start_time": "2022-09-19T17:23:29.617Z"
   },
   {
    "duration": 6,
    "start_time": "2022-09-19T17:23:29.628Z"
   },
   {
    "duration": 62,
    "start_time": "2022-09-19T17:23:29.636Z"
   },
   {
    "duration": 5,
    "start_time": "2022-09-19T17:23:29.700Z"
   },
   {
    "duration": 12,
    "start_time": "2022-09-19T17:23:29.707Z"
   },
   {
    "duration": 28,
    "start_time": "2022-09-19T17:23:29.721Z"
   },
   {
    "duration": 57,
    "start_time": "2022-09-19T21:09:01.699Z"
   },
   {
    "duration": 1403,
    "start_time": "2022-09-19T21:09:08.248Z"
   },
   {
    "duration": 4,
    "start_time": "2022-09-19T21:09:14.358Z"
   },
   {
    "duration": 80,
    "start_time": "2022-09-19T21:09:15.211Z"
   },
   {
    "duration": 13,
    "start_time": "2022-09-19T21:09:15.964Z"
   },
   {
    "duration": 13,
    "start_time": "2022-09-19T21:09:19.987Z"
   },
   {
    "duration": 11,
    "start_time": "2022-09-19T21:09:20.265Z"
   },
   {
    "duration": 8,
    "start_time": "2022-09-19T21:09:24.259Z"
   },
   {
    "duration": 5,
    "start_time": "2022-09-19T21:09:24.444Z"
   },
   {
    "duration": 6,
    "start_time": "2022-09-19T21:09:26.244Z"
   },
   {
    "duration": 68,
    "start_time": "2022-09-19T21:09:26.719Z"
   },
   {
    "duration": 58,
    "start_time": "2022-09-19T21:09:57.415Z"
   },
   {
    "duration": 3,
    "start_time": "2022-09-19T21:10:46.744Z"
   },
   {
    "duration": 2,
    "start_time": "2022-09-19T21:10:49.371Z"
   },
   {
    "duration": 16,
    "start_time": "2022-09-19T21:10:54.176Z"
   },
   {
    "duration": 5,
    "start_time": "2022-09-19T21:11:01.851Z"
   },
   {
    "duration": 15,
    "start_time": "2022-09-19T21:11:02.280Z"
   },
   {
    "duration": 12,
    "start_time": "2022-09-19T21:11:07.518Z"
   },
   {
    "duration": 48,
    "start_time": "2022-09-19T21:11:42.119Z"
   },
   {
    "duration": 3,
    "start_time": "2022-09-19T21:12:09.593Z"
   },
   {
    "duration": 11,
    "start_time": "2022-09-19T21:12:16.092Z"
   },
   {
    "duration": 6,
    "start_time": "2022-09-19T21:12:29.613Z"
   },
   {
    "duration": 10,
    "start_time": "2022-09-19T21:12:41.911Z"
   },
   {
    "duration": 12,
    "start_time": "2022-09-19T21:13:08.623Z"
   },
   {
    "duration": 13,
    "start_time": "2022-09-19T21:13:09.088Z"
   },
   {
    "duration": 6,
    "start_time": "2022-09-19T21:13:11.055Z"
   },
   {
    "duration": 4,
    "start_time": "2022-09-19T21:13:11.322Z"
   },
   {
    "duration": 4,
    "start_time": "2022-09-19T21:13:13.939Z"
   },
   {
    "duration": 16,
    "start_time": "2022-09-19T21:13:14.419Z"
   },
   {
    "duration": 20,
    "start_time": "2022-09-19T21:13:14.901Z"
   },
   {
    "duration": 6,
    "start_time": "2022-09-19T21:13:16.427Z"
   },
   {
    "duration": 7,
    "start_time": "2022-09-19T21:13:16.773Z"
   },
   {
    "duration": 4,
    "start_time": "2022-09-19T21:13:17.798Z"
   },
   {
    "duration": 33,
    "start_time": "2022-09-19T21:13:18.914Z"
   },
   {
    "duration": 17,
    "start_time": "2022-09-19T21:13:20.019Z"
   },
   {
    "duration": 8,
    "start_time": "2022-09-19T21:17:28.912Z"
   },
   {
    "duration": 13,
    "start_time": "2022-09-19T21:17:39.894Z"
   },
   {
    "duration": 12,
    "start_time": "2022-09-19T21:19:57.237Z"
   },
   {
    "duration": 15,
    "start_time": "2022-09-19T21:20:22.087Z"
   },
   {
    "duration": 14,
    "start_time": "2022-09-19T21:20:31.810Z"
   },
   {
    "duration": 13,
    "start_time": "2022-09-19T21:21:10.220Z"
   },
   {
    "duration": 9,
    "start_time": "2022-09-19T21:21:13.965Z"
   },
   {
    "duration": 17,
    "start_time": "2022-09-19T21:21:18.639Z"
   },
   {
    "duration": 16,
    "start_time": "2022-09-19T21:21:40.222Z"
   },
   {
    "duration": 15,
    "start_time": "2022-09-19T21:22:15.839Z"
   },
   {
    "duration": 12,
    "start_time": "2022-09-19T21:22:29.758Z"
   },
   {
    "duration": 10,
    "start_time": "2022-09-19T21:22:36.310Z"
   },
   {
    "duration": 16,
    "start_time": "2022-09-19T21:22:50.032Z"
   },
   {
    "duration": 15,
    "start_time": "2022-09-19T21:22:56.863Z"
   },
   {
    "duration": 10,
    "start_time": "2022-09-19T21:25:16.888Z"
   },
   {
    "duration": 8,
    "start_time": "2022-09-19T21:25:21.418Z"
   },
   {
    "duration": 5,
    "start_time": "2022-09-19T21:25:26.620Z"
   },
   {
    "duration": 5,
    "start_time": "2022-09-19T21:25:50.376Z"
   },
   {
    "duration": 6,
    "start_time": "2022-09-19T21:25:56.659Z"
   },
   {
    "duration": 16,
    "start_time": "2022-09-19T21:26:26.163Z"
   },
   {
    "duration": 31,
    "start_time": "2022-09-19T21:33:48.112Z"
   },
   {
    "duration": 23,
    "start_time": "2022-09-19T21:34:10.695Z"
   },
   {
    "duration": 5,
    "start_time": "2022-09-19T21:34:16.059Z"
   },
   {
    "duration": 25,
    "start_time": "2022-09-19T21:34:18.568Z"
   },
   {
    "duration": 5,
    "start_time": "2022-09-19T21:35:32.633Z"
   },
   {
    "duration": 6,
    "start_time": "2022-09-19T21:35:34.882Z"
   },
   {
    "duration": 4,
    "start_time": "2022-09-19T21:39:36.486Z"
   },
   {
    "duration": 28,
    "start_time": "2022-09-19T21:39:37.289Z"
   },
   {
    "duration": 17,
    "start_time": "2022-09-19T21:39:39.968Z"
   },
   {
    "duration": 6,
    "start_time": "2022-09-19T21:39:46.744Z"
   },
   {
    "duration": 172,
    "start_time": "2022-09-19T21:39:47.263Z"
   },
   {
    "duration": 138,
    "start_time": "2022-09-19T21:39:47.716Z"
   },
   {
    "duration": 6,
    "start_time": "2022-09-19T21:39:48.500Z"
   },
   {
    "duration": 3,
    "start_time": "2022-09-19T21:39:50.683Z"
   },
   {
    "duration": 376,
    "start_time": "2022-09-19T21:39:51.847Z"
   },
   {
    "duration": 10,
    "start_time": "2022-09-19T21:46:01.752Z"
   },
   {
    "duration": 274,
    "start_time": "2022-09-19T21:47:06.929Z"
   },
   {
    "duration": 277,
    "start_time": "2022-09-19T21:47:17.768Z"
   },
   {
    "duration": 160,
    "start_time": "2022-09-19T21:48:42.308Z"
   },
   {
    "duration": 156,
    "start_time": "2022-09-19T21:49:14.277Z"
   },
   {
    "duration": 348,
    "start_time": "2022-09-19T21:49:46.162Z"
   },
   {
    "duration": 306,
    "start_time": "2022-09-19T21:50:00.980Z"
   },
   {
    "duration": 308,
    "start_time": "2022-09-19T21:50:12.033Z"
   },
   {
    "duration": 289,
    "start_time": "2022-09-19T21:50:32.486Z"
   },
   {
    "duration": 283,
    "start_time": "2022-09-19T22:46:24.781Z"
   },
   {
    "duration": 13,
    "start_time": "2022-09-19T22:46:55.900Z"
   },
   {
    "duration": 13,
    "start_time": "2022-09-19T22:47:02.333Z"
   },
   {
    "duration": 314,
    "start_time": "2022-09-19T22:47:34.169Z"
   },
   {
    "duration": 265,
    "start_time": "2022-09-19T22:51:52.540Z"
   },
   {
    "duration": 339,
    "start_time": "2022-09-19T22:52:11.404Z"
   },
   {
    "duration": 334,
    "start_time": "2022-09-19T22:52:19.047Z"
   },
   {
    "duration": 269,
    "start_time": "2022-09-19T22:52:46.844Z"
   },
   {
    "duration": 291,
    "start_time": "2022-09-19T22:52:54.996Z"
   },
   {
    "duration": 426,
    "start_time": "2022-09-19T22:54:03.049Z"
   },
   {
    "duration": 320,
    "start_time": "2022-09-19T22:56:48.358Z"
   },
   {
    "duration": 326,
    "start_time": "2022-09-19T22:57:21.920Z"
   },
   {
    "duration": 324,
    "start_time": "2022-09-19T22:58:12.175Z"
   },
   {
    "duration": 322,
    "start_time": "2022-09-19T22:58:24.580Z"
   },
   {
    "duration": 360,
    "start_time": "2022-09-19T22:59:08.115Z"
   },
   {
    "duration": 326,
    "start_time": "2022-09-19T22:59:19.740Z"
   },
   {
    "duration": 6,
    "start_time": "2022-09-19T22:59:40.509Z"
   },
   {
    "duration": 10,
    "start_time": "2022-09-19T23:01:25.683Z"
   },
   {
    "duration": 343,
    "start_time": "2022-09-19T23:01:44.063Z"
   },
   {
    "duration": 457,
    "start_time": "2022-09-19T23:03:14.111Z"
   },
   {
    "duration": 4,
    "start_time": "2022-09-19T23:27:26.238Z"
   },
   {
    "duration": 312,
    "start_time": "2022-09-19T23:28:05.096Z"
   },
   {
    "duration": 447,
    "start_time": "2022-09-19T23:28:32.253Z"
   },
   {
    "duration": 7,
    "start_time": "2022-09-19T23:28:48.182Z"
   },
   {
    "duration": 4,
    "start_time": "2022-09-19T23:29:15.854Z"
   },
   {
    "duration": 6,
    "start_time": "2022-09-19T23:29:33.381Z"
   },
   {
    "duration": 364,
    "start_time": "2022-09-19T23:30:41.660Z"
   },
   {
    "duration": 446,
    "start_time": "2022-09-19T23:31:17.311Z"
   },
   {
    "duration": 10,
    "start_time": "2022-09-19T23:32:00.952Z"
   },
   {
    "duration": 464,
    "start_time": "2022-09-19T23:33:51.336Z"
   },
   {
    "duration": 12,
    "start_time": "2022-09-19T23:36:59.444Z"
   },
   {
    "duration": 11,
    "start_time": "2022-09-19T23:37:07.302Z"
   },
   {
    "duration": 216,
    "start_time": "2022-09-19T23:37:09.692Z"
   },
   {
    "duration": 211,
    "start_time": "2022-09-19T23:37:32.915Z"
   },
   {
    "duration": 10,
    "start_time": "2022-09-19T23:38:38.473Z"
   },
   {
    "duration": 201,
    "start_time": "2022-09-19T23:40:12.186Z"
   },
   {
    "duration": 11,
    "start_time": "2022-09-19T23:40:36.981Z"
   },
   {
    "duration": 235,
    "start_time": "2022-09-19T23:40:47.642Z"
   },
   {
    "duration": 219,
    "start_time": "2022-09-19T23:43:30.115Z"
   },
   {
    "duration": 203,
    "start_time": "2022-09-19T23:43:53.764Z"
   },
   {
    "duration": 9,
    "start_time": "2022-09-19T23:45:09.289Z"
   },
   {
    "duration": 5,
    "start_time": "2022-09-19T23:45:28.402Z"
   },
   {
    "duration": 5,
    "start_time": "2022-09-19T23:45:29.045Z"
   },
   {
    "duration": 103,
    "start_time": "2022-09-19T23:45:31.702Z"
   },
   {
    "duration": 139,
    "start_time": "2022-09-19T23:45:32.155Z"
   },
   {
    "duration": 15,
    "start_time": "2022-09-19T23:45:33.979Z"
   },
   {
    "duration": 132,
    "start_time": "2022-09-19T23:45:36.614Z"
   },
   {
    "duration": 4,
    "start_time": "2022-09-19T23:45:46.912Z"
   },
   {
    "duration": 10,
    "start_time": "2022-09-20T01:49:10.315Z"
   },
   {
    "duration": 42,
    "start_time": "2022-09-20T01:49:17.352Z"
   },
   {
    "duration": 17,
    "start_time": "2022-09-20T01:50:09.567Z"
   },
   {
    "duration": 9,
    "start_time": "2022-09-20T01:50:41.947Z"
   },
   {
    "duration": 5,
    "start_time": "2022-09-20T01:50:42.286Z"
   },
   {
    "duration": 11,
    "start_time": "2022-09-20T01:52:14.570Z"
   },
   {
    "duration": 11,
    "start_time": "2022-09-20T01:52:26.439Z"
   },
   {
    "duration": 39,
    "start_time": "2022-09-20T01:52:55.736Z"
   },
   {
    "duration": 1238,
    "start_time": "2022-09-20T01:54:13.229Z"
   },
   {
    "duration": 5,
    "start_time": "2022-09-20T01:54:14.468Z"
   },
   {
    "duration": 9,
    "start_time": "2022-09-20T01:54:14.474Z"
   },
   {
    "duration": 261,
    "start_time": "2022-09-20T01:54:14.485Z"
   },
   {
    "duration": 13,
    "start_time": "2022-09-20T01:54:14.747Z"
   },
   {
    "duration": 13,
    "start_time": "2022-09-20T01:54:14.762Z"
   },
   {
    "duration": 12,
    "start_time": "2022-09-20T01:54:14.777Z"
   },
   {
    "duration": 10,
    "start_time": "2022-09-20T01:54:14.791Z"
   },
   {
    "duration": 8,
    "start_time": "2022-09-20T01:54:14.803Z"
   },
   {
    "duration": 79,
    "start_time": "2022-09-20T01:54:14.814Z"
   },
   {
    "duration": 4,
    "start_time": "2022-09-20T01:54:14.895Z"
   },
   {
    "duration": 22,
    "start_time": "2022-09-20T01:54:14.901Z"
   },
   {
    "duration": 15,
    "start_time": "2022-09-20T01:54:14.925Z"
   },
   {
    "duration": 11,
    "start_time": "2022-09-20T01:54:14.954Z"
   },
   {
    "duration": 10,
    "start_time": "2022-09-20T01:54:14.967Z"
   },
   {
    "duration": 10,
    "start_time": "2022-09-20T01:54:14.979Z"
   },
   {
    "duration": 6,
    "start_time": "2022-09-20T01:54:14.991Z"
   },
   {
    "duration": 24,
    "start_time": "2022-09-20T01:54:14.998Z"
   },
   {
    "duration": 36,
    "start_time": "2022-09-20T01:54:15.024Z"
   },
   {
    "duration": 5,
    "start_time": "2022-09-20T01:54:15.062Z"
   },
   {
    "duration": 9,
    "start_time": "2022-09-20T01:54:15.069Z"
   },
   {
    "duration": 16,
    "start_time": "2022-09-20T01:54:15.079Z"
   },
   {
    "duration": 5,
    "start_time": "2022-09-20T01:54:15.097Z"
   },
   {
    "duration": 6,
    "start_time": "2022-09-20T01:54:15.103Z"
   },
   {
    "duration": 8,
    "start_time": "2022-09-20T01:54:15.111Z"
   },
   {
    "duration": 4,
    "start_time": "2022-09-20T01:54:15.155Z"
   },
   {
    "duration": 32,
    "start_time": "2022-09-20T01:54:15.161Z"
   },
   {
    "duration": 17,
    "start_time": "2022-09-20T01:54:15.197Z"
   },
   {
    "duration": 7,
    "start_time": "2022-09-20T01:54:15.253Z"
   },
   {
    "duration": 183,
    "start_time": "2022-09-20T01:54:15.262Z"
   },
   {
    "duration": 158,
    "start_time": "2022-09-20T01:54:15.447Z"
   },
   {
    "duration": 11,
    "start_time": "2022-09-20T01:54:15.608Z"
   },
   {
    "duration": 28,
    "start_time": "2022-09-20T01:54:15.622Z"
   },
   {
    "duration": 442,
    "start_time": "2022-09-20T01:54:15.652Z"
   },
   {
    "duration": 7,
    "start_time": "2022-09-20T01:54:16.096Z"
   },
   {
    "duration": 375,
    "start_time": "2022-09-20T01:54:16.105Z"
   },
   {
    "duration": 7,
    "start_time": "2022-09-20T01:54:16.482Z"
   },
   {
    "duration": 504,
    "start_time": "2022-09-20T01:54:16.491Z"
   },
   {
    "duration": 4,
    "start_time": "2022-09-20T01:54:16.997Z"
   },
   {
    "duration": 11,
    "start_time": "2022-09-20T01:54:17.003Z"
   },
   {
    "duration": 381,
    "start_time": "2022-09-20T01:54:17.016Z"
   },
   {
    "duration": 9,
    "start_time": "2022-09-20T01:54:17.399Z"
   },
   {
    "duration": 467,
    "start_time": "2022-09-20T01:54:17.410Z"
   },
   {
    "duration": 11,
    "start_time": "2022-09-20T01:54:17.879Z"
   },
   {
    "duration": 246,
    "start_time": "2022-09-20T01:54:17.892Z"
   },
   {
    "duration": 17,
    "start_time": "2022-09-20T01:54:18.140Z"
   },
   {
    "duration": 334,
    "start_time": "2022-09-20T01:54:18.160Z"
   },
   {
    "duration": 230,
    "start_time": "2022-09-20T01:54:18.496Z"
   },
   {
    "duration": 11,
    "start_time": "2022-09-20T01:54:18.727Z"
   },
   {
    "duration": 5,
    "start_time": "2022-09-20T01:54:18.754Z"
   },
   {
    "duration": 9,
    "start_time": "2022-09-20T01:54:18.760Z"
   },
   {
    "duration": 108,
    "start_time": "2022-09-20T01:54:18.771Z"
   },
   {
    "duration": 142,
    "start_time": "2022-09-20T01:54:18.881Z"
   },
   {
    "duration": 15,
    "start_time": "2022-09-20T01:54:19.025Z"
   },
   {
    "duration": 144,
    "start_time": "2022-09-20T01:54:19.042Z"
   },
   {
    "duration": 8,
    "start_time": "2022-09-20T01:54:19.188Z"
   },
   {
    "duration": 58,
    "start_time": "2022-09-20T01:54:19.198Z"
   },
   {
    "duration": 16,
    "start_time": "2022-09-20T01:54:19.258Z"
   },
   {
    "duration": 12,
    "start_time": "2022-09-20T01:54:19.276Z"
   },
   {
    "duration": 7,
    "start_time": "2022-09-20T01:54:19.290Z"
   },
   {
    "duration": 11,
    "start_time": "2022-09-20T01:54:19.299Z"
   },
   {
    "duration": 66,
    "start_time": "2022-09-20T01:54:19.312Z"
   },
   {
    "duration": 23,
    "start_time": "2022-09-20T01:54:19.380Z"
   },
   {
    "duration": 8,
    "start_time": "2022-09-20T02:00:49.503Z"
   },
   {
    "duration": 4,
    "start_time": "2022-09-20T02:00:52.210Z"
   },
   {
    "duration": 10,
    "start_time": "2022-09-20T02:00:59.786Z"
   },
   {
    "duration": 41,
    "start_time": "2022-09-20T02:01:01.425Z"
   },
   {
    "duration": 23,
    "start_time": "2022-09-20T02:01:17.365Z"
   },
   {
    "duration": 20,
    "start_time": "2022-09-20T02:01:57.790Z"
   },
   {
    "duration": 1258,
    "start_time": "2022-09-20T02:02:14.934Z"
   },
   {
    "duration": 5,
    "start_time": "2022-09-20T02:02:16.194Z"
   },
   {
    "duration": 10,
    "start_time": "2022-09-20T02:02:16.201Z"
   },
   {
    "duration": 111,
    "start_time": "2022-09-20T02:02:16.213Z"
   },
   {
    "duration": 14,
    "start_time": "2022-09-20T02:02:16.326Z"
   },
   {
    "duration": 15,
    "start_time": "2022-09-20T02:02:16.342Z"
   },
   {
    "duration": 19,
    "start_time": "2022-09-20T02:02:16.359Z"
   },
   {
    "duration": 15,
    "start_time": "2022-09-20T02:02:16.381Z"
   },
   {
    "duration": 9,
    "start_time": "2022-09-20T02:02:16.398Z"
   },
   {
    "duration": 84,
    "start_time": "2022-09-20T02:02:16.411Z"
   },
   {
    "duration": 5,
    "start_time": "2022-09-20T02:02:16.497Z"
   },
   {
    "duration": 26,
    "start_time": "2022-09-20T02:02:16.505Z"
   },
   {
    "duration": 13,
    "start_time": "2022-09-20T02:02:16.554Z"
   },
   {
    "duration": 20,
    "start_time": "2022-09-20T02:02:16.569Z"
   },
   {
    "duration": 9,
    "start_time": "2022-09-20T02:02:16.591Z"
   },
   {
    "duration": 7,
    "start_time": "2022-09-20T02:02:16.602Z"
   },
   {
    "duration": 14,
    "start_time": "2022-09-20T02:02:16.611Z"
   },
   {
    "duration": 32,
    "start_time": "2022-09-20T02:02:16.627Z"
   },
   {
    "duration": 23,
    "start_time": "2022-09-20T02:02:16.661Z"
   },
   {
    "duration": 12,
    "start_time": "2022-09-20T02:02:16.686Z"
   },
   {
    "duration": 11,
    "start_time": "2022-09-20T02:02:16.699Z"
   },
   {
    "duration": 17,
    "start_time": "2022-09-20T02:02:16.711Z"
   },
   {
    "duration": 7,
    "start_time": "2022-09-20T02:02:16.755Z"
   },
   {
    "duration": 8,
    "start_time": "2022-09-20T02:02:16.764Z"
   },
   {
    "duration": 11,
    "start_time": "2022-09-20T02:02:16.774Z"
   },
   {
    "duration": 5,
    "start_time": "2022-09-20T02:02:16.788Z"
   },
   {
    "duration": 72,
    "start_time": "2022-09-20T02:02:16.796Z"
   },
   {
    "duration": 28,
    "start_time": "2022-09-20T02:02:16.874Z"
   },
   {
    "duration": 8,
    "start_time": "2022-09-20T02:02:16.904Z"
   },
   {
    "duration": 223,
    "start_time": "2022-09-20T02:02:16.914Z"
   },
   {
    "duration": 155,
    "start_time": "2022-09-20T02:02:17.138Z"
   },
   {
    "duration": 8,
    "start_time": "2022-09-20T02:02:17.295Z"
   },
   {
    "duration": 8,
    "start_time": "2022-09-20T02:02:17.305Z"
   },
   {
    "duration": 480,
    "start_time": "2022-09-20T02:02:17.315Z"
   },
   {
    "duration": 8,
    "start_time": "2022-09-20T02:02:17.797Z"
   },
   {
    "duration": 381,
    "start_time": "2022-09-20T02:02:17.806Z"
   },
   {
    "duration": 7,
    "start_time": "2022-09-20T02:02:18.189Z"
   },
   {
    "duration": 509,
    "start_time": "2022-09-20T02:02:18.198Z"
   },
   {
    "duration": 6,
    "start_time": "2022-09-20T02:02:18.710Z"
   },
   {
    "duration": 12,
    "start_time": "2022-09-20T02:02:18.718Z"
   },
   {
    "duration": 449,
    "start_time": "2022-09-20T02:02:18.732Z"
   },
   {
    "duration": 16,
    "start_time": "2022-09-20T02:02:19.184Z"
   },
   {
    "duration": 490,
    "start_time": "2022-09-20T02:02:19.203Z"
   },
   {
    "duration": 12,
    "start_time": "2022-09-20T02:02:19.695Z"
   },
   {
    "duration": 257,
    "start_time": "2022-09-20T02:02:19.709Z"
   },
   {
    "duration": 12,
    "start_time": "2022-09-20T02:02:19.969Z"
   },
   {
    "duration": 351,
    "start_time": "2022-09-20T02:02:19.983Z"
   },
   {
    "duration": 259,
    "start_time": "2022-09-20T02:02:20.336Z"
   },
   {
    "duration": 12,
    "start_time": "2022-09-20T02:02:20.597Z"
   },
   {
    "duration": 6,
    "start_time": "2022-09-20T02:02:20.611Z"
   },
   {
    "duration": 10,
    "start_time": "2022-09-20T02:02:20.619Z"
   },
   {
    "duration": 133,
    "start_time": "2022-09-20T02:02:20.631Z"
   },
   {
    "duration": 164,
    "start_time": "2022-09-20T02:02:20.766Z"
   },
   {
    "duration": 28,
    "start_time": "2022-09-20T02:02:20.933Z"
   },
   {
    "duration": 180,
    "start_time": "2022-09-20T02:02:20.964Z"
   },
   {
    "duration": 15,
    "start_time": "2022-09-20T02:02:21.146Z"
   },
   {
    "duration": 60,
    "start_time": "2022-09-20T02:02:21.163Z"
   },
   {
    "duration": 40,
    "start_time": "2022-09-20T02:02:21.225Z"
   },
   {
    "duration": 11,
    "start_time": "2022-09-20T02:02:21.268Z"
   },
   {
    "duration": 11,
    "start_time": "2022-09-20T02:02:21.281Z"
   },
   {
    "duration": 24,
    "start_time": "2022-09-20T02:02:21.294Z"
   },
   {
    "duration": 80,
    "start_time": "2022-09-20T02:02:21.320Z"
   },
   {
    "duration": 32,
    "start_time": "2022-09-20T02:02:21.402Z"
   },
   {
    "duration": 1098,
    "start_time": "2022-09-20T13:44:36.674Z"
   },
   {
    "duration": 3,
    "start_time": "2022-09-20T13:44:37.774Z"
   },
   {
    "duration": 5,
    "start_time": "2022-09-20T13:44:37.778Z"
   },
   {
    "duration": 190,
    "start_time": "2022-09-20T13:44:37.784Z"
   },
   {
    "duration": 12,
    "start_time": "2022-09-20T13:44:37.977Z"
   },
   {
    "duration": 13,
    "start_time": "2022-09-20T13:44:37.990Z"
   },
   {
    "duration": 23,
    "start_time": "2022-09-20T13:44:38.004Z"
   },
   {
    "duration": 7,
    "start_time": "2022-09-20T13:44:38.029Z"
   },
   {
    "duration": 10,
    "start_time": "2022-09-20T13:44:38.037Z"
   },
   {
    "duration": 48,
    "start_time": "2022-09-20T13:44:38.048Z"
   },
   {
    "duration": 3,
    "start_time": "2022-09-20T13:44:38.098Z"
   },
   {
    "duration": 32,
    "start_time": "2022-09-20T13:44:38.108Z"
   },
   {
    "duration": 10,
    "start_time": "2022-09-20T13:44:38.141Z"
   },
   {
    "duration": 13,
    "start_time": "2022-09-20T13:44:38.155Z"
   },
   {
    "duration": 6,
    "start_time": "2022-09-20T13:44:38.169Z"
   },
   {
    "duration": 5,
    "start_time": "2022-09-20T13:44:38.177Z"
   },
   {
    "duration": 6,
    "start_time": "2022-09-20T13:44:38.183Z"
   },
   {
    "duration": 31,
    "start_time": "2022-09-20T13:44:38.190Z"
   },
   {
    "duration": 16,
    "start_time": "2022-09-20T13:44:38.222Z"
   },
   {
    "duration": 5,
    "start_time": "2022-09-20T13:44:38.240Z"
   },
   {
    "duration": 9,
    "start_time": "2022-09-20T13:44:38.246Z"
   },
   {
    "duration": 14,
    "start_time": "2022-09-20T13:44:38.256Z"
   },
   {
    "duration": 4,
    "start_time": "2022-09-20T13:44:38.271Z"
   },
   {
    "duration": 6,
    "start_time": "2022-09-20T13:44:38.276Z"
   },
   {
    "duration": 38,
    "start_time": "2022-09-20T13:44:38.283Z"
   },
   {
    "duration": 3,
    "start_time": "2022-09-20T13:44:38.323Z"
   },
   {
    "duration": 26,
    "start_time": "2022-09-20T13:44:38.328Z"
   },
   {
    "duration": 15,
    "start_time": "2022-09-20T13:44:38.355Z"
   },
   {
    "duration": 5,
    "start_time": "2022-09-20T13:44:38.371Z"
   },
   {
    "duration": 188,
    "start_time": "2022-09-20T13:44:38.377Z"
   },
   {
    "duration": 119,
    "start_time": "2022-09-20T13:44:38.567Z"
   },
   {
    "duration": 6,
    "start_time": "2022-09-20T13:44:38.687Z"
   },
   {
    "duration": 27,
    "start_time": "2022-09-20T13:44:38.694Z"
   },
   {
    "duration": 402,
    "start_time": "2022-09-20T13:44:38.723Z"
   },
   {
    "duration": 7,
    "start_time": "2022-09-20T13:44:39.127Z"
   },
   {
    "duration": 356,
    "start_time": "2022-09-20T13:44:39.135Z"
   },
   {
    "duration": 7,
    "start_time": "2022-09-20T13:44:39.492Z"
   },
   {
    "duration": 398,
    "start_time": "2022-09-20T13:44:39.500Z"
   },
   {
    "duration": 17,
    "start_time": "2022-09-20T13:44:39.899Z"
   },
   {
    "duration": 17,
    "start_time": "2022-09-20T13:44:39.917Z"
   },
   {
    "duration": 323,
    "start_time": "2022-09-20T13:44:39.938Z"
   },
   {
    "duration": 8,
    "start_time": "2022-09-20T13:44:40.262Z"
   },
   {
    "duration": 415,
    "start_time": "2022-09-20T13:44:40.272Z"
   },
   {
    "duration": 11,
    "start_time": "2022-09-20T13:44:40.688Z"
   },
   {
    "duration": 213,
    "start_time": "2022-09-20T13:44:40.709Z"
   },
   {
    "duration": 10,
    "start_time": "2022-09-20T13:44:40.924Z"
   },
   {
    "duration": 257,
    "start_time": "2022-09-20T13:44:40.936Z"
   },
   {
    "duration": 200,
    "start_time": "2022-09-20T13:44:41.194Z"
   },
   {
    "duration": 18,
    "start_time": "2022-09-20T13:44:41.396Z"
   },
   {
    "duration": 19,
    "start_time": "2022-09-20T13:44:41.415Z"
   },
   {
    "duration": 8,
    "start_time": "2022-09-20T13:44:41.436Z"
   },
   {
    "duration": 85,
    "start_time": "2022-09-20T13:44:41.445Z"
   },
   {
    "duration": 134,
    "start_time": "2022-09-20T13:44:41.531Z"
   },
   {
    "duration": 20,
    "start_time": "2022-09-20T13:44:41.667Z"
   },
   {
    "duration": 140,
    "start_time": "2022-09-20T13:44:41.689Z"
   },
   {
    "duration": 7,
    "start_time": "2022-09-20T13:44:41.831Z"
   },
   {
    "duration": 53,
    "start_time": "2022-09-20T13:44:41.840Z"
   },
   {
    "duration": 17,
    "start_time": "2022-09-20T13:44:41.914Z"
   },
   {
    "duration": 8,
    "start_time": "2022-09-20T13:44:41.932Z"
   },
   {
    "duration": 5,
    "start_time": "2022-09-20T13:44:41.941Z"
   },
   {
    "duration": 8,
    "start_time": "2022-09-20T13:44:41.948Z"
   },
   {
    "duration": 68,
    "start_time": "2022-09-20T13:44:41.957Z"
   },
   {
    "duration": 19,
    "start_time": "2022-09-20T13:44:42.027Z"
   },
   {
    "duration": 1109,
    "start_time": "2022-09-20T13:55:52.034Z"
   },
   {
    "duration": 3,
    "start_time": "2022-09-20T13:55:53.145Z"
   },
   {
    "duration": 5,
    "start_time": "2022-09-20T13:55:53.150Z"
   },
   {
    "duration": 109,
    "start_time": "2022-09-20T13:55:53.157Z"
   },
   {
    "duration": 14,
    "start_time": "2022-09-20T13:55:53.268Z"
   },
   {
    "duration": 13,
    "start_time": "2022-09-20T13:55:53.283Z"
   },
   {
    "duration": 11,
    "start_time": "2022-09-20T13:55:53.297Z"
   },
   {
    "duration": 20,
    "start_time": "2022-09-20T13:55:53.309Z"
   },
   {
    "duration": 10,
    "start_time": "2022-09-20T13:55:53.330Z"
   },
   {
    "duration": 48,
    "start_time": "2022-09-20T13:55:53.343Z"
   },
   {
    "duration": 4,
    "start_time": "2022-09-20T13:55:53.392Z"
   },
   {
    "duration": 28,
    "start_time": "2022-09-20T13:55:53.397Z"
   },
   {
    "duration": 11,
    "start_time": "2022-09-20T13:55:53.427Z"
   },
   {
    "duration": 13,
    "start_time": "2022-09-20T13:55:53.439Z"
   },
   {
    "duration": 9,
    "start_time": "2022-09-20T13:55:53.453Z"
   },
   {
    "duration": 5,
    "start_time": "2022-09-20T13:55:53.463Z"
   },
   {
    "duration": 6,
    "start_time": "2022-09-20T13:55:53.469Z"
   },
   {
    "duration": 14,
    "start_time": "2022-09-20T13:55:53.476Z"
   },
   {
    "duration": 29,
    "start_time": "2022-09-20T13:55:53.492Z"
   },
   {
    "duration": 6,
    "start_time": "2022-09-20T13:55:53.522Z"
   },
   {
    "duration": 8,
    "start_time": "2022-09-20T13:55:53.529Z"
   },
   {
    "duration": 15,
    "start_time": "2022-09-20T13:55:53.538Z"
   },
   {
    "duration": 5,
    "start_time": "2022-09-20T13:55:53.554Z"
   },
   {
    "duration": 5,
    "start_time": "2022-09-20T13:55:53.560Z"
   },
   {
    "duration": 7,
    "start_time": "2022-09-20T13:55:53.566Z"
   },
   {
    "duration": 32,
    "start_time": "2022-09-20T13:55:53.587Z"
   },
   {
    "duration": 32,
    "start_time": "2022-09-20T13:55:53.622Z"
   },
   {
    "duration": 15,
    "start_time": "2022-09-20T13:55:53.657Z"
   },
   {
    "duration": 5,
    "start_time": "2022-09-20T13:55:53.674Z"
   },
   {
    "duration": 195,
    "start_time": "2022-09-20T13:55:53.680Z"
   },
   {
    "duration": 108,
    "start_time": "2022-09-20T13:55:53.876Z"
   },
   {
    "duration": 6,
    "start_time": "2022-09-20T13:55:53.985Z"
   },
   {
    "duration": 18,
    "start_time": "2022-09-20T13:55:53.993Z"
   },
   {
    "duration": 419,
    "start_time": "2022-09-20T13:55:54.012Z"
   },
   {
    "duration": 8,
    "start_time": "2022-09-20T13:55:54.433Z"
   },
   {
    "duration": 472,
    "start_time": "2022-09-20T13:55:54.443Z"
   },
   {
    "duration": 14,
    "start_time": "2022-09-20T13:55:54.917Z"
   },
   {
    "duration": 429,
    "start_time": "2022-09-20T13:55:54.933Z"
   },
   {
    "duration": 4,
    "start_time": "2022-09-20T13:55:55.364Z"
   },
   {
    "duration": 12,
    "start_time": "2022-09-20T13:55:55.369Z"
   },
   {
    "duration": 315,
    "start_time": "2022-09-20T13:55:55.383Z"
   },
   {
    "duration": 26,
    "start_time": "2022-09-20T13:55:55.699Z"
   },
   {
    "duration": 407,
    "start_time": "2022-09-20T13:55:55.726Z"
   },
   {
    "duration": 10,
    "start_time": "2022-09-20T13:55:56.134Z"
   },
   {
    "duration": 247,
    "start_time": "2022-09-20T13:55:56.146Z"
   },
   {
    "duration": 32,
    "start_time": "2022-09-20T13:55:56.395Z"
   },
   {
    "duration": 286,
    "start_time": "2022-09-20T13:55:56.428Z"
   },
   {
    "duration": 203,
    "start_time": "2022-09-20T13:55:56.724Z"
   },
   {
    "duration": 8,
    "start_time": "2022-09-20T13:55:56.929Z"
   },
   {
    "duration": 5,
    "start_time": "2022-09-20T13:55:56.938Z"
   },
   {
    "duration": 8,
    "start_time": "2022-09-20T13:55:56.944Z"
   },
   {
    "duration": 99,
    "start_time": "2022-09-20T13:55:56.954Z"
   },
   {
    "duration": 138,
    "start_time": "2022-09-20T13:55:57.054Z"
   },
   {
    "duration": 34,
    "start_time": "2022-09-20T13:55:57.194Z"
   },
   {
    "duration": 156,
    "start_time": "2022-09-20T13:55:57.230Z"
   },
   {
    "duration": 6,
    "start_time": "2022-09-20T13:55:57.388Z"
   },
   {
    "duration": 53,
    "start_time": "2022-09-20T13:55:57.395Z"
   },
   {
    "duration": 14,
    "start_time": "2022-09-20T13:55:57.450Z"
   },
   {
    "duration": 17,
    "start_time": "2022-09-20T13:55:57.465Z"
   },
   {
    "duration": 51,
    "start_time": "2022-09-20T13:55:57.483Z"
   },
   {
    "duration": 11,
    "start_time": "2022-09-20T13:55:57.537Z"
   },
   {
    "duration": 45,
    "start_time": "2022-09-20T13:55:57.549Z"
   },
   {
    "duration": 22,
    "start_time": "2022-09-20T13:55:57.596Z"
   },
   {
    "duration": 1203,
    "start_time": "2022-09-20T13:56:36.327Z"
   },
   {
    "duration": 4,
    "start_time": "2022-09-20T13:56:37.532Z"
   },
   {
    "duration": 7,
    "start_time": "2022-09-20T13:56:37.537Z"
   },
   {
    "duration": 105,
    "start_time": "2022-09-20T13:56:37.546Z"
   },
   {
    "duration": 12,
    "start_time": "2022-09-20T13:56:37.653Z"
   },
   {
    "duration": 11,
    "start_time": "2022-09-20T13:56:37.666Z"
   },
   {
    "duration": 12,
    "start_time": "2022-09-20T13:56:37.679Z"
   },
   {
    "duration": 12,
    "start_time": "2022-09-20T13:56:37.692Z"
   },
   {
    "duration": 21,
    "start_time": "2022-09-20T13:56:37.706Z"
   },
   {
    "duration": 47,
    "start_time": "2022-09-20T13:56:37.730Z"
   },
   {
    "duration": 4,
    "start_time": "2022-09-20T13:56:37.778Z"
   },
   {
    "duration": 19,
    "start_time": "2022-09-20T13:56:37.783Z"
   },
   {
    "duration": 20,
    "start_time": "2022-09-20T13:56:37.804Z"
   },
   {
    "duration": 14,
    "start_time": "2022-09-20T13:56:37.826Z"
   },
   {
    "duration": 6,
    "start_time": "2022-09-20T13:56:37.842Z"
   },
   {
    "duration": 6,
    "start_time": "2022-09-20T13:56:37.849Z"
   },
   {
    "duration": 20,
    "start_time": "2022-09-20T13:56:37.856Z"
   },
   {
    "duration": 16,
    "start_time": "2022-09-20T13:56:37.877Z"
   },
   {
    "duration": 13,
    "start_time": "2022-09-20T13:56:37.894Z"
   },
   {
    "duration": 22,
    "start_time": "2022-09-20T13:56:37.908Z"
   },
   {
    "duration": 8,
    "start_time": "2022-09-20T13:56:37.931Z"
   },
   {
    "duration": 14,
    "start_time": "2022-09-20T13:56:37.940Z"
   },
   {
    "duration": 3,
    "start_time": "2022-09-20T13:56:37.956Z"
   },
   {
    "duration": 5,
    "start_time": "2022-09-20T13:56:37.961Z"
   },
   {
    "duration": 5,
    "start_time": "2022-09-20T13:56:37.968Z"
   },
   {
    "duration": 5,
    "start_time": "2022-09-20T13:56:37.975Z"
   },
   {
    "duration": 56,
    "start_time": "2022-09-20T13:56:37.981Z"
   },
   {
    "duration": 14,
    "start_time": "2022-09-20T13:56:38.041Z"
   },
   {
    "duration": 4,
    "start_time": "2022-09-20T13:56:38.057Z"
   },
   {
    "duration": 181,
    "start_time": "2022-09-20T13:56:38.063Z"
   },
   {
    "duration": 116,
    "start_time": "2022-09-20T13:56:38.246Z"
   },
   {
    "duration": 5,
    "start_time": "2022-09-20T13:56:38.364Z"
   },
   {
    "duration": 4,
    "start_time": "2022-09-20T13:56:38.371Z"
   },
   {
    "duration": 445,
    "start_time": "2022-09-20T13:56:38.377Z"
   },
   {
    "duration": 5,
    "start_time": "2022-09-20T13:56:38.824Z"
   },
   {
    "duration": 316,
    "start_time": "2022-09-20T13:56:38.831Z"
   },
   {
    "duration": 6,
    "start_time": "2022-09-20T13:56:39.149Z"
   },
   {
    "duration": 467,
    "start_time": "2022-09-20T13:56:39.156Z"
   },
   {
    "duration": 4,
    "start_time": "2022-09-20T13:56:39.625Z"
   },
   {
    "duration": 7,
    "start_time": "2022-09-20T13:56:39.631Z"
   },
   {
    "duration": 318,
    "start_time": "2022-09-20T13:56:39.640Z"
   },
   {
    "duration": 8,
    "start_time": "2022-09-20T13:56:39.960Z"
   },
   {
    "duration": 426,
    "start_time": "2022-09-20T13:56:39.970Z"
   },
   {
    "duration": 11,
    "start_time": "2022-09-20T13:56:40.398Z"
   },
   {
    "duration": 315,
    "start_time": "2022-09-20T13:56:40.410Z"
   },
   {
    "duration": 9,
    "start_time": "2022-09-20T13:56:40.727Z"
   },
   {
    "duration": 257,
    "start_time": "2022-09-20T13:56:40.738Z"
   },
   {
    "duration": 200,
    "start_time": "2022-09-20T13:56:40.996Z"
   },
   {
    "duration": 26,
    "start_time": "2022-09-20T13:56:41.198Z"
   },
   {
    "duration": 6,
    "start_time": "2022-09-20T13:56:41.226Z"
   },
   {
    "duration": 5,
    "start_time": "2022-09-20T13:56:41.234Z"
   },
   {
    "duration": 98,
    "start_time": "2022-09-20T13:56:41.240Z"
   },
   {
    "duration": 127,
    "start_time": "2022-09-20T13:56:41.340Z"
   },
   {
    "duration": 14,
    "start_time": "2022-09-20T13:56:41.468Z"
   },
   {
    "duration": 140,
    "start_time": "2022-09-20T13:56:41.483Z"
   },
   {
    "duration": 8,
    "start_time": "2022-09-20T13:56:41.624Z"
   },
   {
    "duration": 47,
    "start_time": "2022-09-20T13:56:41.634Z"
   },
   {
    "duration": 15,
    "start_time": "2022-09-20T13:56:41.682Z"
   },
   {
    "duration": 36,
    "start_time": "2022-09-20T13:56:41.698Z"
   },
   {
    "duration": 11,
    "start_time": "2022-09-20T13:56:41.736Z"
   },
   {
    "duration": 11,
    "start_time": "2022-09-20T13:56:41.748Z"
   },
   {
    "duration": 41,
    "start_time": "2022-09-20T13:56:41.760Z"
   },
   {
    "duration": 35,
    "start_time": "2022-09-20T13:56:41.803Z"
   },
   {
    "duration": 1066,
    "start_time": "2022-09-20T13:57:37.821Z"
   },
   {
    "duration": 3,
    "start_time": "2022-09-20T13:57:38.889Z"
   },
   {
    "duration": 9,
    "start_time": "2022-09-20T13:57:38.893Z"
   },
   {
    "duration": 97,
    "start_time": "2022-09-20T13:57:38.903Z"
   },
   {
    "duration": 14,
    "start_time": "2022-09-20T13:57:39.001Z"
   },
   {
    "duration": 22,
    "start_time": "2022-09-20T13:57:39.017Z"
   },
   {
    "duration": 11,
    "start_time": "2022-09-20T13:57:39.041Z"
   },
   {
    "duration": 10,
    "start_time": "2022-09-20T13:57:39.054Z"
   },
   {
    "duration": 11,
    "start_time": "2022-09-20T13:57:39.066Z"
   },
   {
    "duration": 53,
    "start_time": "2022-09-20T13:57:39.079Z"
   },
   {
    "duration": 3,
    "start_time": "2022-09-20T13:57:39.134Z"
   },
   {
    "duration": 14,
    "start_time": "2022-09-20T13:57:39.138Z"
   },
   {
    "duration": 10,
    "start_time": "2022-09-20T13:57:39.153Z"
   },
   {
    "duration": 11,
    "start_time": "2022-09-20T13:57:39.164Z"
   },
   {
    "duration": 9,
    "start_time": "2022-09-20T13:57:39.176Z"
   },
   {
    "duration": 29,
    "start_time": "2022-09-20T13:57:39.186Z"
   },
   {
    "duration": 7,
    "start_time": "2022-09-20T13:57:39.216Z"
   },
   {
    "duration": 19,
    "start_time": "2022-09-20T13:57:39.224Z"
   },
   {
    "duration": 16,
    "start_time": "2022-09-20T13:57:39.245Z"
   },
   {
    "duration": 13,
    "start_time": "2022-09-20T13:57:39.264Z"
   },
   {
    "duration": 19,
    "start_time": "2022-09-20T13:57:39.278Z"
   },
   {
    "duration": 18,
    "start_time": "2022-09-20T13:57:39.298Z"
   },
   {
    "duration": 10,
    "start_time": "2022-09-20T13:57:39.318Z"
   },
   {
    "duration": 7,
    "start_time": "2022-09-20T13:57:39.329Z"
   },
   {
    "duration": 10,
    "start_time": "2022-09-20T13:57:39.337Z"
   },
   {
    "duration": 7,
    "start_time": "2022-09-20T13:57:39.348Z"
   },
   {
    "duration": 28,
    "start_time": "2022-09-20T13:57:39.357Z"
   },
   {
    "duration": 40,
    "start_time": "2022-09-20T13:57:39.388Z"
   },
   {
    "duration": 5,
    "start_time": "2022-09-20T13:57:39.430Z"
   },
   {
    "duration": 161,
    "start_time": "2022-09-20T13:57:39.436Z"
   },
   {
    "duration": 124,
    "start_time": "2022-09-20T13:57:39.599Z"
   },
   {
    "duration": 5,
    "start_time": "2022-09-20T13:57:39.725Z"
   },
   {
    "duration": 13,
    "start_time": "2022-09-20T13:57:39.732Z"
   },
   {
    "duration": 391,
    "start_time": "2022-09-20T13:57:39.746Z"
   },
   {
    "duration": 7,
    "start_time": "2022-09-20T13:57:40.138Z"
   },
   {
    "duration": 325,
    "start_time": "2022-09-20T13:57:40.146Z"
   },
   {
    "duration": 7,
    "start_time": "2022-09-20T13:57:40.472Z"
   },
   {
    "duration": 439,
    "start_time": "2022-09-20T13:57:40.480Z"
   },
   {
    "duration": 7,
    "start_time": "2022-09-20T13:57:40.920Z"
   },
   {
    "duration": 9,
    "start_time": "2022-09-20T13:57:40.929Z"
   },
   {
    "duration": 330,
    "start_time": "2022-09-20T13:57:40.939Z"
   },
   {
    "duration": 8,
    "start_time": "2022-09-20T13:57:41.271Z"
   },
   {
    "duration": 425,
    "start_time": "2022-09-20T13:57:41.281Z"
   },
   {
    "duration": 11,
    "start_time": "2022-09-20T13:57:41.719Z"
   },
   {
    "duration": 230,
    "start_time": "2022-09-20T13:57:41.732Z"
   },
   {
    "duration": 8,
    "start_time": "2022-09-20T13:57:41.964Z"
   },
   {
    "duration": 280,
    "start_time": "2022-09-20T13:57:41.974Z"
   },
   {
    "duration": 203,
    "start_time": "2022-09-20T13:57:42.255Z"
   },
   {
    "duration": 11,
    "start_time": "2022-09-20T13:57:42.460Z"
   },
   {
    "duration": 8,
    "start_time": "2022-09-20T13:57:42.473Z"
   },
   {
    "duration": 7,
    "start_time": "2022-09-20T13:57:42.483Z"
   },
   {
    "duration": 108,
    "start_time": "2022-09-20T13:57:42.491Z"
   },
   {
    "duration": 132,
    "start_time": "2022-09-20T13:57:42.601Z"
   },
   {
    "duration": 19,
    "start_time": "2022-09-20T13:57:42.735Z"
   },
   {
    "duration": 134,
    "start_time": "2022-09-20T13:57:42.755Z"
   },
   {
    "duration": 8,
    "start_time": "2022-09-20T13:57:42.890Z"
   },
   {
    "duration": 54,
    "start_time": "2022-09-20T13:57:42.911Z"
   },
   {
    "duration": 18,
    "start_time": "2022-09-20T13:57:42.967Z"
   },
   {
    "duration": 28,
    "start_time": "2022-09-20T13:57:42.987Z"
   },
   {
    "duration": 16,
    "start_time": "2022-09-20T13:57:43.016Z"
   },
   {
    "duration": 10,
    "start_time": "2022-09-20T13:57:43.033Z"
   },
   {
    "duration": 40,
    "start_time": "2022-09-20T13:57:43.045Z"
   },
   {
    "duration": 32,
    "start_time": "2022-09-20T13:57:43.087Z"
   }
  ],
  "kernelspec": {
   "display_name": "Python 3 (ipykernel)",
   "language": "python",
   "name": "python3"
  },
  "language_info": {
   "codemirror_mode": {
    "name": "ipython",
    "version": 3
   },
   "file_extension": ".py",
   "mimetype": "text/x-python",
   "name": "python",
   "nbconvert_exporter": "python",
   "pygments_lexer": "ipython3",
   "version": "3.9.13"
  },
  "toc": {
   "base_numbering": 1,
   "nav_menu": {},
   "number_sections": true,
   "sideBar": true,
   "skip_h1_title": true,
   "title_cell": "Table of Contents",
   "title_sidebar": "Contents",
   "toc_cell": false,
   "toc_position": {
    "height": "calc(100% - 180px)",
    "left": "10px",
    "top": "150px",
    "width": "303.675px"
   },
   "toc_section_display": true,
   "toc_window_display": false
  }
 },
 "nbformat": 4,
 "nbformat_minor": 4
}
