{
 "cells": [
  {
   "cell_type": "markdown",
   "metadata": {},
   "source": [
    "# Определение перспективного тарифа для телеком-компании"
   ]
  },
  {
   "cell_type": "markdown",
   "metadata": {},
   "source": [
    "<b>Задача исследования</b> - проведение предварительного анализа тарифов на небольшой выборке клиентов.<br> \n",
    "Используются <b>данные 500 пользователей</b> «Мегалайна»: кто они, откуда, каким тарифом пользуются, сколько звонков и сообщений каждый отправил за 2018 год. <br>\n",
    "<b>Цель</b> анализа поведения клиентов — выяснить, какой тариф выгоднее для компании.\n",
    "\n",
    "<b>Тарифы:</b><br>\n",
    "- Смарт - 550 руб./мес.: 500 мин., 50 сообщ., 15 гб. трафика. Сверх этого: 3 руб./мин., 3 руб./сообщ., 200 руб./гб.\n",
    "- Ультра - 1 950 руб./мес.: 3 000 мин., 1 000 сообщ., 30 гб. трафика. Сверх этого: 1 руб./мин., 1 руб./сообщ., 150 руб./гб.\n",
    "\n",
    "<b>Данные:</b><br>\n",
    "- Информация о клиентах\n",
    "- Информация о звонках обозначенных клиентов за 2018 год\n",
    "- Информация об отправленных сообщениях обозначенных клиентов за 2018 год\n",
    "- Информация о израсходованном интернет-трафике обозначенных клиентов за 2018 год\n",
    "\n",
    "<b>План исследования:</b><br>\n",
    "- Подготовка данных (очистка, исправление ошибок, группировка по месяцам)\n",
    "- Рассчет среднемесячных показателей для каждого клиента по совокупной продолжительности звонков, количеству отправленных сообщений и объему потребленного интернет-трафика.\n",
    "- Проверка гипотез о разнице выручки оператора от разных тарифов и межрегиональной разнице в выручке."
   ]
  },
  {
   "cell_type": "markdown",
   "metadata": {},
   "source": [
    "<a id=\"title\"></a>"
   ]
  },
  {
   "cell_type": "markdown",
   "metadata": {},
   "source": [
    "<b>Оглавление:</b>\n",
    "1. [Открытие и первичный анализ данных](#start)\n",
    "2. [Предобработка данных](#first_steps)\n",
    "    * [Замена типов данных](#types)\n",
    "    * [Обработка ошибок](#mistakes)\n",
    "    * [Добавление новых столбцов](#new_columns)\n",
    "    * [Промежуточный вывод](#first_conclusion)\n",
    "3. [Анализ данных](#second_step)\n",
    "    * [Промежуточный вывод](#second_conclusion)\n",
    "4. [Проверка гипотез](#third_step)\n",
    "    * [Разница между тарифами](#tarifs)\n",
    "    * [Разница между регионами](#regions)\n",
    "5. [Итоговый вывод](#final_step)"
   ]
  },
  {
   "cell_type": "markdown",
   "metadata": {},
   "source": [
    "<a id=\"start\"></a>"
   ]
  },
  {
   "cell_type": "markdown",
   "metadata": {},
   "source": [
    "## Открытие и первичный анализ данных "
   ]
  },
  {
   "cell_type": "code",
   "execution_count": 1,
   "metadata": {},
   "outputs": [],
   "source": [
    "import pandas as pd\n",
    "import matplotlib as mpl\n",
    "import matplotlib.pyplot as plt\n",
    "import numpy as np\n",
    "import seaborn as sns\n",
    "from scipy import stats as st"
   ]
  },
  {
   "cell_type": "code",
   "execution_count": 2,
   "metadata": {},
   "outputs": [],
   "source": [
    "sns.set(rc={'figure.figsize':(12,9)})\n",
    "pd.set_option('display.precision', 3)\n",
    "pd.options.display.max_colwidth = 1"
   ]
  },
  {
   "cell_type": "markdown",
   "metadata": {},
   "source": [
    "Подгружаем библиотеки"
   ]
  },
  {
   "cell_type": "code",
   "execution_count": 3,
   "metadata": {},
   "outputs": [],
   "source": [
    "#Информация о звонках\n",
    "calls = pd.read_csv('https://code.s3.yandex.net/datasets/calls.csv')\n",
    "#Информация об интернет-сессиях\n",
    "internet = pd.read_csv('https://code.s3.yandex.net/datasets/internet.csv')\n",
    "#Информация о соощениях\n",
    "msg = pd.read_csv('https://code.s3.yandex.net/datasets/messages.csv')\n",
    "#Информация о тарифах\n",
    "tariffs = pd.read_csv('https://code.s3.yandex.net/datasets/tariffs.csv')\n",
    "#Информация о пользователях\n",
    "users = pd.read_csv('https://code.s3.yandex.net/datasets/users.csv')"
   ]
  },
  {
   "cell_type": "markdown",
   "metadata": {},
   "source": [
    "Подгружаем массивы"
   ]
  },
  {
   "cell_type": "code",
   "execution_count": 4,
   "metadata": {},
   "outputs": [],
   "source": [
    "def fast_review(df):\n",
    "    print ('Общий вид данных')\n",
    "    display(df.sample(10, random_state = 0))\n",
    "    print ('-------------------------')\n",
    "    print ('Общая информация о данных')\n",
    "    df.info()\n",
    "    print ('-------------------------')\n",
    "    print ('Количество дубликатов: {}'.format(df.duplicated().sum()))"
   ]
  },
  {
   "cell_type": "code",
   "execution_count": 5,
   "metadata": {},
   "outputs": [
    {
     "name": "stdout",
     "output_type": "stream",
     "text": [
      "Общий вид данных\n"
     ]
    },
    {
     "data": {
      "text/html": [
       "<div>\n",
       "<style scoped>\n",
       "    .dataframe tbody tr th:only-of-type {\n",
       "        vertical-align: middle;\n",
       "    }\n",
       "\n",
       "    .dataframe tbody tr th {\n",
       "        vertical-align: top;\n",
       "    }\n",
       "\n",
       "    .dataframe thead th {\n",
       "        text-align: right;\n",
       "    }\n",
       "</style>\n",
       "<table border=\"1\" class=\"dataframe\">\n",
       "  <thead>\n",
       "    <tr style=\"text-align: right;\">\n",
       "      <th></th>\n",
       "      <th>id</th>\n",
       "      <th>call_date</th>\n",
       "      <th>duration</th>\n",
       "      <th>user_id</th>\n",
       "    </tr>\n",
       "  </thead>\n",
       "  <tbody>\n",
       "    <tr>\n",
       "      <th>40510</th>\n",
       "      <td>1100_33</td>\n",
       "      <td>2018-09-23</td>\n",
       "      <td>0.00</td>\n",
       "      <td>1100</td>\n",
       "    </tr>\n",
       "    <tr>\n",
       "      <th>150407</th>\n",
       "      <td>1377_1254</td>\n",
       "      <td>2018-04-03</td>\n",
       "      <td>12.26</td>\n",
       "      <td>1377</td>\n",
       "    </tr>\n",
       "    <tr>\n",
       "      <th>48714</th>\n",
       "      <td>1121_371</td>\n",
       "      <td>2018-12-27</td>\n",
       "      <td>11.24</td>\n",
       "      <td>1121</td>\n",
       "    </tr>\n",
       "    <tr>\n",
       "      <th>103039</th>\n",
       "      <td>1264_178</td>\n",
       "      <td>2018-10-22</td>\n",
       "      <td>4.46</td>\n",
       "      <td>1264</td>\n",
       "    </tr>\n",
       "    <tr>\n",
       "      <th>52767</th>\n",
       "      <td>1133_32</td>\n",
       "      <td>2018-12-08</td>\n",
       "      <td>6.41</td>\n",
       "      <td>1133</td>\n",
       "    </tr>\n",
       "    <tr>\n",
       "      <th>131357</th>\n",
       "      <td>1337_146</td>\n",
       "      <td>2018-06-26</td>\n",
       "      <td>3.30</td>\n",
       "      <td>1337</td>\n",
       "    </tr>\n",
       "    <tr>\n",
       "      <th>67046</th>\n",
       "      <td>1171_71</td>\n",
       "      <td>2018-09-28</td>\n",
       "      <td>14.44</td>\n",
       "      <td>1171</td>\n",
       "    </tr>\n",
       "    <tr>\n",
       "      <th>69132</th>\n",
       "      <td>1174_172</td>\n",
       "      <td>2018-07-29</td>\n",
       "      <td>7.93</td>\n",
       "      <td>1174</td>\n",
       "    </tr>\n",
       "    <tr>\n",
       "      <th>17461</th>\n",
       "      <td>1048_251</td>\n",
       "      <td>2018-12-27</td>\n",
       "      <td>8.21</td>\n",
       "      <td>1048</td>\n",
       "    </tr>\n",
       "    <tr>\n",
       "      <th>83622</th>\n",
       "      <td>1208_474</td>\n",
       "      <td>2018-05-04</td>\n",
       "      <td>6.47</td>\n",
       "      <td>1208</td>\n",
       "    </tr>\n",
       "  </tbody>\n",
       "</table>\n",
       "</div>"
      ],
      "text/plain": [
       "               id   call_date  duration  user_id\n",
       "40510   1100_33    2018-09-23  0.00      1100   \n",
       "150407  1377_1254  2018-04-03  12.26     1377   \n",
       "48714   1121_371   2018-12-27  11.24     1121   \n",
       "103039  1264_178   2018-10-22  4.46      1264   \n",
       "52767   1133_32    2018-12-08  6.41      1133   \n",
       "131357  1337_146   2018-06-26  3.30      1337   \n",
       "67046   1171_71    2018-09-28  14.44     1171   \n",
       "69132   1174_172   2018-07-29  7.93      1174   \n",
       "17461   1048_251   2018-12-27  8.21      1048   \n",
       "83622   1208_474   2018-05-04  6.47      1208   "
      ]
     },
     "metadata": {},
     "output_type": "display_data"
    },
    {
     "name": "stdout",
     "output_type": "stream",
     "text": [
      "-------------------------\n",
      "Общая информация о данных\n",
      "<class 'pandas.core.frame.DataFrame'>\n",
      "RangeIndex: 202607 entries, 0 to 202606\n",
      "Data columns (total 4 columns):\n",
      " #   Column     Non-Null Count   Dtype  \n",
      "---  ------     --------------   -----  \n",
      " 0   id         202607 non-null  object \n",
      " 1   call_date  202607 non-null  object \n",
      " 2   duration   202607 non-null  float64\n",
      " 3   user_id    202607 non-null  int64  \n",
      "dtypes: float64(1), int64(1), object(2)\n",
      "memory usage: 6.2+ MB\n",
      "-------------------------\n",
      "Количество дубликатов: 0\n"
     ]
    }
   ],
   "source": [
    "fast_review(calls)"
   ]
  },
  {
   "cell_type": "code",
   "execution_count": 6,
   "metadata": {},
   "outputs": [
    {
     "name": "stdout",
     "output_type": "stream",
     "text": [
      "Общий вид данных\n"
     ]
    },
    {
     "data": {
      "text/html": [
       "<div>\n",
       "<style scoped>\n",
       "    .dataframe tbody tr th:only-of-type {\n",
       "        vertical-align: middle;\n",
       "    }\n",
       "\n",
       "    .dataframe tbody tr th {\n",
       "        vertical-align: top;\n",
       "    }\n",
       "\n",
       "    .dataframe thead th {\n",
       "        text-align: right;\n",
       "    }\n",
       "</style>\n",
       "<table border=\"1\" class=\"dataframe\">\n",
       "  <thead>\n",
       "    <tr style=\"text-align: right;\">\n",
       "      <th></th>\n",
       "      <th>id</th>\n",
       "      <th>message_date</th>\n",
       "      <th>user_id</th>\n",
       "    </tr>\n",
       "  </thead>\n",
       "  <tbody>\n",
       "    <tr>\n",
       "      <th>94381</th>\n",
       "      <td>1385_1090</td>\n",
       "      <td>2018-05-03</td>\n",
       "      <td>1385</td>\n",
       "    </tr>\n",
       "    <tr>\n",
       "      <th>109956</th>\n",
       "      <td>1443_55</td>\n",
       "      <td>2018-12-02</td>\n",
       "      <td>1443</td>\n",
       "    </tr>\n",
       "    <tr>\n",
       "      <th>75655</th>\n",
       "      <td>1320_9</td>\n",
       "      <td>2018-09-19</td>\n",
       "      <td>1320</td>\n",
       "    </tr>\n",
       "    <tr>\n",
       "      <th>118304</th>\n",
       "      <td>1481_75</td>\n",
       "      <td>2018-10-06</td>\n",
       "      <td>1481</td>\n",
       "    </tr>\n",
       "    <tr>\n",
       "      <th>91567</th>\n",
       "      <td>1379_253</td>\n",
       "      <td>2018-09-02</td>\n",
       "      <td>1379</td>\n",
       "    </tr>\n",
       "    <tr>\n",
       "      <th>85017</th>\n",
       "      <td>1356_34</td>\n",
       "      <td>2018-07-08</td>\n",
       "      <td>1356</td>\n",
       "    </tr>\n",
       "    <tr>\n",
       "      <th>97880</th>\n",
       "      <td>1401_212</td>\n",
       "      <td>2018-04-20</td>\n",
       "      <td>1401</td>\n",
       "    </tr>\n",
       "    <tr>\n",
       "      <th>67144</th>\n",
       "      <td>1285_332</td>\n",
       "      <td>2018-06-10</td>\n",
       "      <td>1285</td>\n",
       "    </tr>\n",
       "    <tr>\n",
       "      <th>60737</th>\n",
       "      <td>1268_52</td>\n",
       "      <td>2018-09-22</td>\n",
       "      <td>1268</td>\n",
       "    </tr>\n",
       "    <tr>\n",
       "      <th>33081</th>\n",
       "      <td>1145_734</td>\n",
       "      <td>2018-12-27</td>\n",
       "      <td>1145</td>\n",
       "    </tr>\n",
       "  </tbody>\n",
       "</table>\n",
       "</div>"
      ],
      "text/plain": [
       "               id message_date  user_id\n",
       "94381   1385_1090  2018-05-03   1385   \n",
       "109956  1443_55    2018-12-02   1443   \n",
       "75655   1320_9     2018-09-19   1320   \n",
       "118304  1481_75    2018-10-06   1481   \n",
       "91567   1379_253   2018-09-02   1379   \n",
       "85017   1356_34    2018-07-08   1356   \n",
       "97880   1401_212   2018-04-20   1401   \n",
       "67144   1285_332   2018-06-10   1285   \n",
       "60737   1268_52    2018-09-22   1268   \n",
       "33081   1145_734   2018-12-27   1145   "
      ]
     },
     "metadata": {},
     "output_type": "display_data"
    },
    {
     "name": "stdout",
     "output_type": "stream",
     "text": [
      "-------------------------\n",
      "Общая информация о данных\n",
      "<class 'pandas.core.frame.DataFrame'>\n",
      "RangeIndex: 123036 entries, 0 to 123035\n",
      "Data columns (total 3 columns):\n",
      " #   Column        Non-Null Count   Dtype \n",
      "---  ------        --------------   ----- \n",
      " 0   id            123036 non-null  object\n",
      " 1   message_date  123036 non-null  object\n",
      " 2   user_id       123036 non-null  int64 \n",
      "dtypes: int64(1), object(2)\n",
      "memory usage: 2.8+ MB\n",
      "-------------------------\n",
      "Количество дубликатов: 0\n"
     ]
    }
   ],
   "source": [
    "fast_review(msg)"
   ]
  },
  {
   "cell_type": "code",
   "execution_count": 7,
   "metadata": {},
   "outputs": [
    {
     "name": "stdout",
     "output_type": "stream",
     "text": [
      "Общий вид данных\n"
     ]
    },
    {
     "data": {
      "text/html": [
       "<div>\n",
       "<style scoped>\n",
       "    .dataframe tbody tr th:only-of-type {\n",
       "        vertical-align: middle;\n",
       "    }\n",
       "\n",
       "    .dataframe tbody tr th {\n",
       "        vertical-align: top;\n",
       "    }\n",
       "\n",
       "    .dataframe thead th {\n",
       "        text-align: right;\n",
       "    }\n",
       "</style>\n",
       "<table border=\"1\" class=\"dataframe\">\n",
       "  <thead>\n",
       "    <tr style=\"text-align: right;\">\n",
       "      <th></th>\n",
       "      <th>Unnamed: 0</th>\n",
       "      <th>id</th>\n",
       "      <th>mb_used</th>\n",
       "      <th>session_date</th>\n",
       "      <th>user_id</th>\n",
       "    </tr>\n",
       "  </thead>\n",
       "  <tbody>\n",
       "    <tr>\n",
       "      <th>26617</th>\n",
       "      <td>26617</td>\n",
       "      <td>1092_283</td>\n",
       "      <td>828.84</td>\n",
       "      <td>2018-08-02</td>\n",
       "      <td>1092</td>\n",
       "    </tr>\n",
       "    <tr>\n",
       "      <th>112390</th>\n",
       "      <td>112390</td>\n",
       "      <td>1380_519</td>\n",
       "      <td>912.76</td>\n",
       "      <td>2018-07-20</td>\n",
       "      <td>1380</td>\n",
       "    </tr>\n",
       "    <tr>\n",
       "      <th>99054</th>\n",
       "      <td>99054</td>\n",
       "      <td>1332_28</td>\n",
       "      <td>0.00</td>\n",
       "      <td>2018-06-28</td>\n",
       "      <td>1332</td>\n",
       "    </tr>\n",
       "    <tr>\n",
       "      <th>86235</th>\n",
       "      <td>86235</td>\n",
       "      <td>1292_351</td>\n",
       "      <td>451.91</td>\n",
       "      <td>2018-09-24</td>\n",
       "      <td>1292</td>\n",
       "    </tr>\n",
       "    <tr>\n",
       "      <th>6819</th>\n",
       "      <td>6819</td>\n",
       "      <td>1023_55</td>\n",
       "      <td>161.65</td>\n",
       "      <td>2018-12-19</td>\n",
       "      <td>1023</td>\n",
       "    </tr>\n",
       "    <tr>\n",
       "      <th>41366</th>\n",
       "      <td>41366</td>\n",
       "      <td>1145_102</td>\n",
       "      <td>277.28</td>\n",
       "      <td>2018-05-25</td>\n",
       "      <td>1145</td>\n",
       "    </tr>\n",
       "    <tr>\n",
       "      <th>49486</th>\n",
       "      <td>49486</td>\n",
       "      <td>1171_188</td>\n",
       "      <td>360.05</td>\n",
       "      <td>2018-09-21</td>\n",
       "      <td>1171</td>\n",
       "    </tr>\n",
       "    <tr>\n",
       "      <th>38558</th>\n",
       "      <td>38558</td>\n",
       "      <td>1135_38</td>\n",
       "      <td>0.00</td>\n",
       "      <td>2018-11-12</td>\n",
       "      <td>1135</td>\n",
       "    </tr>\n",
       "    <tr>\n",
       "      <th>135048</th>\n",
       "      <td>135048</td>\n",
       "      <td>1453_269</td>\n",
       "      <td>1087.96</td>\n",
       "      <td>2018-11-29</td>\n",
       "      <td>1453</td>\n",
       "    </tr>\n",
       "    <tr>\n",
       "      <th>140663</th>\n",
       "      <td>140663</td>\n",
       "      <td>1472_337</td>\n",
       "      <td>336.81</td>\n",
       "      <td>2018-01-22</td>\n",
       "      <td>1472</td>\n",
       "    </tr>\n",
       "  </tbody>\n",
       "</table>\n",
       "</div>"
      ],
      "text/plain": [
       "        Unnamed: 0        id  mb_used session_date  user_id\n",
       "26617   26617       1092_283  828.84   2018-08-02   1092   \n",
       "112390  112390      1380_519  912.76   2018-07-20   1380   \n",
       "99054   99054       1332_28   0.00     2018-06-28   1332   \n",
       "86235   86235       1292_351  451.91   2018-09-24   1292   \n",
       "6819    6819        1023_55   161.65   2018-12-19   1023   \n",
       "41366   41366       1145_102  277.28   2018-05-25   1145   \n",
       "49486   49486       1171_188  360.05   2018-09-21   1171   \n",
       "38558   38558       1135_38   0.00     2018-11-12   1135   \n",
       "135048  135048      1453_269  1087.96  2018-11-29   1453   \n",
       "140663  140663      1472_337  336.81   2018-01-22   1472   "
      ]
     },
     "metadata": {},
     "output_type": "display_data"
    },
    {
     "name": "stdout",
     "output_type": "stream",
     "text": [
      "-------------------------\n",
      "Общая информация о данных\n",
      "<class 'pandas.core.frame.DataFrame'>\n",
      "RangeIndex: 149396 entries, 0 to 149395\n",
      "Data columns (total 5 columns):\n",
      " #   Column        Non-Null Count   Dtype  \n",
      "---  ------        --------------   -----  \n",
      " 0   Unnamed: 0    149396 non-null  int64  \n",
      " 1   id            149396 non-null  object \n",
      " 2   mb_used       149396 non-null  float64\n",
      " 3   session_date  149396 non-null  object \n",
      " 4   user_id       149396 non-null  int64  \n",
      "dtypes: float64(1), int64(2), object(2)\n",
      "memory usage: 5.7+ MB\n",
      "-------------------------\n",
      "Количество дубликатов: 0\n"
     ]
    }
   ],
   "source": [
    "fast_review(internet)"
   ]
  },
  {
   "cell_type": "code",
   "execution_count": 8,
   "metadata": {},
   "outputs": [
    {
     "name": "stdout",
     "output_type": "stream",
     "text": [
      "Общий вид данных\n"
     ]
    },
    {
     "data": {
      "text/html": [
       "<div>\n",
       "<style scoped>\n",
       "    .dataframe tbody tr th:only-of-type {\n",
       "        vertical-align: middle;\n",
       "    }\n",
       "\n",
       "    .dataframe tbody tr th {\n",
       "        vertical-align: top;\n",
       "    }\n",
       "\n",
       "    .dataframe thead th {\n",
       "        text-align: right;\n",
       "    }\n",
       "</style>\n",
       "<table border=\"1\" class=\"dataframe\">\n",
       "  <thead>\n",
       "    <tr style=\"text-align: right;\">\n",
       "      <th></th>\n",
       "      <th>user_id</th>\n",
       "      <th>age</th>\n",
       "      <th>churn_date</th>\n",
       "      <th>city</th>\n",
       "      <th>first_name</th>\n",
       "      <th>last_name</th>\n",
       "      <th>reg_date</th>\n",
       "      <th>tariff</th>\n",
       "    </tr>\n",
       "  </thead>\n",
       "  <tbody>\n",
       "    <tr>\n",
       "      <th>90</th>\n",
       "      <td>1090</td>\n",
       "      <td>54</td>\n",
       "      <td>2018-12-03</td>\n",
       "      <td>Череповец</td>\n",
       "      <td>Екатерина</td>\n",
       "      <td>Астафьева</td>\n",
       "      <td>2018-10-11</td>\n",
       "      <td>ultra</td>\n",
       "    </tr>\n",
       "    <tr>\n",
       "      <th>254</th>\n",
       "      <td>1254</td>\n",
       "      <td>75</td>\n",
       "      <td>2018-08-17</td>\n",
       "      <td>Москва</td>\n",
       "      <td>Александра</td>\n",
       "      <td>Сухарева</td>\n",
       "      <td>2018-01-04</td>\n",
       "      <td>ultra</td>\n",
       "    </tr>\n",
       "    <tr>\n",
       "      <th>283</th>\n",
       "      <td>1283</td>\n",
       "      <td>50</td>\n",
       "      <td>NaN</td>\n",
       "      <td>Москва</td>\n",
       "      <td>Юлий</td>\n",
       "      <td>Крючков</td>\n",
       "      <td>2018-09-07</td>\n",
       "      <td>smart</td>\n",
       "    </tr>\n",
       "    <tr>\n",
       "      <th>445</th>\n",
       "      <td>1445</td>\n",
       "      <td>40</td>\n",
       "      <td>NaN</td>\n",
       "      <td>Москва</td>\n",
       "      <td>Рауль</td>\n",
       "      <td>Иванов</td>\n",
       "      <td>2018-12-29</td>\n",
       "      <td>smart</td>\n",
       "    </tr>\n",
       "    <tr>\n",
       "      <th>461</th>\n",
       "      <td>1461</td>\n",
       "      <td>53</td>\n",
       "      <td>NaN</td>\n",
       "      <td>Москва</td>\n",
       "      <td>Ангелина</td>\n",
       "      <td>Фетисова</td>\n",
       "      <td>2018-11-21</td>\n",
       "      <td>ultra</td>\n",
       "    </tr>\n",
       "    <tr>\n",
       "      <th>15</th>\n",
       "      <td>1015</td>\n",
       "      <td>26</td>\n",
       "      <td>NaN</td>\n",
       "      <td>Челябинск</td>\n",
       "      <td>Рузана</td>\n",
       "      <td>Алюшина</td>\n",
       "      <td>2018-04-30</td>\n",
       "      <td>smart</td>\n",
       "    </tr>\n",
       "    <tr>\n",
       "      <th>316</th>\n",
       "      <td>1316</td>\n",
       "      <td>42</td>\n",
       "      <td>NaN</td>\n",
       "      <td>Улан-Удэ</td>\n",
       "      <td>Аурелия</td>\n",
       "      <td>Алымова</td>\n",
       "      <td>2018-11-29</td>\n",
       "      <td>smart</td>\n",
       "    </tr>\n",
       "    <tr>\n",
       "      <th>489</th>\n",
       "      <td>1489</td>\n",
       "      <td>35</td>\n",
       "      <td>NaN</td>\n",
       "      <td>Санкт-Петербург</td>\n",
       "      <td>Павел</td>\n",
       "      <td>Гончаров</td>\n",
       "      <td>2018-08-15</td>\n",
       "      <td>smart</td>\n",
       "    </tr>\n",
       "    <tr>\n",
       "      <th>159</th>\n",
       "      <td>1159</td>\n",
       "      <td>64</td>\n",
       "      <td>NaN</td>\n",
       "      <td>Красноярск</td>\n",
       "      <td>Эльга</td>\n",
       "      <td>Аничкина</td>\n",
       "      <td>2018-11-28</td>\n",
       "      <td>smart</td>\n",
       "    </tr>\n",
       "    <tr>\n",
       "      <th>153</th>\n",
       "      <td>1153</td>\n",
       "      <td>59</td>\n",
       "      <td>NaN</td>\n",
       "      <td>Ульяновск</td>\n",
       "      <td>Евдокия</td>\n",
       "      <td>Одинцова</td>\n",
       "      <td>2018-10-18</td>\n",
       "      <td>smart</td>\n",
       "    </tr>\n",
       "  </tbody>\n",
       "</table>\n",
       "</div>"
      ],
      "text/plain": [
       "     user_id  age  churn_date             city  first_name  last_name  \\\n",
       "90   1090     54   2018-12-03  Череповец        Екатерина   Астафьева   \n",
       "254  1254     75   2018-08-17  Москва           Александра  Сухарева    \n",
       "283  1283     50   NaN         Москва           Юлий        Крючков     \n",
       "445  1445     40   NaN         Москва           Рауль       Иванов      \n",
       "461  1461     53   NaN         Москва           Ангелина    Фетисова    \n",
       "15   1015     26   NaN         Челябинск        Рузана      Алюшина     \n",
       "316  1316     42   NaN         Улан-Удэ         Аурелия     Алымова     \n",
       "489  1489     35   NaN         Санкт-Петербург  Павел       Гончаров    \n",
       "159  1159     64   NaN         Красноярск       Эльга       Аничкина    \n",
       "153  1153     59   NaN         Ульяновск        Евдокия     Одинцова    \n",
       "\n",
       "       reg_date tariff  \n",
       "90   2018-10-11  ultra  \n",
       "254  2018-01-04  ultra  \n",
       "283  2018-09-07  smart  \n",
       "445  2018-12-29  smart  \n",
       "461  2018-11-21  ultra  \n",
       "15   2018-04-30  smart  \n",
       "316  2018-11-29  smart  \n",
       "489  2018-08-15  smart  \n",
       "159  2018-11-28  smart  \n",
       "153  2018-10-18  smart  "
      ]
     },
     "metadata": {},
     "output_type": "display_data"
    },
    {
     "name": "stdout",
     "output_type": "stream",
     "text": [
      "-------------------------\n",
      "Общая информация о данных\n",
      "<class 'pandas.core.frame.DataFrame'>\n",
      "RangeIndex: 500 entries, 0 to 499\n",
      "Data columns (total 8 columns):\n",
      " #   Column      Non-Null Count  Dtype \n",
      "---  ------      --------------  ----- \n",
      " 0   user_id     500 non-null    int64 \n",
      " 1   age         500 non-null    int64 \n",
      " 2   churn_date  38 non-null     object\n",
      " 3   city        500 non-null    object\n",
      " 4   first_name  500 non-null    object\n",
      " 5   last_name   500 non-null    object\n",
      " 6   reg_date    500 non-null    object\n",
      " 7   tariff      500 non-null    object\n",
      "dtypes: int64(2), object(6)\n",
      "memory usage: 31.4+ KB\n",
      "-------------------------\n",
      "Количество дубликатов: 0\n"
     ]
    }
   ],
   "source": [
    "fast_review(users)"
   ]
  },
  {
   "cell_type": "code",
   "execution_count": 9,
   "metadata": {},
   "outputs": [
    {
     "data": {
      "text/html": [
       "<div>\n",
       "<style scoped>\n",
       "    .dataframe tbody tr th:only-of-type {\n",
       "        vertical-align: middle;\n",
       "    }\n",
       "\n",
       "    .dataframe tbody tr th {\n",
       "        vertical-align: top;\n",
       "    }\n",
       "\n",
       "    .dataframe thead th {\n",
       "        text-align: right;\n",
       "    }\n",
       "</style>\n",
       "<table border=\"1\" class=\"dataframe\">\n",
       "  <thead>\n",
       "    <tr style=\"text-align: right;\">\n",
       "      <th></th>\n",
       "      <th>messages_included</th>\n",
       "      <th>mb_per_month_included</th>\n",
       "      <th>minutes_included</th>\n",
       "      <th>rub_monthly_fee</th>\n",
       "      <th>rub_per_gb</th>\n",
       "      <th>rub_per_message</th>\n",
       "      <th>rub_per_minute</th>\n",
       "      <th>tariff_name</th>\n",
       "    </tr>\n",
       "  </thead>\n",
       "  <tbody>\n",
       "    <tr>\n",
       "      <th>0</th>\n",
       "      <td>50</td>\n",
       "      <td>15360</td>\n",
       "      <td>500</td>\n",
       "      <td>550</td>\n",
       "      <td>200</td>\n",
       "      <td>3</td>\n",
       "      <td>3</td>\n",
       "      <td>smart</td>\n",
       "    </tr>\n",
       "    <tr>\n",
       "      <th>1</th>\n",
       "      <td>1000</td>\n",
       "      <td>30720</td>\n",
       "      <td>3000</td>\n",
       "      <td>1950</td>\n",
       "      <td>150</td>\n",
       "      <td>1</td>\n",
       "      <td>1</td>\n",
       "      <td>ultra</td>\n",
       "    </tr>\n",
       "  </tbody>\n",
       "</table>\n",
       "</div>"
      ],
      "text/plain": [
       "   messages_included  mb_per_month_included  minutes_included  \\\n",
       "0  50                 15360                  500                \n",
       "1  1000               30720                  3000               \n",
       "\n",
       "   rub_monthly_fee  rub_per_gb  rub_per_message  rub_per_minute tariff_name  \n",
       "0  550              200         3                3               smart       \n",
       "1  1950             150         1                1               ultra       "
      ]
     },
     "execution_count": 9,
     "metadata": {},
     "output_type": "execute_result"
    }
   ],
   "source": [
    "tariffs.head()"
   ]
  },
  {
   "cell_type": "markdown",
   "metadata": {},
   "source": [
    "Сразу очевидны следующие проблемы:\n",
    "- Переменные с датами имеют тип данных object \n",
    "- Ряд переменных, например, тариф необходимо перевести в категориальный тип\n",
    "- В данных по интернет-сессиям есть лишний столбец unnamed"
   ]
  },
  {
   "cell_type": "markdown",
   "metadata": {},
   "source": [
    "[Вернуться к оглавлению](#title)"
   ]
  },
  {
   "cell_type": "markdown",
   "metadata": {},
   "source": [
    "<a id=\"first_steps\"></a>"
   ]
  },
  {
   "cell_type": "markdown",
   "metadata": {},
   "source": [
    "## Предобработка данных "
   ]
  },
  {
   "cell_type": "markdown",
   "metadata": {},
   "source": [
    "В данном разделе мы начнем с замены типов данных для ряда столбцов, после изучим массивы на момент наличия пропусков, дубликатов и прочих ошибок в данных.   "
   ]
  },
  {
   "cell_type": "markdown",
   "metadata": {},
   "source": [
    "[Вернуться к оглавлению](#title)"
   ]
  },
  {
   "cell_type": "code",
   "execution_count": 10,
   "metadata": {},
   "outputs": [],
   "source": [
    "def miss_table(data):\n",
    "    missings = pd.DataFrame(data.isna().mean()*100, columns = ['% miss'])\n",
    "    missings['# miss'] = pd.DataFrame(data.isna().sum())\n",
    "    display (missings.style.background_gradient('coolwarm'))"
   ]
  },
  {
   "cell_type": "code",
   "execution_count": 11,
   "metadata": {},
   "outputs": [],
   "source": [
    "def des_var(data):\n",
    "    for i in list(data):\n",
    "        if (data[i].dtypes!='object') and (data[i].nunique() > 10):\n",
    "             display (data[i].describe())\n",
    "        else: \n",
    "            display (data[i].value_counts())\n",
    "        print ('------------------------------')\n",
    "        print (' ')"
   ]
  },
  {
   "cell_type": "code",
   "execution_count": 12,
   "metadata": {},
   "outputs": [],
   "source": [
    "def united_description(df):\n",
    "    print ('Общая информация о массиве')\n",
    "    df.info()\n",
    "    print ('-----------------------------')\n",
    "    print ('Наличие пропусков в данных')\n",
    "    miss_table(df)\n",
    "    print ('-----------------------------')\n",
    "    print ('Общее описание переменных')\n",
    "    des_var(df)\n",
    "    print ('-----------------------------')\n",
    "    print ('Количество дубликатов: {}'.format(df.duplicated().sum()))"
   ]
  },
  {
   "cell_type": "markdown",
   "metadata": {},
   "source": [
    "<a id=\"types\"></a>"
   ]
  },
  {
   "cell_type": "markdown",
   "metadata": {},
   "source": [
    "### Замена типов данных "
   ]
  },
  {
   "cell_type": "code",
   "execution_count": 13,
   "metadata": {
    "scrolled": true
   },
   "outputs": [
    {
     "name": "stdout",
     "output_type": "stream",
     "text": [
      "Общая информация о массиве\n",
      "<class 'pandas.core.frame.DataFrame'>\n",
      "RangeIndex: 202607 entries, 0 to 202606\n",
      "Data columns (total 4 columns):\n",
      " #   Column     Non-Null Count   Dtype  \n",
      "---  ------     --------------   -----  \n",
      " 0   id         202607 non-null  object \n",
      " 1   call_date  202607 non-null  object \n",
      " 2   duration   202607 non-null  float64\n",
      " 3   user_id    202607 non-null  int64  \n",
      "dtypes: float64(1), int64(1), object(2)\n",
      "memory usage: 6.2+ MB\n",
      "-----------------------------\n",
      "Наличие пропусков в данных\n"
     ]
    },
    {
     "data": {
      "text/html": [
       "<style type=\"text/css\">\n",
       "#T_9e20c_row0_col0, #T_9e20c_row0_col1, #T_9e20c_row1_col0, #T_9e20c_row1_col1, #T_9e20c_row2_col0, #T_9e20c_row2_col1, #T_9e20c_row3_col0, #T_9e20c_row3_col1 {\n",
       "  background-color: #3b4cc0;\n",
       "  color: #f1f1f1;\n",
       "}\n",
       "</style>\n",
       "<table id=\"T_9e20c\">\n",
       "  <thead>\n",
       "    <tr>\n",
       "      <th class=\"blank level0\" >&nbsp;</th>\n",
       "      <th id=\"T_9e20c_level0_col0\" class=\"col_heading level0 col0\" >% miss</th>\n",
       "      <th id=\"T_9e20c_level0_col1\" class=\"col_heading level0 col1\" ># miss</th>\n",
       "    </tr>\n",
       "  </thead>\n",
       "  <tbody>\n",
       "    <tr>\n",
       "      <th id=\"T_9e20c_level0_row0\" class=\"row_heading level0 row0\" >id</th>\n",
       "      <td id=\"T_9e20c_row0_col0\" class=\"data row0 col0\" >0.000000</td>\n",
       "      <td id=\"T_9e20c_row0_col1\" class=\"data row0 col1\" >0</td>\n",
       "    </tr>\n",
       "    <tr>\n",
       "      <th id=\"T_9e20c_level0_row1\" class=\"row_heading level0 row1\" >call_date</th>\n",
       "      <td id=\"T_9e20c_row1_col0\" class=\"data row1 col0\" >0.000000</td>\n",
       "      <td id=\"T_9e20c_row1_col1\" class=\"data row1 col1\" >0</td>\n",
       "    </tr>\n",
       "    <tr>\n",
       "      <th id=\"T_9e20c_level0_row2\" class=\"row_heading level0 row2\" >duration</th>\n",
       "      <td id=\"T_9e20c_row2_col0\" class=\"data row2 col0\" >0.000000</td>\n",
       "      <td id=\"T_9e20c_row2_col1\" class=\"data row2 col1\" >0</td>\n",
       "    </tr>\n",
       "    <tr>\n",
       "      <th id=\"T_9e20c_level0_row3\" class=\"row_heading level0 row3\" >user_id</th>\n",
       "      <td id=\"T_9e20c_row3_col0\" class=\"data row3 col0\" >0.000000</td>\n",
       "      <td id=\"T_9e20c_row3_col1\" class=\"data row3 col1\" >0</td>\n",
       "    </tr>\n",
       "  </tbody>\n",
       "</table>\n"
      ],
      "text/plain": [
       "<pandas.io.formats.style.Styler at 0x1a12ac76a60>"
      ]
     },
     "metadata": {},
     "output_type": "display_data"
    },
    {
     "name": "stdout",
     "output_type": "stream",
     "text": [
      "-----------------------------\n",
      "Общее описание переменных\n"
     ]
    },
    {
     "data": {
      "text/plain": [
       "1000_0      1\n",
       "1344_881    1\n",
       "1344_883    1\n",
       "1344_884    1\n",
       "1344_885    1\n",
       "           ..\n",
       "1171_562    1\n",
       "1171_563    1\n",
       "1171_564    1\n",
       "1171_565    1\n",
       "1499_219    1\n",
       "Name: id, Length: 202607, dtype: int64"
      ]
     },
     "metadata": {},
     "output_type": "display_data"
    },
    {
     "name": "stdout",
     "output_type": "stream",
     "text": [
      "------------------------------\n",
      " \n"
     ]
    },
    {
     "data": {
      "text/plain": [
       "2018-12-31    1435\n",
       "2018-12-29    1202\n",
       "2018-12-30    1192\n",
       "2018-12-22    1158\n",
       "2018-12-26    1149\n",
       "              ... \n",
       "2018-01-05    20  \n",
       "2018-01-07    18  \n",
       "2018-01-02    9   \n",
       "2018-01-03    7   \n",
       "2018-01-01    5   \n",
       "Name: call_date, Length: 365, dtype: int64"
      ]
     },
     "metadata": {},
     "output_type": "display_data"
    },
    {
     "name": "stdout",
     "output_type": "stream",
     "text": [
      "------------------------------\n",
      " \n"
     ]
    },
    {
     "data": {
      "text/plain": [
       "count    202607.000\n",
       "mean     6.756     \n",
       "std      5.843     \n",
       "min      0.000     \n",
       "25%      1.300     \n",
       "50%      6.000     \n",
       "75%      10.700    \n",
       "max      38.000    \n",
       "Name: duration, dtype: float64"
      ]
     },
     "metadata": {},
     "output_type": "display_data"
    },
    {
     "name": "stdout",
     "output_type": "stream",
     "text": [
      "------------------------------\n",
      " \n"
     ]
    },
    {
     "data": {
      "text/plain": [
       "count    202607.000\n",
       "mean     1253.941  \n",
       "std      144.723   \n",
       "min      1000.000  \n",
       "25%      1126.000  \n",
       "50%      1260.000  \n",
       "75%      1379.000  \n",
       "max      1499.000  \n",
       "Name: user_id, dtype: float64"
      ]
     },
     "metadata": {},
     "output_type": "display_data"
    },
    {
     "name": "stdout",
     "output_type": "stream",
     "text": [
      "------------------------------\n",
      " \n",
      "-----------------------------\n",
      "Количество дубликатов: 0\n"
     ]
    }
   ],
   "source": [
    "united_description(calls)"
   ]
  },
  {
   "cell_type": "markdown",
   "metadata": {},
   "source": [
    "Замена требуется переменной call_date"
   ]
  },
  {
   "cell_type": "code",
   "execution_count": 14,
   "metadata": {},
   "outputs": [],
   "source": [
    "calls['call_date'] = pd.to_datetime(calls['call_date'], format = '%Y-%m-%dT%H:%M:%S')"
   ]
  },
  {
   "cell_type": "code",
   "execution_count": 15,
   "metadata": {
    "scrolled": false
   },
   "outputs": [
    {
     "name": "stdout",
     "output_type": "stream",
     "text": [
      "Общая информация о массиве\n",
      "<class 'pandas.core.frame.DataFrame'>\n",
      "RangeIndex: 149396 entries, 0 to 149395\n",
      "Data columns (total 5 columns):\n",
      " #   Column        Non-Null Count   Dtype  \n",
      "---  ------        --------------   -----  \n",
      " 0   Unnamed: 0    149396 non-null  int64  \n",
      " 1   id            149396 non-null  object \n",
      " 2   mb_used       149396 non-null  float64\n",
      " 3   session_date  149396 non-null  object \n",
      " 4   user_id       149396 non-null  int64  \n",
      "dtypes: float64(1), int64(2), object(2)\n",
      "memory usage: 5.7+ MB\n",
      "-----------------------------\n",
      "Наличие пропусков в данных\n"
     ]
    },
    {
     "data": {
      "text/html": [
       "<style type=\"text/css\">\n",
       "#T_cf65e_row0_col0, #T_cf65e_row0_col1, #T_cf65e_row1_col0, #T_cf65e_row1_col1, #T_cf65e_row2_col0, #T_cf65e_row2_col1, #T_cf65e_row3_col0, #T_cf65e_row3_col1, #T_cf65e_row4_col0, #T_cf65e_row4_col1 {\n",
       "  background-color: #3b4cc0;\n",
       "  color: #f1f1f1;\n",
       "}\n",
       "</style>\n",
       "<table id=\"T_cf65e\">\n",
       "  <thead>\n",
       "    <tr>\n",
       "      <th class=\"blank level0\" >&nbsp;</th>\n",
       "      <th id=\"T_cf65e_level0_col0\" class=\"col_heading level0 col0\" >% miss</th>\n",
       "      <th id=\"T_cf65e_level0_col1\" class=\"col_heading level0 col1\" ># miss</th>\n",
       "    </tr>\n",
       "  </thead>\n",
       "  <tbody>\n",
       "    <tr>\n",
       "      <th id=\"T_cf65e_level0_row0\" class=\"row_heading level0 row0\" >Unnamed: 0</th>\n",
       "      <td id=\"T_cf65e_row0_col0\" class=\"data row0 col0\" >0.000000</td>\n",
       "      <td id=\"T_cf65e_row0_col1\" class=\"data row0 col1\" >0</td>\n",
       "    </tr>\n",
       "    <tr>\n",
       "      <th id=\"T_cf65e_level0_row1\" class=\"row_heading level0 row1\" >id</th>\n",
       "      <td id=\"T_cf65e_row1_col0\" class=\"data row1 col0\" >0.000000</td>\n",
       "      <td id=\"T_cf65e_row1_col1\" class=\"data row1 col1\" >0</td>\n",
       "    </tr>\n",
       "    <tr>\n",
       "      <th id=\"T_cf65e_level0_row2\" class=\"row_heading level0 row2\" >mb_used</th>\n",
       "      <td id=\"T_cf65e_row2_col0\" class=\"data row2 col0\" >0.000000</td>\n",
       "      <td id=\"T_cf65e_row2_col1\" class=\"data row2 col1\" >0</td>\n",
       "    </tr>\n",
       "    <tr>\n",
       "      <th id=\"T_cf65e_level0_row3\" class=\"row_heading level0 row3\" >session_date</th>\n",
       "      <td id=\"T_cf65e_row3_col0\" class=\"data row3 col0\" >0.000000</td>\n",
       "      <td id=\"T_cf65e_row3_col1\" class=\"data row3 col1\" >0</td>\n",
       "    </tr>\n",
       "    <tr>\n",
       "      <th id=\"T_cf65e_level0_row4\" class=\"row_heading level0 row4\" >user_id</th>\n",
       "      <td id=\"T_cf65e_row4_col0\" class=\"data row4 col0\" >0.000000</td>\n",
       "      <td id=\"T_cf65e_row4_col1\" class=\"data row4 col1\" >0</td>\n",
       "    </tr>\n",
       "  </tbody>\n",
       "</table>\n"
      ],
      "text/plain": [
       "<pandas.io.formats.style.Styler at 0x1a127e47e80>"
      ]
     },
     "metadata": {},
     "output_type": "display_data"
    },
    {
     "name": "stdout",
     "output_type": "stream",
     "text": [
      "-----------------------------\n",
      "Общее описание переменных\n"
     ]
    },
    {
     "data": {
      "text/plain": [
       "count    149396.000\n",
       "mean     74697.500 \n",
       "std      43127.055 \n",
       "min      0.000     \n",
       "25%      37348.750 \n",
       "50%      74697.500 \n",
       "75%      112046.250\n",
       "max      149395.000\n",
       "Name: Unnamed: 0, dtype: float64"
      ]
     },
     "metadata": {},
     "output_type": "display_data"
    },
    {
     "name": "stdout",
     "output_type": "stream",
     "text": [
      "------------------------------\n",
      " \n"
     ]
    },
    {
     "data": {
      "text/plain": [
       "1000_0      1\n",
       "1333_109    1\n",
       "1334_0      1\n",
       "1334_1      1\n",
       "1334_2      1\n",
       "           ..\n",
       "1172_80     1\n",
       "1172_81     1\n",
       "1172_82     1\n",
       "1172_83     1\n",
       "1499_156    1\n",
       "Name: id, Length: 149396, dtype: int64"
      ]
     },
     "metadata": {},
     "output_type": "display_data"
    },
    {
     "name": "stdout",
     "output_type": "stream",
     "text": [
      "------------------------------\n",
      " \n"
     ]
    },
    {
     "data": {
      "text/plain": [
       "count    149396.000\n",
       "mean     370.192   \n",
       "std      278.301   \n",
       "min      0.000     \n",
       "25%      138.188   \n",
       "50%      348.015   \n",
       "75%      559.553   \n",
       "max      1724.830  \n",
       "Name: mb_used, dtype: float64"
      ]
     },
     "metadata": {},
     "output_type": "display_data"
    },
    {
     "name": "stdout",
     "output_type": "stream",
     "text": [
      "------------------------------\n",
      " \n"
     ]
    },
    {
     "data": {
      "text/plain": [
       "2018-12-31    1057\n",
       "2018-12-30    903 \n",
       "2018-12-25    859 \n",
       "2018-12-26    844 \n",
       "2018-12-22    834 \n",
       "             ...  \n",
       "2018-01-05    14  \n",
       "2018-01-04    9   \n",
       "2018-01-03    6   \n",
       "2018-01-02    3   \n",
       "2018-01-01    3   \n",
       "Name: session_date, Length: 365, dtype: int64"
      ]
     },
     "metadata": {},
     "output_type": "display_data"
    },
    {
     "name": "stdout",
     "output_type": "stream",
     "text": [
      "------------------------------\n",
      " \n"
     ]
    },
    {
     "data": {
      "text/plain": [
       "count    149396.000\n",
       "mean     1252.100  \n",
       "std      144.051   \n",
       "min      1000.000  \n",
       "25%      1130.000  \n",
       "50%      1251.000  \n",
       "75%      1380.000  \n",
       "max      1499.000  \n",
       "Name: user_id, dtype: float64"
      ]
     },
     "metadata": {},
     "output_type": "display_data"
    },
    {
     "name": "stdout",
     "output_type": "stream",
     "text": [
      "------------------------------\n",
      " \n",
      "-----------------------------\n",
      "Количество дубликатов: 0\n"
     ]
    }
   ],
   "source": [
    "united_description(internet)"
   ]
  },
  {
   "cell_type": "markdown",
   "metadata": {},
   "source": [
    "Замена требуется переменной session_date, а также необходимо удалить столбец Unnamed, который, видимо, представляет собой продублированную индексацию строк."
   ]
  },
  {
   "cell_type": "code",
   "execution_count": 16,
   "metadata": {},
   "outputs": [],
   "source": [
    "internet['session_date'] = pd.to_datetime(internet['session_date'], format = '%Y-%m-%dT%H:%M:%S')"
   ]
  },
  {
   "cell_type": "code",
   "execution_count": 17,
   "metadata": {},
   "outputs": [],
   "source": [
    "internet = internet.drop('Unnamed: 0', axis=1)"
   ]
  },
  {
   "cell_type": "code",
   "execution_count": 18,
   "metadata": {
    "scrolled": false
   },
   "outputs": [
    {
     "name": "stdout",
     "output_type": "stream",
     "text": [
      "Общая информация о массиве\n",
      "<class 'pandas.core.frame.DataFrame'>\n",
      "RangeIndex: 123036 entries, 0 to 123035\n",
      "Data columns (total 3 columns):\n",
      " #   Column        Non-Null Count   Dtype \n",
      "---  ------        --------------   ----- \n",
      " 0   id            123036 non-null  object\n",
      " 1   message_date  123036 non-null  object\n",
      " 2   user_id       123036 non-null  int64 \n",
      "dtypes: int64(1), object(2)\n",
      "memory usage: 2.8+ MB\n",
      "-----------------------------\n",
      "Наличие пропусков в данных\n"
     ]
    },
    {
     "data": {
      "text/html": [
       "<style type=\"text/css\">\n",
       "#T_5f08e_row0_col0, #T_5f08e_row0_col1, #T_5f08e_row1_col0, #T_5f08e_row1_col1, #T_5f08e_row2_col0, #T_5f08e_row2_col1 {\n",
       "  background-color: #3b4cc0;\n",
       "  color: #f1f1f1;\n",
       "}\n",
       "</style>\n",
       "<table id=\"T_5f08e\">\n",
       "  <thead>\n",
       "    <tr>\n",
       "      <th class=\"blank level0\" >&nbsp;</th>\n",
       "      <th id=\"T_5f08e_level0_col0\" class=\"col_heading level0 col0\" >% miss</th>\n",
       "      <th id=\"T_5f08e_level0_col1\" class=\"col_heading level0 col1\" ># miss</th>\n",
       "    </tr>\n",
       "  </thead>\n",
       "  <tbody>\n",
       "    <tr>\n",
       "      <th id=\"T_5f08e_level0_row0\" class=\"row_heading level0 row0\" >id</th>\n",
       "      <td id=\"T_5f08e_row0_col0\" class=\"data row0 col0\" >0.000000</td>\n",
       "      <td id=\"T_5f08e_row0_col1\" class=\"data row0 col1\" >0</td>\n",
       "    </tr>\n",
       "    <tr>\n",
       "      <th id=\"T_5f08e_level0_row1\" class=\"row_heading level0 row1\" >message_date</th>\n",
       "      <td id=\"T_5f08e_row1_col0\" class=\"data row1 col0\" >0.000000</td>\n",
       "      <td id=\"T_5f08e_row1_col1\" class=\"data row1 col1\" >0</td>\n",
       "    </tr>\n",
       "    <tr>\n",
       "      <th id=\"T_5f08e_level0_row2\" class=\"row_heading level0 row2\" >user_id</th>\n",
       "      <td id=\"T_5f08e_row2_col0\" class=\"data row2 col0\" >0.000000</td>\n",
       "      <td id=\"T_5f08e_row2_col1\" class=\"data row2 col1\" >0</td>\n",
       "    </tr>\n",
       "  </tbody>\n",
       "</table>\n"
      ],
      "text/plain": [
       "<pandas.io.formats.style.Styler at 0x1a12d62d100>"
      ]
     },
     "metadata": {},
     "output_type": "display_data"
    },
    {
     "name": "stdout",
     "output_type": "stream",
     "text": [
      "-----------------------------\n",
      "Общее описание переменных\n"
     ]
    },
    {
     "data": {
      "text/plain": [
       "1000_0      1\n",
       "1344_248    1\n",
       "1344_96     1\n",
       "1344_95     1\n",
       "1344_94     1\n",
       "           ..\n",
       "1174_352    1\n",
       "1174_351    1\n",
       "1174_350    1\n",
       "1174_349    1\n",
       "1499_183    1\n",
       "Name: id, Length: 123036, dtype: int64"
      ]
     },
     "metadata": {},
     "output_type": "display_data"
    },
    {
     "name": "stdout",
     "output_type": "stream",
     "text": [
      "------------------------------\n",
      " \n"
     ]
    },
    {
     "data": {
      "text/plain": [
       "2018-12-31    859\n",
       "2018-12-30    765\n",
       "2018-12-21    712\n",
       "2018-12-29    702\n",
       "2018-12-28    699\n",
       "             ... \n",
       "2018-01-11    12 \n",
       "2018-01-05    10 \n",
       "2018-01-04    10 \n",
       "2018-01-02    10 \n",
       "2018-01-03    4  \n",
       "Name: message_date, Length: 364, dtype: int64"
      ]
     },
     "metadata": {},
     "output_type": "display_data"
    },
    {
     "name": "stdout",
     "output_type": "stream",
     "text": [
      "------------------------------\n",
      " \n"
     ]
    },
    {
     "data": {
      "text/plain": [
       "count    123036.000\n",
       "mean     1256.989  \n",
       "std      143.524   \n",
       "min      1000.000  \n",
       "25%      1134.000  \n",
       "50%      1271.000  \n",
       "75%      1381.000  \n",
       "max      1499.000  \n",
       "Name: user_id, dtype: float64"
      ]
     },
     "metadata": {},
     "output_type": "display_data"
    },
    {
     "name": "stdout",
     "output_type": "stream",
     "text": [
      "------------------------------\n",
      " \n",
      "-----------------------------\n",
      "Количество дубликатов: 0\n"
     ]
    }
   ],
   "source": [
    "united_description(msg)"
   ]
  },
  {
   "cell_type": "markdown",
   "metadata": {},
   "source": [
    "Замена требуется переменной message_date"
   ]
  },
  {
   "cell_type": "code",
   "execution_count": 19,
   "metadata": {},
   "outputs": [],
   "source": [
    "msg['message_date'] = pd.to_datetime(msg['message_date'], format = '%Y-%m-%dT%H:%M:%S')"
   ]
  },
  {
   "cell_type": "markdown",
   "metadata": {},
   "source": [
    "Замена проведена успешно"
   ]
  },
  {
   "cell_type": "markdown",
   "metadata": {},
   "source": [
    "Датафрейму tarifs де-факто никакие правки не нужны, так как он просто представляет собой информацию о двух тарифах, целиком состоящую из целочисленных значений"
   ]
  },
  {
   "cell_type": "code",
   "execution_count": 20,
   "metadata": {
    "scrolled": true
   },
   "outputs": [
    {
     "name": "stdout",
     "output_type": "stream",
     "text": [
      "Общая информация о массиве\n",
      "<class 'pandas.core.frame.DataFrame'>\n",
      "RangeIndex: 500 entries, 0 to 499\n",
      "Data columns (total 8 columns):\n",
      " #   Column      Non-Null Count  Dtype \n",
      "---  ------      --------------  ----- \n",
      " 0   user_id     500 non-null    int64 \n",
      " 1   age         500 non-null    int64 \n",
      " 2   churn_date  38 non-null     object\n",
      " 3   city        500 non-null    object\n",
      " 4   first_name  500 non-null    object\n",
      " 5   last_name   500 non-null    object\n",
      " 6   reg_date    500 non-null    object\n",
      " 7   tariff      500 non-null    object\n",
      "dtypes: int64(2), object(6)\n",
      "memory usage: 31.4+ KB\n",
      "-----------------------------\n",
      "Наличие пропусков в данных\n"
     ]
    },
    {
     "data": {
      "text/html": [
       "<style type=\"text/css\">\n",
       "#T_e66e7_row0_col0, #T_e66e7_row0_col1, #T_e66e7_row1_col0, #T_e66e7_row1_col1, #T_e66e7_row3_col0, #T_e66e7_row3_col1, #T_e66e7_row4_col0, #T_e66e7_row4_col1, #T_e66e7_row5_col0, #T_e66e7_row5_col1, #T_e66e7_row6_col0, #T_e66e7_row6_col1, #T_e66e7_row7_col0, #T_e66e7_row7_col1 {\n",
       "  background-color: #3b4cc0;\n",
       "  color: #f1f1f1;\n",
       "}\n",
       "#T_e66e7_row2_col0, #T_e66e7_row2_col1 {\n",
       "  background-color: #b40426;\n",
       "  color: #f1f1f1;\n",
       "}\n",
       "</style>\n",
       "<table id=\"T_e66e7\">\n",
       "  <thead>\n",
       "    <tr>\n",
       "      <th class=\"blank level0\" >&nbsp;</th>\n",
       "      <th id=\"T_e66e7_level0_col0\" class=\"col_heading level0 col0\" >% miss</th>\n",
       "      <th id=\"T_e66e7_level0_col1\" class=\"col_heading level0 col1\" ># miss</th>\n",
       "    </tr>\n",
       "  </thead>\n",
       "  <tbody>\n",
       "    <tr>\n",
       "      <th id=\"T_e66e7_level0_row0\" class=\"row_heading level0 row0\" >user_id</th>\n",
       "      <td id=\"T_e66e7_row0_col0\" class=\"data row0 col0\" >0.000000</td>\n",
       "      <td id=\"T_e66e7_row0_col1\" class=\"data row0 col1\" >0</td>\n",
       "    </tr>\n",
       "    <tr>\n",
       "      <th id=\"T_e66e7_level0_row1\" class=\"row_heading level0 row1\" >age</th>\n",
       "      <td id=\"T_e66e7_row1_col0\" class=\"data row1 col0\" >0.000000</td>\n",
       "      <td id=\"T_e66e7_row1_col1\" class=\"data row1 col1\" >0</td>\n",
       "    </tr>\n",
       "    <tr>\n",
       "      <th id=\"T_e66e7_level0_row2\" class=\"row_heading level0 row2\" >churn_date</th>\n",
       "      <td id=\"T_e66e7_row2_col0\" class=\"data row2 col0\" >92.400000</td>\n",
       "      <td id=\"T_e66e7_row2_col1\" class=\"data row2 col1\" >462</td>\n",
       "    </tr>\n",
       "    <tr>\n",
       "      <th id=\"T_e66e7_level0_row3\" class=\"row_heading level0 row3\" >city</th>\n",
       "      <td id=\"T_e66e7_row3_col0\" class=\"data row3 col0\" >0.000000</td>\n",
       "      <td id=\"T_e66e7_row3_col1\" class=\"data row3 col1\" >0</td>\n",
       "    </tr>\n",
       "    <tr>\n",
       "      <th id=\"T_e66e7_level0_row4\" class=\"row_heading level0 row4\" >first_name</th>\n",
       "      <td id=\"T_e66e7_row4_col0\" class=\"data row4 col0\" >0.000000</td>\n",
       "      <td id=\"T_e66e7_row4_col1\" class=\"data row4 col1\" >0</td>\n",
       "    </tr>\n",
       "    <tr>\n",
       "      <th id=\"T_e66e7_level0_row5\" class=\"row_heading level0 row5\" >last_name</th>\n",
       "      <td id=\"T_e66e7_row5_col0\" class=\"data row5 col0\" >0.000000</td>\n",
       "      <td id=\"T_e66e7_row5_col1\" class=\"data row5 col1\" >0</td>\n",
       "    </tr>\n",
       "    <tr>\n",
       "      <th id=\"T_e66e7_level0_row6\" class=\"row_heading level0 row6\" >reg_date</th>\n",
       "      <td id=\"T_e66e7_row6_col0\" class=\"data row6 col0\" >0.000000</td>\n",
       "      <td id=\"T_e66e7_row6_col1\" class=\"data row6 col1\" >0</td>\n",
       "    </tr>\n",
       "    <tr>\n",
       "      <th id=\"T_e66e7_level0_row7\" class=\"row_heading level0 row7\" >tariff</th>\n",
       "      <td id=\"T_e66e7_row7_col0\" class=\"data row7 col0\" >0.000000</td>\n",
       "      <td id=\"T_e66e7_row7_col1\" class=\"data row7 col1\" >0</td>\n",
       "    </tr>\n",
       "  </tbody>\n",
       "</table>\n"
      ],
      "text/plain": [
       "<pandas.io.formats.style.Styler at 0x1a127e47520>"
      ]
     },
     "metadata": {},
     "output_type": "display_data"
    },
    {
     "name": "stdout",
     "output_type": "stream",
     "text": [
      "-----------------------------\n",
      "Общее описание переменных\n"
     ]
    },
    {
     "data": {
      "text/plain": [
       "count    500.000 \n",
       "mean     1249.500\n",
       "std      144.482 \n",
       "min      1000.000\n",
       "25%      1124.750\n",
       "50%      1249.500\n",
       "75%      1374.250\n",
       "max      1499.000\n",
       "Name: user_id, dtype: float64"
      ]
     },
     "metadata": {},
     "output_type": "display_data"
    },
    {
     "name": "stdout",
     "output_type": "stream",
     "text": [
      "------------------------------\n",
      " \n"
     ]
    },
    {
     "data": {
      "text/plain": [
       "count    500.000\n",
       "mean     46.588 \n",
       "std      16.668 \n",
       "min      18.000 \n",
       "25%      32.000 \n",
       "50%      46.000 \n",
       "75%      62.000 \n",
       "max      75.000 \n",
       "Name: age, dtype: float64"
      ]
     },
     "metadata": {},
     "output_type": "display_data"
    },
    {
     "name": "stdout",
     "output_type": "stream",
     "text": [
      "------------------------------\n",
      " \n"
     ]
    },
    {
     "data": {
      "text/plain": [
       "2018-12-03    2\n",
       "2018-10-03    2\n",
       "2018-10-14    2\n",
       "2018-12-09    2\n",
       "2018-12-21    2\n",
       "2018-12-30    1\n",
       "2018-10-28    1\n",
       "2018-11-26    1\n",
       "2018-11-27    1\n",
       "2018-11-16    1\n",
       "2018-10-27    1\n",
       "2018-10-05    1\n",
       "2018-09-27    1\n",
       "2018-11-13    1\n",
       "2018-12-25    1\n",
       "2018-12-14    1\n",
       "2018-12-24    1\n",
       "2018-09-26    1\n",
       "2018-11-22    1\n",
       "2018-08-17    1\n",
       "2018-10-04    1\n",
       "2018-09-02    1\n",
       "2018-12-18    1\n",
       "2018-11-30    1\n",
       "2018-12-20    1\n",
       "2018-12-16    1\n",
       "2018-11-07    1\n",
       "2018-12-23    1\n",
       "2018-08-31    1\n",
       "2018-12-26    1\n",
       "2018-12-11    1\n",
       "2018-11-21    1\n",
       "2018-10-25    1\n",
       "Name: churn_date, dtype: int64"
      ]
     },
     "metadata": {},
     "output_type": "display_data"
    },
    {
     "name": "stdout",
     "output_type": "stream",
     "text": [
      "------------------------------\n",
      " \n"
     ]
    },
    {
     "data": {
      "text/plain": [
       "Москва             99\n",
       "Санкт-Петербург    39\n",
       "Новосибирск        16\n",
       "Омск               14\n",
       "Казань             14\n",
       "                   ..\n",
       "Архангельск        1 \n",
       "Иваново            1 \n",
       "Нижневартовск      1 \n",
       "Химки              1 \n",
       "Подольск           1 \n",
       "Name: city, Length: 76, dtype: int64"
      ]
     },
     "metadata": {},
     "output_type": "display_data"
    },
    {
     "name": "stdout",
     "output_type": "stream",
     "text": [
      "------------------------------\n",
      " \n"
     ]
    },
    {
     "data": {
      "text/plain": [
       "Радим      6\n",
       "Леонид     5\n",
       "Пётр       5\n",
       "Андрей     4\n",
       "Адам       4\n",
       "          ..\n",
       "Зинаида    1\n",
       "Глеб       1\n",
       "Роза       1\n",
       "Юзефа      1\n",
       "Трифон     1\n",
       "Name: first_name, Length: 246, dtype: int64"
      ]
     },
     "metadata": {},
     "output_type": "display_data"
    },
    {
     "name": "stdout",
     "output_type": "stream",
     "text": [
      "------------------------------\n",
      " \n"
     ]
    },
    {
     "data": {
      "text/plain": [
       "Андреенко     5\n",
       "Березина      3\n",
       "Аркадьев      3\n",
       "Булгаков      3\n",
       "Соловьев      3\n",
       "             ..\n",
       "Медведев      1\n",
       "Минаева       1\n",
       "Авдонюшкин    1\n",
       "Андрейчук     1\n",
       "Акимчин       1\n",
       "Name: last_name, Length: 419, dtype: int64"
      ]
     },
     "metadata": {},
     "output_type": "display_data"
    },
    {
     "name": "stdout",
     "output_type": "stream",
     "text": [
      "------------------------------\n",
      " \n"
     ]
    },
    {
     "data": {
      "text/plain": [
       "2018-05-28    8\n",
       "2018-11-16    5\n",
       "2018-10-05    5\n",
       "2018-04-03    5\n",
       "2018-01-04    5\n",
       "             ..\n",
       "2018-09-20    1\n",
       "2018-04-28    1\n",
       "2018-08-07    1\n",
       "2018-06-18    1\n",
       "2018-04-25    1\n",
       "Name: reg_date, Length: 270, dtype: int64"
      ]
     },
     "metadata": {},
     "output_type": "display_data"
    },
    {
     "name": "stdout",
     "output_type": "stream",
     "text": [
      "------------------------------\n",
      " \n"
     ]
    },
    {
     "data": {
      "text/plain": [
       "smart    351\n",
       "ultra    149\n",
       "Name: tariff, dtype: int64"
      ]
     },
     "metadata": {},
     "output_type": "display_data"
    },
    {
     "name": "stdout",
     "output_type": "stream",
     "text": [
      "------------------------------\n",
      " \n",
      "-----------------------------\n",
      "Количество дубликатов: 0\n"
     ]
    }
   ],
   "source": [
    "united_description(users)"
   ]
  },
  {
   "cell_type": "markdown",
   "metadata": {},
   "source": [
    "Замена требуется переменным reg_date и churn_date на тип datetime, а переменной tariff на категориальный тип."
   ]
  },
  {
   "cell_type": "code",
   "execution_count": 21,
   "metadata": {},
   "outputs": [],
   "source": [
    "users['reg_date'] = pd.to_datetime(users['reg_date'], format = '%Y-%m-%dT%H:%M:%S')"
   ]
  },
  {
   "cell_type": "code",
   "execution_count": 22,
   "metadata": {},
   "outputs": [],
   "source": [
    "users['churn_date'] = pd.to_datetime(users['churn_date'], format = '%Y-%m-%dT%H:%M:%S')"
   ]
  },
  {
   "cell_type": "code",
   "execution_count": 23,
   "metadata": {},
   "outputs": [],
   "source": [
    "users['tariff'] = users['tariff'].astype('category')"
   ]
  },
  {
   "cell_type": "markdown",
   "metadata": {},
   "source": [
    "Замены проведены успешно"
   ]
  },
  {
   "cell_type": "markdown",
   "metadata": {},
   "source": [
    "[Вернуться к оглавлению](#title)"
   ]
  },
  {
   "cell_type": "markdown",
   "metadata": {},
   "source": [
    "<a id=\"mistakes\"></a>"
   ]
  },
  {
   "cell_type": "markdown",
   "metadata": {},
   "source": [
    "### Обработка ошибок"
   ]
  },
  {
   "cell_type": "markdown",
   "metadata": {},
   "source": [
    "Из анализа данных, проведенного выше, видим, что пропуски есть только в переменной churn_date массива users, где они должны быть. Поэтому заполнением/удалением пропусков в данном случае заниматься не требуется."
   ]
  },
  {
   "cell_type": "markdown",
   "metadata": {},
   "source": [
    "Полные дубликаты в данных у нас также отсутствуют, что в целом логично, так как массив с пользователями у нас специально отобран, а остальные массивы представляют из себя логи с уникальными id. "
   ]
  },
  {
   "cell_type": "markdown",
   "metadata": {},
   "source": [
    "Очевидные ошибки в данных отсутствуют, поэтому начинаем искать неочевидные."
   ]
  },
  {
   "cell_type": "code",
   "execution_count": 24,
   "metadata": {},
   "outputs": [
    {
     "data": {
      "text/plain": [
       "1000_0      1\n",
       "1344_881    1\n",
       "1344_883    1\n",
       "1344_884    1\n",
       "1344_885    1\n",
       "           ..\n",
       "1171_562    1\n",
       "1171_563    1\n",
       "1171_564    1\n",
       "1171_565    1\n",
       "1499_219    1\n",
       "Name: id, Length: 202607, dtype: int64"
      ]
     },
     "metadata": {},
     "output_type": "display_data"
    },
    {
     "name": "stdout",
     "output_type": "stream",
     "text": [
      "------------------------------\n",
      " \n"
     ]
    },
    {
     "name": "stderr",
     "output_type": "stream",
     "text": [
      "C:\\Users\\CaIII\\AppData\\Local\\Temp\\ipykernel_35408\\2421465954.py:4: FutureWarning: Treating datetime data as categorical rather than numeric in `.describe` is deprecated and will be removed in a future version of pandas. Specify `datetime_is_numeric=True` to silence this warning and adopt the future behavior now.\n",
      "  display (data[i].describe())\n"
     ]
    },
    {
     "data": {
      "text/plain": [
       "count     202607             \n",
       "unique    365                \n",
       "top       2018-12-31 00:00:00\n",
       "freq      1435               \n",
       "first     2018-01-01 00:00:00\n",
       "last      2018-12-31 00:00:00\n",
       "Name: call_date, dtype: object"
      ]
     },
     "metadata": {},
     "output_type": "display_data"
    },
    {
     "name": "stdout",
     "output_type": "stream",
     "text": [
      "------------------------------\n",
      " \n"
     ]
    },
    {
     "data": {
      "text/plain": [
       "count    202607.000\n",
       "mean     6.756     \n",
       "std      5.843     \n",
       "min      0.000     \n",
       "25%      1.300     \n",
       "50%      6.000     \n",
       "75%      10.700    \n",
       "max      38.000    \n",
       "Name: duration, dtype: float64"
      ]
     },
     "metadata": {},
     "output_type": "display_data"
    },
    {
     "name": "stdout",
     "output_type": "stream",
     "text": [
      "------------------------------\n",
      " \n"
     ]
    },
    {
     "data": {
      "text/plain": [
       "count    202607.000\n",
       "mean     1253.941  \n",
       "std      144.723   \n",
       "min      1000.000  \n",
       "25%      1126.000  \n",
       "50%      1260.000  \n",
       "75%      1379.000  \n",
       "max      1499.000  \n",
       "Name: user_id, dtype: float64"
      ]
     },
     "metadata": {},
     "output_type": "display_data"
    },
    {
     "name": "stdout",
     "output_type": "stream",
     "text": [
      "------------------------------\n",
      " \n"
     ]
    }
   ],
   "source": [
    "des_var(calls)"
   ]
  },
  {
   "cell_type": "markdown",
   "metadata": {},
   "source": [
    "Все данные по звонкам в пределах исследуемого 2018 года, аномально длинных звонков нет, максимальный - 38 минут, что даже как-то мало. Звонки с нулевой продолжительностью, как было указано в документации к данным, ошибкой не являются, так как обозначают собой пропущенные звонки."
   ]
  },
  {
   "cell_type": "code",
   "execution_count": 25,
   "metadata": {},
   "outputs": [
    {
     "data": {
      "text/plain": [
       "1000_0      1\n",
       "1333_109    1\n",
       "1334_0      1\n",
       "1334_1      1\n",
       "1334_2      1\n",
       "           ..\n",
       "1172_80     1\n",
       "1172_81     1\n",
       "1172_82     1\n",
       "1172_83     1\n",
       "1499_156    1\n",
       "Name: id, Length: 149396, dtype: int64"
      ]
     },
     "metadata": {},
     "output_type": "display_data"
    },
    {
     "name": "stdout",
     "output_type": "stream",
     "text": [
      "------------------------------\n",
      " \n"
     ]
    },
    {
     "data": {
      "text/plain": [
       "count    149396.000\n",
       "mean     370.192   \n",
       "std      278.301   \n",
       "min      0.000     \n",
       "25%      138.188   \n",
       "50%      348.015   \n",
       "75%      559.553   \n",
       "max      1724.830  \n",
       "Name: mb_used, dtype: float64"
      ]
     },
     "metadata": {},
     "output_type": "display_data"
    },
    {
     "name": "stdout",
     "output_type": "stream",
     "text": [
      "------------------------------\n",
      " \n"
     ]
    },
    {
     "name": "stderr",
     "output_type": "stream",
     "text": [
      "C:\\Users\\CaIII\\AppData\\Local\\Temp\\ipykernel_35408\\2421465954.py:4: FutureWarning: Treating datetime data as categorical rather than numeric in `.describe` is deprecated and will be removed in a future version of pandas. Specify `datetime_is_numeric=True` to silence this warning and adopt the future behavior now.\n",
      "  display (data[i].describe())\n"
     ]
    },
    {
     "data": {
      "text/plain": [
       "count     149396             \n",
       "unique    365                \n",
       "top       2018-12-31 00:00:00\n",
       "freq      1057               \n",
       "first     2018-01-01 00:00:00\n",
       "last      2018-12-31 00:00:00\n",
       "Name: session_date, dtype: object"
      ]
     },
     "metadata": {},
     "output_type": "display_data"
    },
    {
     "name": "stdout",
     "output_type": "stream",
     "text": [
      "------------------------------\n",
      " \n"
     ]
    },
    {
     "data": {
      "text/plain": [
       "count    149396.000\n",
       "mean     1252.100  \n",
       "std      144.051   \n",
       "min      1000.000  \n",
       "25%      1130.000  \n",
       "50%      1251.000  \n",
       "75%      1380.000  \n",
       "max      1499.000  \n",
       "Name: user_id, dtype: float64"
      ]
     },
     "metadata": {},
     "output_type": "display_data"
    },
    {
     "name": "stdout",
     "output_type": "stream",
     "text": [
      "------------------------------\n",
      " \n"
     ]
    }
   ],
   "source": [
    "des_var(internet)"
   ]
  },
  {
   "cell_type": "markdown",
   "metadata": {},
   "source": [
    "Все интернет-сессии находятся в пределах исследуемого промежутка. Касательно объемов потребляемого трафика ситуация сложнее, максимальные значения выглядят разумными, а вот с минимальными не ясно, так как в документации не было указано, что возможны интернет сессии по 0 мгбт. "
   ]
  },
  {
   "cell_type": "code",
   "execution_count": 26,
   "metadata": {},
   "outputs": [
    {
     "data": {
      "text/plain": [
       "id              19598\n",
       "mb_used         19598\n",
       "session_date    19598\n",
       "user_id         19598\n",
       "dtype: int64"
      ]
     },
     "execution_count": 26,
     "metadata": {},
     "output_type": "execute_result"
    }
   ],
   "source": [
    "internet[internet['mb_used'] == 0].count()"
   ]
  },
  {
   "cell_type": "markdown",
   "metadata": {},
   "source": [
    "Таковых почти 20 тыс сессий, то есть более 10% от общего объема датафрейма. "
   ]
  },
  {
   "cell_type": "code",
   "execution_count": 27,
   "metadata": {
    "scrolled": false
   },
   "outputs": [
    {
     "data": {
      "text/plain": [
       "1000_11     1\n",
       "1323_249    1\n",
       "1323_285    1\n",
       "1323_275    1\n",
       "1323_271    1\n",
       "           ..\n",
       "1161_144    1\n",
       "1161_142    1\n",
       "1161_140    1\n",
       "1161_139    1\n",
       "1499_154    1\n",
       "Name: id, Length: 19598, dtype: int64"
      ]
     },
     "metadata": {},
     "output_type": "display_data"
    },
    {
     "name": "stdout",
     "output_type": "stream",
     "text": [
      "------------------------------\n",
      " \n"
     ]
    },
    {
     "data": {
      "text/plain": [
       "0.0    19598\n",
       "Name: mb_used, dtype: int64"
      ]
     },
     "metadata": {},
     "output_type": "display_data"
    },
    {
     "name": "stdout",
     "output_type": "stream",
     "text": [
      "------------------------------\n",
      " \n"
     ]
    },
    {
     "name": "stderr",
     "output_type": "stream",
     "text": [
      "C:\\Users\\CaIII\\AppData\\Local\\Temp\\ipykernel_35408\\2421465954.py:4: FutureWarning: Treating datetime data as categorical rather than numeric in `.describe` is deprecated and will be removed in a future version of pandas. Specify `datetime_is_numeric=True` to silence this warning and adopt the future behavior now.\n",
      "  display (data[i].describe())\n"
     ]
    },
    {
     "data": {
      "text/plain": [
       "count     19598              \n",
       "unique    364                \n",
       "top       2018-12-31 00:00:00\n",
       "freq      141                \n",
       "first     2018-01-01 00:00:00\n",
       "last      2018-12-31 00:00:00\n",
       "Name: session_date, dtype: object"
      ]
     },
     "metadata": {},
     "output_type": "display_data"
    },
    {
     "name": "stdout",
     "output_type": "stream",
     "text": [
      "------------------------------\n",
      " \n"
     ]
    },
    {
     "data": {
      "text/plain": [
       "count    19598.000\n",
       "mean     1245.831 \n",
       "std      145.663  \n",
       "min      1000.000 \n",
       "25%      1121.000 \n",
       "50%      1241.000 \n",
       "75%      1374.000 \n",
       "max      1499.000 \n",
       "Name: user_id, dtype: float64"
      ]
     },
     "metadata": {},
     "output_type": "display_data"
    },
    {
     "name": "stdout",
     "output_type": "stream",
     "text": [
      "------------------------------\n",
      " \n"
     ]
    }
   ],
   "source": [
    "des_var(internet[internet['mb_used'] == 0])"
   ]
  },
  {
   "cell_type": "code",
   "execution_count": 28,
   "metadata": {},
   "outputs": [
    {
     "data": {
      "text/plain": [
       "494"
      ]
     },
     "execution_count": 28,
     "metadata": {},
     "output_type": "execute_result"
    }
   ],
   "source": [
    "internet[internet['mb_used'] == 0]['user_id'].nunique()"
   ]
  },
  {
   "cell_type": "code",
   "execution_count": 29,
   "metadata": {},
   "outputs": [
    {
     "data": {
      "text/plain": [
       "364"
      ]
     },
     "execution_count": 29,
     "metadata": {},
     "output_type": "execute_result"
    }
   ],
   "source": [
    "internet[internet['mb_used'] == 0]['session_date'].nunique()"
   ]
  },
  {
   "cell_type": "markdown",
   "metadata": {},
   "source": [
    "Эти нулевые сессии происходили на протяжении всего года, у разных пользователей, то есть мы не можем сказать, что это ошибки связанные с какой-то конкретной датой или клиентом. "
   ]
  },
  {
   "cell_type": "markdown",
   "metadata": {},
   "source": [
    "Так как нас не интересует общее количество сессий и т.п. для общей чистоты картины и экономии потребляемой памяти было принято решение удалить строки с нулевым потреблением трафика. "
   ]
  },
  {
   "cell_type": "code",
   "execution_count": 30,
   "metadata": {},
   "outputs": [],
   "source": [
    "internet = internet.drop(internet[internet['mb_used'] == 0].index)"
   ]
  },
  {
   "cell_type": "code",
   "execution_count": 31,
   "metadata": {},
   "outputs": [
    {
     "name": "stdout",
     "output_type": "stream",
     "text": [
      "<class 'pandas.core.frame.DataFrame'>\n",
      "Int64Index: 129798 entries, 0 to 149395\n",
      "Data columns (total 4 columns):\n",
      " #   Column        Non-Null Count   Dtype         \n",
      "---  ------        --------------   -----         \n",
      " 0   id            129798 non-null  object        \n",
      " 1   mb_used       129798 non-null  float64       \n",
      " 2   session_date  129798 non-null  datetime64[ns]\n",
      " 3   user_id       129798 non-null  int64         \n",
      "dtypes: datetime64[ns](1), float64(1), int64(1), object(1)\n",
      "memory usage: 5.0+ MB\n"
     ]
    }
   ],
   "source": [
    "internet.info()"
   ]
  },
  {
   "cell_type": "markdown",
   "metadata": {},
   "source": [
    "Строки успешно удалены, но памяти df почему-то стал занимать даже больше, хотя все равно немного."
   ]
  },
  {
   "cell_type": "code",
   "execution_count": 32,
   "metadata": {},
   "outputs": [
    {
     "data": {
      "text/plain": [
       "1000_0      1\n",
       "1344_248    1\n",
       "1344_96     1\n",
       "1344_95     1\n",
       "1344_94     1\n",
       "           ..\n",
       "1174_352    1\n",
       "1174_351    1\n",
       "1174_350    1\n",
       "1174_349    1\n",
       "1499_183    1\n",
       "Name: id, Length: 123036, dtype: int64"
      ]
     },
     "metadata": {},
     "output_type": "display_data"
    },
    {
     "name": "stdout",
     "output_type": "stream",
     "text": [
      "------------------------------\n",
      " \n"
     ]
    },
    {
     "name": "stderr",
     "output_type": "stream",
     "text": [
      "C:\\Users\\CaIII\\AppData\\Local\\Temp\\ipykernel_35408\\2421465954.py:4: FutureWarning: Treating datetime data as categorical rather than numeric in `.describe` is deprecated and will be removed in a future version of pandas. Specify `datetime_is_numeric=True` to silence this warning and adopt the future behavior now.\n",
      "  display (data[i].describe())\n"
     ]
    },
    {
     "data": {
      "text/plain": [
       "count     123036             \n",
       "unique    364                \n",
       "top       2018-12-31 00:00:00\n",
       "freq      859                \n",
       "first     2018-01-02 00:00:00\n",
       "last      2018-12-31 00:00:00\n",
       "Name: message_date, dtype: object"
      ]
     },
     "metadata": {},
     "output_type": "display_data"
    },
    {
     "name": "stdout",
     "output_type": "stream",
     "text": [
      "------------------------------\n",
      " \n"
     ]
    },
    {
     "data": {
      "text/plain": [
       "count    123036.000\n",
       "mean     1256.989  \n",
       "std      143.524   \n",
       "min      1000.000  \n",
       "25%      1134.000  \n",
       "50%      1271.000  \n",
       "75%      1381.000  \n",
       "max      1499.000  \n",
       "Name: user_id, dtype: float64"
      ]
     },
     "metadata": {},
     "output_type": "display_data"
    },
    {
     "name": "stdout",
     "output_type": "stream",
     "text": [
      "------------------------------\n",
      " \n"
     ]
    }
   ],
   "source": [
    "des_var(msg)"
   ]
  },
  {
   "cell_type": "markdown",
   "metadata": {},
   "source": [
    "Все сообщения укладываются во временные рамки исследования."
   ]
  },
  {
   "cell_type": "code",
   "execution_count": 33,
   "metadata": {},
   "outputs": [
    {
     "data": {
      "text/plain": [
       "count    500.000 \n",
       "mean     1249.500\n",
       "std      144.482 \n",
       "min      1000.000\n",
       "25%      1124.750\n",
       "50%      1249.500\n",
       "75%      1374.250\n",
       "max      1499.000\n",
       "Name: user_id, dtype: float64"
      ]
     },
     "metadata": {},
     "output_type": "display_data"
    },
    {
     "name": "stdout",
     "output_type": "stream",
     "text": [
      "------------------------------\n",
      " \n"
     ]
    },
    {
     "data": {
      "text/plain": [
       "count    500.000\n",
       "mean     46.588 \n",
       "std      16.668 \n",
       "min      18.000 \n",
       "25%      32.000 \n",
       "50%      46.000 \n",
       "75%      62.000 \n",
       "max      75.000 \n",
       "Name: age, dtype: float64"
      ]
     },
     "metadata": {},
     "output_type": "display_data"
    },
    {
     "name": "stdout",
     "output_type": "stream",
     "text": [
      "------------------------------\n",
      " \n"
     ]
    },
    {
     "name": "stderr",
     "output_type": "stream",
     "text": [
      "C:\\Users\\CaIII\\AppData\\Local\\Temp\\ipykernel_35408\\2421465954.py:4: FutureWarning: Treating datetime data as categorical rather than numeric in `.describe` is deprecated and will be removed in a future version of pandas. Specify `datetime_is_numeric=True` to silence this warning and adopt the future behavior now.\n",
      "  display (data[i].describe())\n"
     ]
    },
    {
     "data": {
      "text/plain": [
       "count     38                 \n",
       "unique    33                 \n",
       "top       2018-12-03 00:00:00\n",
       "freq      2                  \n",
       "first     2018-08-17 00:00:00\n",
       "last      2018-12-30 00:00:00\n",
       "Name: churn_date, dtype: object"
      ]
     },
     "metadata": {},
     "output_type": "display_data"
    },
    {
     "name": "stdout",
     "output_type": "stream",
     "text": [
      "------------------------------\n",
      " \n"
     ]
    },
    {
     "data": {
      "text/plain": [
       "Москва             99\n",
       "Санкт-Петербург    39\n",
       "Новосибирск        16\n",
       "Омск               14\n",
       "Казань             14\n",
       "                   ..\n",
       "Архангельск        1 \n",
       "Иваново            1 \n",
       "Нижневартовск      1 \n",
       "Химки              1 \n",
       "Подольск           1 \n",
       "Name: city, Length: 76, dtype: int64"
      ]
     },
     "metadata": {},
     "output_type": "display_data"
    },
    {
     "name": "stdout",
     "output_type": "stream",
     "text": [
      "------------------------------\n",
      " \n"
     ]
    },
    {
     "data": {
      "text/plain": [
       "Радим      6\n",
       "Леонид     5\n",
       "Пётр       5\n",
       "Андрей     4\n",
       "Адам       4\n",
       "          ..\n",
       "Зинаида    1\n",
       "Глеб       1\n",
       "Роза       1\n",
       "Юзефа      1\n",
       "Трифон     1\n",
       "Name: first_name, Length: 246, dtype: int64"
      ]
     },
     "metadata": {},
     "output_type": "display_data"
    },
    {
     "name": "stdout",
     "output_type": "stream",
     "text": [
      "------------------------------\n",
      " \n"
     ]
    },
    {
     "data": {
      "text/plain": [
       "Андреенко     5\n",
       "Березина      3\n",
       "Аркадьев      3\n",
       "Булгаков      3\n",
       "Соловьев      3\n",
       "             ..\n",
       "Медведев      1\n",
       "Минаева       1\n",
       "Авдонюшкин    1\n",
       "Андрейчук     1\n",
       "Акимчин       1\n",
       "Name: last_name, Length: 419, dtype: int64"
      ]
     },
     "metadata": {},
     "output_type": "display_data"
    },
    {
     "name": "stdout",
     "output_type": "stream",
     "text": [
      "------------------------------\n",
      " \n"
     ]
    },
    {
     "name": "stderr",
     "output_type": "stream",
     "text": [
      "C:\\Users\\CaIII\\AppData\\Local\\Temp\\ipykernel_35408\\2421465954.py:4: FutureWarning: Treating datetime data as categorical rather than numeric in `.describe` is deprecated and will be removed in a future version of pandas. Specify `datetime_is_numeric=True` to silence this warning and adopt the future behavior now.\n",
      "  display (data[i].describe())\n"
     ]
    },
    {
     "data": {
      "text/plain": [
       "count     500                \n",
       "unique    270                \n",
       "top       2018-05-28 00:00:00\n",
       "freq      8                  \n",
       "first     2018-01-01 00:00:00\n",
       "last      2018-12-31 00:00:00\n",
       "Name: reg_date, dtype: object"
      ]
     },
     "metadata": {},
     "output_type": "display_data"
    },
    {
     "name": "stdout",
     "output_type": "stream",
     "text": [
      "------------------------------\n",
      " \n"
     ]
    },
    {
     "data": {
      "text/plain": [
       "smart    351\n",
       "ultra    149\n",
       "Name: tariff, dtype: int64"
      ]
     },
     "metadata": {},
     "output_type": "display_data"
    },
    {
     "name": "stdout",
     "output_type": "stream",
     "text": [
      "------------------------------\n",
      " \n"
     ]
    }
   ],
   "source": [
    "des_var(users)"
   ]
  },
  {
   "cell_type": "markdown",
   "metadata": {},
   "source": [
    "- Возраст клиентов находится в разумных рамках от 18 и до 75. \n",
    "- Имя \"Радим\", как выяснилось, реально существует и это не опечатка в \"Вадим\"\n",
    "- С городами и фамилиями все в порядке, наверху ранжированного списка миллионники, что логично и репрезентативно.\n",
    "- Вопросы вызывается максимальная дата регистрации - 31 декабря: во-первых, кто регистрирует сим-карту в Новый год, а, во-вторых, не внесут ли поздние регистрации нежелательные отклонения в результаты."
   ]
  },
  {
   "cell_type": "code",
   "execution_count": 34,
   "metadata": {},
   "outputs": [
    {
     "data": {
      "text/html": [
       "<div>\n",
       "<style scoped>\n",
       "    .dataframe tbody tr th:only-of-type {\n",
       "        vertical-align: middle;\n",
       "    }\n",
       "\n",
       "    .dataframe tbody tr th {\n",
       "        vertical-align: top;\n",
       "    }\n",
       "\n",
       "    .dataframe thead th {\n",
       "        text-align: right;\n",
       "    }\n",
       "</style>\n",
       "<table border=\"1\" class=\"dataframe\">\n",
       "  <thead>\n",
       "    <tr style=\"text-align: right;\">\n",
       "      <th></th>\n",
       "      <th>user_id</th>\n",
       "      <th>age</th>\n",
       "      <th>churn_date</th>\n",
       "      <th>city</th>\n",
       "      <th>first_name</th>\n",
       "      <th>last_name</th>\n",
       "      <th>reg_date</th>\n",
       "      <th>tariff</th>\n",
       "    </tr>\n",
       "  </thead>\n",
       "  <tbody>\n",
       "    <tr>\n",
       "      <th>336</th>\n",
       "      <td>1336</td>\n",
       "      <td>27</td>\n",
       "      <td>NaT</td>\n",
       "      <td>Уфа</td>\n",
       "      <td>Авксентий</td>\n",
       "      <td>Алексеичев</td>\n",
       "      <td>2018-12-31</td>\n",
       "      <td>ultra</td>\n",
       "    </tr>\n",
       "    <tr>\n",
       "      <th>258</th>\n",
       "      <td>1258</td>\n",
       "      <td>52</td>\n",
       "      <td>NaT</td>\n",
       "      <td>Санкт-Петербург</td>\n",
       "      <td>Валерий</td>\n",
       "      <td>Беляев</td>\n",
       "      <td>2018-12-31</td>\n",
       "      <td>smart</td>\n",
       "    </tr>\n",
       "    <tr>\n",
       "      <th>140</th>\n",
       "      <td>1140</td>\n",
       "      <td>22</td>\n",
       "      <td>NaT</td>\n",
       "      <td>Киров</td>\n",
       "      <td>Леонид</td>\n",
       "      <td>Ахматулин</td>\n",
       "      <td>2018-12-31</td>\n",
       "      <td>smart</td>\n",
       "    </tr>\n",
       "    <tr>\n",
       "      <th>74</th>\n",
       "      <td>1074</td>\n",
       "      <td>68</td>\n",
       "      <td>NaT</td>\n",
       "      <td>Якутск</td>\n",
       "      <td>Андрей</td>\n",
       "      <td>Кравцов</td>\n",
       "      <td>2018-12-30</td>\n",
       "      <td>smart</td>\n",
       "    </tr>\n",
       "    <tr>\n",
       "      <th>485</th>\n",
       "      <td>1485</td>\n",
       "      <td>34</td>\n",
       "      <td>NaT</td>\n",
       "      <td>Киров</td>\n",
       "      <td>Таисия</td>\n",
       "      <td>Сухова</td>\n",
       "      <td>2018-12-29</td>\n",
       "      <td>ultra</td>\n",
       "    </tr>\n",
       "    <tr>\n",
       "      <th>445</th>\n",
       "      <td>1445</td>\n",
       "      <td>40</td>\n",
       "      <td>NaT</td>\n",
       "      <td>Москва</td>\n",
       "      <td>Рауль</td>\n",
       "      <td>Иванов</td>\n",
       "      <td>2018-12-29</td>\n",
       "      <td>smart</td>\n",
       "    </tr>\n",
       "    <tr>\n",
       "      <th>371</th>\n",
       "      <td>1371</td>\n",
       "      <td>50</td>\n",
       "      <td>2018-12-30</td>\n",
       "      <td>Омск</td>\n",
       "      <td>Ириней</td>\n",
       "      <td>Трофимов</td>\n",
       "      <td>2018-12-25</td>\n",
       "      <td>smart</td>\n",
       "    </tr>\n",
       "    <tr>\n",
       "      <th>95</th>\n",
       "      <td>1095</td>\n",
       "      <td>70</td>\n",
       "      <td>NaT</td>\n",
       "      <td>Новосибирск</td>\n",
       "      <td>Марианна</td>\n",
       "      <td>Кабанова</td>\n",
       "      <td>2018-12-23</td>\n",
       "      <td>smart</td>\n",
       "    </tr>\n",
       "    <tr>\n",
       "      <th>278</th>\n",
       "      <td>1278</td>\n",
       "      <td>46</td>\n",
       "      <td>NaT</td>\n",
       "      <td>Новокузнецк</td>\n",
       "      <td>Леонид</td>\n",
       "      <td>Троицкий</td>\n",
       "      <td>2018-12-23</td>\n",
       "      <td>smart</td>\n",
       "    </tr>\n",
       "    <tr>\n",
       "      <th>397</th>\n",
       "      <td>1397</td>\n",
       "      <td>47</td>\n",
       "      <td>NaT</td>\n",
       "      <td>Воронеж</td>\n",
       "      <td>Инна</td>\n",
       "      <td>Чистякова</td>\n",
       "      <td>2018-12-22</td>\n",
       "      <td>ultra</td>\n",
       "    </tr>\n",
       "    <tr>\n",
       "      <th>236</th>\n",
       "      <td>1236</td>\n",
       "      <td>30</td>\n",
       "      <td>NaT</td>\n",
       "      <td>Москва</td>\n",
       "      <td>Леон</td>\n",
       "      <td>Демидов</td>\n",
       "      <td>2018-12-22</td>\n",
       "      <td>smart</td>\n",
       "    </tr>\n",
       "    <tr>\n",
       "      <th>387</th>\n",
       "      <td>1387</td>\n",
       "      <td>74</td>\n",
       "      <td>NaT</td>\n",
       "      <td>Краснодар</td>\n",
       "      <td>Габриель</td>\n",
       "      <td>Зуев</td>\n",
       "      <td>2018-12-21</td>\n",
       "      <td>smart</td>\n",
       "    </tr>\n",
       "    <tr>\n",
       "      <th>170</th>\n",
       "      <td>1170</td>\n",
       "      <td>69</td>\n",
       "      <td>NaT</td>\n",
       "      <td>Новосибирск</td>\n",
       "      <td>Вадим</td>\n",
       "      <td>Козлов</td>\n",
       "      <td>2018-12-20</td>\n",
       "      <td>smart</td>\n",
       "    </tr>\n",
       "    <tr>\n",
       "      <th>234</th>\n",
       "      <td>1234</td>\n",
       "      <td>54</td>\n",
       "      <td>NaT</td>\n",
       "      <td>Магнитогорск</td>\n",
       "      <td>Роксана</td>\n",
       "      <td>Алексеева</td>\n",
       "      <td>2018-12-19</td>\n",
       "      <td>ultra</td>\n",
       "    </tr>\n",
       "    <tr>\n",
       "      <th>8</th>\n",
       "      <td>1008</td>\n",
       "      <td>63</td>\n",
       "      <td>NaT</td>\n",
       "      <td>Челябинск</td>\n",
       "      <td>Рустэм</td>\n",
       "      <td>Пономарёв</td>\n",
       "      <td>2018-12-19</td>\n",
       "      <td>smart</td>\n",
       "    </tr>\n",
       "    <tr>\n",
       "      <th>349</th>\n",
       "      <td>1349</td>\n",
       "      <td>67</td>\n",
       "      <td>NaT</td>\n",
       "      <td>Севастополь</td>\n",
       "      <td>Гайдар</td>\n",
       "      <td>Курочкин</td>\n",
       "      <td>2018-12-18</td>\n",
       "      <td>ultra</td>\n",
       "    </tr>\n",
       "    <tr>\n",
       "      <th>129</th>\n",
       "      <td>1129</td>\n",
       "      <td>48</td>\n",
       "      <td>NaT</td>\n",
       "      <td>Курган</td>\n",
       "      <td>Анвар</td>\n",
       "      <td>Морозов</td>\n",
       "      <td>2018-12-17</td>\n",
       "      <td>smart</td>\n",
       "    </tr>\n",
       "    <tr>\n",
       "      <th>406</th>\n",
       "      <td>1406</td>\n",
       "      <td>68</td>\n",
       "      <td>NaT</td>\n",
       "      <td>Казань</td>\n",
       "      <td>Станислав</td>\n",
       "      <td>Семёнов</td>\n",
       "      <td>2018-12-15</td>\n",
       "      <td>smart</td>\n",
       "    </tr>\n",
       "    <tr>\n",
       "      <th>128</th>\n",
       "      <td>1128</td>\n",
       "      <td>51</td>\n",
       "      <td>2018-12-23</td>\n",
       "      <td>Волжский</td>\n",
       "      <td>Ксения</td>\n",
       "      <td>Агаева</td>\n",
       "      <td>2018-12-15</td>\n",
       "      <td>ultra</td>\n",
       "    </tr>\n",
       "    <tr>\n",
       "      <th>434</th>\n",
       "      <td>1434</td>\n",
       "      <td>73</td>\n",
       "      <td>NaT</td>\n",
       "      <td>Москва</td>\n",
       "      <td>Карина</td>\n",
       "      <td>Субботина</td>\n",
       "      <td>2018-12-14</td>\n",
       "      <td>smart</td>\n",
       "    </tr>\n",
       "    <tr>\n",
       "      <th>368</th>\n",
       "      <td>1368</td>\n",
       "      <td>50</td>\n",
       "      <td>NaT</td>\n",
       "      <td>Омск</td>\n",
       "      <td>Розалия</td>\n",
       "      <td>Гришина</td>\n",
       "      <td>2018-12-14</td>\n",
       "      <td>smart</td>\n",
       "    </tr>\n",
       "    <tr>\n",
       "      <th>84</th>\n",
       "      <td>1084</td>\n",
       "      <td>47</td>\n",
       "      <td>NaT</td>\n",
       "      <td>Саранск</td>\n",
       "      <td>Виолетта</td>\n",
       "      <td>Спиридонова</td>\n",
       "      <td>2018-12-13</td>\n",
       "      <td>ultra</td>\n",
       "    </tr>\n",
       "    <tr>\n",
       "      <th>223</th>\n",
       "      <td>1223</td>\n",
       "      <td>20</td>\n",
       "      <td>NaT</td>\n",
       "      <td>Стерлитамак</td>\n",
       "      <td>Алан</td>\n",
       "      <td>Панфилов</td>\n",
       "      <td>2018-12-12</td>\n",
       "      <td>smart</td>\n",
       "    </tr>\n",
       "    <tr>\n",
       "      <th>117</th>\n",
       "      <td>1117</td>\n",
       "      <td>42</td>\n",
       "      <td>NaT</td>\n",
       "      <td>Тюмень</td>\n",
       "      <td>Дана</td>\n",
       "      <td>Меркулова</td>\n",
       "      <td>2018-12-10</td>\n",
       "      <td>smart</td>\n",
       "    </tr>\n",
       "    <tr>\n",
       "      <th>69</th>\n",
       "      <td>1069</td>\n",
       "      <td>36</td>\n",
       "      <td>NaT</td>\n",
       "      <td>Екатеринбург</td>\n",
       "      <td>Гордей</td>\n",
       "      <td>Кочетов</td>\n",
       "      <td>2018-12-10</td>\n",
       "      <td>smart</td>\n",
       "    </tr>\n",
       "    <tr>\n",
       "      <th>131</th>\n",
       "      <td>1131</td>\n",
       "      <td>36</td>\n",
       "      <td>NaT</td>\n",
       "      <td>Чита</td>\n",
       "      <td>Нина</td>\n",
       "      <td>Афонасьева</td>\n",
       "      <td>2018-12-08</td>\n",
       "      <td>smart</td>\n",
       "    </tr>\n",
       "    <tr>\n",
       "      <th>190</th>\n",
       "      <td>1190</td>\n",
       "      <td>65</td>\n",
       "      <td>NaT</td>\n",
       "      <td>Москва</td>\n",
       "      <td>Рауль</td>\n",
       "      <td>Абоимов</td>\n",
       "      <td>2018-12-07</td>\n",
       "      <td>smart</td>\n",
       "    </tr>\n",
       "    <tr>\n",
       "      <th>398</th>\n",
       "      <td>1398</td>\n",
       "      <td>58</td>\n",
       "      <td>NaT</td>\n",
       "      <td>Махачкала</td>\n",
       "      <td>Рауль</td>\n",
       "      <td>Ахмедов</td>\n",
       "      <td>2018-12-06</td>\n",
       "      <td>smart</td>\n",
       "    </tr>\n",
       "    <tr>\n",
       "      <th>297</th>\n",
       "      <td>1297</td>\n",
       "      <td>66</td>\n",
       "      <td>NaT</td>\n",
       "      <td>Иркутск</td>\n",
       "      <td>Радим</td>\n",
       "      <td>Абрамцев</td>\n",
       "      <td>2018-12-04</td>\n",
       "      <td>smart</td>\n",
       "    </tr>\n",
       "    <tr>\n",
       "      <th>103</th>\n",
       "      <td>1103</td>\n",
       "      <td>52</td>\n",
       "      <td>NaT</td>\n",
       "      <td>Екатеринбург</td>\n",
       "      <td>Эльвира</td>\n",
       "      <td>Лобанова</td>\n",
       "      <td>2018-12-04</td>\n",
       "      <td>smart</td>\n",
       "    </tr>\n",
       "    <tr>\n",
       "      <th>192</th>\n",
       "      <td>1192</td>\n",
       "      <td>41</td>\n",
       "      <td>NaT</td>\n",
       "      <td>Сургут</td>\n",
       "      <td>Степан</td>\n",
       "      <td>Мальцев</td>\n",
       "      <td>2018-12-04</td>\n",
       "      <td>ultra</td>\n",
       "    </tr>\n",
       "    <tr>\n",
       "      <th>194</th>\n",
       "      <td>1194</td>\n",
       "      <td>70</td>\n",
       "      <td>NaT</td>\n",
       "      <td>Москва</td>\n",
       "      <td>Егор</td>\n",
       "      <td>Наумов</td>\n",
       "      <td>2018-12-03</td>\n",
       "      <td>smart</td>\n",
       "    </tr>\n",
       "    <tr>\n",
       "      <th>137</th>\n",
       "      <td>1137</td>\n",
       "      <td>64</td>\n",
       "      <td>NaT</td>\n",
       "      <td>Кемерово</td>\n",
       "      <td>Ким</td>\n",
       "      <td>Артёшин</td>\n",
       "      <td>2018-12-02</td>\n",
       "      <td>smart</td>\n",
       "    </tr>\n",
       "    <tr>\n",
       "      <th>252</th>\n",
       "      <td>1252</td>\n",
       "      <td>49</td>\n",
       "      <td>NaT</td>\n",
       "      <td>Ростов-на-Дону</td>\n",
       "      <td>Лейла</td>\n",
       "      <td>Ерофеева</td>\n",
       "      <td>2018-12-02</td>\n",
       "      <td>smart</td>\n",
       "    </tr>\n",
       "    <tr>\n",
       "      <th>141</th>\n",
       "      <td>1141</td>\n",
       "      <td>52</td>\n",
       "      <td>NaT</td>\n",
       "      <td>Москва</td>\n",
       "      <td>Клариса</td>\n",
       "      <td>Короткова</td>\n",
       "      <td>2018-12-02</td>\n",
       "      <td>smart</td>\n",
       "    </tr>\n",
       "  </tbody>\n",
       "</table>\n",
       "</div>"
      ],
      "text/plain": [
       "     user_id  age churn_date             city first_name    last_name  \\\n",
       "336  1336     27  NaT         Уфа              Авксентий  Алексеичев    \n",
       "258  1258     52  NaT         Санкт-Петербург  Валерий    Беляев        \n",
       "140  1140     22  NaT         Киров            Леонид     Ахматулин     \n",
       "74   1074     68  NaT         Якутск           Андрей     Кравцов       \n",
       "485  1485     34  NaT         Киров            Таисия     Сухова        \n",
       "445  1445     40  NaT         Москва           Рауль      Иванов        \n",
       "371  1371     50  2018-12-30  Омск             Ириней     Трофимов      \n",
       "95   1095     70  NaT         Новосибирск      Марианна   Кабанова      \n",
       "278  1278     46  NaT         Новокузнецк      Леонид     Троицкий      \n",
       "397  1397     47  NaT         Воронеж          Инна       Чистякова     \n",
       "236  1236     30  NaT         Москва           Леон       Демидов       \n",
       "387  1387     74  NaT         Краснодар        Габриель   Зуев          \n",
       "170  1170     69  NaT         Новосибирск      Вадим      Козлов        \n",
       "234  1234     54  NaT         Магнитогорск     Роксана    Алексеева     \n",
       "8    1008     63  NaT         Челябинск        Рустэм     Пономарёв     \n",
       "349  1349     67  NaT         Севастополь      Гайдар     Курочкин      \n",
       "129  1129     48  NaT         Курган           Анвар      Морозов       \n",
       "406  1406     68  NaT         Казань           Станислав  Семёнов       \n",
       "128  1128     51  2018-12-23  Волжский         Ксения     Агаева        \n",
       "434  1434     73  NaT         Москва           Карина     Субботина     \n",
       "368  1368     50  NaT         Омск             Розалия    Гришина       \n",
       "84   1084     47  NaT         Саранск          Виолетта   Спиридонова   \n",
       "223  1223     20  NaT         Стерлитамак      Алан       Панфилов      \n",
       "117  1117     42  NaT         Тюмень           Дана       Меркулова     \n",
       "69   1069     36  NaT         Екатеринбург     Гордей     Кочетов       \n",
       "131  1131     36  NaT         Чита             Нина       Афонасьева    \n",
       "190  1190     65  NaT         Москва           Рауль      Абоимов       \n",
       "398  1398     58  NaT         Махачкала        Рауль      Ахмедов       \n",
       "297  1297     66  NaT         Иркутск          Радим      Абрамцев      \n",
       "103  1103     52  NaT         Екатеринбург     Эльвира    Лобанова      \n",
       "192  1192     41  NaT         Сургут           Степан     Мальцев       \n",
       "194  1194     70  NaT         Москва           Егор       Наумов        \n",
       "137  1137     64  NaT         Кемерово         Ким        Артёшин       \n",
       "252  1252     49  NaT         Ростов-на-Дону   Лейла      Ерофеева      \n",
       "141  1141     52  NaT         Москва           Клариса    Короткова     \n",
       "\n",
       "      reg_date tariff  \n",
       "336 2018-12-31  ultra  \n",
       "258 2018-12-31  smart  \n",
       "140 2018-12-31  smart  \n",
       "74  2018-12-30  smart  \n",
       "485 2018-12-29  ultra  \n",
       "445 2018-12-29  smart  \n",
       "371 2018-12-25  smart  \n",
       "95  2018-12-23  smart  \n",
       "278 2018-12-23  smart  \n",
       "397 2018-12-22  ultra  \n",
       "236 2018-12-22  smart  \n",
       "387 2018-12-21  smart  \n",
       "170 2018-12-20  smart  \n",
       "234 2018-12-19  ultra  \n",
       "8   2018-12-19  smart  \n",
       "349 2018-12-18  ultra  \n",
       "129 2018-12-17  smart  \n",
       "406 2018-12-15  smart  \n",
       "128 2018-12-15  ultra  \n",
       "434 2018-12-14  smart  \n",
       "368 2018-12-14  smart  \n",
       "84  2018-12-13  ultra  \n",
       "223 2018-12-12  smart  \n",
       "117 2018-12-10  smart  \n",
       "69  2018-12-10  smart  \n",
       "131 2018-12-08  smart  \n",
       "190 2018-12-07  smart  \n",
       "398 2018-12-06  smart  \n",
       "297 2018-12-04  smart  \n",
       "103 2018-12-04  smart  \n",
       "192 2018-12-04  ultra  \n",
       "194 2018-12-03  smart  \n",
       "137 2018-12-02  smart  \n",
       "252 2018-12-02  smart  \n",
       "141 2018-12-02  smart  "
      ]
     },
     "metadata": {},
     "output_type": "display_data"
    }
   ],
   "source": [
    "display(users[users['reg_date'] > '2018-12'].sort_values(by = 'reg_date', ascending = False))"
   ]
  },
  {
   "cell_type": "markdown",
   "metadata": {},
   "source": [
    "При внимательном анализе были найдены две категории клиентов в выборке, у которых не будет и одного полноценного месяца пользования услугами оператора:\n",
    "- Те кто зарегистрировался уже в декабре 2018;\n",
    "- Те, кто отказался от услуг оператора менее чем через месяц после даты регистрации.\n",
    "\n",
    "Будем иметь их в виду на всяких случай."
   ]
  },
  {
   "cell_type": "code",
   "execution_count": 35,
   "metadata": {},
   "outputs": [],
   "source": [
    "calls['duration'] = np.ceil(calls['duration'])"
   ]
  },
  {
   "cell_type": "markdown",
   "metadata": {},
   "source": [
    "Округляем продолжительность звонков вверх в соответствии с правилами тарифа"
   ]
  },
  {
   "cell_type": "code",
   "execution_count": 36,
   "metadata": {},
   "outputs": [],
   "source": [
    "calls['month'] = pd.DatetimeIndex(calls['call_date']).month"
   ]
  },
  {
   "cell_type": "markdown",
   "metadata": {},
   "source": [
    "Выделяем календарный месяц для группировки"
   ]
  },
  {
   "cell_type": "code",
   "execution_count": 37,
   "metadata": {},
   "outputs": [],
   "source": [
    "calls_by_month = calls.pivot_table(index = ['user_id', 'month'], values = ['id', 'duration'], aggfunc = {'id': 'count', 'duration': 'sum'})"
   ]
  },
  {
   "cell_type": "code",
   "execution_count": 38,
   "metadata": {},
   "outputs": [],
   "source": [
    "calls_by_month = calls_by_month.reset_index(level=0)"
   ]
  },
  {
   "cell_type": "code",
   "execution_count": 39,
   "metadata": {},
   "outputs": [],
   "source": [
    "calls_by_month = calls_by_month.reset_index(level=0)"
   ]
  },
  {
   "cell_type": "code",
   "execution_count": 40,
   "metadata": {},
   "outputs": [],
   "source": [
    "calls_by_month.rename(columns = {'id':'calls_count'}, inplace = True)"
   ]
  },
  {
   "cell_type": "markdown",
   "metadata": {},
   "source": [
    "Переводим индексы в нормальные столбцы и повторяем процедуру c некоторыми корректировками с интернетом и сообщениями "
   ]
  },
  {
   "cell_type": "code",
   "execution_count": 41,
   "metadata": {},
   "outputs": [],
   "source": [
    "internet['month'] = pd.DatetimeIndex(internet['session_date']).month"
   ]
  },
  {
   "cell_type": "code",
   "execution_count": 42,
   "metadata": {},
   "outputs": [],
   "source": [
    "internet_by_month = internet.pivot_table(index = ['user_id', 'month'], values = 'mb_used', aggfunc = 'sum')"
   ]
  },
  {
   "cell_type": "code",
   "execution_count": 43,
   "metadata": {},
   "outputs": [],
   "source": [
    "internet_by_month = internet_by_month.reset_index(level=0)"
   ]
  },
  {
   "cell_type": "code",
   "execution_count": 44,
   "metadata": {},
   "outputs": [],
   "source": [
    "internet_by_month = internet_by_month.reset_index(level=0)"
   ]
  },
  {
   "cell_type": "code",
   "execution_count": 45,
   "metadata": {},
   "outputs": [],
   "source": [
    "internet_by_month['mb_used'] = (internet_by_month['mb_used']/1024).apply(np.ceil)"
   ]
  },
  {
   "cell_type": "markdown",
   "metadata": {},
   "source": [
    "Также переводим в гб и округляем наверх в соответствие с правилами тарифа"
   ]
  },
  {
   "cell_type": "code",
   "execution_count": 46,
   "metadata": {},
   "outputs": [
    {
     "data": {
      "text/html": [
       "<div>\n",
       "<style scoped>\n",
       "    .dataframe tbody tr th:only-of-type {\n",
       "        vertical-align: middle;\n",
       "    }\n",
       "\n",
       "    .dataframe tbody tr th {\n",
       "        vertical-align: top;\n",
       "    }\n",
       "\n",
       "    .dataframe thead th {\n",
       "        text-align: right;\n",
       "    }\n",
       "</style>\n",
       "<table border=\"1\" class=\"dataframe\">\n",
       "  <thead>\n",
       "    <tr style=\"text-align: right;\">\n",
       "      <th></th>\n",
       "      <th>id</th>\n",
       "      <th>message_date</th>\n",
       "      <th>user_id</th>\n",
       "    </tr>\n",
       "  </thead>\n",
       "  <tbody>\n",
       "    <tr>\n",
       "      <th>0</th>\n",
       "      <td>1000_0</td>\n",
       "      <td>2018-06-27</td>\n",
       "      <td>1000</td>\n",
       "    </tr>\n",
       "    <tr>\n",
       "      <th>1</th>\n",
       "      <td>1000_1</td>\n",
       "      <td>2018-10-08</td>\n",
       "      <td>1000</td>\n",
       "    </tr>\n",
       "    <tr>\n",
       "      <th>2</th>\n",
       "      <td>1000_2</td>\n",
       "      <td>2018-08-04</td>\n",
       "      <td>1000</td>\n",
       "    </tr>\n",
       "    <tr>\n",
       "      <th>3</th>\n",
       "      <td>1000_3</td>\n",
       "      <td>2018-06-16</td>\n",
       "      <td>1000</td>\n",
       "    </tr>\n",
       "    <tr>\n",
       "      <th>4</th>\n",
       "      <td>1000_4</td>\n",
       "      <td>2018-12-05</td>\n",
       "      <td>1000</td>\n",
       "    </tr>\n",
       "    <tr>\n",
       "      <th>...</th>\n",
       "      <td>...</td>\n",
       "      <td>...</td>\n",
       "      <td>...</td>\n",
       "    </tr>\n",
       "    <tr>\n",
       "      <th>123031</th>\n",
       "      <td>1499_179</td>\n",
       "      <td>2018-12-12</td>\n",
       "      <td>1499</td>\n",
       "    </tr>\n",
       "    <tr>\n",
       "      <th>123032</th>\n",
       "      <td>1499_180</td>\n",
       "      <td>2018-09-28</td>\n",
       "      <td>1499</td>\n",
       "    </tr>\n",
       "    <tr>\n",
       "      <th>123033</th>\n",
       "      <td>1499_181</td>\n",
       "      <td>2018-09-27</td>\n",
       "      <td>1499</td>\n",
       "    </tr>\n",
       "    <tr>\n",
       "      <th>123034</th>\n",
       "      <td>1499_182</td>\n",
       "      <td>2018-11-15</td>\n",
       "      <td>1499</td>\n",
       "    </tr>\n",
       "    <tr>\n",
       "      <th>123035</th>\n",
       "      <td>1499_183</td>\n",
       "      <td>2018-11-16</td>\n",
       "      <td>1499</td>\n",
       "    </tr>\n",
       "  </tbody>\n",
       "</table>\n",
       "<p>123036 rows × 3 columns</p>\n",
       "</div>"
      ],
      "text/plain": [
       "              id message_date  user_id\n",
       "0       1000_0   2018-06-27    1000   \n",
       "1       1000_1   2018-10-08    1000   \n",
       "2       1000_2   2018-08-04    1000   \n",
       "3       1000_3   2018-06-16    1000   \n",
       "4       1000_4   2018-12-05    1000   \n",
       "...        ...          ...     ...   \n",
       "123031  1499_179 2018-12-12    1499   \n",
       "123032  1499_180 2018-09-28    1499   \n",
       "123033  1499_181 2018-09-27    1499   \n",
       "123034  1499_182 2018-11-15    1499   \n",
       "123035  1499_183 2018-11-16    1499   \n",
       "\n",
       "[123036 rows x 3 columns]"
      ]
     },
     "execution_count": 46,
     "metadata": {},
     "output_type": "execute_result"
    }
   ],
   "source": [
    "msg"
   ]
  },
  {
   "cell_type": "code",
   "execution_count": 47,
   "metadata": {},
   "outputs": [],
   "source": [
    "msg['month'] = pd.DatetimeIndex(msg['message_date']).month"
   ]
  },
  {
   "cell_type": "code",
   "execution_count": 48,
   "metadata": {},
   "outputs": [],
   "source": [
    "msg_by_month = msg.pivot_table(index = ['user_id', 'month'], values = 'id', aggfunc = 'count')"
   ]
  },
  {
   "cell_type": "code",
   "execution_count": 49,
   "metadata": {},
   "outputs": [],
   "source": [
    "msg_by_month.rename(columns = {'id':'msg_count'}, inplace = True)"
   ]
  },
  {
   "cell_type": "code",
   "execution_count": 50,
   "metadata": {},
   "outputs": [],
   "source": [
    "msg_by_month = msg_by_month.reset_index(level=0)"
   ]
  },
  {
   "cell_type": "code",
   "execution_count": 51,
   "metadata": {},
   "outputs": [],
   "source": [
    "msg_by_month = msg_by_month.reset_index(level=0)"
   ]
  },
  {
   "cell_type": "markdown",
   "metadata": {},
   "source": [
    "Среднемесячные значения для каждого массива по клиентам рассчитаны, теперь необходимо объединить с таблицей пользователей и тарифов"
   ]
  },
  {
   "cell_type": "code",
   "execution_count": 52,
   "metadata": {},
   "outputs": [],
   "source": [
    "revenue = calls_by_month.merge(internet_by_month, on = ['user_id', 'month'], how = 'outer')\n",
    "revenue = revenue.merge(msg_by_month, on = ['user_id', 'month'], how = 'outer')\n",
    "revenue = revenue.merge(users[['user_id', 'city', 'tariff']], on = ['user_id'], how = 'outer')"
   ]
  },
  {
   "cell_type": "code",
   "execution_count": 53,
   "metadata": {},
   "outputs": [],
   "source": [
    "revenue.rename(columns = {'tariff':'tariff_name'}, inplace = True)"
   ]
  },
  {
   "cell_type": "code",
   "execution_count": 54,
   "metadata": {},
   "outputs": [],
   "source": [
    "revenue = revenue.merge(tariffs, on = ['tariff_name'], how = 'outer')"
   ]
  },
  {
   "cell_type": "code",
   "execution_count": 55,
   "metadata": {},
   "outputs": [],
   "source": [
    "revenue['mb_per_month_included'] = revenue['mb_per_month_included']/1024\n",
    "revenue.rename(columns = {'mb_per_month_included':'gb_per_month_included'}, inplace = True)"
   ]
  },
  {
   "cell_type": "code",
   "execution_count": 56,
   "metadata": {
    "scrolled": true
   },
   "outputs": [
    {
     "data": {
      "text/html": [
       "<div>\n",
       "<style scoped>\n",
       "    .dataframe tbody tr th:only-of-type {\n",
       "        vertical-align: middle;\n",
       "    }\n",
       "\n",
       "    .dataframe tbody tr th {\n",
       "        vertical-align: top;\n",
       "    }\n",
       "\n",
       "    .dataframe thead th {\n",
       "        text-align: right;\n",
       "    }\n",
       "</style>\n",
       "<table border=\"1\" class=\"dataframe\">\n",
       "  <thead>\n",
       "    <tr style=\"text-align: right;\">\n",
       "      <th></th>\n",
       "      <th>month</th>\n",
       "      <th>user_id</th>\n",
       "      <th>duration</th>\n",
       "      <th>calls_count</th>\n",
       "      <th>mb_used</th>\n",
       "      <th>msg_count</th>\n",
       "      <th>city</th>\n",
       "      <th>tariff_name</th>\n",
       "      <th>messages_included</th>\n",
       "      <th>gb_per_month_included</th>\n",
       "      <th>minutes_included</th>\n",
       "      <th>rub_monthly_fee</th>\n",
       "      <th>rub_per_gb</th>\n",
       "      <th>rub_per_message</th>\n",
       "      <th>rub_per_minute</th>\n",
       "    </tr>\n",
       "  </thead>\n",
       "  <tbody>\n",
       "    <tr>\n",
       "      <th>0</th>\n",
       "      <td>5.0</td>\n",
       "      <td>1000</td>\n",
       "      <td>159.0</td>\n",
       "      <td>22.0</td>\n",
       "      <td>3.0</td>\n",
       "      <td>22.0</td>\n",
       "      <td>Краснодар</td>\n",
       "      <td>ultra</td>\n",
       "      <td>1000</td>\n",
       "      <td>30.0</td>\n",
       "      <td>3000</td>\n",
       "      <td>1950</td>\n",
       "      <td>150</td>\n",
       "      <td>1</td>\n",
       "      <td>1</td>\n",
       "    </tr>\n",
       "    <tr>\n",
       "      <th>1</th>\n",
       "      <td>6.0</td>\n",
       "      <td>1000</td>\n",
       "      <td>172.0</td>\n",
       "      <td>43.0</td>\n",
       "      <td>23.0</td>\n",
       "      <td>60.0</td>\n",
       "      <td>Краснодар</td>\n",
       "      <td>ultra</td>\n",
       "      <td>1000</td>\n",
       "      <td>30.0</td>\n",
       "      <td>3000</td>\n",
       "      <td>1950</td>\n",
       "      <td>150</td>\n",
       "      <td>1</td>\n",
       "      <td>1</td>\n",
       "    </tr>\n",
       "    <tr>\n",
       "      <th>2</th>\n",
       "      <td>7.0</td>\n",
       "      <td>1000</td>\n",
       "      <td>340.0</td>\n",
       "      <td>47.0</td>\n",
       "      <td>14.0</td>\n",
       "      <td>75.0</td>\n",
       "      <td>Краснодар</td>\n",
       "      <td>ultra</td>\n",
       "      <td>1000</td>\n",
       "      <td>30.0</td>\n",
       "      <td>3000</td>\n",
       "      <td>1950</td>\n",
       "      <td>150</td>\n",
       "      <td>1</td>\n",
       "      <td>1</td>\n",
       "    </tr>\n",
       "    <tr>\n",
       "      <th>3</th>\n",
       "      <td>8.0</td>\n",
       "      <td>1000</td>\n",
       "      <td>408.0</td>\n",
       "      <td>52.0</td>\n",
       "      <td>14.0</td>\n",
       "      <td>81.0</td>\n",
       "      <td>Краснодар</td>\n",
       "      <td>ultra</td>\n",
       "      <td>1000</td>\n",
       "      <td>30.0</td>\n",
       "      <td>3000</td>\n",
       "      <td>1950</td>\n",
       "      <td>150</td>\n",
       "      <td>1</td>\n",
       "      <td>1</td>\n",
       "    </tr>\n",
       "    <tr>\n",
       "      <th>4</th>\n",
       "      <td>9.0</td>\n",
       "      <td>1000</td>\n",
       "      <td>466.0</td>\n",
       "      <td>58.0</td>\n",
       "      <td>15.0</td>\n",
       "      <td>57.0</td>\n",
       "      <td>Краснодар</td>\n",
       "      <td>ultra</td>\n",
       "      <td>1000</td>\n",
       "      <td>30.0</td>\n",
       "      <td>3000</td>\n",
       "      <td>1950</td>\n",
       "      <td>150</td>\n",
       "      <td>1</td>\n",
       "      <td>1</td>\n",
       "    </tr>\n",
       "    <tr>\n",
       "      <th>...</th>\n",
       "      <td>...</td>\n",
       "      <td>...</td>\n",
       "      <td>...</td>\n",
       "      <td>...</td>\n",
       "      <td>...</td>\n",
       "      <td>...</td>\n",
       "      <td>...</td>\n",
       "      <td>...</td>\n",
       "      <td>...</td>\n",
       "      <td>...</td>\n",
       "      <td>...</td>\n",
       "      <td>...</td>\n",
       "      <td>...</td>\n",
       "      <td>...</td>\n",
       "      <td>...</td>\n",
       "    </tr>\n",
       "    <tr>\n",
       "      <th>3211</th>\n",
       "      <td>9.0</td>\n",
       "      <td>1489</td>\n",
       "      <td>NaN</td>\n",
       "      <td>NaN</td>\n",
       "      <td>17.0</td>\n",
       "      <td>32.0</td>\n",
       "      <td>Санкт-Петербург</td>\n",
       "      <td>smart</td>\n",
       "      <td>50</td>\n",
       "      <td>15.0</td>\n",
       "      <td>500</td>\n",
       "      <td>550</td>\n",
       "      <td>200</td>\n",
       "      <td>3</td>\n",
       "      <td>3</td>\n",
       "    </tr>\n",
       "    <tr>\n",
       "      <th>3212</th>\n",
       "      <td>10.0</td>\n",
       "      <td>1489</td>\n",
       "      <td>NaN</td>\n",
       "      <td>NaN</td>\n",
       "      <td>20.0</td>\n",
       "      <td>21.0</td>\n",
       "      <td>Санкт-Петербург</td>\n",
       "      <td>smart</td>\n",
       "      <td>50</td>\n",
       "      <td>15.0</td>\n",
       "      <td>500</td>\n",
       "      <td>550</td>\n",
       "      <td>200</td>\n",
       "      <td>3</td>\n",
       "      <td>3</td>\n",
       "    </tr>\n",
       "    <tr>\n",
       "      <th>3213</th>\n",
       "      <td>11.0</td>\n",
       "      <td>1489</td>\n",
       "      <td>NaN</td>\n",
       "      <td>NaN</td>\n",
       "      <td>18.0</td>\n",
       "      <td>20.0</td>\n",
       "      <td>Санкт-Петербург</td>\n",
       "      <td>smart</td>\n",
       "      <td>50</td>\n",
       "      <td>15.0</td>\n",
       "      <td>500</td>\n",
       "      <td>550</td>\n",
       "      <td>200</td>\n",
       "      <td>3</td>\n",
       "      <td>3</td>\n",
       "    </tr>\n",
       "    <tr>\n",
       "      <th>3214</th>\n",
       "      <td>12.0</td>\n",
       "      <td>1489</td>\n",
       "      <td>NaN</td>\n",
       "      <td>NaN</td>\n",
       "      <td>17.0</td>\n",
       "      <td>35.0</td>\n",
       "      <td>Санкт-Петербург</td>\n",
       "      <td>smart</td>\n",
       "      <td>50</td>\n",
       "      <td>15.0</td>\n",
       "      <td>500</td>\n",
       "      <td>550</td>\n",
       "      <td>200</td>\n",
       "      <td>3</td>\n",
       "      <td>3</td>\n",
       "    </tr>\n",
       "    <tr>\n",
       "      <th>3215</th>\n",
       "      <td>NaN</td>\n",
       "      <td>1371</td>\n",
       "      <td>NaN</td>\n",
       "      <td>NaN</td>\n",
       "      <td>NaN</td>\n",
       "      <td>NaN</td>\n",
       "      <td>Омск</td>\n",
       "      <td>smart</td>\n",
       "      <td>50</td>\n",
       "      <td>15.0</td>\n",
       "      <td>500</td>\n",
       "      <td>550</td>\n",
       "      <td>200</td>\n",
       "      <td>3</td>\n",
       "      <td>3</td>\n",
       "    </tr>\n",
       "  </tbody>\n",
       "</table>\n",
       "<p>3216 rows × 15 columns</p>\n",
       "</div>"
      ],
      "text/plain": [
       "      month  user_id  duration  calls_count  mb_used  msg_count  \\\n",
       "0     5.0    1000     159.0     22.0         3.0      22.0        \n",
       "1     6.0    1000     172.0     43.0         23.0     60.0        \n",
       "2     7.0    1000     340.0     47.0         14.0     75.0        \n",
       "3     8.0    1000     408.0     52.0         14.0     81.0        \n",
       "4     9.0    1000     466.0     58.0         15.0     57.0        \n",
       "...   ...     ...       ...      ...          ...      ...        \n",
       "3211  9.0    1489    NaN       NaN           17.0     32.0        \n",
       "3212  10.0   1489    NaN       NaN           20.0     21.0        \n",
       "3213  11.0   1489    NaN       NaN           18.0     20.0        \n",
       "3214  12.0   1489    NaN       NaN           17.0     35.0        \n",
       "3215 NaN     1371    NaN       NaN          NaN      NaN          \n",
       "\n",
       "                 city tariff_name  messages_included  gb_per_month_included  \\\n",
       "0     Краснодар        ultra       1000               30.0                    \n",
       "1     Краснодар        ultra       1000               30.0                    \n",
       "2     Краснодар        ultra       1000               30.0                    \n",
       "3     Краснодар        ultra       1000               30.0                    \n",
       "4     Краснодар        ultra       1000               30.0                    \n",
       "...         ...          ...        ...                ...                    \n",
       "3211  Санкт-Петербург  smart       50                 15.0                    \n",
       "3212  Санкт-Петербург  smart       50                 15.0                    \n",
       "3213  Санкт-Петербург  smart       50                 15.0                    \n",
       "3214  Санкт-Петербург  smart       50                 15.0                    \n",
       "3215  Омск             smart       50                 15.0                    \n",
       "\n",
       "      minutes_included  rub_monthly_fee  rub_per_gb  rub_per_message  \\\n",
       "0     3000              1950             150         1                 \n",
       "1     3000              1950             150         1                 \n",
       "2     3000              1950             150         1                 \n",
       "3     3000              1950             150         1                 \n",
       "4     3000              1950             150         1                 \n",
       "...    ...               ...             ...        ..                 \n",
       "3211  500               550              200         3                 \n",
       "3212  500               550              200         3                 \n",
       "3213  500               550              200         3                 \n",
       "3214  500               550              200         3                 \n",
       "3215  500               550              200         3                 \n",
       "\n",
       "      rub_per_minute  \n",
       "0     1               \n",
       "1     1               \n",
       "2     1               \n",
       "3     1               \n",
       "4     1               \n",
       "...  ..               \n",
       "3211  3               \n",
       "3212  3               \n",
       "3213  3               \n",
       "3214  3               \n",
       "3215  3               \n",
       "\n",
       "[3216 rows x 15 columns]"
      ]
     },
     "execution_count": 56,
     "metadata": {},
     "output_type": "execute_result"
    }
   ],
   "source": [
    "revenue"
   ]
  },
  {
   "cell_type": "markdown",
   "metadata": {},
   "source": [
    "Объединения завершены, но в полученной таблице мы видим пропуски, необходимо их проанализировать"
   ]
  },
  {
   "cell_type": "code",
   "execution_count": 57,
   "metadata": {
    "scrolled": false
   },
   "outputs": [
    {
     "data": {
      "text/html": [
       "<style type=\"text/css\">\n",
       "#T_5af9c_row0_col0, #T_5af9c_row0_col1 {\n",
       "  background-color: #3c4ec2;\n",
       "  color: #f1f1f1;\n",
       "}\n",
       "#T_5af9c_row1_col0, #T_5af9c_row1_col1, #T_5af9c_row6_col0, #T_5af9c_row6_col1, #T_5af9c_row7_col0, #T_5af9c_row7_col1, #T_5af9c_row8_col0, #T_5af9c_row8_col1, #T_5af9c_row9_col0, #T_5af9c_row9_col1, #T_5af9c_row10_col0, #T_5af9c_row10_col1, #T_5af9c_row11_col0, #T_5af9c_row11_col1, #T_5af9c_row12_col0, #T_5af9c_row12_col1, #T_5af9c_row13_col0, #T_5af9c_row13_col1, #T_5af9c_row14_col0, #T_5af9c_row14_col1 {\n",
       "  background-color: #3b4cc0;\n",
       "  color: #f1f1f1;\n",
       "}\n",
       "#T_5af9c_row2_col0, #T_5af9c_row2_col1, #T_5af9c_row3_col0, #T_5af9c_row3_col1 {\n",
       "  background-color: #5470de;\n",
       "  color: #f1f1f1;\n",
       "}\n",
       "#T_5af9c_row4_col0, #T_5af9c_row4_col1 {\n",
       "  background-color: #4358cb;\n",
       "  color: #f1f1f1;\n",
       "}\n",
       "#T_5af9c_row5_col0, #T_5af9c_row5_col1 {\n",
       "  background-color: #b40426;\n",
       "  color: #f1f1f1;\n",
       "}\n",
       "</style>\n",
       "<table id=\"T_5af9c\">\n",
       "  <thead>\n",
       "    <tr>\n",
       "      <th class=\"blank level0\" >&nbsp;</th>\n",
       "      <th id=\"T_5af9c_level0_col0\" class=\"col_heading level0 col0\" >% miss</th>\n",
       "      <th id=\"T_5af9c_level0_col1\" class=\"col_heading level0 col1\" ># miss</th>\n",
       "    </tr>\n",
       "  </thead>\n",
       "  <tbody>\n",
       "    <tr>\n",
       "      <th id=\"T_5af9c_level0_row0\" class=\"row_heading level0 row0\" >month</th>\n",
       "      <td id=\"T_5af9c_row0_col0\" class=\"data row0 col0\" >0.062189</td>\n",
       "      <td id=\"T_5af9c_row0_col1\" class=\"data row0 col1\" >2</td>\n",
       "    </tr>\n",
       "    <tr>\n",
       "      <th id=\"T_5af9c_level0_row1\" class=\"row_heading level0 row1\" >user_id</th>\n",
       "      <td id=\"T_5af9c_row1_col0\" class=\"data row1 col0\" >0.000000</td>\n",
       "      <td id=\"T_5af9c_row1_col1\" class=\"data row1 col1\" >0</td>\n",
       "    </tr>\n",
       "    <tr>\n",
       "      <th id=\"T_5af9c_level0_row2\" class=\"row_heading level0 row2\" >duration</th>\n",
       "      <td id=\"T_5af9c_row2_col0\" class=\"data row2 col0\" >1.305970</td>\n",
       "      <td id=\"T_5af9c_row2_col1\" class=\"data row2 col1\" >42</td>\n",
       "    </tr>\n",
       "    <tr>\n",
       "      <th id=\"T_5af9c_level0_row3\" class=\"row_heading level0 row3\" >calls_count</th>\n",
       "      <td id=\"T_5af9c_row3_col0\" class=\"data row3 col0\" >1.305970</td>\n",
       "      <td id=\"T_5af9c_row3_col1\" class=\"data row3 col1\" >42</td>\n",
       "    </tr>\n",
       "    <tr>\n",
       "      <th id=\"T_5af9c_level0_row4\" class=\"row_heading level0 row4\" >mb_used</th>\n",
       "      <td id=\"T_5af9c_row4_col0\" class=\"data row4 col0\" >0.466418</td>\n",
       "      <td id=\"T_5af9c_row4_col1\" class=\"data row4 col1\" >15</td>\n",
       "    </tr>\n",
       "    <tr>\n",
       "      <th id=\"T_5af9c_level0_row5\" class=\"row_heading level0 row5\" >msg_count</th>\n",
       "      <td id=\"T_5af9c_row5_col0\" class=\"data row5 col0\" >15.516169</td>\n",
       "      <td id=\"T_5af9c_row5_col1\" class=\"data row5 col1\" >499</td>\n",
       "    </tr>\n",
       "    <tr>\n",
       "      <th id=\"T_5af9c_level0_row6\" class=\"row_heading level0 row6\" >city</th>\n",
       "      <td id=\"T_5af9c_row6_col0\" class=\"data row6 col0\" >0.000000</td>\n",
       "      <td id=\"T_5af9c_row6_col1\" class=\"data row6 col1\" >0</td>\n",
       "    </tr>\n",
       "    <tr>\n",
       "      <th id=\"T_5af9c_level0_row7\" class=\"row_heading level0 row7\" >tariff_name</th>\n",
       "      <td id=\"T_5af9c_row7_col0\" class=\"data row7 col0\" >0.000000</td>\n",
       "      <td id=\"T_5af9c_row7_col1\" class=\"data row7 col1\" >0</td>\n",
       "    </tr>\n",
       "    <tr>\n",
       "      <th id=\"T_5af9c_level0_row8\" class=\"row_heading level0 row8\" >messages_included</th>\n",
       "      <td id=\"T_5af9c_row8_col0\" class=\"data row8 col0\" >0.000000</td>\n",
       "      <td id=\"T_5af9c_row8_col1\" class=\"data row8 col1\" >0</td>\n",
       "    </tr>\n",
       "    <tr>\n",
       "      <th id=\"T_5af9c_level0_row9\" class=\"row_heading level0 row9\" >gb_per_month_included</th>\n",
       "      <td id=\"T_5af9c_row9_col0\" class=\"data row9 col0\" >0.000000</td>\n",
       "      <td id=\"T_5af9c_row9_col1\" class=\"data row9 col1\" >0</td>\n",
       "    </tr>\n",
       "    <tr>\n",
       "      <th id=\"T_5af9c_level0_row10\" class=\"row_heading level0 row10\" >minutes_included</th>\n",
       "      <td id=\"T_5af9c_row10_col0\" class=\"data row10 col0\" >0.000000</td>\n",
       "      <td id=\"T_5af9c_row10_col1\" class=\"data row10 col1\" >0</td>\n",
       "    </tr>\n",
       "    <tr>\n",
       "      <th id=\"T_5af9c_level0_row11\" class=\"row_heading level0 row11\" >rub_monthly_fee</th>\n",
       "      <td id=\"T_5af9c_row11_col0\" class=\"data row11 col0\" >0.000000</td>\n",
       "      <td id=\"T_5af9c_row11_col1\" class=\"data row11 col1\" >0</td>\n",
       "    </tr>\n",
       "    <tr>\n",
       "      <th id=\"T_5af9c_level0_row12\" class=\"row_heading level0 row12\" >rub_per_gb</th>\n",
       "      <td id=\"T_5af9c_row12_col0\" class=\"data row12 col0\" >0.000000</td>\n",
       "      <td id=\"T_5af9c_row12_col1\" class=\"data row12 col1\" >0</td>\n",
       "    </tr>\n",
       "    <tr>\n",
       "      <th id=\"T_5af9c_level0_row13\" class=\"row_heading level0 row13\" >rub_per_message</th>\n",
       "      <td id=\"T_5af9c_row13_col0\" class=\"data row13 col0\" >0.000000</td>\n",
       "      <td id=\"T_5af9c_row13_col1\" class=\"data row13 col1\" >0</td>\n",
       "    </tr>\n",
       "    <tr>\n",
       "      <th id=\"T_5af9c_level0_row14\" class=\"row_heading level0 row14\" >rub_per_minute</th>\n",
       "      <td id=\"T_5af9c_row14_col0\" class=\"data row14 col0\" >0.000000</td>\n",
       "      <td id=\"T_5af9c_row14_col1\" class=\"data row14 col1\" >0</td>\n",
       "    </tr>\n",
       "  </tbody>\n",
       "</table>\n"
      ],
      "text/plain": [
       "<pandas.io.formats.style.Styler at 0x1a12d7a79a0>"
      ]
     },
     "metadata": {},
     "output_type": "display_data"
    }
   ],
   "source": [
    "miss_table(revenue)"
   ]
  },
  {
   "cell_type": "markdown",
   "metadata": {},
   "source": [
    "В случае с пропусками в звонках, интернете и особенно в сообщениях (которыми скорее всего многие давно не пользуются), мы понимаем что в каком-то месяце пользователю просто не требовалась данная услуга и мы можем заполнить пропуск нулем. В случае же с месяцами все несколько интереснее."
   ]
  },
  {
   "cell_type": "code",
   "execution_count": 58,
   "metadata": {
    "scrolled": true
   },
   "outputs": [
    {
     "data": {
      "text/html": [
       "<div>\n",
       "<style scoped>\n",
       "    .dataframe tbody tr th:only-of-type {\n",
       "        vertical-align: middle;\n",
       "    }\n",
       "\n",
       "    .dataframe tbody tr th {\n",
       "        vertical-align: top;\n",
       "    }\n",
       "\n",
       "    .dataframe thead th {\n",
       "        text-align: right;\n",
       "    }\n",
       "</style>\n",
       "<table border=\"1\" class=\"dataframe\">\n",
       "  <thead>\n",
       "    <tr style=\"text-align: right;\">\n",
       "      <th></th>\n",
       "      <th>month</th>\n",
       "      <th>user_id</th>\n",
       "      <th>duration</th>\n",
       "      <th>calls_count</th>\n",
       "      <th>mb_used</th>\n",
       "      <th>msg_count</th>\n",
       "      <th>city</th>\n",
       "      <th>tariff_name</th>\n",
       "      <th>messages_included</th>\n",
       "      <th>gb_per_month_included</th>\n",
       "      <th>minutes_included</th>\n",
       "      <th>rub_monthly_fee</th>\n",
       "      <th>rub_per_gb</th>\n",
       "      <th>rub_per_message</th>\n",
       "      <th>rub_per_minute</th>\n",
       "    </tr>\n",
       "  </thead>\n",
       "  <tbody>\n",
       "    <tr>\n",
       "      <th>985</th>\n",
       "      <td>NaN</td>\n",
       "      <td>1128</td>\n",
       "      <td>NaN</td>\n",
       "      <td>NaN</td>\n",
       "      <td>NaN</td>\n",
       "      <td>NaN</td>\n",
       "      <td>Волжский</td>\n",
       "      <td>ultra</td>\n",
       "      <td>1000</td>\n",
       "      <td>30.0</td>\n",
       "      <td>3000</td>\n",
       "      <td>1950</td>\n",
       "      <td>150</td>\n",
       "      <td>1</td>\n",
       "      <td>1</td>\n",
       "    </tr>\n",
       "    <tr>\n",
       "      <th>3215</th>\n",
       "      <td>NaN</td>\n",
       "      <td>1371</td>\n",
       "      <td>NaN</td>\n",
       "      <td>NaN</td>\n",
       "      <td>NaN</td>\n",
       "      <td>NaN</td>\n",
       "      <td>Омск</td>\n",
       "      <td>smart</td>\n",
       "      <td>50</td>\n",
       "      <td>15.0</td>\n",
       "      <td>500</td>\n",
       "      <td>550</td>\n",
       "      <td>200</td>\n",
       "      <td>3</td>\n",
       "      <td>3</td>\n",
       "    </tr>\n",
       "  </tbody>\n",
       "</table>\n",
       "</div>"
      ],
      "text/plain": [
       "      month  user_id  duration  calls_count  mb_used  msg_count      city  \\\n",
       "985  NaN     1128    NaN       NaN          NaN      NaN         Волжский   \n",
       "3215 NaN     1371    NaN       NaN          NaN      NaN         Омск       \n",
       "\n",
       "     tariff_name  messages_included  gb_per_month_included  minutes_included  \\\n",
       "985   ultra       1000               30.0                   3000               \n",
       "3215  smart       50                 15.0                   500                \n",
       "\n",
       "      rub_monthly_fee  rub_per_gb  rub_per_message  rub_per_minute  \n",
       "985   1950             150         1                1               \n",
       "3215  550              200         3                3               "
      ]
     },
     "execution_count": 58,
     "metadata": {},
     "output_type": "execute_result"
    }
   ],
   "source": [
    "revenue[revenue['month'] != revenue['month']]"
   ]
  },
  {
   "cell_type": "markdown",
   "metadata": {},
   "source": [
    "Мы находим, что это два пользователя, необходимо посмотреть внимательнее"
   ]
  },
  {
   "cell_type": "code",
   "execution_count": 59,
   "metadata": {},
   "outputs": [
    {
     "data": {
      "text/html": [
       "<div>\n",
       "<style scoped>\n",
       "    .dataframe tbody tr th:only-of-type {\n",
       "        vertical-align: middle;\n",
       "    }\n",
       "\n",
       "    .dataframe tbody tr th {\n",
       "        vertical-align: top;\n",
       "    }\n",
       "\n",
       "    .dataframe thead th {\n",
       "        text-align: right;\n",
       "    }\n",
       "</style>\n",
       "<table border=\"1\" class=\"dataframe\">\n",
       "  <thead>\n",
       "    <tr style=\"text-align: right;\">\n",
       "      <th></th>\n",
       "      <th>user_id</th>\n",
       "      <th>age</th>\n",
       "      <th>churn_date</th>\n",
       "      <th>city</th>\n",
       "      <th>first_name</th>\n",
       "      <th>last_name</th>\n",
       "      <th>reg_date</th>\n",
       "      <th>tariff</th>\n",
       "    </tr>\n",
       "  </thead>\n",
       "  <tbody>\n",
       "    <tr>\n",
       "      <th>128</th>\n",
       "      <td>1128</td>\n",
       "      <td>51</td>\n",
       "      <td>2018-12-23</td>\n",
       "      <td>Волжский</td>\n",
       "      <td>Ксения</td>\n",
       "      <td>Агаева</td>\n",
       "      <td>2018-12-15</td>\n",
       "      <td>ultra</td>\n",
       "    </tr>\n",
       "  </tbody>\n",
       "</table>\n",
       "</div>"
      ],
      "text/plain": [
       "     user_id  age churn_date      city first_name last_name   reg_date tariff\n",
       "128  1128     51  2018-12-23  Волжский  Ксения     Агаева   2018-12-15  ultra"
      ]
     },
     "execution_count": 59,
     "metadata": {},
     "output_type": "execute_result"
    }
   ],
   "source": [
    "users[users['user_id'] == 1128]"
   ]
  },
  {
   "cell_type": "code",
   "execution_count": 60,
   "metadata": {},
   "outputs": [
    {
     "data": {
      "text/html": [
       "<div>\n",
       "<style scoped>\n",
       "    .dataframe tbody tr th:only-of-type {\n",
       "        vertical-align: middle;\n",
       "    }\n",
       "\n",
       "    .dataframe tbody tr th {\n",
       "        vertical-align: top;\n",
       "    }\n",
       "\n",
       "    .dataframe thead th {\n",
       "        text-align: right;\n",
       "    }\n",
       "</style>\n",
       "<table border=\"1\" class=\"dataframe\">\n",
       "  <thead>\n",
       "    <tr style=\"text-align: right;\">\n",
       "      <th></th>\n",
       "      <th>user_id</th>\n",
       "      <th>age</th>\n",
       "      <th>churn_date</th>\n",
       "      <th>city</th>\n",
       "      <th>first_name</th>\n",
       "      <th>last_name</th>\n",
       "      <th>reg_date</th>\n",
       "      <th>tariff</th>\n",
       "    </tr>\n",
       "  </thead>\n",
       "  <tbody>\n",
       "    <tr>\n",
       "      <th>371</th>\n",
       "      <td>1371</td>\n",
       "      <td>50</td>\n",
       "      <td>2018-12-30</td>\n",
       "      <td>Омск</td>\n",
       "      <td>Ириней</td>\n",
       "      <td>Трофимов</td>\n",
       "      <td>2018-12-25</td>\n",
       "      <td>smart</td>\n",
       "    </tr>\n",
       "  </tbody>\n",
       "</table>\n",
       "</div>"
      ],
      "text/plain": [
       "     user_id  age churn_date  city first_name last_name   reg_date tariff\n",
       "371  1371     50  2018-12-30  Омск  Ириней     Трофимов 2018-12-25  smart"
      ]
     },
     "execution_count": 60,
     "metadata": {},
     "output_type": "execute_result"
    }
   ],
   "source": [
    "users[users['user_id'] == 1371]"
   ]
  },
  {
   "cell_type": "markdown",
   "metadata": {},
   "source": [
    "Находим этих двух пользователей и понимаем, что они отключили тариф буквально через несколько дней после регистрации. По нашему вышеобозначенному допущению мы по идее должны насчитать им абонентскую плату за месяц, но так как их немного, можем просто удалить из таблицы."
   ]
  },
  {
   "cell_type": "code",
   "execution_count": 61,
   "metadata": {},
   "outputs": [],
   "source": [
    "revenue = revenue.drop(revenue[revenue['user_id'] == 1128].index)\n",
    "revenue = revenue.drop(revenue[revenue['user_id'] == 1371].index)"
   ]
  },
  {
   "cell_type": "code",
   "execution_count": 62,
   "metadata": {},
   "outputs": [],
   "source": [
    "revenue = revenue.fillna(0)"
   ]
  },
  {
   "cell_type": "markdown",
   "metadata": {},
   "source": [
    "Остальные пропуски заполняем нулями"
   ]
  },
  {
   "cell_type": "code",
   "execution_count": 63,
   "metadata": {},
   "outputs": [
    {
     "data": {
      "text/html": [
       "<div>\n",
       "<style scoped>\n",
       "    .dataframe tbody tr th:only-of-type {\n",
       "        vertical-align: middle;\n",
       "    }\n",
       "\n",
       "    .dataframe tbody tr th {\n",
       "        vertical-align: top;\n",
       "    }\n",
       "\n",
       "    .dataframe thead th {\n",
       "        text-align: right;\n",
       "    }\n",
       "</style>\n",
       "<table border=\"1\" class=\"dataframe\">\n",
       "  <thead>\n",
       "    <tr style=\"text-align: right;\">\n",
       "      <th></th>\n",
       "      <th>month</th>\n",
       "      <th>user_id</th>\n",
       "      <th>duration</th>\n",
       "      <th>calls_count</th>\n",
       "      <th>mb_used</th>\n",
       "      <th>msg_count</th>\n",
       "      <th>city</th>\n",
       "      <th>tariff_name</th>\n",
       "      <th>messages_included</th>\n",
       "      <th>gb_per_month_included</th>\n",
       "      <th>minutes_included</th>\n",
       "      <th>rub_monthly_fee</th>\n",
       "      <th>rub_per_gb</th>\n",
       "      <th>rub_per_message</th>\n",
       "      <th>rub_per_minute</th>\n",
       "    </tr>\n",
       "  </thead>\n",
       "  <tbody>\n",
       "    <tr>\n",
       "      <th>0</th>\n",
       "      <td>5.0</td>\n",
       "      <td>1000</td>\n",
       "      <td>159.0</td>\n",
       "      <td>22.0</td>\n",
       "      <td>3.0</td>\n",
       "      <td>22.0</td>\n",
       "      <td>Краснодар</td>\n",
       "      <td>ultra</td>\n",
       "      <td>1000</td>\n",
       "      <td>30.0</td>\n",
       "      <td>3000</td>\n",
       "      <td>1950</td>\n",
       "      <td>150</td>\n",
       "      <td>1</td>\n",
       "      <td>1</td>\n",
       "    </tr>\n",
       "    <tr>\n",
       "      <th>1</th>\n",
       "      <td>6.0</td>\n",
       "      <td>1000</td>\n",
       "      <td>172.0</td>\n",
       "      <td>43.0</td>\n",
       "      <td>23.0</td>\n",
       "      <td>60.0</td>\n",
       "      <td>Краснодар</td>\n",
       "      <td>ultra</td>\n",
       "      <td>1000</td>\n",
       "      <td>30.0</td>\n",
       "      <td>3000</td>\n",
       "      <td>1950</td>\n",
       "      <td>150</td>\n",
       "      <td>1</td>\n",
       "      <td>1</td>\n",
       "    </tr>\n",
       "    <tr>\n",
       "      <th>2</th>\n",
       "      <td>7.0</td>\n",
       "      <td>1000</td>\n",
       "      <td>340.0</td>\n",
       "      <td>47.0</td>\n",
       "      <td>14.0</td>\n",
       "      <td>75.0</td>\n",
       "      <td>Краснодар</td>\n",
       "      <td>ultra</td>\n",
       "      <td>1000</td>\n",
       "      <td>30.0</td>\n",
       "      <td>3000</td>\n",
       "      <td>1950</td>\n",
       "      <td>150</td>\n",
       "      <td>1</td>\n",
       "      <td>1</td>\n",
       "    </tr>\n",
       "    <tr>\n",
       "      <th>3</th>\n",
       "      <td>8.0</td>\n",
       "      <td>1000</td>\n",
       "      <td>408.0</td>\n",
       "      <td>52.0</td>\n",
       "      <td>14.0</td>\n",
       "      <td>81.0</td>\n",
       "      <td>Краснодар</td>\n",
       "      <td>ultra</td>\n",
       "      <td>1000</td>\n",
       "      <td>30.0</td>\n",
       "      <td>3000</td>\n",
       "      <td>1950</td>\n",
       "      <td>150</td>\n",
       "      <td>1</td>\n",
       "      <td>1</td>\n",
       "    </tr>\n",
       "    <tr>\n",
       "      <th>4</th>\n",
       "      <td>9.0</td>\n",
       "      <td>1000</td>\n",
       "      <td>466.0</td>\n",
       "      <td>58.0</td>\n",
       "      <td>15.0</td>\n",
       "      <td>57.0</td>\n",
       "      <td>Краснодар</td>\n",
       "      <td>ultra</td>\n",
       "      <td>1000</td>\n",
       "      <td>30.0</td>\n",
       "      <td>3000</td>\n",
       "      <td>1950</td>\n",
       "      <td>150</td>\n",
       "      <td>1</td>\n",
       "      <td>1</td>\n",
       "    </tr>\n",
       "    <tr>\n",
       "      <th>...</th>\n",
       "      <td>...</td>\n",
       "      <td>...</td>\n",
       "      <td>...</td>\n",
       "      <td>...</td>\n",
       "      <td>...</td>\n",
       "      <td>...</td>\n",
       "      <td>...</td>\n",
       "      <td>...</td>\n",
       "      <td>...</td>\n",
       "      <td>...</td>\n",
       "      <td>...</td>\n",
       "      <td>...</td>\n",
       "      <td>...</td>\n",
       "      <td>...</td>\n",
       "      <td>...</td>\n",
       "    </tr>\n",
       "    <tr>\n",
       "      <th>3210</th>\n",
       "      <td>8.0</td>\n",
       "      <td>1489</td>\n",
       "      <td>0.0</td>\n",
       "      <td>0.0</td>\n",
       "      <td>11.0</td>\n",
       "      <td>17.0</td>\n",
       "      <td>Санкт-Петербург</td>\n",
       "      <td>smart</td>\n",
       "      <td>50</td>\n",
       "      <td>15.0</td>\n",
       "      <td>500</td>\n",
       "      <td>550</td>\n",
       "      <td>200</td>\n",
       "      <td>3</td>\n",
       "      <td>3</td>\n",
       "    </tr>\n",
       "    <tr>\n",
       "      <th>3211</th>\n",
       "      <td>9.0</td>\n",
       "      <td>1489</td>\n",
       "      <td>0.0</td>\n",
       "      <td>0.0</td>\n",
       "      <td>17.0</td>\n",
       "      <td>32.0</td>\n",
       "      <td>Санкт-Петербург</td>\n",
       "      <td>smart</td>\n",
       "      <td>50</td>\n",
       "      <td>15.0</td>\n",
       "      <td>500</td>\n",
       "      <td>550</td>\n",
       "      <td>200</td>\n",
       "      <td>3</td>\n",
       "      <td>3</td>\n",
       "    </tr>\n",
       "    <tr>\n",
       "      <th>3212</th>\n",
       "      <td>10.0</td>\n",
       "      <td>1489</td>\n",
       "      <td>0.0</td>\n",
       "      <td>0.0</td>\n",
       "      <td>20.0</td>\n",
       "      <td>21.0</td>\n",
       "      <td>Санкт-Петербург</td>\n",
       "      <td>smart</td>\n",
       "      <td>50</td>\n",
       "      <td>15.0</td>\n",
       "      <td>500</td>\n",
       "      <td>550</td>\n",
       "      <td>200</td>\n",
       "      <td>3</td>\n",
       "      <td>3</td>\n",
       "    </tr>\n",
       "    <tr>\n",
       "      <th>3213</th>\n",
       "      <td>11.0</td>\n",
       "      <td>1489</td>\n",
       "      <td>0.0</td>\n",
       "      <td>0.0</td>\n",
       "      <td>18.0</td>\n",
       "      <td>20.0</td>\n",
       "      <td>Санкт-Петербург</td>\n",
       "      <td>smart</td>\n",
       "      <td>50</td>\n",
       "      <td>15.0</td>\n",
       "      <td>500</td>\n",
       "      <td>550</td>\n",
       "      <td>200</td>\n",
       "      <td>3</td>\n",
       "      <td>3</td>\n",
       "    </tr>\n",
       "    <tr>\n",
       "      <th>3214</th>\n",
       "      <td>12.0</td>\n",
       "      <td>1489</td>\n",
       "      <td>0.0</td>\n",
       "      <td>0.0</td>\n",
       "      <td>17.0</td>\n",
       "      <td>35.0</td>\n",
       "      <td>Санкт-Петербург</td>\n",
       "      <td>smart</td>\n",
       "      <td>50</td>\n",
       "      <td>15.0</td>\n",
       "      <td>500</td>\n",
       "      <td>550</td>\n",
       "      <td>200</td>\n",
       "      <td>3</td>\n",
       "      <td>3</td>\n",
       "    </tr>\n",
       "  </tbody>\n",
       "</table>\n",
       "<p>3214 rows × 15 columns</p>\n",
       "</div>"
      ],
      "text/plain": [
       "      month  user_id  duration  calls_count  mb_used  msg_count  \\\n",
       "0     5.0    1000     159.0     22.0         3.0      22.0        \n",
       "1     6.0    1000     172.0     43.0         23.0     60.0        \n",
       "2     7.0    1000     340.0     47.0         14.0     75.0        \n",
       "3     8.0    1000     408.0     52.0         14.0     81.0        \n",
       "4     9.0    1000     466.0     58.0         15.0     57.0        \n",
       "...   ...     ...       ...      ...          ...      ...        \n",
       "3210  8.0    1489     0.0       0.0          11.0     17.0        \n",
       "3211  9.0    1489     0.0       0.0          17.0     32.0        \n",
       "3212  10.0   1489     0.0       0.0          20.0     21.0        \n",
       "3213  11.0   1489     0.0       0.0          18.0     20.0        \n",
       "3214  12.0   1489     0.0       0.0          17.0     35.0        \n",
       "\n",
       "                 city tariff_name  messages_included  gb_per_month_included  \\\n",
       "0     Краснодар        ultra       1000               30.0                    \n",
       "1     Краснодар        ultra       1000               30.0                    \n",
       "2     Краснодар        ultra       1000               30.0                    \n",
       "3     Краснодар        ultra       1000               30.0                    \n",
       "4     Краснодар        ultra       1000               30.0                    \n",
       "...         ...          ...        ...                ...                    \n",
       "3210  Санкт-Петербург  smart       50                 15.0                    \n",
       "3211  Санкт-Петербург  smart       50                 15.0                    \n",
       "3212  Санкт-Петербург  smart       50                 15.0                    \n",
       "3213  Санкт-Петербург  smart       50                 15.0                    \n",
       "3214  Санкт-Петербург  smart       50                 15.0                    \n",
       "\n",
       "      minutes_included  rub_monthly_fee  rub_per_gb  rub_per_message  \\\n",
       "0     3000              1950             150         1                 \n",
       "1     3000              1950             150         1                 \n",
       "2     3000              1950             150         1                 \n",
       "3     3000              1950             150         1                 \n",
       "4     3000              1950             150         1                 \n",
       "...    ...               ...             ...        ..                 \n",
       "3210  500               550              200         3                 \n",
       "3211  500               550              200         3                 \n",
       "3212  500               550              200         3                 \n",
       "3213  500               550              200         3                 \n",
       "3214  500               550              200         3                 \n",
       "\n",
       "      rub_per_minute  \n",
       "0     1               \n",
       "1     1               \n",
       "2     1               \n",
       "3     1               \n",
       "4     1               \n",
       "...  ..               \n",
       "3210  3               \n",
       "3211  3               \n",
       "3212  3               \n",
       "3213  3               \n",
       "3214  3               \n",
       "\n",
       "[3214 rows x 15 columns]"
      ]
     },
     "execution_count": 63,
     "metadata": {},
     "output_type": "execute_result"
    }
   ],
   "source": [
    "revenue"
   ]
  },
  {
   "cell_type": "code",
   "execution_count": 64,
   "metadata": {
    "scrolled": true
   },
   "outputs": [
    {
     "data": {
      "text/html": [
       "<style type=\"text/css\">\n",
       "#T_f63c1_row0_col0, #T_f63c1_row0_col1, #T_f63c1_row1_col0, #T_f63c1_row1_col1, #T_f63c1_row2_col0, #T_f63c1_row2_col1, #T_f63c1_row3_col0, #T_f63c1_row3_col1, #T_f63c1_row4_col0, #T_f63c1_row4_col1, #T_f63c1_row5_col0, #T_f63c1_row5_col1, #T_f63c1_row6_col0, #T_f63c1_row6_col1, #T_f63c1_row7_col0, #T_f63c1_row7_col1, #T_f63c1_row8_col0, #T_f63c1_row8_col1, #T_f63c1_row9_col0, #T_f63c1_row9_col1, #T_f63c1_row10_col0, #T_f63c1_row10_col1, #T_f63c1_row11_col0, #T_f63c1_row11_col1, #T_f63c1_row12_col0, #T_f63c1_row12_col1, #T_f63c1_row13_col0, #T_f63c1_row13_col1, #T_f63c1_row14_col0, #T_f63c1_row14_col1 {\n",
       "  background-color: #3b4cc0;\n",
       "  color: #f1f1f1;\n",
       "}\n",
       "</style>\n",
       "<table id=\"T_f63c1\">\n",
       "  <thead>\n",
       "    <tr>\n",
       "      <th class=\"blank level0\" >&nbsp;</th>\n",
       "      <th id=\"T_f63c1_level0_col0\" class=\"col_heading level0 col0\" >% miss</th>\n",
       "      <th id=\"T_f63c1_level0_col1\" class=\"col_heading level0 col1\" ># miss</th>\n",
       "    </tr>\n",
       "  </thead>\n",
       "  <tbody>\n",
       "    <tr>\n",
       "      <th id=\"T_f63c1_level0_row0\" class=\"row_heading level0 row0\" >month</th>\n",
       "      <td id=\"T_f63c1_row0_col0\" class=\"data row0 col0\" >0.000000</td>\n",
       "      <td id=\"T_f63c1_row0_col1\" class=\"data row0 col1\" >0</td>\n",
       "    </tr>\n",
       "    <tr>\n",
       "      <th id=\"T_f63c1_level0_row1\" class=\"row_heading level0 row1\" >user_id</th>\n",
       "      <td id=\"T_f63c1_row1_col0\" class=\"data row1 col0\" >0.000000</td>\n",
       "      <td id=\"T_f63c1_row1_col1\" class=\"data row1 col1\" >0</td>\n",
       "    </tr>\n",
       "    <tr>\n",
       "      <th id=\"T_f63c1_level0_row2\" class=\"row_heading level0 row2\" >duration</th>\n",
       "      <td id=\"T_f63c1_row2_col0\" class=\"data row2 col0\" >0.000000</td>\n",
       "      <td id=\"T_f63c1_row2_col1\" class=\"data row2 col1\" >0</td>\n",
       "    </tr>\n",
       "    <tr>\n",
       "      <th id=\"T_f63c1_level0_row3\" class=\"row_heading level0 row3\" >calls_count</th>\n",
       "      <td id=\"T_f63c1_row3_col0\" class=\"data row3 col0\" >0.000000</td>\n",
       "      <td id=\"T_f63c1_row3_col1\" class=\"data row3 col1\" >0</td>\n",
       "    </tr>\n",
       "    <tr>\n",
       "      <th id=\"T_f63c1_level0_row4\" class=\"row_heading level0 row4\" >mb_used</th>\n",
       "      <td id=\"T_f63c1_row4_col0\" class=\"data row4 col0\" >0.000000</td>\n",
       "      <td id=\"T_f63c1_row4_col1\" class=\"data row4 col1\" >0</td>\n",
       "    </tr>\n",
       "    <tr>\n",
       "      <th id=\"T_f63c1_level0_row5\" class=\"row_heading level0 row5\" >msg_count</th>\n",
       "      <td id=\"T_f63c1_row5_col0\" class=\"data row5 col0\" >0.000000</td>\n",
       "      <td id=\"T_f63c1_row5_col1\" class=\"data row5 col1\" >0</td>\n",
       "    </tr>\n",
       "    <tr>\n",
       "      <th id=\"T_f63c1_level0_row6\" class=\"row_heading level0 row6\" >city</th>\n",
       "      <td id=\"T_f63c1_row6_col0\" class=\"data row6 col0\" >0.000000</td>\n",
       "      <td id=\"T_f63c1_row6_col1\" class=\"data row6 col1\" >0</td>\n",
       "    </tr>\n",
       "    <tr>\n",
       "      <th id=\"T_f63c1_level0_row7\" class=\"row_heading level0 row7\" >tariff_name</th>\n",
       "      <td id=\"T_f63c1_row7_col0\" class=\"data row7 col0\" >0.000000</td>\n",
       "      <td id=\"T_f63c1_row7_col1\" class=\"data row7 col1\" >0</td>\n",
       "    </tr>\n",
       "    <tr>\n",
       "      <th id=\"T_f63c1_level0_row8\" class=\"row_heading level0 row8\" >messages_included</th>\n",
       "      <td id=\"T_f63c1_row8_col0\" class=\"data row8 col0\" >0.000000</td>\n",
       "      <td id=\"T_f63c1_row8_col1\" class=\"data row8 col1\" >0</td>\n",
       "    </tr>\n",
       "    <tr>\n",
       "      <th id=\"T_f63c1_level0_row9\" class=\"row_heading level0 row9\" >gb_per_month_included</th>\n",
       "      <td id=\"T_f63c1_row9_col0\" class=\"data row9 col0\" >0.000000</td>\n",
       "      <td id=\"T_f63c1_row9_col1\" class=\"data row9 col1\" >0</td>\n",
       "    </tr>\n",
       "    <tr>\n",
       "      <th id=\"T_f63c1_level0_row10\" class=\"row_heading level0 row10\" >minutes_included</th>\n",
       "      <td id=\"T_f63c1_row10_col0\" class=\"data row10 col0\" >0.000000</td>\n",
       "      <td id=\"T_f63c1_row10_col1\" class=\"data row10 col1\" >0</td>\n",
       "    </tr>\n",
       "    <tr>\n",
       "      <th id=\"T_f63c1_level0_row11\" class=\"row_heading level0 row11\" >rub_monthly_fee</th>\n",
       "      <td id=\"T_f63c1_row11_col0\" class=\"data row11 col0\" >0.000000</td>\n",
       "      <td id=\"T_f63c1_row11_col1\" class=\"data row11 col1\" >0</td>\n",
       "    </tr>\n",
       "    <tr>\n",
       "      <th id=\"T_f63c1_level0_row12\" class=\"row_heading level0 row12\" >rub_per_gb</th>\n",
       "      <td id=\"T_f63c1_row12_col0\" class=\"data row12 col0\" >0.000000</td>\n",
       "      <td id=\"T_f63c1_row12_col1\" class=\"data row12 col1\" >0</td>\n",
       "    </tr>\n",
       "    <tr>\n",
       "      <th id=\"T_f63c1_level0_row13\" class=\"row_heading level0 row13\" >rub_per_message</th>\n",
       "      <td id=\"T_f63c1_row13_col0\" class=\"data row13 col0\" >0.000000</td>\n",
       "      <td id=\"T_f63c1_row13_col1\" class=\"data row13 col1\" >0</td>\n",
       "    </tr>\n",
       "    <tr>\n",
       "      <th id=\"T_f63c1_level0_row14\" class=\"row_heading level0 row14\" >rub_per_minute</th>\n",
       "      <td id=\"T_f63c1_row14_col0\" class=\"data row14 col0\" >0.000000</td>\n",
       "      <td id=\"T_f63c1_row14_col1\" class=\"data row14 col1\" >0</td>\n",
       "    </tr>\n",
       "  </tbody>\n",
       "</table>\n"
      ],
      "text/plain": [
       "<pandas.io.formats.style.Styler at 0x1a1282b5fa0>"
      ]
     },
     "metadata": {},
     "output_type": "display_data"
    }
   ],
   "source": [
    "miss_table(revenue)"
   ]
  },
  {
   "cell_type": "markdown",
   "metadata": {},
   "source": [
    "<b>ИТОГО</b>\n",
    "\n",
    "- Все ошибки в данных устранены, можно переходить к рассчету выручки"
   ]
  },
  {
   "cell_type": "markdown",
   "metadata": {},
   "source": [
    "[Вернуться к оглавлению](#title)"
   ]
  },
  {
   "cell_type": "markdown",
   "metadata": {},
   "source": [
    "<a id=\"new_columns\"></a>"
   ]
  },
  {
   "cell_type": "markdown",
   "metadata": {},
   "source": [
    "### Расчеты"
   ]
  },
  {
   "cell_type": "code",
   "execution_count": 65,
   "metadata": {},
   "outputs": [],
   "source": [
    "revenue[['calls_payment', 'internet_payment', 'msg_payment']] = revenue[['duration', 'mb_used', 'msg_count']]"
   ]
  },
  {
   "cell_type": "markdown",
   "metadata": {},
   "source": [
    "Создаем специальные столбцы"
   ]
  },
  {
   "cell_type": "code",
   "execution_count": 66,
   "metadata": {},
   "outputs": [],
   "source": [
    "revenue['calls_payment'] = revenue['calls_payment'] - revenue['minutes_included']"
   ]
  },
  {
   "cell_type": "markdown",
   "metadata": {},
   "source": [
    "Убираем включенные в тариф, чтобы понять, сколько было уплачено сверх."
   ]
  },
  {
   "cell_type": "markdown",
   "metadata": {},
   "source": [
    "Далее для звонков, сообщений и интернета умножаем на стоимость по тарифу."
   ]
  },
  {
   "cell_type": "code",
   "execution_count": 67,
   "metadata": {
    "scrolled": false
   },
   "outputs": [
    {
     "name": "stderr",
     "output_type": "stream",
     "text": [
      "C:\\Users\\CaIII\\AppData\\Local\\Temp\\ipykernel_35408\\4042306568.py:1: SettingWithCopyWarning: \n",
      "A value is trying to be set on a copy of a slice from a DataFrame\n",
      "\n",
      "See the caveats in the documentation: https://pandas.pydata.org/pandas-docs/stable/user_guide/indexing.html#returning-a-view-versus-a-copy\n",
      "  revenue['calls_payment'][revenue['calls_payment'] > 0] = revenue['calls_payment'][revenue['calls_payment'] > 0]*revenue['rub_per_minute']\n",
      "C:\\Users\\CaIII\\AppData\\Local\\Temp\\ipykernel_35408\\4042306568.py:2: SettingWithCopyWarning: \n",
      "A value is trying to be set on a copy of a slice from a DataFrame\n",
      "\n",
      "See the caveats in the documentation: https://pandas.pydata.org/pandas-docs/stable/user_guide/indexing.html#returning-a-view-versus-a-copy\n",
      "  revenue['calls_payment'][revenue['calls_payment'] <= 0] = revenue['calls_payment'][revenue['calls_payment'] <= 0]*0\n"
     ]
    }
   ],
   "source": [
    "revenue['calls_payment'][revenue['calls_payment'] > 0] = revenue['calls_payment'][revenue['calls_payment'] > 0]*revenue['rub_per_minute']\n",
    "revenue['calls_payment'][revenue['calls_payment'] <= 0] = revenue['calls_payment'][revenue['calls_payment'] <= 0]*0"
   ]
  },
  {
   "cell_type": "code",
   "execution_count": 68,
   "metadata": {
    "scrolled": true
   },
   "outputs": [
    {
     "name": "stderr",
     "output_type": "stream",
     "text": [
      "C:\\Users\\CaIII\\AppData\\Local\\Temp\\ipykernel_35408\\958154942.py:2: SettingWithCopyWarning: \n",
      "A value is trying to be set on a copy of a slice from a DataFrame\n",
      "\n",
      "See the caveats in the documentation: https://pandas.pydata.org/pandas-docs/stable/user_guide/indexing.html#returning-a-view-versus-a-copy\n",
      "  revenue['internet_payment'][revenue['internet_payment'] > 0] = revenue['internet_payment'][revenue['internet_payment'] > 0]*revenue['rub_per_gb']\n",
      "C:\\Users\\CaIII\\AppData\\Local\\Temp\\ipykernel_35408\\958154942.py:3: SettingWithCopyWarning: \n",
      "A value is trying to be set on a copy of a slice from a DataFrame\n",
      "\n",
      "See the caveats in the documentation: https://pandas.pydata.org/pandas-docs/stable/user_guide/indexing.html#returning-a-view-versus-a-copy\n",
      "  revenue['internet_payment'][revenue['internet_payment'] <= 0] = revenue['internet_payment'][revenue['internet_payment'] <= 0]*0\n"
     ]
    }
   ],
   "source": [
    "revenue['internet_payment'] = revenue['internet_payment'] - revenue['gb_per_month_included']\n",
    "revenue['internet_payment'][revenue['internet_payment'] > 0] = revenue['internet_payment'][revenue['internet_payment'] > 0]*revenue['rub_per_gb']\n",
    "revenue['internet_payment'][revenue['internet_payment'] <= 0] = revenue['internet_payment'][revenue['internet_payment'] <= 0]*0"
   ]
  },
  {
   "cell_type": "code",
   "execution_count": 69,
   "metadata": {
    "scrolled": false
   },
   "outputs": [
    {
     "name": "stderr",
     "output_type": "stream",
     "text": [
      "C:\\Users\\CaIII\\AppData\\Local\\Temp\\ipykernel_35408\\1115749147.py:2: SettingWithCopyWarning: \n",
      "A value is trying to be set on a copy of a slice from a DataFrame\n",
      "\n",
      "See the caveats in the documentation: https://pandas.pydata.org/pandas-docs/stable/user_guide/indexing.html#returning-a-view-versus-a-copy\n",
      "  revenue['msg_payment'][revenue['msg_payment'] > 0] = revenue['msg_payment'][revenue['msg_payment'] > 0]*revenue['rub_per_message']\n",
      "C:\\Users\\CaIII\\AppData\\Local\\Temp\\ipykernel_35408\\1115749147.py:3: SettingWithCopyWarning: \n",
      "A value is trying to be set on a copy of a slice from a DataFrame\n",
      "\n",
      "See the caveats in the documentation: https://pandas.pydata.org/pandas-docs/stable/user_guide/indexing.html#returning-a-view-versus-a-copy\n",
      "  revenue['msg_payment'][revenue['msg_payment'] <= 0] = revenue['msg_payment'][revenue['msg_payment'] <= 0]*0\n"
     ]
    }
   ],
   "source": [
    "revenue['msg_payment'] = revenue['msg_payment'] - revenue['messages_included']\n",
    "revenue['msg_payment'][revenue['msg_payment'] > 0] = revenue['msg_payment'][revenue['msg_payment'] > 0]*revenue['rub_per_message']\n",
    "revenue['msg_payment'][revenue['msg_payment'] <= 0] = revenue['msg_payment'][revenue['msg_payment'] <= 0]*0"
   ]
  },
  {
   "cell_type": "markdown",
   "metadata": {},
   "source": [
    "Считаем полную стоимость уплаченного"
   ]
  },
  {
   "cell_type": "code",
   "execution_count": 70,
   "metadata": {},
   "outputs": [],
   "source": [
    "revenue['total_revenue'] = revenue['rub_monthly_fee']\n",
    "revenue['total_revenue'] = revenue['total_revenue'] + revenue['msg_payment'] + revenue['internet_payment'] + revenue['calls_payment']"
   ]
  },
  {
   "cell_type": "code",
   "execution_count": 71,
   "metadata": {
    "scrolled": true
   },
   "outputs": [
    {
     "name": "stderr",
     "output_type": "stream",
     "text": [
      "C:\\Users\\CaIII\\AppData\\Local\\Temp\\ipykernel_35408\\4127233437.py:1: SettingWithCopyWarning: \n",
      "A value is trying to be set on a copy of a slice from a DataFrame\n",
      "\n",
      "See the caveats in the documentation: https://pandas.pydata.org/pandas-docs/stable/user_guide/indexing.html#returning-a-view-versus-a-copy\n",
      "  revenue['msg_payment'][revenue['msg_payment'] == 0] = revenue['msg_payment'][revenue['msg_payment'] == 0] * -1\n",
      "C:\\Users\\CaIII\\AppData\\Local\\Temp\\ipykernel_35408\\4127233437.py:2: SettingWithCopyWarning: \n",
      "A value is trying to be set on a copy of a slice from a DataFrame\n",
      "\n",
      "See the caveats in the documentation: https://pandas.pydata.org/pandas-docs/stable/user_guide/indexing.html#returning-a-view-versus-a-copy\n",
      "  revenue['calls_payment'][revenue['calls_payment'] == 0] = revenue['calls_payment'][revenue['calls_payment'] == 0] * -1\n",
      "C:\\Users\\CaIII\\AppData\\Local\\Temp\\ipykernel_35408\\4127233437.py:3: SettingWithCopyWarning: \n",
      "A value is trying to be set on a copy of a slice from a DataFrame\n",
      "\n",
      "See the caveats in the documentation: https://pandas.pydata.org/pandas-docs/stable/user_guide/indexing.html#returning-a-view-versus-a-copy\n",
      "  revenue['internet_payment'][revenue['internet_payment'] == 0] = revenue['internet_payment'][revenue['internet_payment'] == 0] * -1\n"
     ]
    }
   ],
   "source": [
    "revenue['msg_payment'][revenue['msg_payment'] == 0] = revenue['msg_payment'][revenue['msg_payment'] == 0] * -1\n",
    "revenue['calls_payment'][revenue['calls_payment'] == 0] = revenue['calls_payment'][revenue['calls_payment'] == 0] * -1\n",
    "revenue['internet_payment'][revenue['internet_payment'] == 0] = revenue['internet_payment'][revenue['internet_payment'] == 0] * -1"
   ]
  },
  {
   "cell_type": "markdown",
   "metadata": {},
   "source": [
    "Получаем финальную таблицу"
   ]
  },
  {
   "cell_type": "code",
   "execution_count": 72,
   "metadata": {
    "scrolled": false
   },
   "outputs": [
    {
     "data": {
      "text/html": [
       "<div>\n",
       "<style scoped>\n",
       "    .dataframe tbody tr th:only-of-type {\n",
       "        vertical-align: middle;\n",
       "    }\n",
       "\n",
       "    .dataframe tbody tr th {\n",
       "        vertical-align: top;\n",
       "    }\n",
       "\n",
       "    .dataframe thead th {\n",
       "        text-align: right;\n",
       "    }\n",
       "</style>\n",
       "<table border=\"1\" class=\"dataframe\">\n",
       "  <thead>\n",
       "    <tr style=\"text-align: right;\">\n",
       "      <th></th>\n",
       "      <th>month</th>\n",
       "      <th>user_id</th>\n",
       "      <th>duration</th>\n",
       "      <th>calls_count</th>\n",
       "      <th>mb_used</th>\n",
       "      <th>msg_count</th>\n",
       "      <th>city</th>\n",
       "      <th>tariff_name</th>\n",
       "      <th>messages_included</th>\n",
       "      <th>gb_per_month_included</th>\n",
       "      <th>minutes_included</th>\n",
       "      <th>rub_monthly_fee</th>\n",
       "      <th>rub_per_gb</th>\n",
       "      <th>rub_per_message</th>\n",
       "      <th>rub_per_minute</th>\n",
       "      <th>calls_payment</th>\n",
       "      <th>internet_payment</th>\n",
       "      <th>msg_payment</th>\n",
       "      <th>total_revenue</th>\n",
       "    </tr>\n",
       "  </thead>\n",
       "  <tbody>\n",
       "    <tr>\n",
       "      <th>0</th>\n",
       "      <td>5.0</td>\n",
       "      <td>1000</td>\n",
       "      <td>159.0</td>\n",
       "      <td>22.0</td>\n",
       "      <td>3.0</td>\n",
       "      <td>22.0</td>\n",
       "      <td>Краснодар</td>\n",
       "      <td>ultra</td>\n",
       "      <td>1000</td>\n",
       "      <td>30.0</td>\n",
       "      <td>3000</td>\n",
       "      <td>1950</td>\n",
       "      <td>150</td>\n",
       "      <td>1</td>\n",
       "      <td>1</td>\n",
       "      <td>0.0</td>\n",
       "      <td>0.0</td>\n",
       "      <td>0.0</td>\n",
       "      <td>1950.0</td>\n",
       "    </tr>\n",
       "    <tr>\n",
       "      <th>1</th>\n",
       "      <td>6.0</td>\n",
       "      <td>1000</td>\n",
       "      <td>172.0</td>\n",
       "      <td>43.0</td>\n",
       "      <td>23.0</td>\n",
       "      <td>60.0</td>\n",
       "      <td>Краснодар</td>\n",
       "      <td>ultra</td>\n",
       "      <td>1000</td>\n",
       "      <td>30.0</td>\n",
       "      <td>3000</td>\n",
       "      <td>1950</td>\n",
       "      <td>150</td>\n",
       "      <td>1</td>\n",
       "      <td>1</td>\n",
       "      <td>0.0</td>\n",
       "      <td>0.0</td>\n",
       "      <td>0.0</td>\n",
       "      <td>1950.0</td>\n",
       "    </tr>\n",
       "    <tr>\n",
       "      <th>2</th>\n",
       "      <td>7.0</td>\n",
       "      <td>1000</td>\n",
       "      <td>340.0</td>\n",
       "      <td>47.0</td>\n",
       "      <td>14.0</td>\n",
       "      <td>75.0</td>\n",
       "      <td>Краснодар</td>\n",
       "      <td>ultra</td>\n",
       "      <td>1000</td>\n",
       "      <td>30.0</td>\n",
       "      <td>3000</td>\n",
       "      <td>1950</td>\n",
       "      <td>150</td>\n",
       "      <td>1</td>\n",
       "      <td>1</td>\n",
       "      <td>0.0</td>\n",
       "      <td>0.0</td>\n",
       "      <td>0.0</td>\n",
       "      <td>1950.0</td>\n",
       "    </tr>\n",
       "    <tr>\n",
       "      <th>3</th>\n",
       "      <td>8.0</td>\n",
       "      <td>1000</td>\n",
       "      <td>408.0</td>\n",
       "      <td>52.0</td>\n",
       "      <td>14.0</td>\n",
       "      <td>81.0</td>\n",
       "      <td>Краснодар</td>\n",
       "      <td>ultra</td>\n",
       "      <td>1000</td>\n",
       "      <td>30.0</td>\n",
       "      <td>3000</td>\n",
       "      <td>1950</td>\n",
       "      <td>150</td>\n",
       "      <td>1</td>\n",
       "      <td>1</td>\n",
       "      <td>0.0</td>\n",
       "      <td>0.0</td>\n",
       "      <td>0.0</td>\n",
       "      <td>1950.0</td>\n",
       "    </tr>\n",
       "    <tr>\n",
       "      <th>4</th>\n",
       "      <td>9.0</td>\n",
       "      <td>1000</td>\n",
       "      <td>466.0</td>\n",
       "      <td>58.0</td>\n",
       "      <td>15.0</td>\n",
       "      <td>57.0</td>\n",
       "      <td>Краснодар</td>\n",
       "      <td>ultra</td>\n",
       "      <td>1000</td>\n",
       "      <td>30.0</td>\n",
       "      <td>3000</td>\n",
       "      <td>1950</td>\n",
       "      <td>150</td>\n",
       "      <td>1</td>\n",
       "      <td>1</td>\n",
       "      <td>0.0</td>\n",
       "      <td>0.0</td>\n",
       "      <td>0.0</td>\n",
       "      <td>1950.0</td>\n",
       "    </tr>\n",
       "    <tr>\n",
       "      <th>...</th>\n",
       "      <td>...</td>\n",
       "      <td>...</td>\n",
       "      <td>...</td>\n",
       "      <td>...</td>\n",
       "      <td>...</td>\n",
       "      <td>...</td>\n",
       "      <td>...</td>\n",
       "      <td>...</td>\n",
       "      <td>...</td>\n",
       "      <td>...</td>\n",
       "      <td>...</td>\n",
       "      <td>...</td>\n",
       "      <td>...</td>\n",
       "      <td>...</td>\n",
       "      <td>...</td>\n",
       "      <td>...</td>\n",
       "      <td>...</td>\n",
       "      <td>...</td>\n",
       "      <td>...</td>\n",
       "    </tr>\n",
       "    <tr>\n",
       "      <th>3210</th>\n",
       "      <td>8.0</td>\n",
       "      <td>1489</td>\n",
       "      <td>0.0</td>\n",
       "      <td>0.0</td>\n",
       "      <td>11.0</td>\n",
       "      <td>17.0</td>\n",
       "      <td>Санкт-Петербург</td>\n",
       "      <td>smart</td>\n",
       "      <td>50</td>\n",
       "      <td>15.0</td>\n",
       "      <td>500</td>\n",
       "      <td>550</td>\n",
       "      <td>200</td>\n",
       "      <td>3</td>\n",
       "      <td>3</td>\n",
       "      <td>0.0</td>\n",
       "      <td>0.0</td>\n",
       "      <td>0.0</td>\n",
       "      <td>550.0</td>\n",
       "    </tr>\n",
       "    <tr>\n",
       "      <th>3211</th>\n",
       "      <td>9.0</td>\n",
       "      <td>1489</td>\n",
       "      <td>0.0</td>\n",
       "      <td>0.0</td>\n",
       "      <td>17.0</td>\n",
       "      <td>32.0</td>\n",
       "      <td>Санкт-Петербург</td>\n",
       "      <td>smart</td>\n",
       "      <td>50</td>\n",
       "      <td>15.0</td>\n",
       "      <td>500</td>\n",
       "      <td>550</td>\n",
       "      <td>200</td>\n",
       "      <td>3</td>\n",
       "      <td>3</td>\n",
       "      <td>0.0</td>\n",
       "      <td>400.0</td>\n",
       "      <td>0.0</td>\n",
       "      <td>950.0</td>\n",
       "    </tr>\n",
       "    <tr>\n",
       "      <th>3212</th>\n",
       "      <td>10.0</td>\n",
       "      <td>1489</td>\n",
       "      <td>0.0</td>\n",
       "      <td>0.0</td>\n",
       "      <td>20.0</td>\n",
       "      <td>21.0</td>\n",
       "      <td>Санкт-Петербург</td>\n",
       "      <td>smart</td>\n",
       "      <td>50</td>\n",
       "      <td>15.0</td>\n",
       "      <td>500</td>\n",
       "      <td>550</td>\n",
       "      <td>200</td>\n",
       "      <td>3</td>\n",
       "      <td>3</td>\n",
       "      <td>0.0</td>\n",
       "      <td>1000.0</td>\n",
       "      <td>0.0</td>\n",
       "      <td>1550.0</td>\n",
       "    </tr>\n",
       "    <tr>\n",
       "      <th>3213</th>\n",
       "      <td>11.0</td>\n",
       "      <td>1489</td>\n",
       "      <td>0.0</td>\n",
       "      <td>0.0</td>\n",
       "      <td>18.0</td>\n",
       "      <td>20.0</td>\n",
       "      <td>Санкт-Петербург</td>\n",
       "      <td>smart</td>\n",
       "      <td>50</td>\n",
       "      <td>15.0</td>\n",
       "      <td>500</td>\n",
       "      <td>550</td>\n",
       "      <td>200</td>\n",
       "      <td>3</td>\n",
       "      <td>3</td>\n",
       "      <td>0.0</td>\n",
       "      <td>600.0</td>\n",
       "      <td>0.0</td>\n",
       "      <td>1150.0</td>\n",
       "    </tr>\n",
       "    <tr>\n",
       "      <th>3214</th>\n",
       "      <td>12.0</td>\n",
       "      <td>1489</td>\n",
       "      <td>0.0</td>\n",
       "      <td>0.0</td>\n",
       "      <td>17.0</td>\n",
       "      <td>35.0</td>\n",
       "      <td>Санкт-Петербург</td>\n",
       "      <td>smart</td>\n",
       "      <td>50</td>\n",
       "      <td>15.0</td>\n",
       "      <td>500</td>\n",
       "      <td>550</td>\n",
       "      <td>200</td>\n",
       "      <td>3</td>\n",
       "      <td>3</td>\n",
       "      <td>0.0</td>\n",
       "      <td>400.0</td>\n",
       "      <td>0.0</td>\n",
       "      <td>950.0</td>\n",
       "    </tr>\n",
       "  </tbody>\n",
       "</table>\n",
       "<p>3214 rows × 19 columns</p>\n",
       "</div>"
      ],
      "text/plain": [
       "      month  user_id  duration  calls_count  mb_used  msg_count  \\\n",
       "0     5.0    1000     159.0     22.0         3.0      22.0        \n",
       "1     6.0    1000     172.0     43.0         23.0     60.0        \n",
       "2     7.0    1000     340.0     47.0         14.0     75.0        \n",
       "3     8.0    1000     408.0     52.0         14.0     81.0        \n",
       "4     9.0    1000     466.0     58.0         15.0     57.0        \n",
       "...   ...     ...       ...      ...          ...      ...        \n",
       "3210  8.0    1489     0.0       0.0          11.0     17.0        \n",
       "3211  9.0    1489     0.0       0.0          17.0     32.0        \n",
       "3212  10.0   1489     0.0       0.0          20.0     21.0        \n",
       "3213  11.0   1489     0.0       0.0          18.0     20.0        \n",
       "3214  12.0   1489     0.0       0.0          17.0     35.0        \n",
       "\n",
       "                 city tariff_name  messages_included  gb_per_month_included  \\\n",
       "0     Краснодар        ultra       1000               30.0                    \n",
       "1     Краснодар        ultra       1000               30.0                    \n",
       "2     Краснодар        ultra       1000               30.0                    \n",
       "3     Краснодар        ultra       1000               30.0                    \n",
       "4     Краснодар        ultra       1000               30.0                    \n",
       "...         ...          ...        ...                ...                    \n",
       "3210  Санкт-Петербург  smart       50                 15.0                    \n",
       "3211  Санкт-Петербург  smart       50                 15.0                    \n",
       "3212  Санкт-Петербург  smart       50                 15.0                    \n",
       "3213  Санкт-Петербург  smart       50                 15.0                    \n",
       "3214  Санкт-Петербург  smart       50                 15.0                    \n",
       "\n",
       "      minutes_included  rub_monthly_fee  rub_per_gb  rub_per_message  \\\n",
       "0     3000              1950             150         1                 \n",
       "1     3000              1950             150         1                 \n",
       "2     3000              1950             150         1                 \n",
       "3     3000              1950             150         1                 \n",
       "4     3000              1950             150         1                 \n",
       "...    ...               ...             ...        ..                 \n",
       "3210  500               550              200         3                 \n",
       "3211  500               550              200         3                 \n",
       "3212  500               550              200         3                 \n",
       "3213  500               550              200         3                 \n",
       "3214  500               550              200         3                 \n",
       "\n",
       "      rub_per_minute  calls_payment  internet_payment  msg_payment  \\\n",
       "0     1               0.0            0.0               0.0           \n",
       "1     1               0.0            0.0               0.0           \n",
       "2     1               0.0            0.0               0.0           \n",
       "3     1               0.0            0.0               0.0           \n",
       "4     1               0.0            0.0               0.0           \n",
       "...  ..               ...            ...               ...           \n",
       "3210  3               0.0            0.0               0.0           \n",
       "3211  3               0.0            400.0             0.0           \n",
       "3212  3               0.0            1000.0            0.0           \n",
       "3213  3               0.0            600.0             0.0           \n",
       "3214  3               0.0            400.0             0.0           \n",
       "\n",
       "      total_revenue  \n",
       "0     1950.0         \n",
       "1     1950.0         \n",
       "2     1950.0         \n",
       "3     1950.0         \n",
       "4     1950.0         \n",
       "...      ...         \n",
       "3210  550.0          \n",
       "3211  950.0          \n",
       "3212  1550.0         \n",
       "3213  1150.0         \n",
       "3214  950.0          \n",
       "\n",
       "[3214 rows x 19 columns]"
      ]
     },
     "execution_count": 72,
     "metadata": {},
     "output_type": "execute_result"
    }
   ],
   "source": [
    "revenue"
   ]
  },
  {
   "cell_type": "markdown",
   "metadata": {},
   "source": [
    "Итак месячная выручка для каждого пользователя рассчитана."
   ]
  },
  {
   "cell_type": "markdown",
   "metadata": {},
   "source": [
    "[Вернуться к оглавлению](#title)"
   ]
  },
  {
   "cell_type": "markdown",
   "metadata": {},
   "source": [
    "<a id=\"first_conclusion\"></a>"
   ]
  },
  {
   "cell_type": "markdown",
   "metadata": {},
   "source": [
    "### Промежуточный вывод"
   ]
  },
  {
   "cell_type": "markdown",
   "metadata": {},
   "source": [
    "Проведены следующие работы по исправлению данных:\n",
    "- Изменены типы данных в нескольки переменных\n",
    "- Удален лишний столбец\n",
    "- Удалены \"нулевые\" интернет-сессии\n",
    "- Удалены данные о 2 клиентах, которые ушли со своего тарифа вскоре после регистрации, не успев воспользоваться услугами\n",
    "- Заполнены нулями пропуски в тех случаях, когда клиент не пользовался какой-либо услугой в течении месяца.\n",
    "- Произведены рассчеты для каждого клиентам по звонкам, сообщениям и интернет-сессиям, а также абонентской плате для каждого месяца использования."
   ]
  },
  {
   "cell_type": "markdown",
   "metadata": {},
   "source": [
    "[Вернуться к оглавлению](#title)"
   ]
  },
  {
   "cell_type": "markdown",
   "metadata": {},
   "source": [
    "<a id=\"second_step\"></a>"
   ]
  },
  {
   "cell_type": "markdown",
   "metadata": {},
   "source": [
    "## Анализ данных"
   ]
  },
  {
   "cell_type": "markdown",
   "metadata": {},
   "source": [
    "<a id=\"second_conclusion\"></a>"
   ]
  },
  {
   "cell_type": "code",
   "execution_count": 73,
   "metadata": {},
   "outputs": [
    {
     "data": {
      "text/html": [
       "<div>\n",
       "<style scoped>\n",
       "    .dataframe tbody tr th:only-of-type {\n",
       "        vertical-align: middle;\n",
       "    }\n",
       "\n",
       "    .dataframe tbody tr th {\n",
       "        vertical-align: top;\n",
       "    }\n",
       "\n",
       "    .dataframe thead th {\n",
       "        text-align: right;\n",
       "    }\n",
       "</style>\n",
       "<table border=\"1\" class=\"dataframe\">\n",
       "  <thead>\n",
       "    <tr style=\"text-align: right;\">\n",
       "      <th></th>\n",
       "      <th>month</th>\n",
       "      <th>user_id</th>\n",
       "      <th>duration</th>\n",
       "      <th>calls_count</th>\n",
       "      <th>mb_used</th>\n",
       "      <th>msg_count</th>\n",
       "      <th>city</th>\n",
       "      <th>tariff_name</th>\n",
       "      <th>messages_included</th>\n",
       "      <th>gb_per_month_included</th>\n",
       "      <th>minutes_included</th>\n",
       "      <th>rub_monthly_fee</th>\n",
       "      <th>rub_per_gb</th>\n",
       "      <th>rub_per_message</th>\n",
       "      <th>rub_per_minute</th>\n",
       "      <th>calls_payment</th>\n",
       "      <th>internet_payment</th>\n",
       "      <th>msg_payment</th>\n",
       "      <th>total_revenue</th>\n",
       "    </tr>\n",
       "  </thead>\n",
       "  <tbody>\n",
       "    <tr>\n",
       "      <th>0</th>\n",
       "      <td>5.0</td>\n",
       "      <td>1000</td>\n",
       "      <td>159.0</td>\n",
       "      <td>22.0</td>\n",
       "      <td>3.0</td>\n",
       "      <td>22.0</td>\n",
       "      <td>Краснодар</td>\n",
       "      <td>ultra</td>\n",
       "      <td>1000</td>\n",
       "      <td>30.0</td>\n",
       "      <td>3000</td>\n",
       "      <td>1950</td>\n",
       "      <td>150</td>\n",
       "      <td>1</td>\n",
       "      <td>1</td>\n",
       "      <td>0.0</td>\n",
       "      <td>0.0</td>\n",
       "      <td>0.0</td>\n",
       "      <td>1950.0</td>\n",
       "    </tr>\n",
       "    <tr>\n",
       "      <th>1</th>\n",
       "      <td>6.0</td>\n",
       "      <td>1000</td>\n",
       "      <td>172.0</td>\n",
       "      <td>43.0</td>\n",
       "      <td>23.0</td>\n",
       "      <td>60.0</td>\n",
       "      <td>Краснодар</td>\n",
       "      <td>ultra</td>\n",
       "      <td>1000</td>\n",
       "      <td>30.0</td>\n",
       "      <td>3000</td>\n",
       "      <td>1950</td>\n",
       "      <td>150</td>\n",
       "      <td>1</td>\n",
       "      <td>1</td>\n",
       "      <td>0.0</td>\n",
       "      <td>0.0</td>\n",
       "      <td>0.0</td>\n",
       "      <td>1950.0</td>\n",
       "    </tr>\n",
       "    <tr>\n",
       "      <th>2</th>\n",
       "      <td>7.0</td>\n",
       "      <td>1000</td>\n",
       "      <td>340.0</td>\n",
       "      <td>47.0</td>\n",
       "      <td>14.0</td>\n",
       "      <td>75.0</td>\n",
       "      <td>Краснодар</td>\n",
       "      <td>ultra</td>\n",
       "      <td>1000</td>\n",
       "      <td>30.0</td>\n",
       "      <td>3000</td>\n",
       "      <td>1950</td>\n",
       "      <td>150</td>\n",
       "      <td>1</td>\n",
       "      <td>1</td>\n",
       "      <td>0.0</td>\n",
       "      <td>0.0</td>\n",
       "      <td>0.0</td>\n",
       "      <td>1950.0</td>\n",
       "    </tr>\n",
       "    <tr>\n",
       "      <th>3</th>\n",
       "      <td>8.0</td>\n",
       "      <td>1000</td>\n",
       "      <td>408.0</td>\n",
       "      <td>52.0</td>\n",
       "      <td>14.0</td>\n",
       "      <td>81.0</td>\n",
       "      <td>Краснодар</td>\n",
       "      <td>ultra</td>\n",
       "      <td>1000</td>\n",
       "      <td>30.0</td>\n",
       "      <td>3000</td>\n",
       "      <td>1950</td>\n",
       "      <td>150</td>\n",
       "      <td>1</td>\n",
       "      <td>1</td>\n",
       "      <td>0.0</td>\n",
       "      <td>0.0</td>\n",
       "      <td>0.0</td>\n",
       "      <td>1950.0</td>\n",
       "    </tr>\n",
       "    <tr>\n",
       "      <th>4</th>\n",
       "      <td>9.0</td>\n",
       "      <td>1000</td>\n",
       "      <td>466.0</td>\n",
       "      <td>58.0</td>\n",
       "      <td>15.0</td>\n",
       "      <td>57.0</td>\n",
       "      <td>Краснодар</td>\n",
       "      <td>ultra</td>\n",
       "      <td>1000</td>\n",
       "      <td>30.0</td>\n",
       "      <td>3000</td>\n",
       "      <td>1950</td>\n",
       "      <td>150</td>\n",
       "      <td>1</td>\n",
       "      <td>1</td>\n",
       "      <td>0.0</td>\n",
       "      <td>0.0</td>\n",
       "      <td>0.0</td>\n",
       "      <td>1950.0</td>\n",
       "    </tr>\n",
       "    <tr>\n",
       "      <th>...</th>\n",
       "      <td>...</td>\n",
       "      <td>...</td>\n",
       "      <td>...</td>\n",
       "      <td>...</td>\n",
       "      <td>...</td>\n",
       "      <td>...</td>\n",
       "      <td>...</td>\n",
       "      <td>...</td>\n",
       "      <td>...</td>\n",
       "      <td>...</td>\n",
       "      <td>...</td>\n",
       "      <td>...</td>\n",
       "      <td>...</td>\n",
       "      <td>...</td>\n",
       "      <td>...</td>\n",
       "      <td>...</td>\n",
       "      <td>...</td>\n",
       "      <td>...</td>\n",
       "      <td>...</td>\n",
       "    </tr>\n",
       "    <tr>\n",
       "      <th>3210</th>\n",
       "      <td>8.0</td>\n",
       "      <td>1489</td>\n",
       "      <td>0.0</td>\n",
       "      <td>0.0</td>\n",
       "      <td>11.0</td>\n",
       "      <td>17.0</td>\n",
       "      <td>Санкт-Петербург</td>\n",
       "      <td>smart</td>\n",
       "      <td>50</td>\n",
       "      <td>15.0</td>\n",
       "      <td>500</td>\n",
       "      <td>550</td>\n",
       "      <td>200</td>\n",
       "      <td>3</td>\n",
       "      <td>3</td>\n",
       "      <td>0.0</td>\n",
       "      <td>0.0</td>\n",
       "      <td>0.0</td>\n",
       "      <td>550.0</td>\n",
       "    </tr>\n",
       "    <tr>\n",
       "      <th>3211</th>\n",
       "      <td>9.0</td>\n",
       "      <td>1489</td>\n",
       "      <td>0.0</td>\n",
       "      <td>0.0</td>\n",
       "      <td>17.0</td>\n",
       "      <td>32.0</td>\n",
       "      <td>Санкт-Петербург</td>\n",
       "      <td>smart</td>\n",
       "      <td>50</td>\n",
       "      <td>15.0</td>\n",
       "      <td>500</td>\n",
       "      <td>550</td>\n",
       "      <td>200</td>\n",
       "      <td>3</td>\n",
       "      <td>3</td>\n",
       "      <td>0.0</td>\n",
       "      <td>400.0</td>\n",
       "      <td>0.0</td>\n",
       "      <td>950.0</td>\n",
       "    </tr>\n",
       "    <tr>\n",
       "      <th>3212</th>\n",
       "      <td>10.0</td>\n",
       "      <td>1489</td>\n",
       "      <td>0.0</td>\n",
       "      <td>0.0</td>\n",
       "      <td>20.0</td>\n",
       "      <td>21.0</td>\n",
       "      <td>Санкт-Петербург</td>\n",
       "      <td>smart</td>\n",
       "      <td>50</td>\n",
       "      <td>15.0</td>\n",
       "      <td>500</td>\n",
       "      <td>550</td>\n",
       "      <td>200</td>\n",
       "      <td>3</td>\n",
       "      <td>3</td>\n",
       "      <td>0.0</td>\n",
       "      <td>1000.0</td>\n",
       "      <td>0.0</td>\n",
       "      <td>1550.0</td>\n",
       "    </tr>\n",
       "    <tr>\n",
       "      <th>3213</th>\n",
       "      <td>11.0</td>\n",
       "      <td>1489</td>\n",
       "      <td>0.0</td>\n",
       "      <td>0.0</td>\n",
       "      <td>18.0</td>\n",
       "      <td>20.0</td>\n",
       "      <td>Санкт-Петербург</td>\n",
       "      <td>smart</td>\n",
       "      <td>50</td>\n",
       "      <td>15.0</td>\n",
       "      <td>500</td>\n",
       "      <td>550</td>\n",
       "      <td>200</td>\n",
       "      <td>3</td>\n",
       "      <td>3</td>\n",
       "      <td>0.0</td>\n",
       "      <td>600.0</td>\n",
       "      <td>0.0</td>\n",
       "      <td>1150.0</td>\n",
       "    </tr>\n",
       "    <tr>\n",
       "      <th>3214</th>\n",
       "      <td>12.0</td>\n",
       "      <td>1489</td>\n",
       "      <td>0.0</td>\n",
       "      <td>0.0</td>\n",
       "      <td>17.0</td>\n",
       "      <td>35.0</td>\n",
       "      <td>Санкт-Петербург</td>\n",
       "      <td>smart</td>\n",
       "      <td>50</td>\n",
       "      <td>15.0</td>\n",
       "      <td>500</td>\n",
       "      <td>550</td>\n",
       "      <td>200</td>\n",
       "      <td>3</td>\n",
       "      <td>3</td>\n",
       "      <td>0.0</td>\n",
       "      <td>400.0</td>\n",
       "      <td>0.0</td>\n",
       "      <td>950.0</td>\n",
       "    </tr>\n",
       "  </tbody>\n",
       "</table>\n",
       "<p>3214 rows × 19 columns</p>\n",
       "</div>"
      ],
      "text/plain": [
       "      month  user_id  duration  calls_count  mb_used  msg_count  \\\n",
       "0     5.0    1000     159.0     22.0         3.0      22.0        \n",
       "1     6.0    1000     172.0     43.0         23.0     60.0        \n",
       "2     7.0    1000     340.0     47.0         14.0     75.0        \n",
       "3     8.0    1000     408.0     52.0         14.0     81.0        \n",
       "4     9.0    1000     466.0     58.0         15.0     57.0        \n",
       "...   ...     ...       ...      ...          ...      ...        \n",
       "3210  8.0    1489     0.0       0.0          11.0     17.0        \n",
       "3211  9.0    1489     0.0       0.0          17.0     32.0        \n",
       "3212  10.0   1489     0.0       0.0          20.0     21.0        \n",
       "3213  11.0   1489     0.0       0.0          18.0     20.0        \n",
       "3214  12.0   1489     0.0       0.0          17.0     35.0        \n",
       "\n",
       "                 city tariff_name  messages_included  gb_per_month_included  \\\n",
       "0     Краснодар        ultra       1000               30.0                    \n",
       "1     Краснодар        ultra       1000               30.0                    \n",
       "2     Краснодар        ultra       1000               30.0                    \n",
       "3     Краснодар        ultra       1000               30.0                    \n",
       "4     Краснодар        ultra       1000               30.0                    \n",
       "...         ...          ...        ...                ...                    \n",
       "3210  Санкт-Петербург  smart       50                 15.0                    \n",
       "3211  Санкт-Петербург  smart       50                 15.0                    \n",
       "3212  Санкт-Петербург  smart       50                 15.0                    \n",
       "3213  Санкт-Петербург  smart       50                 15.0                    \n",
       "3214  Санкт-Петербург  smart       50                 15.0                    \n",
       "\n",
       "      minutes_included  rub_monthly_fee  rub_per_gb  rub_per_message  \\\n",
       "0     3000              1950             150         1                 \n",
       "1     3000              1950             150         1                 \n",
       "2     3000              1950             150         1                 \n",
       "3     3000              1950             150         1                 \n",
       "4     3000              1950             150         1                 \n",
       "...    ...               ...             ...        ..                 \n",
       "3210  500               550              200         3                 \n",
       "3211  500               550              200         3                 \n",
       "3212  500               550              200         3                 \n",
       "3213  500               550              200         3                 \n",
       "3214  500               550              200         3                 \n",
       "\n",
       "      rub_per_minute  calls_payment  internet_payment  msg_payment  \\\n",
       "0     1               0.0            0.0               0.0           \n",
       "1     1               0.0            0.0               0.0           \n",
       "2     1               0.0            0.0               0.0           \n",
       "3     1               0.0            0.0               0.0           \n",
       "4     1               0.0            0.0               0.0           \n",
       "...  ..               ...            ...               ...           \n",
       "3210  3               0.0            0.0               0.0           \n",
       "3211  3               0.0            400.0             0.0           \n",
       "3212  3               0.0            1000.0            0.0           \n",
       "3213  3               0.0            600.0             0.0           \n",
       "3214  3               0.0            400.0             0.0           \n",
       "\n",
       "      total_revenue  \n",
       "0     1950.0         \n",
       "1     1950.0         \n",
       "2     1950.0         \n",
       "3     1950.0         \n",
       "4     1950.0         \n",
       "...      ...         \n",
       "3210  550.0          \n",
       "3211  950.0          \n",
       "3212  1550.0         \n",
       "3213  1150.0         \n",
       "3214  950.0          \n",
       "\n",
       "[3214 rows x 19 columns]"
      ]
     },
     "execution_count": 73,
     "metadata": {},
     "output_type": "execute_result"
    }
   ],
   "source": [
    "revenue"
   ]
  },
  {
   "cell_type": "code",
   "execution_count": 74,
   "metadata": {
    "scrolled": false
   },
   "outputs": [
    {
     "data": {
      "text/html": [
       "<div>\n",
       "<style scoped>\n",
       "    .dataframe tbody tr th:only-of-type {\n",
       "        vertical-align: middle;\n",
       "    }\n",
       "\n",
       "    .dataframe tbody tr th {\n",
       "        vertical-align: top;\n",
       "    }\n",
       "\n",
       "    .dataframe thead th {\n",
       "        text-align: right;\n",
       "    }\n",
       "</style>\n",
       "<table border=\"1\" class=\"dataframe\">\n",
       "  <thead>\n",
       "    <tr style=\"text-align: right;\">\n",
       "      <th>tariff_name</th>\n",
       "      <th>smart</th>\n",
       "      <th>ultra</th>\n",
       "      <th>All</th>\n",
       "    </tr>\n",
       "    <tr>\n",
       "      <th>month</th>\n",
       "      <th></th>\n",
       "      <th></th>\n",
       "      <th></th>\n",
       "    </tr>\n",
       "  </thead>\n",
       "  <tbody>\n",
       "    <tr>\n",
       "      <th>1.0</th>\n",
       "      <td>721.324</td>\n",
       "      <td>1950.000</td>\n",
       "      <td>978.488</td>\n",
       "    </tr>\n",
       "    <tr>\n",
       "      <th>2.0</th>\n",
       "      <td>827.603</td>\n",
       "      <td>1975.000</td>\n",
       "      <td>1163.427</td>\n",
       "    </tr>\n",
       "    <tr>\n",
       "      <th>3.0</th>\n",
       "      <td>1164.623</td>\n",
       "      <td>2014.865</td>\n",
       "      <td>1440.579</td>\n",
       "    </tr>\n",
       "    <tr>\n",
       "      <th>4.0</th>\n",
       "      <td>963.089</td>\n",
       "      <td>2001.818</td>\n",
       "      <td>1305.186</td>\n",
       "    </tr>\n",
       "    <tr>\n",
       "      <th>5.0</th>\n",
       "      <td>1197.511</td>\n",
       "      <td>2059.701</td>\n",
       "      <td>1475.236</td>\n",
       "    </tr>\n",
       "    <tr>\n",
       "      <th>6.0</th>\n",
       "      <td>1204.018</td>\n",
       "      <td>2039.286</td>\n",
       "      <td>1486.931</td>\n",
       "    </tr>\n",
       "    <tr>\n",
       "      <th>7.0</th>\n",
       "      <td>1223.950</td>\n",
       "      <td>2118.132</td>\n",
       "      <td>1502.616</td>\n",
       "    </tr>\n",
       "    <tr>\n",
       "      <th>8.0</th>\n",
       "      <td>1320.596</td>\n",
       "      <td>2083.178</td>\n",
       "      <td>1559.181</td>\n",
       "    </tr>\n",
       "    <tr>\n",
       "      <th>9.0</th>\n",
       "      <td>1249.946</td>\n",
       "      <td>2024.348</td>\n",
       "      <td>1487.429</td>\n",
       "    </tr>\n",
       "    <tr>\n",
       "      <th>10.0</th>\n",
       "      <td>1364.854</td>\n",
       "      <td>2065.854</td>\n",
       "      <td>1571.624</td>\n",
       "    </tr>\n",
       "    <tr>\n",
       "      <th>11.0</th>\n",
       "      <td>1343.047</td>\n",
       "      <td>2092.164</td>\n",
       "      <td>1566.118</td>\n",
       "    </tr>\n",
       "    <tr>\n",
       "      <th>12.0</th>\n",
       "      <td>1578.531</td>\n",
       "      <td>2138.849</td>\n",
       "      <td>1742.153</td>\n",
       "    </tr>\n",
       "    <tr>\n",
       "      <th>All</th>\n",
       "      <td>1289.974</td>\n",
       "      <td>2070.152</td>\n",
       "      <td>1529.076</td>\n",
       "    </tr>\n",
       "  </tbody>\n",
       "</table>\n",
       "</div>"
      ],
      "text/plain": [
       "tariff_name     smart     ultra       All\n",
       "month                                    \n",
       "1.0          721.324   1950.000  978.488 \n",
       "2.0          827.603   1975.000  1163.427\n",
       "3.0          1164.623  2014.865  1440.579\n",
       "4.0          963.089   2001.818  1305.186\n",
       "5.0          1197.511  2059.701  1475.236\n",
       "6.0          1204.018  2039.286  1486.931\n",
       "7.0          1223.950  2118.132  1502.616\n",
       "8.0          1320.596  2083.178  1559.181\n",
       "9.0          1249.946  2024.348  1487.429\n",
       "10.0         1364.854  2065.854  1571.624\n",
       "11.0         1343.047  2092.164  1566.118\n",
       "12.0         1578.531  2138.849  1742.153\n",
       "All          1289.974  2070.152  1529.076"
      ]
     },
     "execution_count": 74,
     "metadata": {},
     "output_type": "execute_result"
    }
   ],
   "source": [
    "revenue_pivot = revenue.pivot_table(index = 'month', values = 'total_revenue', columns = 'tariff_name', aggfunc = 'mean', margins = True)\n",
    "\n",
    "revenue_pivot"
   ]
  },
  {
   "cell_type": "markdown",
   "metadata": {},
   "source": [
    "Мы построили сводную таблицу по среднемесячной выручке от каждого клиента с разбивкой по тарифом, которую далее визуализируем."
   ]
  },
  {
   "cell_type": "code",
   "execution_count": 77,
   "metadata": {
    "scrolled": false
   },
   "outputs": [
    {
     "data": {
      "text/plain": [
       "Text(0.5, 0, 'Месяц')"
      ]
     },
     "execution_count": 77,
     "metadata": {},
     "output_type": "execute_result"
    },
    {
     "data": {
      "image/png": "[encoded data removed]",
      "text/plain": [
       "<Figure size 1200x700 with 1 Axes>"
      ]
     },
     "metadata": {},
     "output_type": "display_data"
    }
   ],
   "source": [
    "ax = revenue_pivot[0:12].plot.bar(figsize = (12, 7))\n",
    "ax.set_title('Сравнительная динамика средней выручки по месяцам с разбивкой по тарифам', fontsize=20)\n",
    "ax.set_ylabel('Объем выручки, руб.', fontsize=15)\n",
    "ax.set_xlabel('Месяц', fontsize=15)"
   ]
  },
  {
   "cell_type": "code",
   "execution_count": 79,
   "metadata": {
    "scrolled": false
   },
   "outputs": [
    {
     "data": {
      "text/plain": [
       "Text(0.5, 0, 'Тариф')"
      ]
     },
     "execution_count": 79,
     "metadata": {},
     "output_type": "execute_result"
    },
    {
     "data": {
      "image/png": "[encoded data removed]",
      "text/plain": [
       "<Figure size 1200x700 with 1 Axes>"
      ]
     },
     "metadata": {},
     "output_type": "display_data"
    }
   ],
   "source": [
    "ax = revenue_pivot[revenue_pivot.index == 'All'].plot.bar(figsize = (12, 7))\n",
    "ax.set_title('Сравнение совокупных средних показателей выручки по тарифам', fontsize=20)\n",
    "ax.set_ylabel('Объем выручки, руб.', fontsize=15)\n",
    "ax.set_xlabel('Тариф', fontsize=15)"
   ]
  },
  {
   "cell_type": "markdown",
   "metadata": {},
   "source": [
    "Ожидаемо средняя выручка от более дорого тарифа выше, чем от более дешевого. Также важно отметить, что и пользователи тарифа \"Смарт\" тратят больше, чем входит в базовый пакет услуг. К тому же она более стабильна на протяжении времени - клиенты, пользующиеся тарифом \"Смарт\", постепенно начинают тратить больше - необходимо изучить причины."
   ]
  },
  {
   "cell_type": "code",
   "execution_count": 80,
   "metadata": {},
   "outputs": [],
   "source": [
    "def tariff_hist_2(df, i):\n",
    "    \n",
    "    sns.histplot(data=df, \n",
    "                 x=i, \n",
    "                 hue='tariff_name', \n",
    "                 stat='count', \n",
    "                 bins='auto', \n",
    "                 common_bins=True, \n",
    "                 common_norm=True,\n",
    "                 multiple='layer', \n",
    "                 element='bars',\n",
    "                 fill=True, \n",
    "                 shrink=1, \n",
    "                 thresh=0, \n",
    "                 pthresh=None, \n",
    "                 pmax=None, \n",
    "                 cbar=True, \n",
    "                 cbar_ax=None, \n",
    "                 cbar_kws=None, \n",
    "                 palette=None, \n",
    "                 hue_order=None, \n",
    "                 hue_norm=None, \n",
    "                 color=None,\n",
    "                 legend=True, \n",
    "                 ax=None).set_title('Распределение ' + i + ' с разбивкой по тарифам')"
   ]
  },
  {
   "cell_type": "code",
   "execution_count": 81,
   "metadata": {},
   "outputs": [],
   "source": [
    "def tariff_description(i):\n",
    "    \n",
    "    temp_df = revenue.pivot_table(index = ['user_id', 'tariff_name'], values = i, aggfunc = 'mean')\n",
    "\n",
    "    temp_df = temp_df.reset_index(level=0)\n",
    "    temp_df = temp_df.reset_index(level=0)\n",
    "    \n",
    "    df2 = pd.DataFrame(group.describe().rename(columns={i:name}).squeeze()\n",
    "                             for name, group in temp_df[['tariff_name', i]].groupby('tariff_name'))\n",
    "\n",
    "    print ('Описательные статистики  для ', i)\n",
    "    display(df2)\n",
    "    \n",
    "    tariff_hist_2(temp_df, i)"
   ]
  },
  {
   "cell_type": "code",
   "execution_count": 82,
   "metadata": {},
   "outputs": [],
   "source": [
    "def service_pivot (i):\n",
    "    df_pivot = revenue.pivot_table(index = 'month', values = i, columns = 'tariff_name', aggfunc = 'mean', margins = True) \n",
    "    \n",
    "    df_pivot[0:12].plot.bar(figsize = (12, 7)).set_title('Динамика ' + i + ' по месяцам' )\n",
    "    \n",
    "    df_pivot[df_pivot.index == 'All'].plot.bar(figsize = (12, 7)).set_title('Сравнение средних показателей  ' + i + ' за год')"
   ]
  },
  {
   "cell_type": "code",
   "execution_count": 83,
   "metadata": {},
   "outputs": [
    {
     "data": {
      "text/plain": [
       "Index(['month', 'user_id', 'duration', 'calls_count', 'mb_used', 'msg_count',\n",
       "       'city', 'tariff_name', 'messages_included', 'gb_per_month_included',\n",
       "       'minutes_included', 'rub_monthly_fee', 'rub_per_gb', 'rub_per_message',\n",
       "       'rub_per_minute', 'calls_payment', 'internet_payment', 'msg_payment',\n",
       "       'total_revenue'],\n",
       "      dtype='object')"
      ]
     },
     "execution_count": 83,
     "metadata": {},
     "output_type": "execute_result"
    }
   ],
   "source": [
    "revenue.columns"
   ]
  },
  {
   "cell_type": "code",
   "execution_count": 84,
   "metadata": {
    "scrolled": false
   },
   "outputs": [
    {
     "data": {
      "image/png": "[encoded data removed]",
      "text/plain": [
       "<Figure size 1200x700 with 1 Axes>"
      ]
     },
     "metadata": {},
     "output_type": "display_data"
    },
    {
     "data": {
      "image/png": "[encoded data removed]",
      "text/plain": [
       "<Figure size 1200x700 with 1 Axes>"
      ]
     },
     "metadata": {},
     "output_type": "display_data"
    },
    {
     "data": {
      "image/png": "[encoded data removed]",
      "text/plain": [
       "<Figure size 1200x700 with 1 Axes>"
      ]
     },
     "metadata": {},
     "output_type": "display_data"
    },
    {
     "data": {
      "image/png": "[encoded data removed]",
      "text/plain": [
       "<Figure size 1200x700 with 1 Axes>"
      ]
     },
     "metadata": {},
     "output_type": "display_data"
    },
    {
     "data": {
      "image/png": "[encoded data removed]",
      "text/plain": [
       "<Figure size 1200x700 with 1 Axes>"
      ]
     },
     "metadata": {},
     "output_type": "display_data"
    },
    {
     "data": {
      "image/png": "[encoded data removed]",
      "text/plain": [
       "<Figure size 1200x700 with 1 Axes>"
      ]
     },
     "metadata": {},
     "output_type": "display_data"
    }
   ],
   "source": [
    "for col in ['duration', 'mb_used', 'msg_count']:\n",
    "    service_pivot(col)"
   ]
  },
  {
   "cell_type": "markdown",
   "metadata": {},
   "source": [
    "- Ожидаемо средние значения по всем параметрам для тарифа Ультра выше, чем у Смарта. Однако, удивительно то, что ненамного выше. Разница в лимитах и стоимости между тарифами в несколько раз, а в средних объемах пользования той или иной услугой - в примерно 20-30%.\n",
    "- Касательно распределения по месяцам графики отражают проблему нашего базового допущения - из-за того, что в первые календарные месяцы еще набрана критическая масса тех, кто пользуется услугами \"полный\" месяц, средние значения ниже, с каждым месяцем они растут. Поэтому эти графики малоинформативны и в некоторой мере даже вредны. "
   ]
  },
  {
   "cell_type": "code",
   "execution_count": 85,
   "metadata": {
    "scrolled": false
   },
   "outputs": [
    {
     "name": "stdout",
     "output_type": "stream",
     "text": [
      "Описательные статистики  для  duration\n"
     ]
    },
    {
     "data": {
      "text/html": [
       "<div>\n",
       "<style scoped>\n",
       "    .dataframe tbody tr th:only-of-type {\n",
       "        vertical-align: middle;\n",
       "    }\n",
       "\n",
       "    .dataframe tbody tr th {\n",
       "        vertical-align: top;\n",
       "    }\n",
       "\n",
       "    .dataframe thead th {\n",
       "        text-align: right;\n",
       "    }\n",
       "</style>\n",
       "<table border=\"1\" class=\"dataframe\">\n",
       "  <thead>\n",
       "    <tr style=\"text-align: right;\">\n",
       "      <th></th>\n",
       "      <th>count</th>\n",
       "      <th>mean</th>\n",
       "      <th>std</th>\n",
       "      <th>min</th>\n",
       "      <th>25%</th>\n",
       "      <th>50%</th>\n",
       "      <th>75%</th>\n",
       "      <th>max</th>\n",
       "    </tr>\n",
       "  </thead>\n",
       "  <tbody>\n",
       "    <tr>\n",
       "      <th>smart</th>\n",
       "      <td>350.0</td>\n",
       "      <td>419.635</td>\n",
       "      <td>145.032</td>\n",
       "      <td>0.0</td>\n",
       "      <td>316.886</td>\n",
       "      <td>425.062</td>\n",
       "      <td>519.508</td>\n",
       "      <td>891.500</td>\n",
       "    </tr>\n",
       "    <tr>\n",
       "      <th>ultra</th>\n",
       "      <td>148.0</td>\n",
       "      <td>527.822</td>\n",
       "      <td>281.786</td>\n",
       "      <td>0.0</td>\n",
       "      <td>325.438</td>\n",
       "      <td>514.542</td>\n",
       "      <td>746.972</td>\n",
       "      <td>1179.364</td>\n",
       "    </tr>\n",
       "  </tbody>\n",
       "</table>\n",
       "</div>"
      ],
      "text/plain": [
       "       count     mean      std  min      25%      50%      75%       max\n",
       "smart  350.0  419.635  145.032  0.0  316.886  425.062  519.508  891.500 \n",
       "ultra  148.0  527.822  281.786  0.0  325.438  514.542  746.972  1179.364"
      ]
     },
     "metadata": {},
     "output_type": "display_data"
    },
    {
     "data": {
      "image/png": "[encoded data removed]",
      "text/plain": [
       "<Figure size 1200x900 with 1 Axes>"
      ]
     },
     "metadata": {},
     "output_type": "display_data"
    }
   ],
   "source": [
    "tariff_description('duration')"
   ]
  },
  {
   "cell_type": "markdown",
   "metadata": {},
   "source": [
    "<b>По продолжительности звонков:</b>\n",
    "- Средние значения у двух тарифов не очень сильно различаются\n",
    "- У обоих тарифов средние значения находятся ниже порога, при этом у Ультры сильно ниже.\n",
    "- Значительная доля пользователей Смарта наговаривает в месяц больше допустимого порога. У Ультры таких пользователей нет вообще.\n",
    "- Распределение этого параметра у пользователей более пологое с большим стандартным отклонением, среди них есть те, кто разговаривают по-настоящему много.\n",
    "- У Ультры сильно возрастает продолжительность разговор в 12 месяце, то есть в декабре, скорее всего это связано с новогодними праздниками, у пользователей Смарта такой аномалии нет.\n"
   ]
  },
  {
   "cell_type": "code",
   "execution_count": 86,
   "metadata": {
    "scrolled": false
   },
   "outputs": [
    {
     "name": "stdout",
     "output_type": "stream",
     "text": [
      "Описательные статистики  для  mb_used\n"
     ]
    },
    {
     "data": {
      "text/html": [
       "<div>\n",
       "<style scoped>\n",
       "    .dataframe tbody tr th:only-of-type {\n",
       "        vertical-align: middle;\n",
       "    }\n",
       "\n",
       "    .dataframe tbody tr th {\n",
       "        vertical-align: top;\n",
       "    }\n",
       "\n",
       "    .dataframe thead th {\n",
       "        text-align: right;\n",
       "    }\n",
       "</style>\n",
       "<table border=\"1\" class=\"dataframe\">\n",
       "  <thead>\n",
       "    <tr style=\"text-align: right;\">\n",
       "      <th></th>\n",
       "      <th>count</th>\n",
       "      <th>mean</th>\n",
       "      <th>std</th>\n",
       "      <th>min</th>\n",
       "      <th>25%</th>\n",
       "      <th>50%</th>\n",
       "      <th>75%</th>\n",
       "      <th>max</th>\n",
       "    </tr>\n",
       "  </thead>\n",
       "  <tbody>\n",
       "    <tr>\n",
       "      <th>smart</th>\n",
       "      <td>350.0</td>\n",
       "      <td>16.309</td>\n",
       "      <td>3.502</td>\n",
       "      <td>5.727</td>\n",
       "      <td>14.000</td>\n",
       "      <td>16.333</td>\n",
       "      <td>18.692</td>\n",
       "      <td>27.25</td>\n",
       "    </tr>\n",
       "    <tr>\n",
       "      <th>ultra</th>\n",
       "      <td>148.0</td>\n",
       "      <td>19.588</td>\n",
       "      <td>8.116</td>\n",
       "      <td>0.000</td>\n",
       "      <td>14.727</td>\n",
       "      <td>18.775</td>\n",
       "      <td>25.688</td>\n",
       "      <td>38.50</td>\n",
       "    </tr>\n",
       "  </tbody>\n",
       "</table>\n",
       "</div>"
      ],
      "text/plain": [
       "       count    mean    std    min     25%     50%     75%    max\n",
       "smart  350.0  16.309  3.502  5.727  14.000  16.333  18.692  27.25\n",
       "ultra  148.0  19.588  8.116  0.000  14.727  18.775  25.688  38.50"
      ]
     },
     "metadata": {},
     "output_type": "display_data"
    },
    {
     "data": {
      "image/png": "[encoded data removed]",
      "text/plain": [
       "<Figure size 1200x900 with 1 Axes>"
      ]
     },
     "metadata": {},
     "output_type": "display_data"
    }
   ],
   "source": [
    "tariff_description('mb_used')"
   ]
  },
  {
   "cell_type": "markdown",
   "metadata": {},
   "source": [
    "<b>По объемам потребляемого интернет-трафика:</b>\n",
    "- Ситуация похожа на положение дел в продолжительности звонков.\n",
    "- Объемы потребляемого трафика у обоих тарифов не сильно отличаются, но при этом если средний показатель Смарта - несколько выше объема, включенного в тариф, то пользователи Ультры тратят в среднем в районе 2/3 от положеного. \n",
    "- Более половины пользователей Смарта превышают положенную норму и доплачивают за гигабайты.\n",
    "- Среди пользователей ультры таковых тоже много - в районе 20%.\n",
    "- Распределение данного параметра у Ультры опять же более пологое, с большим стандартным отклонением. "
   ]
  },
  {
   "cell_type": "code",
   "execution_count": 87,
   "metadata": {
    "scrolled": false
   },
   "outputs": [
    {
     "name": "stdout",
     "output_type": "stream",
     "text": [
      "Описательные статистики  для  msg_count\n"
     ]
    },
    {
     "data": {
      "text/html": [
       "<div>\n",
       "<style scoped>\n",
       "    .dataframe tbody tr th:only-of-type {\n",
       "        vertical-align: middle;\n",
       "    }\n",
       "\n",
       "    .dataframe tbody tr th {\n",
       "        vertical-align: top;\n",
       "    }\n",
       "\n",
       "    .dataframe thead th {\n",
       "        text-align: right;\n",
       "    }\n",
       "</style>\n",
       "<table border=\"1\" class=\"dataframe\">\n",
       "  <thead>\n",
       "    <tr style=\"text-align: right;\">\n",
       "      <th></th>\n",
       "      <th>count</th>\n",
       "      <th>mean</th>\n",
       "      <th>std</th>\n",
       "      <th>min</th>\n",
       "      <th>25%</th>\n",
       "      <th>50%</th>\n",
       "      <th>75%</th>\n",
       "      <th>max</th>\n",
       "    </tr>\n",
       "  </thead>\n",
       "  <tbody>\n",
       "    <tr>\n",
       "      <th>smart</th>\n",
       "      <td>350.0</td>\n",
       "      <td>32.352</td>\n",
       "      <td>26.512</td>\n",
       "      <td>0.0</td>\n",
       "      <td>11.0</td>\n",
       "      <td>27.75</td>\n",
       "      <td>48.00</td>\n",
       "      <td>118.0</td>\n",
       "    </tr>\n",
       "    <tr>\n",
       "      <th>ultra</th>\n",
       "      <td>148.0</td>\n",
       "      <td>54.031</td>\n",
       "      <td>46.366</td>\n",
       "      <td>0.0</td>\n",
       "      <td>17.0</td>\n",
       "      <td>45.50</td>\n",
       "      <td>84.25</td>\n",
       "      <td>192.0</td>\n",
       "    </tr>\n",
       "  </tbody>\n",
       "</table>\n",
       "</div>"
      ],
      "text/plain": [
       "       count    mean     std  min   25%    50%    75%    max\n",
       "smart  350.0  32.352  26.512  0.0  11.0  27.75  48.00  118.0\n",
       "ultra  148.0  54.031  46.366  0.0  17.0  45.50  84.25  192.0"
      ]
     },
     "metadata": {},
     "output_type": "display_data"
    },
    {
     "data": {
      "image/png": "[encoded data removed]",
      "text/plain": [
       "<Figure size 1200x900 with 1 Axes>"
      ]
     },
     "metadata": {},
     "output_type": "display_data"
    }
   ],
   "source": [
    "tariff_description('msg_count')"
   ]
  },
  {
   "cell_type": "markdown",
   "metadata": {},
   "source": [
    "<b>По количеству отправляемых сообщений:</b>\n",
    "- Сообщения не пользуются такой популярностью как звонки и интернет - количество тех, кто их вообще отправляет меньше общего объема выборки. К тому же большая часть пользователей обоих тарифов даже близко не отправляет сообщения в тех объемах, что положены им в рамках тарифа.\n",
    "- У обоих тарифов распределение смещено сильно влево с длинным хвостом - той небольшой частью клиентов, которым необходимо дейтсвительно большое число сообщений в месяц."
   ]
  },
  {
   "cell_type": "markdown",
   "metadata": {},
   "source": [
    "### Промежуточный вывод"
   ]
  },
  {
   "cell_type": "markdown",
   "metadata": {},
   "source": [
    "- Звонки и интернет - более популярные виды услуг, чем отправка сообщений. \n",
    "- В вопросах звонков пользователи в среднем стараются укладываться в отмеренные им по тарифу объемы. \n",
    "- Интернет - узкое горлышко тарифов, особенно Смарта: пользователям не хватает положенного трафика и они готовы доплачивать за него. \n",
    "- Пользователи тарифа Ультра в большинстве своем не используют возможности своего тарифа в полной мере, однако, в среднем их ежемесячная абонентская плата все равно оказывается выше, чем у пользователей Смарта. У Смарта пользователи часто вынуждены доплачивать за тот же доп трафик, но за счет низкой стоимости базовых услуг по тарифу они все равно экономят по сравнению с Ультра-клиентами. "
   ]
  },
  {
   "cell_type": "markdown",
   "metadata": {},
   "source": [
    "[Вернуться к оглавлению](#title)"
   ]
  },
  {
   "cell_type": "markdown",
   "metadata": {},
   "source": [
    "<a id=\"third_step\"></a>"
   ]
  },
  {
   "cell_type": "markdown",
   "metadata": {},
   "source": [
    "## Проверка гипотез"
   ]
  },
  {
   "cell_type": "markdown",
   "metadata": {},
   "source": [
    "Итак, нам необходимо сформулировать гипотезы по двум вопросам - разница в выручке между двумя тарифами и между Москвой и регионами.\n",
    "\n",
    "<b>Тарифы:</b> <br>\n",
    "H0 - Средняя выручка от тарифа Ультра равна выручке от тарифа Смарт <br>\n",
    "H1 - Средняя выручка от тарифа Ультра больше, чем от тарифа Смарт\n",
    "\n",
    "Мы формулируем гипотезы таким образом, исходя из того, что абонентская плата в тарифе Ультра больше, чем у Смарта, поэтому можем выдвинуть одностороннюю гипотезу.\n",
    "\n",
    "<b>Москва и регионы:</b> <br>\n",
    "H0 - Средняя выручка в Москве равна средней выручке по остальным регионам РФ <br>\n",
    "H1 - Средняя выручка в Москве больше, чем в среднем по остальным регионам РФ\n",
    "\n",
    "Мы исходим из того, что в силу как более высокого уровня жизни и экономического развития, так и в силу большего развития мобильных сетей 4го поколения, москвичи потребляют больше интернет-трафика, а потому либо пользуются более дорогим тарифом, либо доплачивают.\n",
    "\n",
    "Для тестирования гипотез использован двусторонний t-тест Стьюдента.\n",
    "Пороговое значение мы выставим в 0.05, как в средне часто встречающееся в работах."
   ]
  },
  {
   "cell_type": "code",
   "execution_count": 88,
   "metadata": {},
   "outputs": [
    {
     "data": {
      "text/html": [
       "<div>\n",
       "<style scoped>\n",
       "    .dataframe tbody tr th:only-of-type {\n",
       "        vertical-align: middle;\n",
       "    }\n",
       "\n",
       "    .dataframe tbody tr th {\n",
       "        vertical-align: top;\n",
       "    }\n",
       "\n",
       "    .dataframe thead th {\n",
       "        text-align: right;\n",
       "    }\n",
       "</style>\n",
       "<table border=\"1\" class=\"dataframe\">\n",
       "  <thead>\n",
       "    <tr style=\"text-align: right;\">\n",
       "      <th></th>\n",
       "      <th>month</th>\n",
       "      <th>user_id</th>\n",
       "      <th>duration</th>\n",
       "      <th>calls_count</th>\n",
       "      <th>mb_used</th>\n",
       "      <th>msg_count</th>\n",
       "      <th>city</th>\n",
       "      <th>tariff_name</th>\n",
       "      <th>messages_included</th>\n",
       "      <th>gb_per_month_included</th>\n",
       "      <th>minutes_included</th>\n",
       "      <th>rub_monthly_fee</th>\n",
       "      <th>rub_per_gb</th>\n",
       "      <th>rub_per_message</th>\n",
       "      <th>rub_per_minute</th>\n",
       "      <th>calls_payment</th>\n",
       "      <th>internet_payment</th>\n",
       "      <th>msg_payment</th>\n",
       "      <th>total_revenue</th>\n",
       "    </tr>\n",
       "  </thead>\n",
       "  <tbody>\n",
       "    <tr>\n",
       "      <th>0</th>\n",
       "      <td>5.0</td>\n",
       "      <td>1000</td>\n",
       "      <td>159.0</td>\n",
       "      <td>22.0</td>\n",
       "      <td>3.0</td>\n",
       "      <td>22.0</td>\n",
       "      <td>Краснодар</td>\n",
       "      <td>ultra</td>\n",
       "      <td>1000</td>\n",
       "      <td>30.0</td>\n",
       "      <td>3000</td>\n",
       "      <td>1950</td>\n",
       "      <td>150</td>\n",
       "      <td>1</td>\n",
       "      <td>1</td>\n",
       "      <td>0.0</td>\n",
       "      <td>0.0</td>\n",
       "      <td>0.0</td>\n",
       "      <td>1950.0</td>\n",
       "    </tr>\n",
       "    <tr>\n",
       "      <th>1</th>\n",
       "      <td>6.0</td>\n",
       "      <td>1000</td>\n",
       "      <td>172.0</td>\n",
       "      <td>43.0</td>\n",
       "      <td>23.0</td>\n",
       "      <td>60.0</td>\n",
       "      <td>Краснодар</td>\n",
       "      <td>ultra</td>\n",
       "      <td>1000</td>\n",
       "      <td>30.0</td>\n",
       "      <td>3000</td>\n",
       "      <td>1950</td>\n",
       "      <td>150</td>\n",
       "      <td>1</td>\n",
       "      <td>1</td>\n",
       "      <td>0.0</td>\n",
       "      <td>0.0</td>\n",
       "      <td>0.0</td>\n",
       "      <td>1950.0</td>\n",
       "    </tr>\n",
       "    <tr>\n",
       "      <th>2</th>\n",
       "      <td>7.0</td>\n",
       "      <td>1000</td>\n",
       "      <td>340.0</td>\n",
       "      <td>47.0</td>\n",
       "      <td>14.0</td>\n",
       "      <td>75.0</td>\n",
       "      <td>Краснодар</td>\n",
       "      <td>ultra</td>\n",
       "      <td>1000</td>\n",
       "      <td>30.0</td>\n",
       "      <td>3000</td>\n",
       "      <td>1950</td>\n",
       "      <td>150</td>\n",
       "      <td>1</td>\n",
       "      <td>1</td>\n",
       "      <td>0.0</td>\n",
       "      <td>0.0</td>\n",
       "      <td>0.0</td>\n",
       "      <td>1950.0</td>\n",
       "    </tr>\n",
       "    <tr>\n",
       "      <th>3</th>\n",
       "      <td>8.0</td>\n",
       "      <td>1000</td>\n",
       "      <td>408.0</td>\n",
       "      <td>52.0</td>\n",
       "      <td>14.0</td>\n",
       "      <td>81.0</td>\n",
       "      <td>Краснодар</td>\n",
       "      <td>ultra</td>\n",
       "      <td>1000</td>\n",
       "      <td>30.0</td>\n",
       "      <td>3000</td>\n",
       "      <td>1950</td>\n",
       "      <td>150</td>\n",
       "      <td>1</td>\n",
       "      <td>1</td>\n",
       "      <td>0.0</td>\n",
       "      <td>0.0</td>\n",
       "      <td>0.0</td>\n",
       "      <td>1950.0</td>\n",
       "    </tr>\n",
       "    <tr>\n",
       "      <th>4</th>\n",
       "      <td>9.0</td>\n",
       "      <td>1000</td>\n",
       "      <td>466.0</td>\n",
       "      <td>58.0</td>\n",
       "      <td>15.0</td>\n",
       "      <td>57.0</td>\n",
       "      <td>Краснодар</td>\n",
       "      <td>ultra</td>\n",
       "      <td>1000</td>\n",
       "      <td>30.0</td>\n",
       "      <td>3000</td>\n",
       "      <td>1950</td>\n",
       "      <td>150</td>\n",
       "      <td>1</td>\n",
       "      <td>1</td>\n",
       "      <td>0.0</td>\n",
       "      <td>0.0</td>\n",
       "      <td>0.0</td>\n",
       "      <td>1950.0</td>\n",
       "    </tr>\n",
       "    <tr>\n",
       "      <th>...</th>\n",
       "      <td>...</td>\n",
       "      <td>...</td>\n",
       "      <td>...</td>\n",
       "      <td>...</td>\n",
       "      <td>...</td>\n",
       "      <td>...</td>\n",
       "      <td>...</td>\n",
       "      <td>...</td>\n",
       "      <td>...</td>\n",
       "      <td>...</td>\n",
       "      <td>...</td>\n",
       "      <td>...</td>\n",
       "      <td>...</td>\n",
       "      <td>...</td>\n",
       "      <td>...</td>\n",
       "      <td>...</td>\n",
       "      <td>...</td>\n",
       "      <td>...</td>\n",
       "      <td>...</td>\n",
       "    </tr>\n",
       "    <tr>\n",
       "      <th>3210</th>\n",
       "      <td>8.0</td>\n",
       "      <td>1489</td>\n",
       "      <td>0.0</td>\n",
       "      <td>0.0</td>\n",
       "      <td>11.0</td>\n",
       "      <td>17.0</td>\n",
       "      <td>Санкт-Петербург</td>\n",
       "      <td>smart</td>\n",
       "      <td>50</td>\n",
       "      <td>15.0</td>\n",
       "      <td>500</td>\n",
       "      <td>550</td>\n",
       "      <td>200</td>\n",
       "      <td>3</td>\n",
       "      <td>3</td>\n",
       "      <td>0.0</td>\n",
       "      <td>0.0</td>\n",
       "      <td>0.0</td>\n",
       "      <td>550.0</td>\n",
       "    </tr>\n",
       "    <tr>\n",
       "      <th>3211</th>\n",
       "      <td>9.0</td>\n",
       "      <td>1489</td>\n",
       "      <td>0.0</td>\n",
       "      <td>0.0</td>\n",
       "      <td>17.0</td>\n",
       "      <td>32.0</td>\n",
       "      <td>Санкт-Петербург</td>\n",
       "      <td>smart</td>\n",
       "      <td>50</td>\n",
       "      <td>15.0</td>\n",
       "      <td>500</td>\n",
       "      <td>550</td>\n",
       "      <td>200</td>\n",
       "      <td>3</td>\n",
       "      <td>3</td>\n",
       "      <td>0.0</td>\n",
       "      <td>400.0</td>\n",
       "      <td>0.0</td>\n",
       "      <td>950.0</td>\n",
       "    </tr>\n",
       "    <tr>\n",
       "      <th>3212</th>\n",
       "      <td>10.0</td>\n",
       "      <td>1489</td>\n",
       "      <td>0.0</td>\n",
       "      <td>0.0</td>\n",
       "      <td>20.0</td>\n",
       "      <td>21.0</td>\n",
       "      <td>Санкт-Петербург</td>\n",
       "      <td>smart</td>\n",
       "      <td>50</td>\n",
       "      <td>15.0</td>\n",
       "      <td>500</td>\n",
       "      <td>550</td>\n",
       "      <td>200</td>\n",
       "      <td>3</td>\n",
       "      <td>3</td>\n",
       "      <td>0.0</td>\n",
       "      <td>1000.0</td>\n",
       "      <td>0.0</td>\n",
       "      <td>1550.0</td>\n",
       "    </tr>\n",
       "    <tr>\n",
       "      <th>3213</th>\n",
       "      <td>11.0</td>\n",
       "      <td>1489</td>\n",
       "      <td>0.0</td>\n",
       "      <td>0.0</td>\n",
       "      <td>18.0</td>\n",
       "      <td>20.0</td>\n",
       "      <td>Санкт-Петербург</td>\n",
       "      <td>smart</td>\n",
       "      <td>50</td>\n",
       "      <td>15.0</td>\n",
       "      <td>500</td>\n",
       "      <td>550</td>\n",
       "      <td>200</td>\n",
       "      <td>3</td>\n",
       "      <td>3</td>\n",
       "      <td>0.0</td>\n",
       "      <td>600.0</td>\n",
       "      <td>0.0</td>\n",
       "      <td>1150.0</td>\n",
       "    </tr>\n",
       "    <tr>\n",
       "      <th>3214</th>\n",
       "      <td>12.0</td>\n",
       "      <td>1489</td>\n",
       "      <td>0.0</td>\n",
       "      <td>0.0</td>\n",
       "      <td>17.0</td>\n",
       "      <td>35.0</td>\n",
       "      <td>Санкт-Петербург</td>\n",
       "      <td>smart</td>\n",
       "      <td>50</td>\n",
       "      <td>15.0</td>\n",
       "      <td>500</td>\n",
       "      <td>550</td>\n",
       "      <td>200</td>\n",
       "      <td>3</td>\n",
       "      <td>3</td>\n",
       "      <td>0.0</td>\n",
       "      <td>400.0</td>\n",
       "      <td>0.0</td>\n",
       "      <td>950.0</td>\n",
       "    </tr>\n",
       "  </tbody>\n",
       "</table>\n",
       "<p>3214 rows × 19 columns</p>\n",
       "</div>"
      ],
      "text/plain": [
       "      month  user_id  duration  calls_count  mb_used  msg_count  \\\n",
       "0     5.0    1000     159.0     22.0         3.0      22.0        \n",
       "1     6.0    1000     172.0     43.0         23.0     60.0        \n",
       "2     7.0    1000     340.0     47.0         14.0     75.0        \n",
       "3     8.0    1000     408.0     52.0         14.0     81.0        \n",
       "4     9.0    1000     466.0     58.0         15.0     57.0        \n",
       "...   ...     ...       ...      ...          ...      ...        \n",
       "3210  8.0    1489     0.0       0.0          11.0     17.0        \n",
       "3211  9.0    1489     0.0       0.0          17.0     32.0        \n",
       "3212  10.0   1489     0.0       0.0          20.0     21.0        \n",
       "3213  11.0   1489     0.0       0.0          18.0     20.0        \n",
       "3214  12.0   1489     0.0       0.0          17.0     35.0        \n",
       "\n",
       "                 city tariff_name  messages_included  gb_per_month_included  \\\n",
       "0     Краснодар        ultra       1000               30.0                    \n",
       "1     Краснодар        ultra       1000               30.0                    \n",
       "2     Краснодар        ultra       1000               30.0                    \n",
       "3     Краснодар        ultra       1000               30.0                    \n",
       "4     Краснодар        ultra       1000               30.0                    \n",
       "...         ...          ...        ...                ...                    \n",
       "3210  Санкт-Петербург  smart       50                 15.0                    \n",
       "3211  Санкт-Петербург  smart       50                 15.0                    \n",
       "3212  Санкт-Петербург  smart       50                 15.0                    \n",
       "3213  Санкт-Петербург  smart       50                 15.0                    \n",
       "3214  Санкт-Петербург  smart       50                 15.0                    \n",
       "\n",
       "      minutes_included  rub_monthly_fee  rub_per_gb  rub_per_message  \\\n",
       "0     3000              1950             150         1                 \n",
       "1     3000              1950             150         1                 \n",
       "2     3000              1950             150         1                 \n",
       "3     3000              1950             150         1                 \n",
       "4     3000              1950             150         1                 \n",
       "...    ...               ...             ...        ..                 \n",
       "3210  500               550              200         3                 \n",
       "3211  500               550              200         3                 \n",
       "3212  500               550              200         3                 \n",
       "3213  500               550              200         3                 \n",
       "3214  500               550              200         3                 \n",
       "\n",
       "      rub_per_minute  calls_payment  internet_payment  msg_payment  \\\n",
       "0     1               0.0            0.0               0.0           \n",
       "1     1               0.0            0.0               0.0           \n",
       "2     1               0.0            0.0               0.0           \n",
       "3     1               0.0            0.0               0.0           \n",
       "4     1               0.0            0.0               0.0           \n",
       "...  ..               ...            ...               ...           \n",
       "3210  3               0.0            0.0               0.0           \n",
       "3211  3               0.0            400.0             0.0           \n",
       "3212  3               0.0            1000.0            0.0           \n",
       "3213  3               0.0            600.0             0.0           \n",
       "3214  3               0.0            400.0             0.0           \n",
       "\n",
       "      total_revenue  \n",
       "0     1950.0         \n",
       "1     1950.0         \n",
       "2     1950.0         \n",
       "3     1950.0         \n",
       "4     1950.0         \n",
       "...      ...         \n",
       "3210  550.0          \n",
       "3211  950.0          \n",
       "3212  1550.0         \n",
       "3213  1150.0         \n",
       "3214  950.0          \n",
       "\n",
       "[3214 rows x 19 columns]"
      ]
     },
     "execution_count": 88,
     "metadata": {},
     "output_type": "execute_result"
    }
   ],
   "source": [
    "revenue"
   ]
  },
  {
   "cell_type": "code",
   "execution_count": 89,
   "metadata": {},
   "outputs": [
    {
     "data": {
      "text/plain": [
       "Index(['month', 'user_id', 'duration', 'calls_count', 'mb_used', 'msg_count',\n",
       "       'city', 'tariff_name', 'messages_included', 'gb_per_month_included',\n",
       "       'minutes_included', 'rub_monthly_fee', 'rub_per_gb', 'rub_per_message',\n",
       "       'rub_per_minute', 'calls_payment', 'internet_payment', 'msg_payment',\n",
       "       'total_revenue'],\n",
       "      dtype='object')"
      ]
     },
     "execution_count": 89,
     "metadata": {},
     "output_type": "execute_result"
    }
   ],
   "source": [
    "revenue.columns"
   ]
  },
  {
   "cell_type": "code",
   "execution_count": 90,
   "metadata": {},
   "outputs": [],
   "source": [
    "def stol(stolica):\n",
    "    if stolica == 'Москва':\n",
    "        return 'Москва'\n",
    "    else:\n",
    "        return 'Другой регион'\n",
    "    \n",
    "revenue['Moscow'] = revenue['city'].apply(stol)"
   ]
  },
  {
   "cell_type": "markdown",
   "metadata": {},
   "source": [
    "Создаем отдельный столбец для разбивки Москва/Не Москва."
   ]
  },
  {
   "cell_type": "code",
   "execution_count": 91,
   "metadata": {},
   "outputs": [
    {
     "data": {
      "text/html": [
       "<div>\n",
       "<style scoped>\n",
       "    .dataframe tbody tr th:only-of-type {\n",
       "        vertical-align: middle;\n",
       "    }\n",
       "\n",
       "    .dataframe tbody tr th {\n",
       "        vertical-align: top;\n",
       "    }\n",
       "\n",
       "    .dataframe thead th {\n",
       "        text-align: right;\n",
       "    }\n",
       "</style>\n",
       "<table border=\"1\" class=\"dataframe\">\n",
       "  <thead>\n",
       "    <tr style=\"text-align: right;\">\n",
       "      <th></th>\n",
       "      <th>month</th>\n",
       "      <th>user_id</th>\n",
       "      <th>duration</th>\n",
       "      <th>calls_count</th>\n",
       "      <th>mb_used</th>\n",
       "      <th>msg_count</th>\n",
       "      <th>city</th>\n",
       "      <th>tariff_name</th>\n",
       "      <th>messages_included</th>\n",
       "      <th>gb_per_month_included</th>\n",
       "      <th>minutes_included</th>\n",
       "      <th>rub_monthly_fee</th>\n",
       "      <th>rub_per_gb</th>\n",
       "      <th>rub_per_message</th>\n",
       "      <th>rub_per_minute</th>\n",
       "      <th>calls_payment</th>\n",
       "      <th>internet_payment</th>\n",
       "      <th>msg_payment</th>\n",
       "      <th>total_revenue</th>\n",
       "      <th>Moscow</th>\n",
       "    </tr>\n",
       "  </thead>\n",
       "  <tbody>\n",
       "    <tr>\n",
       "      <th>0</th>\n",
       "      <td>5.0</td>\n",
       "      <td>1000</td>\n",
       "      <td>159.0</td>\n",
       "      <td>22.0</td>\n",
       "      <td>3.0</td>\n",
       "      <td>22.0</td>\n",
       "      <td>Краснодар</td>\n",
       "      <td>ultra</td>\n",
       "      <td>1000</td>\n",
       "      <td>30.0</td>\n",
       "      <td>3000</td>\n",
       "      <td>1950</td>\n",
       "      <td>150</td>\n",
       "      <td>1</td>\n",
       "      <td>1</td>\n",
       "      <td>0.0</td>\n",
       "      <td>0.0</td>\n",
       "      <td>0.0</td>\n",
       "      <td>1950.0</td>\n",
       "      <td>Другой регион</td>\n",
       "    </tr>\n",
       "    <tr>\n",
       "      <th>1</th>\n",
       "      <td>6.0</td>\n",
       "      <td>1000</td>\n",
       "      <td>172.0</td>\n",
       "      <td>43.0</td>\n",
       "      <td>23.0</td>\n",
       "      <td>60.0</td>\n",
       "      <td>Краснодар</td>\n",
       "      <td>ultra</td>\n",
       "      <td>1000</td>\n",
       "      <td>30.0</td>\n",
       "      <td>3000</td>\n",
       "      <td>1950</td>\n",
       "      <td>150</td>\n",
       "      <td>1</td>\n",
       "      <td>1</td>\n",
       "      <td>0.0</td>\n",
       "      <td>0.0</td>\n",
       "      <td>0.0</td>\n",
       "      <td>1950.0</td>\n",
       "      <td>Другой регион</td>\n",
       "    </tr>\n",
       "    <tr>\n",
       "      <th>2</th>\n",
       "      <td>7.0</td>\n",
       "      <td>1000</td>\n",
       "      <td>340.0</td>\n",
       "      <td>47.0</td>\n",
       "      <td>14.0</td>\n",
       "      <td>75.0</td>\n",
       "      <td>Краснодар</td>\n",
       "      <td>ultra</td>\n",
       "      <td>1000</td>\n",
       "      <td>30.0</td>\n",
       "      <td>3000</td>\n",
       "      <td>1950</td>\n",
       "      <td>150</td>\n",
       "      <td>1</td>\n",
       "      <td>1</td>\n",
       "      <td>0.0</td>\n",
       "      <td>0.0</td>\n",
       "      <td>0.0</td>\n",
       "      <td>1950.0</td>\n",
       "      <td>Другой регион</td>\n",
       "    </tr>\n",
       "    <tr>\n",
       "      <th>3</th>\n",
       "      <td>8.0</td>\n",
       "      <td>1000</td>\n",
       "      <td>408.0</td>\n",
       "      <td>52.0</td>\n",
       "      <td>14.0</td>\n",
       "      <td>81.0</td>\n",
       "      <td>Краснодар</td>\n",
       "      <td>ultra</td>\n",
       "      <td>1000</td>\n",
       "      <td>30.0</td>\n",
       "      <td>3000</td>\n",
       "      <td>1950</td>\n",
       "      <td>150</td>\n",
       "      <td>1</td>\n",
       "      <td>1</td>\n",
       "      <td>0.0</td>\n",
       "      <td>0.0</td>\n",
       "      <td>0.0</td>\n",
       "      <td>1950.0</td>\n",
       "      <td>Другой регион</td>\n",
       "    </tr>\n",
       "    <tr>\n",
       "      <th>4</th>\n",
       "      <td>9.0</td>\n",
       "      <td>1000</td>\n",
       "      <td>466.0</td>\n",
       "      <td>58.0</td>\n",
       "      <td>15.0</td>\n",
       "      <td>57.0</td>\n",
       "      <td>Краснодар</td>\n",
       "      <td>ultra</td>\n",
       "      <td>1000</td>\n",
       "      <td>30.0</td>\n",
       "      <td>3000</td>\n",
       "      <td>1950</td>\n",
       "      <td>150</td>\n",
       "      <td>1</td>\n",
       "      <td>1</td>\n",
       "      <td>0.0</td>\n",
       "      <td>0.0</td>\n",
       "      <td>0.0</td>\n",
       "      <td>1950.0</td>\n",
       "      <td>Другой регион</td>\n",
       "    </tr>\n",
       "    <tr>\n",
       "      <th>...</th>\n",
       "      <td>...</td>\n",
       "      <td>...</td>\n",
       "      <td>...</td>\n",
       "      <td>...</td>\n",
       "      <td>...</td>\n",
       "      <td>...</td>\n",
       "      <td>...</td>\n",
       "      <td>...</td>\n",
       "      <td>...</td>\n",
       "      <td>...</td>\n",
       "      <td>...</td>\n",
       "      <td>...</td>\n",
       "      <td>...</td>\n",
       "      <td>...</td>\n",
       "      <td>...</td>\n",
       "      <td>...</td>\n",
       "      <td>...</td>\n",
       "      <td>...</td>\n",
       "      <td>...</td>\n",
       "      <td>...</td>\n",
       "    </tr>\n",
       "    <tr>\n",
       "      <th>3210</th>\n",
       "      <td>8.0</td>\n",
       "      <td>1489</td>\n",
       "      <td>0.0</td>\n",
       "      <td>0.0</td>\n",
       "      <td>11.0</td>\n",
       "      <td>17.0</td>\n",
       "      <td>Санкт-Петербург</td>\n",
       "      <td>smart</td>\n",
       "      <td>50</td>\n",
       "      <td>15.0</td>\n",
       "      <td>500</td>\n",
       "      <td>550</td>\n",
       "      <td>200</td>\n",
       "      <td>3</td>\n",
       "      <td>3</td>\n",
       "      <td>0.0</td>\n",
       "      <td>0.0</td>\n",
       "      <td>0.0</td>\n",
       "      <td>550.0</td>\n",
       "      <td>Другой регион</td>\n",
       "    </tr>\n",
       "    <tr>\n",
       "      <th>3211</th>\n",
       "      <td>9.0</td>\n",
       "      <td>1489</td>\n",
       "      <td>0.0</td>\n",
       "      <td>0.0</td>\n",
       "      <td>17.0</td>\n",
       "      <td>32.0</td>\n",
       "      <td>Санкт-Петербург</td>\n",
       "      <td>smart</td>\n",
       "      <td>50</td>\n",
       "      <td>15.0</td>\n",
       "      <td>500</td>\n",
       "      <td>550</td>\n",
       "      <td>200</td>\n",
       "      <td>3</td>\n",
       "      <td>3</td>\n",
       "      <td>0.0</td>\n",
       "      <td>400.0</td>\n",
       "      <td>0.0</td>\n",
       "      <td>950.0</td>\n",
       "      <td>Другой регион</td>\n",
       "    </tr>\n",
       "    <tr>\n",
       "      <th>3212</th>\n",
       "      <td>10.0</td>\n",
       "      <td>1489</td>\n",
       "      <td>0.0</td>\n",
       "      <td>0.0</td>\n",
       "      <td>20.0</td>\n",
       "      <td>21.0</td>\n",
       "      <td>Санкт-Петербург</td>\n",
       "      <td>smart</td>\n",
       "      <td>50</td>\n",
       "      <td>15.0</td>\n",
       "      <td>500</td>\n",
       "      <td>550</td>\n",
       "      <td>200</td>\n",
       "      <td>3</td>\n",
       "      <td>3</td>\n",
       "      <td>0.0</td>\n",
       "      <td>1000.0</td>\n",
       "      <td>0.0</td>\n",
       "      <td>1550.0</td>\n",
       "      <td>Другой регион</td>\n",
       "    </tr>\n",
       "    <tr>\n",
       "      <th>3213</th>\n",
       "      <td>11.0</td>\n",
       "      <td>1489</td>\n",
       "      <td>0.0</td>\n",
       "      <td>0.0</td>\n",
       "      <td>18.0</td>\n",
       "      <td>20.0</td>\n",
       "      <td>Санкт-Петербург</td>\n",
       "      <td>smart</td>\n",
       "      <td>50</td>\n",
       "      <td>15.0</td>\n",
       "      <td>500</td>\n",
       "      <td>550</td>\n",
       "      <td>200</td>\n",
       "      <td>3</td>\n",
       "      <td>3</td>\n",
       "      <td>0.0</td>\n",
       "      <td>600.0</td>\n",
       "      <td>0.0</td>\n",
       "      <td>1150.0</td>\n",
       "      <td>Другой регион</td>\n",
       "    </tr>\n",
       "    <tr>\n",
       "      <th>3214</th>\n",
       "      <td>12.0</td>\n",
       "      <td>1489</td>\n",
       "      <td>0.0</td>\n",
       "      <td>0.0</td>\n",
       "      <td>17.0</td>\n",
       "      <td>35.0</td>\n",
       "      <td>Санкт-Петербург</td>\n",
       "      <td>smart</td>\n",
       "      <td>50</td>\n",
       "      <td>15.0</td>\n",
       "      <td>500</td>\n",
       "      <td>550</td>\n",
       "      <td>200</td>\n",
       "      <td>3</td>\n",
       "      <td>3</td>\n",
       "      <td>0.0</td>\n",
       "      <td>400.0</td>\n",
       "      <td>0.0</td>\n",
       "      <td>950.0</td>\n",
       "      <td>Другой регион</td>\n",
       "    </tr>\n",
       "  </tbody>\n",
       "</table>\n",
       "<p>3214 rows × 20 columns</p>\n",
       "</div>"
      ],
      "text/plain": [
       "      month  user_id  duration  calls_count  mb_used  msg_count  \\\n",
       "0     5.0    1000     159.0     22.0         3.0      22.0        \n",
       "1     6.0    1000     172.0     43.0         23.0     60.0        \n",
       "2     7.0    1000     340.0     47.0         14.0     75.0        \n",
       "3     8.0    1000     408.0     52.0         14.0     81.0        \n",
       "4     9.0    1000     466.0     58.0         15.0     57.0        \n",
       "...   ...     ...       ...      ...          ...      ...        \n",
       "3210  8.0    1489     0.0       0.0          11.0     17.0        \n",
       "3211  9.0    1489     0.0       0.0          17.0     32.0        \n",
       "3212  10.0   1489     0.0       0.0          20.0     21.0        \n",
       "3213  11.0   1489     0.0       0.0          18.0     20.0        \n",
       "3214  12.0   1489     0.0       0.0          17.0     35.0        \n",
       "\n",
       "                 city tariff_name  messages_included  gb_per_month_included  \\\n",
       "0     Краснодар        ultra       1000               30.0                    \n",
       "1     Краснодар        ultra       1000               30.0                    \n",
       "2     Краснодар        ultra       1000               30.0                    \n",
       "3     Краснодар        ultra       1000               30.0                    \n",
       "4     Краснодар        ultra       1000               30.0                    \n",
       "...         ...          ...        ...                ...                    \n",
       "3210  Санкт-Петербург  smart       50                 15.0                    \n",
       "3211  Санкт-Петербург  smart       50                 15.0                    \n",
       "3212  Санкт-Петербург  smart       50                 15.0                    \n",
       "3213  Санкт-Петербург  smart       50                 15.0                    \n",
       "3214  Санкт-Петербург  smart       50                 15.0                    \n",
       "\n",
       "      minutes_included  rub_monthly_fee  rub_per_gb  rub_per_message  \\\n",
       "0     3000              1950             150         1                 \n",
       "1     3000              1950             150         1                 \n",
       "2     3000              1950             150         1                 \n",
       "3     3000              1950             150         1                 \n",
       "4     3000              1950             150         1                 \n",
       "...    ...               ...             ...        ..                 \n",
       "3210  500               550              200         3                 \n",
       "3211  500               550              200         3                 \n",
       "3212  500               550              200         3                 \n",
       "3213  500               550              200         3                 \n",
       "3214  500               550              200         3                 \n",
       "\n",
       "      rub_per_minute  calls_payment  internet_payment  msg_payment  \\\n",
       "0     1               0.0            0.0               0.0           \n",
       "1     1               0.0            0.0               0.0           \n",
       "2     1               0.0            0.0               0.0           \n",
       "3     1               0.0            0.0               0.0           \n",
       "4     1               0.0            0.0               0.0           \n",
       "...  ..               ...            ...               ...           \n",
       "3210  3               0.0            0.0               0.0           \n",
       "3211  3               0.0            400.0             0.0           \n",
       "3212  3               0.0            1000.0            0.0           \n",
       "3213  3               0.0            600.0             0.0           \n",
       "3214  3               0.0            400.0             0.0           \n",
       "\n",
       "      total_revenue         Moscow  \n",
       "0     1950.0         Другой регион  \n",
       "1     1950.0         Другой регион  \n",
       "2     1950.0         Другой регион  \n",
       "3     1950.0         Другой регион  \n",
       "4     1950.0         Другой регион  \n",
       "...      ...                   ...  \n",
       "3210  550.0          Другой регион  \n",
       "3211  950.0          Другой регион  \n",
       "3212  1550.0         Другой регион  \n",
       "3213  1150.0         Другой регион  \n",
       "3214  950.0          Другой регион  \n",
       "\n",
       "[3214 rows x 20 columns]"
      ]
     },
     "execution_count": 91,
     "metadata": {},
     "output_type": "execute_result"
    }
   ],
   "source": [
    "revenue"
   ]
  },
  {
   "cell_type": "markdown",
   "metadata": {},
   "source": [
    "[Вернуться к оглавлению](#title)"
   ]
  },
  {
   "cell_type": "markdown",
   "metadata": {},
   "source": [
    "<a id=\"tarifs\"></a>"
   ]
  },
  {
   "cell_type": "markdown",
   "metadata": {},
   "source": [
    "### Разница между тарифами"
   ]
  },
  {
   "cell_type": "code",
   "execution_count": 92,
   "metadata": {},
   "outputs": [
    {
     "name": "stdout",
     "output_type": "stream",
     "text": [
      "p-значение: 2.1303156965538042e-250\n",
      "Отвергаем нулевую гипотезу\n"
     ]
    }
   ],
   "source": [
    "alpha = .05 \n",
    "\n",
    "results_tarif = st.ttest_ind(\n",
    "    revenue['total_revenue'][revenue['tariff_name'] == 'smart'], \n",
    "    revenue['total_revenue'][revenue['tariff_name'] == 'ultra'],\n",
    "    equal_var = False)\n",
    "\n",
    "print('p-значение:', results_tarif.pvalue/2)\n",
    "\n",
    "if results_tarif.pvalue/2 < alpha:\n",
    "    print(\"Отвергаем нулевую гипотезу\")\n",
    "else:\n",
    "    print(\"Не получилось отвергнуть нулевую гипотезу\") "
   ]
  },
  {
   "cell_type": "code",
   "execution_count": 93,
   "metadata": {
    "scrolled": false
   },
   "outputs": [
    {
     "data": {
      "image/png": "[encoded data removed]",
      "text/plain": [
       "<Figure size 1200x900 with 1 Axes>"
      ]
     },
     "metadata": {},
     "output_type": "display_data"
    }
   ],
   "source": [
    "tariff_hist_2(revenue, 'total_revenue')"
   ]
  },
  {
   "cell_type": "code",
   "execution_count": 94,
   "metadata": {},
   "outputs": [
    {
     "data": {
      "text/plain": [
       "Text(0.5, 1.0, 'Сравнение средних показателей  абонетской платы за год')"
      ]
     },
     "execution_count": 94,
     "metadata": {},
     "output_type": "execute_result"
    },
    {
     "data": {
      "image/png": "[encoded data removed]",
      "text/plain": [
       "<Figure size 1200x700 with 1 Axes>"
      ]
     },
     "metadata": {},
     "output_type": "display_data"
    }
   ],
   "source": [
    "revenue.pivot_table(index = 'month', values = 'total_revenue', columns = 'tariff_name', aggfunc = 'mean', margins = True)[revenue.pivot_table(index = 'month', values = 'total_revenue', columns = 'tariff_name', aggfunc = 'mean', margins = True).index == 'All'].plot.bar(figsize = (12, 7)).set_title('Сравнение средних показателей  абонетской платы за год')"
   ]
  },
  {
   "cell_type": "markdown",
   "metadata": {},
   "source": [
    "Сделанный еще ранее по результатам сравнения средних значений (на графике) вывод  о том, что средняя выручка от дорого тарифа Ультра выше, чем от экономного смарта подтвердился с помощью статистического теста. "
   ]
  },
  {
   "cell_type": "markdown",
   "metadata": {},
   "source": [
    "[Вернуться к оглавлению](#title)"
   ]
  },
  {
   "cell_type": "markdown",
   "metadata": {},
   "source": [
    "<a id=\"regions\"></a>"
   ]
  },
  {
   "cell_type": "markdown",
   "metadata": {},
   "source": [
    "### Разница между регионами"
   ]
  },
  {
   "cell_type": "code",
   "execution_count": 95,
   "metadata": {},
   "outputs": [
    {
     "name": "stdout",
     "output_type": "stream",
     "text": [
      "p-значение: 0.2628688331864649\n",
      "Не получилось отвергнуть нулевую гипотезу\n"
     ]
    }
   ],
   "source": [
    "alpha = .05 \n",
    "\n",
    "results_tarif = st.ttest_ind(\n",
    "    revenue['total_revenue'][revenue['Moscow'] == 'Москва'], \n",
    "    revenue['total_revenue'][revenue['Moscow'] == 'Другой регион'],\n",
    "    equal_var = False)\n",
    "\n",
    "print('p-значение:', results_tarif.pvalue/2)\n",
    "\n",
    "if results_tarif.pvalue/2 < alpha:\n",
    "    print(\"Отвергаем нулевую гипотезу\")\n",
    "else:\n",
    "    print(\"Не получилось отвергнуть нулевую гипотезу\") "
   ]
  },
  {
   "cell_type": "code",
   "execution_count": 96,
   "metadata": {},
   "outputs": [
    {
     "data": {
      "text/plain": [
       "Text(0.5, 1.0, 'Распределение выручки с разбивкой по регионам')"
      ]
     },
     "execution_count": 96,
     "metadata": {},
     "output_type": "execute_result"
    },
    {
     "data": {
      "image/png": "[encoded data removed]",
      "text/plain": [
       "<Figure size 1200x900 with 1 Axes>"
      ]
     },
     "metadata": {},
     "output_type": "display_data"
    }
   ],
   "source": [
    "sns.histplot(data=revenue, \n",
    "                 x='total_revenue', \n",
    "                 hue='Moscow', \n",
    "                 stat='count', \n",
    "                 bins='auto', \n",
    "                 common_bins=True, \n",
    "                 common_norm=True,\n",
    "                 multiple='layer', \n",
    "                 element='bars',\n",
    "                 fill=True, \n",
    "                 shrink=1, \n",
    "                 thresh=0, \n",
    "                 pthresh=None, \n",
    "                 pmax=None, \n",
    "                 cbar=True, \n",
    "                 cbar_ax=None, \n",
    "                 cbar_kws=None, \n",
    "                 palette=None, \n",
    "                 hue_order=None, \n",
    "                 hue_norm=None, \n",
    "                 color=None,\n",
    "                 legend=True, \n",
    "                 ax=None).set_title('Распределение выручки с разбивкой по регионам')"
   ]
  },
  {
   "cell_type": "code",
   "execution_count": 97,
   "metadata": {
    "scrolled": true
   },
   "outputs": [
    {
     "data": {
      "text/html": [
       "<style type=\"text/css\">\n",
       "#T_a3edf_row0_col0, #T_a3edf_row0_col1, #T_a3edf_row0_col2 {\n",
       "  background-color: #3b4cc0;\n",
       "  color: #f1f1f1;\n",
       "}\n",
       "#T_a3edf_row1_col0, #T_a3edf_row1_col1, #T_a3edf_row1_col2 {\n",
       "  background-color: #b40426;\n",
       "  color: #f1f1f1;\n",
       "}\n",
       "#T_a3edf_row2_col0 {\n",
       "  background-color: #9bbcff;\n",
       "  color: #000000;\n",
       "}\n",
       "#T_a3edf_row2_col1 {\n",
       "  background-color: #b6cefa;\n",
       "  color: #000000;\n",
       "}\n",
       "#T_a3edf_row2_col2 {\n",
       "  background-color: #a1c0ff;\n",
       "  color: #000000;\n",
       "}\n",
       "</style>\n",
       "<table id=\"T_a3edf\">\n",
       "  <thead>\n",
       "    <tr>\n",
       "      <th class=\"index_name level0\" >Moscow</th>\n",
       "      <th id=\"T_a3edf_level0_col0\" class=\"col_heading level0 col0\" >Другой регион</th>\n",
       "      <th id=\"T_a3edf_level0_col1\" class=\"col_heading level0 col1\" >Москва</th>\n",
       "      <th id=\"T_a3edf_level0_col2\" class=\"col_heading level0 col2\" >All</th>\n",
       "    </tr>\n",
       "    <tr>\n",
       "      <th class=\"index_name level0\" >tariff_name</th>\n",
       "      <th class=\"blank col0\" >&nbsp;</th>\n",
       "      <th class=\"blank col1\" >&nbsp;</th>\n",
       "      <th class=\"blank col2\" >&nbsp;</th>\n",
       "    </tr>\n",
       "  </thead>\n",
       "  <tbody>\n",
       "    <tr>\n",
       "      <th id=\"T_a3edf_level0_row0\" class=\"row_heading level0 row0\" >smart</th>\n",
       "      <td id=\"T_a3edf_row0_col0\" class=\"data row0 col0\" >1300.574607</td>\n",
       "      <td id=\"T_a3edf_row0_col1\" class=\"data row0 col1\" >1239.357513</td>\n",
       "      <td id=\"T_a3edf_row0_col2\" class=\"data row0 col2\" >1289.973531</td>\n",
       "    </tr>\n",
       "    <tr>\n",
       "      <th id=\"T_a3edf_level0_row1\" class=\"row_heading level0 row1\" >ultra</th>\n",
       "      <td id=\"T_a3edf_row1_col0\" class=\"data row1 col0\" >2069.013158</td>\n",
       "      <td id=\"T_a3edf_row1_col1\" class=\"data row1 col1\" >2074.000000</td>\n",
       "      <td id=\"T_a3edf_row1_col2\" class=\"data row1 col2\" >2070.152284</td>\n",
       "    </tr>\n",
       "    <tr>\n",
       "      <th id=\"T_a3edf_level0_row2\" class=\"row_heading level0 row2\" >All</th>\n",
       "      <td id=\"T_a3edf_row2_col0\" class=\"data row2 col0\" >1524.936227</td>\n",
       "      <td id=\"T_a3edf_row2_col1\" class=\"data row2 col1\" >1546.713584</td>\n",
       "      <td id=\"T_a3edf_row2_col2\" class=\"data row2 col2\" >1529.076229</td>\n",
       "    </tr>\n",
       "  </tbody>\n",
       "</table>\n"
      ],
      "text/plain": [
       "<pandas.io.formats.style.Styler at 0x1a134005df0>"
      ]
     },
     "execution_count": 97,
     "metadata": {},
     "output_type": "execute_result"
    }
   ],
   "source": [
    "rev_temp_table = revenue.pivot_table(index = 'tariff_name', values = 'total_revenue', columns = 'Moscow', aggfunc = 'mean', margins = True)\n",
    "\n",
    "rev_temp_table.style.background_gradient('coolwarm')"
   ]
  },
  {
   "cell_type": "code",
   "execution_count": 98,
   "metadata": {},
   "outputs": [
    {
     "data": {
      "text/plain": [
       "Text(0.5, 1.0, 'Сравнение средних показателей  абонетской платы за год между тарифами и регионами')"
      ]
     },
     "execution_count": 98,
     "metadata": {},
     "output_type": "execute_result"
    },
    {
     "data": {
      "image/png": "[encoded data removed]",
      "text/plain": [
       "<Figure size 1200x700 with 1 Axes>"
      ]
     },
     "metadata": {},
     "output_type": "display_data"
    }
   ],
   "source": [
    "rev_temp_table.plot.bar(figsize = (12, 7)).set_title('Сравнение средних показателей  абонетской платы за год между тарифами и регионами')"
   ]
  },
  {
   "cell_type": "markdown",
   "metadata": {},
   "source": [
    "- А вот разницу между регионами найти не удалось. Возможно она нашлась бы если бы мы сравнивали не Москву и другие регионы, а регионы с городами миллионикам и без, так как 4G давно распространился за пределами Москвы. \n",
    "- Однако, мы видим, что в значительной мере это среднее значение создается за счет Ультры, что подтверждается также и обычным сравнением средних показателей за год. Необходимо отдельно рассмотреть пользователей Смарта."
   ]
  },
  {
   "cell_type": "code",
   "execution_count": 99,
   "metadata": {},
   "outputs": [
    {
     "name": "stdout",
     "output_type": "stream",
     "text": [
      "p-значение: 0.07734171588188334\n",
      "Не получилось отвергнуть нулевую гипотезу\n"
     ]
    }
   ],
   "source": [
    "alpha = .05 \n",
    "\n",
    "results_tarif = st.ttest_ind(\n",
    "    revenue['total_revenue'][(revenue['Moscow'] == 'Москва') & (revenue['tariff_name'] == 'smart')], \n",
    "    revenue['total_revenue'][(revenue['Moscow'] == 'Другой регион') & (revenue['tariff_name'] == 'smart')],\n",
    "    equal_var = False)\n",
    "\n",
    "print('p-значение:', results_tarif.pvalue/2)\n",
    "\n",
    "if results_tarif.pvalue/2 < alpha:\n",
    "    print(\"Отвергаем нулевую гипотезу\")\n",
    "else:\n",
    "    print(\"Не получилось отвергнуть нулевую гипотезу\") "
   ]
  },
  {
   "cell_type": "code",
   "execution_count": 100,
   "metadata": {},
   "outputs": [
    {
     "data": {
      "text/plain": [
       "Text(0.5, 1.0, 'Распределение с разбивкой по регионам')"
      ]
     },
     "execution_count": 100,
     "metadata": {},
     "output_type": "execute_result"
    },
    {
     "data": {
      "image/png": "[encoded data removed]",
      "text/plain": [
       "<Figure size 1200x900 with 1 Axes>"
      ]
     },
     "metadata": {},
     "output_type": "display_data"
    }
   ],
   "source": [
    " sns.histplot(data=revenue[revenue['tariff_name'] == 'smart'], \n",
    "                 x='total_revenue', \n",
    "                 hue='Moscow', \n",
    "                 stat='count', \n",
    "                 bins='auto', \n",
    "                 common_bins=True, \n",
    "                 common_norm=True,\n",
    "                 multiple='layer', \n",
    "                 element='bars',\n",
    "                 fill=True, \n",
    "                 shrink=1, \n",
    "                 thresh=0, \n",
    "                 pthresh=None, \n",
    "                 pmax=None, \n",
    "                 cbar=True, \n",
    "                 cbar_ax=None, \n",
    "                 cbar_kws=None, \n",
    "                 palette=None, \n",
    "                 hue_order=None, \n",
    "                 hue_norm=None, \n",
    "                 color=None,\n",
    "                 legend=True, \n",
    "                 ax=None).set_title(\"Распределение с разбивкой по регионам\")"
   ]
  },
  {
   "cell_type": "markdown",
   "metadata": {},
   "source": [
    "Статистически значимой разницы в Смарте между регионами также нет, но распределения уже не так похожи друг на друга, как в общем массиве по обоим тарифам. Если бы мы выставили p-value в 0,1, то разница была бы статистически значима."
   ]
  },
  {
   "cell_type": "markdown",
   "metadata": {},
   "source": [
    "[Вернуться к оглавлению](#title)"
   ]
  },
  {
   "cell_type": "markdown",
   "metadata": {},
   "source": [
    "<a id=\"final_step\"></a>"
   ]
  },
  {
   "cell_type": "markdown",
   "metadata": {},
   "source": [
    "## Итоговый вывод"
   ]
  },
  {
   "cell_type": "markdown",
   "metadata": {},
   "source": [
    "Итого по результатам исследования мы можем отметить следующее:\n",
    "- Разница в сценариях использования между тарифами не очень велика. Пользователи дорого тарифа Ультра пользуются им не потому что им нужны огромные возможности, в него заложенные, а потому что им не хватает того, что предоставляет Смарт. То есть Ультру берут скорее \"на вырост\".\n",
    "- Как уже было сказано, Смарта клиентам не хватает и они часто доплачивают - в основном за дополнительный интернет-трафик, так как именно он является \"узким местом\" в тарифе. \n",
    "- Клиенты Ультры в основном не переплачивают сверх абонентской платы, если делают это, то в основном также за интернет. \n",
    "- Несмотря на это, из-за почти 4-кратной разницы в базовой ежемесячной оплате Ультра приносит в среднем больше денег, чем Смарт. При этом разница эта статистически значимая. \n",
    "- Однако, важно отметить, что средняя абонентская плата от пользователей тарифа Смарт растет с каждым месяца, в то время как у Ультры она скорее стабильна. \n",
    "- Между регионами и столицей статистически значимая разница отсутствует. Возможно она может быть между пользователями тарифа Смарт.\n",
    "- В целом Ультра является более выгодным тарифом для Мегалайна, так как он приносит значимо больше денег, при этом не вызывая какой-то сильно большей нагрузки на сети. \n",
    "- Недостаточный объем интернет-трафика в тарифах - главная причина переплаты со стороны клиентов, с одной стороны это выгодно для оператора - может быть клиенты даже решат перейти на тариф Ультра. С другой, может быть клиенты решат вообще уйти к другому оператору. Однако, на данный вопрос в рамках этого исследования мы ответить не можем.\n",
    "- Также было выявлено два клиента, то есть 0,4% от выборки, которые отказали от услуг спустя несколько дней после регистрации, при этом услугами они не пользовались. Один был пользователем тарифа Смарт, другой - Ультра. "
   ]
  },
  {
   "cell_type": "markdown",
   "metadata": {},
   "source": [
    "[Вернуться к оглавлению](#title)"
   ]
  }
 ],
 "metadata": {
  "ExecuteTimeLog": [
   {
    "duration": 1087,
    "start_time": "2022-09-14T01:55:04.040Z"
   },
   {
    "duration": 3,
    "start_time": "2022-09-14T01:55:05.130Z"
   },
   {
    "duration": 857,
    "start_time": "2022-09-14T01:55:05.134Z"
   },
   {
    "duration": 64,
    "start_time": "2022-09-14T01:55:05.993Z"
   },
   {
    "duration": 30,
    "start_time": "2022-09-14T01:55:06.058Z"
   },
   {
    "duration": 38,
    "start_time": "2022-09-14T01:55:06.089Z"
   },
   {
    "duration": 41,
    "start_time": "2022-09-14T01:55:06.128Z"
   },
   {
    "duration": 135,
    "start_time": "2022-09-14T01:55:06.171Z"
   },
   {
    "duration": 31,
    "start_time": "2022-09-14T01:55:06.308Z"
   },
   {
    "duration": 7,
    "start_time": "2022-09-14T01:55:06.342Z"
   },
   {
    "duration": 22,
    "start_time": "2022-09-14T01:55:06.350Z"
   },
   {
    "duration": 14,
    "start_time": "2022-09-14T01:55:06.374Z"
   },
   {
    "duration": 29,
    "start_time": "2022-09-14T01:55:06.390Z"
   },
   {
    "duration": 7,
    "start_time": "2022-09-14T01:55:06.420Z"
   },
   {
    "duration": 33,
    "start_time": "2022-09-14T01:55:06.428Z"
   },
   {
    "duration": 26,
    "start_time": "2022-09-14T01:55:06.462Z"
   },
   {
    "duration": 26,
    "start_time": "2022-09-14T01:55:06.490Z"
   },
   {
    "duration": 21,
    "start_time": "2022-09-14T01:55:06.517Z"
   },
   {
    "duration": 28,
    "start_time": "2022-09-14T01:55:06.540Z"
   },
   {
    "duration": 16,
    "start_time": "2022-09-14T01:55:06.570Z"
   },
   {
    "duration": 12,
    "start_time": "2022-09-14T01:55:06.588Z"
   },
   {
    "duration": 24,
    "start_time": "2022-09-14T01:55:06.601Z"
   },
   {
    "duration": 26,
    "start_time": "2022-09-14T01:55:06.626Z"
   },
   {
    "duration": 13,
    "start_time": "2022-09-14T01:55:06.654Z"
   },
   {
    "duration": 11,
    "start_time": "2022-09-14T01:55:06.668Z"
   },
   {
    "duration": 9,
    "start_time": "2022-09-14T01:55:06.680Z"
   },
   {
    "duration": 12,
    "start_time": "2022-09-14T01:55:06.691Z"
   },
   {
    "duration": 9,
    "start_time": "2022-09-14T01:55:06.707Z"
   },
   {
    "duration": 7,
    "start_time": "2022-09-14T01:55:06.718Z"
   },
   {
    "duration": 63,
    "start_time": "2022-09-14T01:55:06.726Z"
   },
   {
    "duration": 33,
    "start_time": "2022-09-14T01:55:06.791Z"
   },
   {
    "duration": 20,
    "start_time": "2022-09-14T01:55:06.826Z"
   },
   {
    "duration": 12,
    "start_time": "2022-09-14T01:55:06.848Z"
   },
   {
    "duration": 102,
    "start_time": "2022-09-14T01:55:06.862Z"
   },
   {
    "duration": 31,
    "start_time": "2022-09-14T01:55:06.965Z"
   },
   {
    "duration": 43,
    "start_time": "2022-09-14T01:55:06.997Z"
   },
   {
    "duration": 6,
    "start_time": "2022-09-14T01:55:07.041Z"
   },
   {
    "duration": 9,
    "start_time": "2022-09-14T01:55:07.048Z"
   },
   {
    "duration": 212,
    "start_time": "2022-09-14T01:55:07.058Z"
   },
   {
    "duration": 139,
    "start_time": "2022-09-14T01:55:07.272Z"
   },
   {
    "duration": 10,
    "start_time": "2022-09-14T01:55:07.412Z"
   },
   {
    "duration": 29,
    "start_time": "2022-09-14T01:55:07.423Z"
   },
   {
    "duration": 6,
    "start_time": "2022-09-14T01:55:07.454Z"
   },
   {
    "duration": 8,
    "start_time": "2022-09-14T01:55:07.461Z"
   },
   {
    "duration": 52,
    "start_time": "2022-09-14T01:55:07.470Z"
   },
   {
    "duration": 14,
    "start_time": "2022-09-14T01:55:07.523Z"
   },
   {
    "duration": 111,
    "start_time": "2022-09-14T01:55:07.538Z"
   },
   {
    "duration": 60,
    "start_time": "2022-09-14T01:55:07.651Z"
   },
   {
    "duration": 15,
    "start_time": "2022-09-14T01:55:07.713Z"
   },
   {
    "duration": 5,
    "start_time": "2022-09-14T01:55:07.729Z"
   },
   {
    "duration": 5,
    "start_time": "2022-09-14T01:55:07.735Z"
   },
   {
    "duration": 11,
    "start_time": "2022-09-14T01:55:07.741Z"
   },
   {
    "duration": 12,
    "start_time": "2022-09-14T01:55:07.754Z"
   },
   {
    "duration": 5,
    "start_time": "2022-09-14T01:55:07.768Z"
   },
   {
    "duration": 51,
    "start_time": "2022-09-14T01:55:07.774Z"
   },
   {
    "duration": 29,
    "start_time": "2022-09-14T01:55:07.827Z"
   },
   {
    "duration": 27,
    "start_time": "2022-09-14T01:55:07.858Z"
   },
   {
    "duration": 23,
    "start_time": "2022-09-14T01:55:07.887Z"
   },
   {
    "duration": 4,
    "start_time": "2022-09-14T01:55:07.912Z"
   },
   {
    "duration": 11,
    "start_time": "2022-09-14T01:55:07.918Z"
   },
   {
    "duration": 3,
    "start_time": "2022-09-14T01:55:07.931Z"
   },
   {
    "duration": 27,
    "start_time": "2022-09-14T01:55:07.936Z"
   },
   {
    "duration": 46,
    "start_time": "2022-09-14T01:55:07.964Z"
   },
   {
    "duration": 2,
    "start_time": "2022-09-14T01:55:08.012Z"
   },
   {
    "duration": 5,
    "start_time": "2022-09-14T01:55:08.016Z"
   },
   {
    "duration": 97,
    "start_time": "2022-09-14T01:55:08.022Z"
   },
   {
    "duration": 69,
    "start_time": "2022-09-14T01:55:08.121Z"
   },
   {
    "duration": 28,
    "start_time": "2022-09-14T01:55:08.192Z"
   },
   {
    "duration": 24,
    "start_time": "2022-09-14T01:55:08.221Z"
   },
   {
    "duration": 22,
    "start_time": "2022-09-14T01:55:08.247Z"
   },
   {
    "duration": 47,
    "start_time": "2022-09-14T01:55:08.271Z"
   },
   {
    "duration": 3,
    "start_time": "2022-09-14T01:55:08.319Z"
   },
   {
    "duration": 7,
    "start_time": "2022-09-14T01:55:08.324Z"
   },
   {
    "duration": 10,
    "start_time": "2022-09-14T01:55:08.332Z"
   },
   {
    "duration": 5,
    "start_time": "2022-09-14T01:55:08.343Z"
   },
   {
    "duration": 24,
    "start_time": "2022-09-14T01:55:08.350Z"
   },
   {
    "duration": 3,
    "start_time": "2022-09-14T01:55:08.375Z"
   },
   {
    "duration": 7,
    "start_time": "2022-09-14T01:55:08.379Z"
   },
   {
    "duration": 29,
    "start_time": "2022-09-14T01:55:08.387Z"
   },
   {
    "duration": 3,
    "start_time": "2022-09-14T01:55:08.417Z"
   },
   {
    "duration": 5,
    "start_time": "2022-09-14T01:55:08.422Z"
   },
   {
    "duration": 33,
    "start_time": "2022-09-14T01:55:08.433Z"
   },
   {
    "duration": 102,
    "start_time": "2022-09-14T01:55:08.468Z"
   },
   {
    "duration": 46,
    "start_time": "2022-09-14T01:55:08.572Z"
   },
   {
    "duration": 91,
    "start_time": "2022-09-14T01:55:08.620Z"
   },
   {
    "duration": 32,
    "start_time": "2022-09-14T01:55:08.712Z"
   },
   {
    "duration": 92,
    "start_time": "2022-09-14T01:55:08.745Z"
   },
   {
    "duration": 13,
    "start_time": "2022-09-14T01:55:08.838Z"
   },
   {
    "duration": 15,
    "start_time": "2022-09-14T01:55:08.852Z"
   },
   {
    "duration": 7,
    "start_time": "2022-09-14T01:55:08.868Z"
   },
   {
    "duration": 48,
    "start_time": "2022-09-14T01:55:08.876Z"
   },
   {
    "duration": 15,
    "start_time": "2022-09-14T01:55:08.926Z"
   },
   {
    "duration": 168,
    "start_time": "2022-09-14T01:55:08.942Z"
   },
   {
    "duration": 219,
    "start_time": "2022-09-14T01:55:09.112Z"
   },
   {
    "duration": 4,
    "start_time": "2022-09-14T01:55:09.333Z"
   },
   {
    "duration": 89,
    "start_time": "2022-09-14T01:55:09.338Z"
   },
   {
    "duration": 19,
    "start_time": "2022-09-14T01:55:09.429Z"
   },
   {
    "duration": 6,
    "start_time": "2022-09-14T01:55:09.449Z"
   },
   {
    "duration": 365,
    "start_time": "2022-09-14T01:55:09.456Z"
   },
   {
    "duration": 5,
    "start_time": "2022-09-14T01:55:09.823Z"
   },
   {
    "duration": 28,
    "start_time": "2022-09-14T01:55:09.829Z"
   },
   {
    "duration": 249,
    "start_time": "2022-09-14T01:55:09.859Z"
   },
   {
    "duration": 0,
    "start_time": "2022-09-14T01:55:10.109Z"
   },
   {
    "duration": 0,
    "start_time": "2022-09-14T01:55:10.110Z"
   },
   {
    "duration": 0,
    "start_time": "2022-09-14T01:55:10.111Z"
   },
   {
    "duration": 0,
    "start_time": "2022-09-14T01:55:10.112Z"
   },
   {
    "duration": 0,
    "start_time": "2022-09-14T01:55:10.113Z"
   },
   {
    "duration": 0,
    "start_time": "2022-09-14T01:55:10.113Z"
   },
   {
    "duration": 0,
    "start_time": "2022-09-14T01:55:10.114Z"
   },
   {
    "duration": 0,
    "start_time": "2022-09-14T01:55:10.115Z"
   },
   {
    "duration": 0,
    "start_time": "2022-09-14T01:55:10.116Z"
   },
   {
    "duration": 0,
    "start_time": "2022-09-14T01:55:10.116Z"
   },
   {
    "duration": 0,
    "start_time": "2022-09-14T01:55:10.117Z"
   },
   {
    "duration": 0,
    "start_time": "2022-09-14T01:55:10.118Z"
   },
   {
    "duration": 0,
    "start_time": "2022-09-14T01:55:10.118Z"
   },
   {
    "duration": 0,
    "start_time": "2022-09-14T01:55:10.119Z"
   },
   {
    "duration": 0,
    "start_time": "2022-09-14T01:55:10.120Z"
   },
   {
    "duration": 0,
    "start_time": "2022-09-14T01:55:10.121Z"
   },
   {
    "duration": 0,
    "start_time": "2022-09-14T01:55:10.122Z"
   },
   {
    "duration": 0,
    "start_time": "2022-09-14T01:55:10.122Z"
   },
   {
    "duration": 0,
    "start_time": "2022-09-14T01:55:10.123Z"
   },
   {
    "duration": 0,
    "start_time": "2022-09-14T01:55:10.124Z"
   },
   {
    "duration": 0,
    "start_time": "2022-09-14T01:55:10.125Z"
   },
   {
    "duration": 1436,
    "start_time": "2022-09-15T01:35:02.110Z"
   },
   {
    "duration": 3,
    "start_time": "2022-09-15T01:35:03.548Z"
   },
   {
    "duration": 1005,
    "start_time": "2022-09-15T01:35:03.553Z"
   },
   {
    "duration": 64,
    "start_time": "2022-09-15T01:35:04.560Z"
   },
   {
    "duration": 40,
    "start_time": "2022-09-15T01:35:04.625Z"
   },
   {
    "duration": 52,
    "start_time": "2022-09-15T01:35:04.668Z"
   },
   {
    "duration": 8,
    "start_time": "2022-09-15T01:35:04.722Z"
   },
   {
    "duration": 36,
    "start_time": "2022-09-15T01:35:04.732Z"
   },
   {
    "duration": 17,
    "start_time": "2022-09-15T01:35:04.769Z"
   },
   {
    "duration": 29,
    "start_time": "2022-09-15T01:35:04.789Z"
   },
   {
    "duration": 21,
    "start_time": "2022-09-15T01:35:04.819Z"
   },
   {
    "duration": 8,
    "start_time": "2022-09-15T01:35:04.842Z"
   },
   {
    "duration": 26,
    "start_time": "2022-09-15T01:35:04.852Z"
   },
   {
    "duration": 7,
    "start_time": "2022-09-15T01:35:04.880Z"
   },
   {
    "duration": 37,
    "start_time": "2022-09-15T01:35:04.889Z"
   },
   {
    "duration": 8,
    "start_time": "2022-09-15T01:35:04.928Z"
   },
   {
    "duration": 18,
    "start_time": "2022-09-15T01:35:04.938Z"
   },
   {
    "duration": 6,
    "start_time": "2022-09-15T01:35:04.958Z"
   },
   {
    "duration": 20,
    "start_time": "2022-09-15T01:35:04.966Z"
   },
   {
    "duration": 42,
    "start_time": "2022-09-15T01:35:04.988Z"
   },
   {
    "duration": 8,
    "start_time": "2022-09-15T01:35:05.033Z"
   },
   {
    "duration": 14,
    "start_time": "2022-09-15T01:35:05.044Z"
   },
   {
    "duration": 20,
    "start_time": "2022-09-15T01:35:05.060Z"
   },
   {
    "duration": 13,
    "start_time": "2022-09-15T01:35:05.081Z"
   },
   {
    "duration": 23,
    "start_time": "2022-09-15T01:35:05.096Z"
   },
   {
    "duration": 7,
    "start_time": "2022-09-15T01:35:05.120Z"
   },
   {
    "duration": 16,
    "start_time": "2022-09-15T01:35:05.128Z"
   },
   {
    "duration": 11,
    "start_time": "2022-09-15T01:35:05.149Z"
   },
   {
    "duration": 4,
    "start_time": "2022-09-15T01:35:05.162Z"
   },
   {
    "duration": 91,
    "start_time": "2022-09-15T01:35:05.167Z"
   },
   {
    "duration": 23,
    "start_time": "2022-09-15T01:35:05.260Z"
   },
   {
    "duration": 36,
    "start_time": "2022-09-15T01:35:05.284Z"
   },
   {
    "duration": 15,
    "start_time": "2022-09-15T01:35:05.321Z"
   },
   {
    "duration": 109,
    "start_time": "2022-09-15T01:35:05.338Z"
   },
   {
    "duration": 40,
    "start_time": "2022-09-15T01:35:05.448Z"
   },
   {
    "duration": 59,
    "start_time": "2022-09-15T01:35:05.489Z"
   },
   {
    "duration": 6,
    "start_time": "2022-09-15T01:35:05.550Z"
   },
   {
    "duration": 5,
    "start_time": "2022-09-15T01:35:05.558Z"
   },
   {
    "duration": 316,
    "start_time": "2022-09-15T01:35:05.565Z"
   },
   {
    "duration": 187,
    "start_time": "2022-09-15T01:35:05.883Z"
   },
   {
    "duration": 12,
    "start_time": "2022-09-15T01:35:06.071Z"
   },
   {
    "duration": 63,
    "start_time": "2022-09-15T01:35:06.085Z"
   },
   {
    "duration": 8,
    "start_time": "2022-09-15T01:35:06.150Z"
   },
   {
    "duration": 8,
    "start_time": "2022-09-15T01:35:06.159Z"
   },
   {
    "duration": 47,
    "start_time": "2022-09-15T01:35:06.169Z"
   },
   {
    "duration": 15,
    "start_time": "2022-09-15T01:35:06.218Z"
   },
   {
    "duration": 144,
    "start_time": "2022-09-15T01:35:06.235Z"
   },
   {
    "duration": 64,
    "start_time": "2022-09-15T01:35:06.381Z"
   },
   {
    "duration": 19,
    "start_time": "2022-09-15T01:35:06.447Z"
   },
   {
    "duration": 4,
    "start_time": "2022-09-15T01:35:06.468Z"
   },
   {
    "duration": 23,
    "start_time": "2022-09-15T01:35:06.516Z"
   },
   {
    "duration": 40,
    "start_time": "2022-09-15T01:35:06.541Z"
   },
   {
    "duration": 3,
    "start_time": "2022-09-15T01:35:06.583Z"
   },
   {
    "duration": 6,
    "start_time": "2022-09-15T01:35:06.588Z"
   },
   {
    "duration": 23,
    "start_time": "2022-09-15T01:35:06.595Z"
   },
   {
    "duration": 19,
    "start_time": "2022-09-15T01:35:06.620Z"
   },
   {
    "duration": 20,
    "start_time": "2022-09-15T01:35:06.641Z"
   },
   {
    "duration": 4,
    "start_time": "2022-09-15T01:35:06.663Z"
   },
   {
    "duration": 8,
    "start_time": "2022-09-15T01:35:06.668Z"
   },
   {
    "duration": 7,
    "start_time": "2022-09-15T01:35:06.677Z"
   },
   {
    "duration": 37,
    "start_time": "2022-09-15T01:35:06.686Z"
   },
   {
    "duration": 15,
    "start_time": "2022-09-15T01:35:06.725Z"
   },
   {
    "duration": 22,
    "start_time": "2022-09-15T01:35:06.742Z"
   },
   {
    "duration": 3,
    "start_time": "2022-09-15T01:35:06.766Z"
   },
   {
    "duration": 7,
    "start_time": "2022-09-15T01:35:06.771Z"
   },
   {
    "duration": 6,
    "start_time": "2022-09-15T01:35:06.780Z"
   },
   {
    "duration": 40,
    "start_time": "2022-09-15T01:35:06.788Z"
   },
   {
    "duration": 3,
    "start_time": "2022-09-15T01:35:06.830Z"
   },
   {
    "duration": 15,
    "start_time": "2022-09-15T01:35:06.835Z"
   },
   {
    "duration": 6,
    "start_time": "2022-09-15T01:35:06.851Z"
   },
   {
    "duration": 31,
    "start_time": "2022-09-15T01:35:06.858Z"
   },
   {
    "duration": 31,
    "start_time": "2022-09-15T01:35:06.891Z"
   },
   {
    "duration": 13,
    "start_time": "2022-09-15T01:35:06.924Z"
   },
   {
    "duration": 14,
    "start_time": "2022-09-15T01:35:06.939Z"
   },
   {
    "duration": 17,
    "start_time": "2022-09-15T01:35:06.954Z"
   },
   {
    "duration": 13,
    "start_time": "2022-09-15T01:35:06.972Z"
   },
   {
    "duration": 4,
    "start_time": "2022-09-15T01:35:06.986Z"
   },
   {
    "duration": 42,
    "start_time": "2022-09-15T01:35:06.992Z"
   },
   {
    "duration": 15,
    "start_time": "2022-09-15T01:35:07.036Z"
   },
   {
    "duration": 5,
    "start_time": "2022-09-15T01:35:07.053Z"
   },
   {
    "duration": 6,
    "start_time": "2022-09-15T01:35:07.060Z"
   },
   {
    "duration": 11,
    "start_time": "2022-09-15T01:35:07.071Z"
   },
   {
    "duration": 35,
    "start_time": "2022-09-15T01:35:07.083Z"
   },
   {
    "duration": 11,
    "start_time": "2022-09-15T01:35:07.120Z"
   },
   {
    "duration": 5,
    "start_time": "2022-09-15T01:35:07.133Z"
   },
   {
    "duration": 34,
    "start_time": "2022-09-15T01:35:07.139Z"
   },
   {
    "duration": 51,
    "start_time": "2022-09-15T01:35:07.175Z"
   },
   {
    "duration": 44,
    "start_time": "2022-09-15T01:35:07.228Z"
   },
   {
    "duration": 305,
    "start_time": "2022-09-15T01:35:07.274Z"
   },
   {
    "duration": 185,
    "start_time": "2022-09-15T01:35:07.581Z"
   },
   {
    "duration": 4,
    "start_time": "2022-09-15T01:35:07.768Z"
   },
   {
    "duration": 13,
    "start_time": "2022-09-15T01:35:07.774Z"
   },
   {
    "duration": 7,
    "start_time": "2022-09-15T01:35:07.789Z"
   },
   {
    "duration": 11,
    "start_time": "2022-09-15T01:35:07.797Z"
   },
   {
    "duration": 1459,
    "start_time": "2022-09-15T01:35:07.817Z"
   },
   {
    "duration": 334,
    "start_time": "2022-09-15T01:35:09.278Z"
   },
   {
    "duration": 364,
    "start_time": "2022-09-15T01:35:09.613Z"
   },
   {
    "duration": 330,
    "start_time": "2022-09-15T01:35:09.978Z"
   },
   {
    "duration": 33,
    "start_time": "2022-09-15T01:35:10.310Z"
   },
   {
    "duration": 4,
    "start_time": "2022-09-15T01:35:10.344Z"
   },
   {
    "duration": 28,
    "start_time": "2022-09-15T01:35:10.350Z"
   },
   {
    "duration": 4,
    "start_time": "2022-09-15T01:35:10.380Z"
   },
   {
    "duration": 34,
    "start_time": "2022-09-15T01:35:10.385Z"
   },
   {
    "duration": 12,
    "start_time": "2022-09-15T01:35:10.421Z"
   },
   {
    "duration": 301,
    "start_time": "2022-09-15T01:35:10.435Z"
   },
   {
    "duration": 12,
    "start_time": "2022-09-15T01:35:10.737Z"
   },
   {
    "duration": 307,
    "start_time": "2022-09-15T01:35:10.750Z"
   },
   {
    "duration": 12,
    "start_time": "2022-09-15T01:35:11.058Z"
   },
   {
    "duration": 310,
    "start_time": "2022-09-15T01:35:11.072Z"
   },
   {
    "duration": 1168,
    "start_time": "2022-09-15T15:12:34.135Z"
   },
   {
    "duration": 5,
    "start_time": "2022-09-15T15:12:35.304Z"
   },
   {
    "duration": 975,
    "start_time": "2022-09-15T15:12:35.310Z"
   },
   {
    "duration": 65,
    "start_time": "2022-09-15T15:12:36.287Z"
   },
   {
    "duration": 30,
    "start_time": "2022-09-15T15:12:36.353Z"
   },
   {
    "duration": 41,
    "start_time": "2022-09-15T15:12:36.385Z"
   },
   {
    "duration": 7,
    "start_time": "2022-09-15T15:12:36.428Z"
   },
   {
    "duration": 32,
    "start_time": "2022-09-15T15:12:36.437Z"
   },
   {
    "duration": 16,
    "start_time": "2022-09-15T15:12:36.471Z"
   },
   {
    "duration": 9,
    "start_time": "2022-09-15T15:12:36.510Z"
   },
   {
    "duration": 20,
    "start_time": "2022-09-15T15:12:36.521Z"
   },
   {
    "duration": 9,
    "start_time": "2022-09-15T15:12:36.543Z"
   },
   {
    "duration": 23,
    "start_time": "2022-09-15T15:12:36.554Z"
   },
   {
    "duration": 6,
    "start_time": "2022-09-15T15:12:36.579Z"
   },
   {
    "duration": 15,
    "start_time": "2022-09-15T15:12:36.609Z"
   },
   {
    "duration": 7,
    "start_time": "2022-09-15T15:12:36.625Z"
   },
   {
    "duration": 20,
    "start_time": "2022-09-15T15:12:36.633Z"
   },
   {
    "duration": 6,
    "start_time": "2022-09-15T15:12:36.654Z"
   },
   {
    "duration": 25,
    "start_time": "2022-09-15T15:12:36.661Z"
   },
   {
    "duration": 31,
    "start_time": "2022-09-15T15:12:36.688Z"
   },
   {
    "duration": 6,
    "start_time": "2022-09-15T15:12:36.721Z"
   },
   {
    "duration": 11,
    "start_time": "2022-09-15T15:12:36.728Z"
   },
   {
    "duration": 10,
    "start_time": "2022-09-15T15:12:36.740Z"
   },
   {
    "duration": 8,
    "start_time": "2022-09-15T15:12:36.751Z"
   },
   {
    "duration": 5,
    "start_time": "2022-09-15T15:12:36.761Z"
   },
   {
    "duration": 5,
    "start_time": "2022-09-15T15:12:36.768Z"
   },
   {
    "duration": 14,
    "start_time": "2022-09-15T15:12:36.774Z"
   },
   {
    "duration": 10,
    "start_time": "2022-09-15T15:12:36.809Z"
   },
   {
    "duration": 4,
    "start_time": "2022-09-15T15:12:36.820Z"
   },
   {
    "duration": 63,
    "start_time": "2022-09-15T15:12:36.826Z"
   },
   {
    "duration": 37,
    "start_time": "2022-09-15T15:12:36.890Z"
   },
   {
    "duration": 19,
    "start_time": "2022-09-15T15:12:36.928Z"
   },
   {
    "duration": 12,
    "start_time": "2022-09-15T15:12:36.949Z"
   },
   {
    "duration": 97,
    "start_time": "2022-09-15T15:12:36.963Z"
   },
   {
    "duration": 29,
    "start_time": "2022-09-15T15:12:37.062Z"
   },
   {
    "duration": 41,
    "start_time": "2022-09-15T15:12:37.093Z"
   },
   {
    "duration": 6,
    "start_time": "2022-09-15T15:12:37.135Z"
   },
   {
    "duration": 5,
    "start_time": "2022-09-15T15:12:37.142Z"
   },
   {
    "duration": 237,
    "start_time": "2022-09-15T15:12:37.148Z"
   },
   {
    "duration": 138,
    "start_time": "2022-09-15T15:12:37.386Z"
   },
   {
    "duration": 10,
    "start_time": "2022-09-15T15:12:37.525Z"
   },
   {
    "duration": 33,
    "start_time": "2022-09-15T15:12:37.536Z"
   },
   {
    "duration": 40,
    "start_time": "2022-09-15T15:12:37.570Z"
   },
   {
    "duration": 7,
    "start_time": "2022-09-15T15:12:37.611Z"
   },
   {
    "duration": 13,
    "start_time": "2022-09-15T15:12:37.619Z"
   },
   {
    "duration": 13,
    "start_time": "2022-09-15T15:12:37.634Z"
   },
   {
    "duration": 109,
    "start_time": "2022-09-15T15:12:37.648Z"
   },
   {
    "duration": 57,
    "start_time": "2022-09-15T15:12:37.759Z"
   },
   {
    "duration": 15,
    "start_time": "2022-09-15T15:12:37.818Z"
   },
   {
    "duration": 5,
    "start_time": "2022-09-15T15:12:37.834Z"
   },
   {
    "duration": 14,
    "start_time": "2022-09-15T15:12:37.841Z"
   },
   {
    "duration": 70,
    "start_time": "2022-09-15T15:12:37.857Z"
   },
   {
    "duration": 5,
    "start_time": "2022-09-15T15:12:37.929Z"
   },
   {
    "duration": 5,
    "start_time": "2022-09-15T15:12:37.935Z"
   },
   {
    "duration": 4,
    "start_time": "2022-09-15T15:12:37.942Z"
   },
   {
    "duration": 11,
    "start_time": "2022-09-15T15:12:37.947Z"
   },
   {
    "duration": 17,
    "start_time": "2022-09-15T15:12:37.960Z"
   },
   {
    "duration": 32,
    "start_time": "2022-09-15T15:12:37.979Z"
   },
   {
    "duration": 5,
    "start_time": "2022-09-15T15:12:38.013Z"
   },
   {
    "duration": 5,
    "start_time": "2022-09-15T15:12:38.020Z"
   },
   {
    "duration": 14,
    "start_time": "2022-09-15T15:12:38.026Z"
   },
   {
    "duration": 13,
    "start_time": "2022-09-15T15:12:38.042Z"
   },
   {
    "duration": 20,
    "start_time": "2022-09-15T15:12:38.056Z"
   },
   {
    "duration": 3,
    "start_time": "2022-09-15T15:12:38.078Z"
   },
   {
    "duration": 27,
    "start_time": "2022-09-15T15:12:38.082Z"
   },
   {
    "duration": 7,
    "start_time": "2022-09-15T15:12:38.110Z"
   },
   {
    "duration": 16,
    "start_time": "2022-09-15T15:12:38.118Z"
   },
   {
    "duration": 2,
    "start_time": "2022-09-15T15:12:38.135Z"
   },
   {
    "duration": 14,
    "start_time": "2022-09-15T15:12:38.139Z"
   },
   {
    "duration": 4,
    "start_time": "2022-09-15T15:12:38.155Z"
   },
   {
    "duration": 20,
    "start_time": "2022-09-15T15:12:38.160Z"
   },
   {
    "duration": 33,
    "start_time": "2022-09-15T15:12:38.182Z"
   },
   {
    "duration": 12,
    "start_time": "2022-09-15T15:12:38.216Z"
   },
   {
    "duration": 12,
    "start_time": "2022-09-15T15:12:38.230Z"
   },
   {
    "duration": 12,
    "start_time": "2022-09-15T15:12:38.244Z"
   },
   {
    "duration": 6,
    "start_time": "2022-09-15T15:12:38.258Z"
   },
   {
    "duration": 4,
    "start_time": "2022-09-15T15:12:38.265Z"
   },
   {
    "duration": 51,
    "start_time": "2022-09-15T15:12:38.271Z"
   },
   {
    "duration": 14,
    "start_time": "2022-09-15T15:12:38.324Z"
   },
   {
    "duration": 6,
    "start_time": "2022-09-15T15:12:38.340Z"
   },
   {
    "duration": 5,
    "start_time": "2022-09-15T15:12:38.348Z"
   },
   {
    "duration": 10,
    "start_time": "2022-09-15T15:12:38.358Z"
   },
   {
    "duration": 41,
    "start_time": "2022-09-15T15:12:38.370Z"
   },
   {
    "duration": 10,
    "start_time": "2022-09-15T15:12:38.412Z"
   },
   {
    "duration": 4,
    "start_time": "2022-09-15T15:12:38.423Z"
   },
   {
    "duration": 29,
    "start_time": "2022-09-15T15:12:38.428Z"
   },
   {
    "duration": 23,
    "start_time": "2022-09-15T15:12:38.458Z"
   },
   {
    "duration": 50,
    "start_time": "2022-09-15T15:12:38.482Z"
   },
   {
    "duration": 269,
    "start_time": "2022-09-15T15:12:38.533Z"
   },
   {
    "duration": 149,
    "start_time": "2022-09-15T15:12:38.804Z"
   },
   {
    "duration": 4,
    "start_time": "2022-09-15T15:12:38.955Z"
   },
   {
    "duration": 7,
    "start_time": "2022-09-15T15:12:38.960Z"
   },
   {
    "duration": 6,
    "start_time": "2022-09-15T15:12:38.969Z"
   },
   {
    "duration": 8,
    "start_time": "2022-09-15T15:12:38.976Z"
   },
   {
    "duration": 1278,
    "start_time": "2022-09-15T15:12:38.985Z"
   },
   {
    "duration": 282,
    "start_time": "2022-09-15T15:12:40.265Z"
   },
   {
    "duration": 310,
    "start_time": "2022-09-15T15:12:40.549Z"
   },
   {
    "duration": 279,
    "start_time": "2022-09-15T15:12:40.861Z"
   },
   {
    "duration": 23,
    "start_time": "2022-09-15T15:12:41.142Z"
   },
   {
    "duration": 6,
    "start_time": "2022-09-15T15:12:41.167Z"
   },
   {
    "duration": 34,
    "start_time": "2022-09-15T15:12:41.175Z"
   },
   {
    "duration": 3,
    "start_time": "2022-09-15T15:12:41.211Z"
   },
   {
    "duration": 12,
    "start_time": "2022-09-15T15:12:41.216Z"
   },
   {
    "duration": 10,
    "start_time": "2022-09-15T15:12:41.230Z"
   },
   {
    "duration": 277,
    "start_time": "2022-09-15T15:12:41.241Z"
   },
   {
    "duration": 10,
    "start_time": "2022-09-15T15:12:41.519Z"
   },
   {
    "duration": 281,
    "start_time": "2022-09-15T15:12:41.531Z"
   },
   {
    "duration": 11,
    "start_time": "2022-09-15T15:12:41.813Z"
   },
   {
    "duration": 270,
    "start_time": "2022-09-15T15:12:41.825Z"
   },
   {
    "duration": 1277,
    "start_time": "2022-09-15T20:17:32.996Z"
   },
   {
    "duration": 3,
    "start_time": "2022-09-15T20:17:34.275Z"
   },
   {
    "duration": 1464,
    "start_time": "2022-09-15T20:17:34.279Z"
   },
   {
    "duration": 70,
    "start_time": "2022-09-15T20:17:35.745Z"
   },
   {
    "duration": 36,
    "start_time": "2022-09-15T20:17:35.816Z"
   },
   {
    "duration": 51,
    "start_time": "2022-09-15T20:17:35.853Z"
   },
   {
    "duration": 8,
    "start_time": "2022-09-15T20:17:35.906Z"
   },
   {
    "duration": 45,
    "start_time": "2022-09-15T20:17:35.916Z"
   },
   {
    "duration": 25,
    "start_time": "2022-09-15T20:17:35.978Z"
   },
   {
    "duration": 11,
    "start_time": "2022-09-15T20:17:36.007Z"
   },
   {
    "duration": 26,
    "start_time": "2022-09-15T20:17:36.020Z"
   },
   {
    "duration": 7,
    "start_time": "2022-09-15T20:17:36.048Z"
   },
   {
    "duration": 52,
    "start_time": "2022-09-15T20:17:36.057Z"
   },
   {
    "duration": 7,
    "start_time": "2022-09-15T20:17:36.111Z"
   },
   {
    "duration": 22,
    "start_time": "2022-09-15T20:17:36.120Z"
   },
   {
    "duration": 11,
    "start_time": "2022-09-15T20:17:36.144Z"
   },
   {
    "duration": 17,
    "start_time": "2022-09-15T20:17:36.178Z"
   },
   {
    "duration": 17,
    "start_time": "2022-09-15T20:17:36.196Z"
   },
   {
    "duration": 32,
    "start_time": "2022-09-15T20:17:36.215Z"
   },
   {
    "duration": 29,
    "start_time": "2022-09-15T20:17:36.248Z"
   },
   {
    "duration": 9,
    "start_time": "2022-09-15T20:17:36.279Z"
   },
   {
    "duration": 12,
    "start_time": "2022-09-15T20:17:36.289Z"
   },
   {
    "duration": 21,
    "start_time": "2022-09-15T20:17:36.302Z"
   },
   {
    "duration": 6,
    "start_time": "2022-09-15T20:17:36.324Z"
   },
   {
    "duration": 6,
    "start_time": "2022-09-15T20:17:36.331Z"
   },
   {
    "duration": 6,
    "start_time": "2022-09-15T20:17:36.338Z"
   },
   {
    "duration": 33,
    "start_time": "2022-09-15T20:17:36.345Z"
   },
   {
    "duration": 10,
    "start_time": "2022-09-15T20:17:36.382Z"
   },
   {
    "duration": 7,
    "start_time": "2022-09-15T20:17:36.394Z"
   },
   {
    "duration": 87,
    "start_time": "2022-09-15T20:17:36.403Z"
   },
   {
    "duration": 26,
    "start_time": "2022-09-15T20:17:36.492Z"
   },
   {
    "duration": 19,
    "start_time": "2022-09-15T20:17:36.519Z"
   },
   {
    "duration": 14,
    "start_time": "2022-09-15T20:17:36.539Z"
   },
   {
    "duration": 108,
    "start_time": "2022-09-15T20:17:36.554Z"
   },
   {
    "duration": 55,
    "start_time": "2022-09-15T20:17:36.664Z"
   },
   {
    "duration": 36,
    "start_time": "2022-09-15T20:17:36.721Z"
   },
   {
    "duration": 22,
    "start_time": "2022-09-15T20:17:36.759Z"
   },
   {
    "duration": 4,
    "start_time": "2022-09-15T20:17:36.783Z"
   },
   {
    "duration": 291,
    "start_time": "2022-09-15T20:17:36.788Z"
   },
   {
    "duration": 151,
    "start_time": "2022-09-15T20:17:37.080Z"
   },
   {
    "duration": 13,
    "start_time": "2022-09-15T20:17:37.233Z"
   },
   {
    "duration": 59,
    "start_time": "2022-09-15T20:17:37.247Z"
   },
   {
    "duration": 7,
    "start_time": "2022-09-15T20:17:37.308Z"
   },
   {
    "duration": 7,
    "start_time": "2022-09-15T20:17:37.317Z"
   },
   {
    "duration": 15,
    "start_time": "2022-09-15T20:17:37.326Z"
   },
   {
    "duration": 15,
    "start_time": "2022-09-15T20:17:37.377Z"
   },
   {
    "duration": 126,
    "start_time": "2022-09-15T20:17:37.393Z"
   },
   {
    "duration": 69,
    "start_time": "2022-09-15T20:17:37.520Z"
   },
   {
    "duration": 17,
    "start_time": "2022-09-15T20:17:37.590Z"
   },
   {
    "duration": 10,
    "start_time": "2022-09-15T20:17:37.608Z"
   },
   {
    "duration": 25,
    "start_time": "2022-09-15T20:17:37.620Z"
   },
   {
    "duration": 65,
    "start_time": "2022-09-15T20:17:37.648Z"
   },
   {
    "duration": 5,
    "start_time": "2022-09-15T20:17:37.716Z"
   },
   {
    "duration": 8,
    "start_time": "2022-09-15T20:17:37.723Z"
   },
   {
    "duration": 8,
    "start_time": "2022-09-15T20:17:37.735Z"
   },
   {
    "duration": 32,
    "start_time": "2022-09-15T20:17:37.745Z"
   },
   {
    "duration": 24,
    "start_time": "2022-09-15T20:17:37.779Z"
   },
   {
    "duration": 4,
    "start_time": "2022-09-15T20:17:37.805Z"
   },
   {
    "duration": 17,
    "start_time": "2022-09-15T20:17:37.811Z"
   },
   {
    "duration": 16,
    "start_time": "2022-09-15T20:17:37.830Z"
   },
   {
    "duration": 47,
    "start_time": "2022-09-15T20:17:37.848Z"
   },
   {
    "duration": 26,
    "start_time": "2022-09-15T20:17:37.897Z"
   },
   {
    "duration": 24,
    "start_time": "2022-09-15T20:17:37.925Z"
   },
   {
    "duration": 7,
    "start_time": "2022-09-15T20:17:37.951Z"
   },
   {
    "duration": 18,
    "start_time": "2022-09-15T20:17:37.960Z"
   },
   {
    "duration": 14,
    "start_time": "2022-09-15T20:17:37.980Z"
   },
   {
    "duration": 23,
    "start_time": "2022-09-15T20:17:37.996Z"
   },
   {
    "duration": 3,
    "start_time": "2022-09-15T20:17:38.021Z"
   },
   {
    "duration": 13,
    "start_time": "2022-09-15T20:17:38.026Z"
   },
   {
    "duration": 6,
    "start_time": "2022-09-15T20:17:38.041Z"
   },
   {
    "duration": 38,
    "start_time": "2022-09-15T20:17:38.048Z"
   },
   {
    "duration": 19,
    "start_time": "2022-09-15T20:17:38.088Z"
   },
   {
    "duration": 13,
    "start_time": "2022-09-15T20:17:38.109Z"
   },
   {
    "duration": 15,
    "start_time": "2022-09-15T20:17:38.124Z"
   },
   {
    "duration": 41,
    "start_time": "2022-09-15T20:17:38.141Z"
   },
   {
    "duration": 9,
    "start_time": "2022-09-15T20:17:38.184Z"
   },
   {
    "duration": 6,
    "start_time": "2022-09-15T20:17:38.194Z"
   },
   {
    "duration": 30,
    "start_time": "2022-09-15T20:17:38.201Z"
   },
   {
    "duration": 16,
    "start_time": "2022-09-15T20:17:38.233Z"
   },
   {
    "duration": 30,
    "start_time": "2022-09-15T20:17:38.250Z"
   },
   {
    "duration": 6,
    "start_time": "2022-09-15T20:17:38.282Z"
   },
   {
    "duration": 12,
    "start_time": "2022-09-15T20:17:38.293Z"
   },
   {
    "duration": 12,
    "start_time": "2022-09-15T20:17:38.307Z"
   },
   {
    "duration": 12,
    "start_time": "2022-09-15T20:17:38.321Z"
   },
   {
    "duration": 4,
    "start_time": "2022-09-15T20:17:38.335Z"
   },
   {
    "duration": 44,
    "start_time": "2022-09-15T20:17:38.341Z"
   },
   {
    "duration": 32,
    "start_time": "2022-09-15T20:17:38.386Z"
   },
   {
    "duration": 58,
    "start_time": "2022-09-15T20:17:38.420Z"
   },
   {
    "duration": 47,
    "start_time": "2022-09-15T20:17:38.480Z"
   },
   {
    "duration": 298,
    "start_time": "2022-09-15T20:17:38.529Z"
   },
   {
    "duration": 171,
    "start_time": "2022-09-15T20:17:38.828Z"
   },
   {
    "duration": 4,
    "start_time": "2022-09-15T20:17:39.001Z"
   },
   {
    "duration": 16,
    "start_time": "2022-09-15T20:17:39.006Z"
   },
   {
    "duration": 5,
    "start_time": "2022-09-15T20:17:39.023Z"
   },
   {
    "duration": 8,
    "start_time": "2022-09-15T20:17:39.029Z"
   },
   {
    "duration": 1333,
    "start_time": "2022-09-15T20:17:39.038Z"
   },
   {
    "duration": 311,
    "start_time": "2022-09-15T20:17:40.373Z"
   },
   {
    "duration": 337,
    "start_time": "2022-09-15T20:17:40.685Z"
   },
   {
    "duration": 331,
    "start_time": "2022-09-15T20:17:41.024Z"
   },
   {
    "duration": 37,
    "start_time": "2022-09-15T20:17:41.357Z"
   },
   {
    "duration": 4,
    "start_time": "2022-09-15T20:17:41.395Z"
   },
   {
    "duration": 7,
    "start_time": "2022-09-15T20:17:41.401Z"
   },
   {
    "duration": 69,
    "start_time": "2022-09-15T20:17:41.409Z"
   },
   {
    "duration": 7,
    "start_time": "2022-09-15T20:17:41.480Z"
   },
   {
    "duration": 400,
    "start_time": "2022-09-15T20:17:41.489Z"
   },
   {
    "duration": 222,
    "start_time": "2022-09-15T20:17:41.890Z"
   },
   {
    "duration": 7,
    "start_time": "2022-09-15T20:17:42.113Z"
   },
   {
    "duration": 367,
    "start_time": "2022-09-15T20:17:42.122Z"
   },
   {
    "duration": 32,
    "start_time": "2022-09-15T20:17:42.490Z"
   },
   {
    "duration": 258,
    "start_time": "2022-09-15T20:17:42.524Z"
   },
   {
    "duration": 10,
    "start_time": "2022-09-15T20:17:42.784Z"
   },
   {
    "duration": 431,
    "start_time": "2022-09-15T20:17:42.796Z"
   }
  ],
  "kernelspec": {
   "display_name": "Python 3 (ipykernel)",
   "language": "python",
   "name": "python3"
  },
  "language_info": {
   "codemirror_mode": {
    "name": "ipython",
    "version": 3
   },
   "file_extension": ".py",
   "mimetype": "text/x-python",
   "name": "python",
   "nbconvert_exporter": "python",
   "pygments_lexer": "ipython3",
   "version": "3.9.13"
  },
  "toc": {
   "base_numbering": 1,
   "nav_menu": {},
   "number_sections": true,
   "sideBar": true,
   "skip_h1_title": true,
   "title_cell": "Table of Contents",
   "title_sidebar": "Contents",
   "toc_cell": false,
   "toc_position": {},
   "toc_section_display": true,
   "toc_window_display": true
  }
 },
 "nbformat": 4,
 "nbformat_minor": 4
}
