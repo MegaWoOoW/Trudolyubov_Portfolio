{
 "cells": [
  {
   "cell_type": "markdown",
   "metadata": {
    "tags": [
     "aa81075c-062f-4de0-b5fe-14c73dc7468e"
    ]
   },
   "source": [
    "# Анализ лояльности аудитории телекоммуникационной компании"
   ]
  },
  {
   "cell_type": "markdown",
   "metadata": {},
   "source": [
    "Данный проект представляет собой анализ результатов опроса, проводившегося телекоммуникационной компаний среди своих клиентов. \n",
    "Клиентам задавался следующий вопрос: «Оцените по шкале от 1 до 10 вероятность того, что вы порекомендуете компанию друзьям и знакомым».\n",
    "По его результатам высчитывался <b>NPS</b> (Net Promoter Score). <br><br>\n",
    "Также в базе данных представлена <b>следующая информация</b> о клиентах:\n",
    "- Количество \"дней жизни\" клиента.\n",
    "- Возраст.\n",
    "- Пол.\n",
    "- Тип операционной системы.\n",
    "- Тип устройства.\n",
    "- Страна проживания.\n",
    "- Город проживания.\n",
    "- Возрастной сегмент.\n",
    "- Сегмент по объёму потребляемого трафика.\n",
    "\n",
    "База данный представлена в SQLite.\n",
    "\n",
    "<b>Задачи исследования</b> - изучить распределение клиентов в рамках представленной выборки, сравнить NPS среди разных групп, составить портрет \"сторонника\" компании. <br><br>\n",
    "В рамках проекта был написан запрос, с локальной машины подгружена ДБ через `sqlalchemy`, далее ДБ выгружена в формате .csv и подгружена в Tableau, в котором уже создан дашборд, также подготовлена презентация с ключевыми результатами анализа. "
   ]
  },
  {
   "cell_type": "code",
   "execution_count": null,
   "metadata": {},
   "outputs": [],
   "source": [
    "import pandas as pd\n",
    "import numpy as np\n",
    "\n",
    "from sqlalchemy import create_engine"
   ]
  },
  {
   "cell_type": "code",
   "execution_count": 3,
   "metadata": {},
   "outputs": [],
   "source": [
    "path_to_db = 'telecomm_csi.db'\n",
    "engine = create_engine(f'sqlite:///{path_to_db}', echo = False)"
   ]
  },
  {
   "cell_type": "code",
   "execution_count": 4,
   "metadata": {},
   "outputs": [],
   "source": [
    "query = \"\"\"\n",
    "WITH \n",
    "u AS (SELECT *,\n",
    "        CASE \n",
    "            WHEN lt_day < 366 THEN 'новый'\n",
    "            ELSE 'старый'\n",
    "        END AS is_new,\n",
    "        CASE\n",
    "            WHEN nps_score BETWEEN 0 AND 6 THEN 'критик'\n",
    "            WHEN nps_score BETWEEN 7 AND 8 THEN 'нейтрал'\n",
    "            ELSE 'сторонник'\n",
    "        END AS nps_group,\n",
    "        CASE\n",
    "            WHEN gender_segment =1 THEN 'женский'\n",
    "            WHEN gender_segment =0 THEN 'мужской'\n",
    "            ELSE 'другой'\n",
    "        END AS gender_text\n",
    "    FROM user),\n",
    "    \n",
    "a AS (SELECT age_gr_id,\n",
    "                title\n",
    "            FROM age_segment),\n",
    "            \n",
    "t AS (SELECT tr_gr_id,\n",
    "                title\n",
    "            FROM traffic_segment),\n",
    "\n",
    "ls AS (SELECT lt_gr_id,\n",
    "                title\n",
    "            FROM lifetime_segment)\n",
    "\n",
    "SELECT u.user_id,\n",
    "    u.lt_day, \n",
    "    u.is_new,\n",
    "    u.age,\n",
    "    CAST (u.gender_text AS varchar) AS gender_segment,\n",
    "    u.os_name,\n",
    "    u.cpe_type_name,\n",
    "    location.country,\n",
    "    location.city,\n",
    "    a.title AS age_segment,\n",
    "    t.title AS traffic_segment,\n",
    "    u.nps_score,\n",
    "    u.nps_group,\n",
    "    ls.title AS lifetime_segment\n",
    "    \n",
    "\n",
    "FROM u\n",
    "    JOIN location ON location.location_id=u.location_id\n",
    "    JOIN a ON a.age_gr_id=u.age_gr_id\n",
    "    JOIN t ON t.tr_gr_id=u.tr_gr_id\n",
    "    JOIN ls ON ls.lt_gr_id=u.lt_gr_id\n",
    "\"\"\""
   ]
  },
  {
   "cell_type": "code",
   "execution_count": 9,
   "metadata": {},
   "outputs": [],
   "source": [
    "df = pd.read_sql(query, engine)"
   ]
  },
  {
   "cell_type": "code",
   "execution_count": 10,
   "metadata": {},
   "outputs": [],
   "source": [
    "def fast_review(df):\n",
    "    print ('Общий вид данных')\n",
    "    display(df.sample(10, random_state = 0))\n",
    "    print ('-------------------------')\n",
    "    print ('Общая информация о данных')\n",
    "    df.info()\n",
    "    print ('-------------------------')\n",
    "    print ('Количество дубликатов: {}'.format(df.duplicated().sum()))"
   ]
  },
  {
   "cell_type": "code",
   "execution_count": 11,
   "metadata": {
    "scrolled": false
   },
   "outputs": [
    {
     "name": "stdout",
     "output_type": "stream",
     "text": [
      "Общий вид данных\n"
     ]
    },
    {
     "data": {
      "text/html": [
       "<div>\n",
       "<style scoped>\n",
       "    .dataframe tbody tr th:only-of-type {\n",
       "        vertical-align: middle;\n",
       "    }\n",
       "\n",
       "    .dataframe tbody tr th {\n",
       "        vertical-align: top;\n",
       "    }\n",
       "\n",
       "    .dataframe thead th {\n",
       "        text-align: right;\n",
       "    }\n",
       "</style>\n",
       "<table border=\"1\" class=\"dataframe\">\n",
       "  <thead>\n",
       "    <tr style=\"text-align: right;\">\n",
       "      <th></th>\n",
       "      <th>user_id</th>\n",
       "      <th>lt_day</th>\n",
       "      <th>is_new</th>\n",
       "      <th>age</th>\n",
       "      <th>gender_segment</th>\n",
       "      <th>os_name</th>\n",
       "      <th>cpe_type_name</th>\n",
       "      <th>country</th>\n",
       "      <th>city</th>\n",
       "      <th>age_segment</th>\n",
       "      <th>traffic_segment</th>\n",
       "      <th>nps_score</th>\n",
       "      <th>nps_group</th>\n",
       "      <th>lifetime_segment</th>\n",
       "    </tr>\n",
       "  </thead>\n",
       "  <tbody>\n",
       "    <tr>\n",
       "      <th>120763</th>\n",
       "      <td>G81LF7</td>\n",
       "      <td>1214</td>\n",
       "      <td>старый</td>\n",
       "      <td>27.0</td>\n",
       "      <td>мужской</td>\n",
       "      <td>IOS</td>\n",
       "      <td>SMARTPHONE</td>\n",
       "      <td>Россия</td>\n",
       "      <td>Чебоксары</td>\n",
       "      <td>03 25-34</td>\n",
       "      <td>14 50-55</td>\n",
       "      <td>3</td>\n",
       "      <td>критик</td>\n",
       "      <td>08 36+</td>\n",
       "    </tr>\n",
       "    <tr>\n",
       "      <th>340551</th>\n",
       "      <td>RME1PC</td>\n",
       "      <td>567</td>\n",
       "      <td>старый</td>\n",
       "      <td>38.0</td>\n",
       "      <td>мужской</td>\n",
       "      <td>ANDROID</td>\n",
       "      <td>SMARTPHONE</td>\n",
       "      <td>Россия</td>\n",
       "      <td>Челябинск</td>\n",
       "      <td>04 35-44</td>\n",
       "      <td>05 5-10</td>\n",
       "      <td>10</td>\n",
       "      <td>сторонник</td>\n",
       "      <td>06 13-24</td>\n",
       "    </tr>\n",
       "    <tr>\n",
       "      <th>271310</th>\n",
       "      <td>O1AOB9</td>\n",
       "      <td>345</td>\n",
       "      <td>новый</td>\n",
       "      <td>43.0</td>\n",
       "      <td>женский</td>\n",
       "      <td>ANDROID</td>\n",
       "      <td>SMARTPHONE</td>\n",
       "      <td>Россия</td>\n",
       "      <td>Новосибирск</td>\n",
       "      <td>04 35-44</td>\n",
       "      <td>07 15-20</td>\n",
       "      <td>10</td>\n",
       "      <td>сторонник</td>\n",
       "      <td>05 7-12</td>\n",
       "    </tr>\n",
       "    <tr>\n",
       "      <th>213291</th>\n",
       "      <td>L0QOVV</td>\n",
       "      <td>4887</td>\n",
       "      <td>старый</td>\n",
       "      <td>30.0</td>\n",
       "      <td>женский</td>\n",
       "      <td>ANDROID</td>\n",
       "      <td>SMARTPHONE</td>\n",
       "      <td>Россия</td>\n",
       "      <td>РостовнаДону</td>\n",
       "      <td>03 25-34</td>\n",
       "      <td>05 5-10</td>\n",
       "      <td>6</td>\n",
       "      <td>критик</td>\n",
       "      <td>08 36+</td>\n",
       "    </tr>\n",
       "    <tr>\n",
       "      <th>218788</th>\n",
       "      <td>LAZRT8</td>\n",
       "      <td>1446</td>\n",
       "      <td>старый</td>\n",
       "      <td>35.0</td>\n",
       "      <td>мужской</td>\n",
       "      <td>ANDROID</td>\n",
       "      <td>SMARTPHONE</td>\n",
       "      <td>Россия</td>\n",
       "      <td>Омск</td>\n",
       "      <td>04 35-44</td>\n",
       "      <td>12 40-45</td>\n",
       "      <td>10</td>\n",
       "      <td>сторонник</td>\n",
       "      <td>08 36+</td>\n",
       "    </tr>\n",
       "    <tr>\n",
       "      <th>338923</th>\n",
       "      <td>RJCIY2</td>\n",
       "      <td>1031</td>\n",
       "      <td>старый</td>\n",
       "      <td>63.0</td>\n",
       "      <td>мужской</td>\n",
       "      <td>ANDROID</td>\n",
       "      <td>SMARTPHONE</td>\n",
       "      <td>Россия</td>\n",
       "      <td>СанктПетербург</td>\n",
       "      <td>06 55-64</td>\n",
       "      <td>03 0.1-1</td>\n",
       "      <td>1</td>\n",
       "      <td>критик</td>\n",
       "      <td>07 25-36</td>\n",
       "    </tr>\n",
       "    <tr>\n",
       "      <th>117204</th>\n",
       "      <td>G1CB8H</td>\n",
       "      <td>5595</td>\n",
       "      <td>старый</td>\n",
       "      <td>39.0</td>\n",
       "      <td>мужской</td>\n",
       "      <td>ANDROID</td>\n",
       "      <td>SMARTPHONE</td>\n",
       "      <td>Россия</td>\n",
       "      <td>Воронеж</td>\n",
       "      <td>04 35-44</td>\n",
       "      <td>11 35-40</td>\n",
       "      <td>5</td>\n",
       "      <td>критик</td>\n",
       "      <td>08 36+</td>\n",
       "    </tr>\n",
       "    <tr>\n",
       "      <th>373811</th>\n",
       "      <td>TC4TQG</td>\n",
       "      <td>1212</td>\n",
       "      <td>старый</td>\n",
       "      <td>31.0</td>\n",
       "      <td>мужской</td>\n",
       "      <td>ANDROID</td>\n",
       "      <td>SMARTPHONE</td>\n",
       "      <td>Россия</td>\n",
       "      <td>Ульяновск</td>\n",
       "      <td>03 25-34</td>\n",
       "      <td>04 1-5</td>\n",
       "      <td>10</td>\n",
       "      <td>сторонник</td>\n",
       "      <td>08 36+</td>\n",
       "    </tr>\n",
       "    <tr>\n",
       "      <th>57975</th>\n",
       "      <td>CZEMGS</td>\n",
       "      <td>2020</td>\n",
       "      <td>старый</td>\n",
       "      <td>35.0</td>\n",
       "      <td>мужской</td>\n",
       "      <td>ANDROID</td>\n",
       "      <td>SMARTPHONE</td>\n",
       "      <td>Россия</td>\n",
       "      <td>СанктПетербург</td>\n",
       "      <td>04 35-44</td>\n",
       "      <td>05 5-10</td>\n",
       "      <td>10</td>\n",
       "      <td>сторонник</td>\n",
       "      <td>08 36+</td>\n",
       "    </tr>\n",
       "    <tr>\n",
       "      <th>296922</th>\n",
       "      <td>PCXRY4</td>\n",
       "      <td>239</td>\n",
       "      <td>новый</td>\n",
       "      <td>26.0</td>\n",
       "      <td>мужской</td>\n",
       "      <td>ANDROID</td>\n",
       "      <td>SMARTPHONE</td>\n",
       "      <td>Россия</td>\n",
       "      <td>Курск</td>\n",
       "      <td>03 25-34</td>\n",
       "      <td>09 25-30</td>\n",
       "      <td>8</td>\n",
       "      <td>нейтрал</td>\n",
       "      <td>05 7-12</td>\n",
       "    </tr>\n",
       "  </tbody>\n",
       "</table>\n",
       "</div>"
      ],
      "text/plain": [
       "       user_id  lt_day  is_new   age gender_segment  os_name cpe_type_name  \\\n",
       "120763  G81LF7    1214  старый  27.0        мужской      IOS    SMARTPHONE   \n",
       "340551  RME1PC     567  старый  38.0        мужской  ANDROID    SMARTPHONE   \n",
       "271310  O1AOB9     345   новый  43.0        женский  ANDROID    SMARTPHONE   \n",
       "213291  L0QOVV    4887  старый  30.0        женский  ANDROID    SMARTPHONE   \n",
       "218788  LAZRT8    1446  старый  35.0        мужской  ANDROID    SMARTPHONE   \n",
       "338923  RJCIY2    1031  старый  63.0        мужской  ANDROID    SMARTPHONE   \n",
       "117204  G1CB8H    5595  старый  39.0        мужской  ANDROID    SMARTPHONE   \n",
       "373811  TC4TQG    1212  старый  31.0        мужской  ANDROID    SMARTPHONE   \n",
       "57975   CZEMGS    2020  старый  35.0        мужской  ANDROID    SMARTPHONE   \n",
       "296922  PCXRY4     239   новый  26.0        мужской  ANDROID    SMARTPHONE   \n",
       "\n",
       "       country            city age_segment traffic_segment  nps_score  \\\n",
       "120763  Россия       Чебоксары    03 25-34        14 50-55          3   \n",
       "340551  Россия       Челябинск    04 35-44         05 5-10         10   \n",
       "271310  Россия     Новосибирск    04 35-44        07 15-20         10   \n",
       "213291  Россия    РостовнаДону    03 25-34         05 5-10          6   \n",
       "218788  Россия            Омск    04 35-44        12 40-45         10   \n",
       "338923  Россия  СанктПетербург    06 55-64        03 0.1-1          1   \n",
       "117204  Россия         Воронеж    04 35-44        11 35-40          5   \n",
       "373811  Россия       Ульяновск    03 25-34          04 1-5         10   \n",
       "57975   Россия  СанктПетербург    04 35-44         05 5-10         10   \n",
       "296922  Россия           Курск    03 25-34        09 25-30          8   \n",
       "\n",
       "        nps_group lifetime_segment  \n",
       "120763     критик           08 36+  \n",
       "340551  сторонник         06 13-24  \n",
       "271310  сторонник          05 7-12  \n",
       "213291     критик           08 36+  \n",
       "218788  сторонник           08 36+  \n",
       "338923     критик         07 25-36  \n",
       "117204     критик           08 36+  \n",
       "373811  сторонник           08 36+  \n",
       "57975   сторонник           08 36+  \n",
       "296922    нейтрал          05 7-12  "
      ]
     },
     "metadata": {},
     "output_type": "display_data"
    },
    {
     "name": "stdout",
     "output_type": "stream",
     "text": [
      "-------------------------\n",
      "Общая информация о данных\n",
      "<class 'pandas.core.frame.DataFrame'>\n",
      "RangeIndex: 502493 entries, 0 to 502492\n",
      "Data columns (total 14 columns):\n",
      " #   Column            Non-Null Count   Dtype  \n",
      "---  ------            --------------   -----  \n",
      " 0   user_id           502493 non-null  object \n",
      " 1   lt_day            502493 non-null  int64  \n",
      " 2   is_new            502493 non-null  object \n",
      " 3   age               501939 non-null  float64\n",
      " 4   gender_segment    502493 non-null  object \n",
      " 5   os_name           502493 non-null  object \n",
      " 6   cpe_type_name     502493 non-null  object \n",
      " 7   country           502493 non-null  object \n",
      " 8   city              502493 non-null  object \n",
      " 9   age_segment       502493 non-null  object \n",
      " 10  traffic_segment   502493 non-null  object \n",
      " 11  nps_score         502493 non-null  int64  \n",
      " 12  nps_group         502493 non-null  object \n",
      " 13  lifetime_segment  502493 non-null  object \n",
      "dtypes: float64(1), int64(2), object(11)\n",
      "memory usage: 53.7+ MB\n",
      "-------------------------\n",
      "Количество дубликатов: 0\n"
     ]
    }
   ],
   "source": [
    "fast_review(df)"
   ]
  },
  {
   "cell_type": "markdown",
   "metadata": {},
   "source": [
    "Очевидные дубликаты отсутствуют, пропусков нет."
   ]
  },
  {
   "cell_type": "code",
   "execution_count": 7,
   "metadata": {},
   "outputs": [],
   "source": [
    "df.to_csv('telecomm_csi_tableau.csv', index=False)"
   ]
  },
  {
   "cell_type": "markdown",
   "metadata": {},
   "source": [
    "### Cсылка на дашборд на сайте Tableau Public:"
   ]
  },
  {
   "cell_type": "markdown",
   "metadata": {},
   "source": [
    "https://public.tableau.com/shared/GSKBD4S26?:display_count=n&:origin=viz_share_link"
   ]
  },
  {
   "cell_type": "markdown",
   "metadata": {},
   "source": [
    "### Cсылка на pdf-файл с презентацией:"
   ]
  },
  {
   "cell_type": "markdown",
   "metadata": {},
   "source": [
    "https://disk.yandex.ru/i/Whj-1iEPexXCVQ"
   ]
  }
 ],
 "metadata": {
  "ExecuteTimeLog": [
   {
    "duration": 752,
    "start_time": "2021-10-03T17:40:52.731Z"
   },
   {
    "duration": 20,
    "start_time": "2021-10-03T17:40:53.486Z"
   },
   {
    "duration": 4,
    "start_time": "2021-10-03T17:41:04.638Z"
   },
   {
    "duration": 461,
    "start_time": "2021-10-03T17:41:04.912Z"
   },
   {
    "duration": 284,
    "start_time": "2021-10-03T17:41:05.376Z"
   },
   {
    "duration": 574,
    "start_time": "2021-10-06T07:55:05.029Z"
   },
   {
    "duration": 6,
    "start_time": "2021-10-06T07:55:05.605Z"
   },
   {
    "duration": 3,
    "start_time": "2021-10-06T07:55:14.685Z"
   },
   {
    "duration": 406,
    "start_time": "2021-10-06T07:55:15.522Z"
   },
   {
    "duration": 67,
    "start_time": "2021-10-06T07:55:15.929Z"
   },
   {
    "duration": 840,
    "start_time": "2021-10-07T07:54:04.647Z"
   },
   {
    "duration": 10,
    "start_time": "2021-10-07T07:54:05.490Z"
   },
   {
    "duration": 4,
    "start_time": "2021-10-07T07:54:05.544Z"
   },
   {
    "duration": 391,
    "start_time": "2021-10-07T07:54:06.237Z"
   },
   {
    "duration": 293,
    "start_time": "2021-10-07T07:54:06.654Z"
   },
   {
    "duration": 496,
    "start_time": "2022-03-24T12:45:11.580Z"
   },
   {
    "duration": 10,
    "start_time": "2022-03-24T12:45:12.926Z"
   },
   {
    "duration": 3,
    "start_time": "2022-03-24T12:45:30.470Z"
   },
   {
    "duration": 777,
    "start_time": "2022-03-24T12:45:34.269Z"
   },
   {
    "duration": 2,
    "start_time": "2022-03-24T12:47:13.382Z"
   },
   {
    "duration": 504,
    "start_time": "2022-03-24T12:47:14.167Z"
   },
   {
    "duration": 3,
    "start_time": "2022-03-24T13:14:46.919Z"
   },
   {
    "duration": 649,
    "start_time": "2022-03-24T13:14:48.507Z"
   },
   {
    "duration": 3,
    "start_time": "2022-03-24T13:15:27.949Z"
   },
   {
    "duration": 6844,
    "start_time": "2022-03-24T13:15:28.491Z"
   },
   {
    "duration": 2,
    "start_time": "2022-03-24T13:26:57.759Z"
   },
   {
    "duration": 209,
    "start_time": "2022-03-24T13:26:58.029Z"
   },
   {
    "duration": 3,
    "start_time": "2022-03-24T13:42:12.011Z"
   },
   {
    "duration": 425,
    "start_time": "2022-03-24T13:42:13.342Z"
   },
   {
    "duration": 3,
    "start_time": "2022-03-24T13:43:24.065Z"
   },
   {
    "duration": 413,
    "start_time": "2022-03-24T13:43:24.759Z"
   },
   {
    "duration": 3,
    "start_time": "2022-03-24T13:46:40.403Z"
   },
   {
    "duration": 652,
    "start_time": "2022-03-24T13:46:40.956Z"
   },
   {
    "duration": 3,
    "start_time": "2022-03-24T13:47:19.213Z"
   },
   {
    "duration": 671,
    "start_time": "2022-03-24T13:47:19.253Z"
   },
   {
    "duration": 3,
    "start_time": "2022-03-24T13:47:28.741Z"
   },
   {
    "duration": 655,
    "start_time": "2022-03-24T13:47:29.267Z"
   },
   {
    "duration": 3,
    "start_time": "2022-03-24T13:51:21.014Z"
   },
   {
    "duration": 675,
    "start_time": "2022-03-24T13:51:24.209Z"
   },
   {
    "duration": 3,
    "start_time": "2022-03-24T13:53:34.388Z"
   },
   {
    "duration": 419,
    "start_time": "2022-03-24T13:53:35.879Z"
   },
   {
    "duration": 3,
    "start_time": "2022-03-24T13:54:03.250Z"
   },
   {
    "duration": 430,
    "start_time": "2022-03-24T13:54:03.849Z"
   },
   {
    "duration": 4,
    "start_time": "2022-03-24T13:54:36.054Z"
   },
   {
    "duration": 638,
    "start_time": "2022-03-24T13:54:39.817Z"
   },
   {
    "duration": 4,
    "start_time": "2022-03-24T13:58:24.211Z"
   },
   {
    "duration": 645,
    "start_time": "2022-03-24T13:58:24.974Z"
   },
   {
    "duration": 3,
    "start_time": "2022-03-24T13:58:57.130Z"
   },
   {
    "duration": 5075,
    "start_time": "2022-03-24T13:58:57.879Z"
   },
   {
    "duration": 3,
    "start_time": "2022-03-24T13:59:43.304Z"
   },
   {
    "duration": 4882,
    "start_time": "2022-03-24T13:59:44.113Z"
   },
   {
    "duration": 693,
    "start_time": "2022-03-25T07:57:48.436Z"
   },
   {
    "duration": 12,
    "start_time": "2022-03-25T07:57:49.693Z"
   },
   {
    "duration": 4,
    "start_time": "2022-03-25T07:57:52.927Z"
   },
   {
    "duration": 6543,
    "start_time": "2022-03-25T07:57:56.034Z"
   },
   {
    "duration": 3,
    "start_time": "2022-03-25T07:59:51.189Z"
   },
   {
    "duration": 4193,
    "start_time": "2022-03-25T07:59:53.402Z"
   },
   {
    "duration": 3,
    "start_time": "2022-03-25T08:02:49.691Z"
   },
   {
    "duration": 307,
    "start_time": "2022-03-25T08:02:51.545Z"
   },
   {
    "duration": 3,
    "start_time": "2022-03-25T08:03:23.223Z"
   },
   {
    "duration": 255,
    "start_time": "2022-03-25T08:03:24.111Z"
   },
   {
    "duration": 3,
    "start_time": "2022-03-25T08:03:40.563Z"
   },
   {
    "duration": 260,
    "start_time": "2022-03-25T08:03:41.157Z"
   },
   {
    "duration": 3,
    "start_time": "2022-03-25T08:05:22.567Z"
   },
   {
    "duration": 164,
    "start_time": "2022-03-25T08:05:24.534Z"
   },
   {
    "duration": 3,
    "start_time": "2022-03-25T08:05:40.322Z"
   },
   {
    "duration": 257,
    "start_time": "2022-03-25T08:05:42.196Z"
   },
   {
    "duration": 3,
    "start_time": "2022-03-25T08:11:03.902Z"
   },
   {
    "duration": 4444,
    "start_time": "2022-03-25T08:11:04.743Z"
   },
   {
    "duration": 3,
    "start_time": "2022-03-25T08:11:19.983Z"
   },
   {
    "duration": 160,
    "start_time": "2022-03-25T08:11:20.772Z"
   },
   {
    "duration": 3,
    "start_time": "2022-03-25T08:11:50.440Z"
   },
   {
    "duration": 4,
    "start_time": "2022-03-25T08:11:55.805Z"
   },
   {
    "duration": 3,
    "start_time": "2022-03-25T08:12:14.622Z"
   },
   {
    "duration": 300,
    "start_time": "2022-03-25T08:12:15.685Z"
   },
   {
    "duration": 42,
    "start_time": "2022-03-25T15:57:19.958Z"
   },
   {
    "duration": 473,
    "start_time": "2022-03-25T15:57:25.400Z"
   },
   {
    "duration": 9,
    "start_time": "2022-03-25T15:57:26.407Z"
   },
   {
    "duration": 3,
    "start_time": "2022-03-25T15:57:27.525Z"
   },
   {
    "duration": 6475,
    "start_time": "2022-03-25T15:57:29.017Z"
   },
   {
    "duration": 491,
    "start_time": "2022-03-25T15:57:37.553Z"
   },
   {
    "duration": 463,
    "start_time": "2022-03-25T15:57:44.692Z"
   },
   {
    "duration": 3,
    "start_time": "2022-03-25T15:57:49.511Z"
   },
   {
    "duration": 519,
    "start_time": "2022-03-25T15:57:51.299Z"
   },
   {
    "duration": 9,
    "start_time": "2022-03-25T15:58:06.954Z"
   },
   {
    "duration": 12,
    "start_time": "2022-03-28T21:14:48.748Z"
   },
   {
    "duration": 699,
    "start_time": "2022-03-28T21:14:52.311Z"
   },
   {
    "duration": 14,
    "start_time": "2022-03-28T21:14:53.595Z"
   },
   {
    "duration": 4,
    "start_time": "2022-03-28T21:15:01.320Z"
   },
   {
    "duration": 6527,
    "start_time": "2022-03-28T21:15:01.881Z"
   },
   {
    "duration": 3,
    "start_time": "2022-03-28T21:15:46.084Z"
   },
   {
    "duration": 4,
    "start_time": "2022-03-28T21:15:46.878Z"
   },
   {
    "duration": 4,
    "start_time": "2022-03-28T21:15:47.521Z"
   },
   {
    "duration": 6853,
    "start_time": "2022-03-28T21:15:48.630Z"
   },
   {
    "duration": 6371,
    "start_time": "2022-03-28T21:16:57.022Z"
   },
   {
    "duration": 82,
    "start_time": "2022-03-29T15:10:48.680Z"
   },
   {
    "duration": 622,
    "start_time": "2022-03-29T15:10:51.991Z"
   },
   {
    "duration": 13,
    "start_time": "2022-03-29T15:10:53.089Z"
   },
   {
    "duration": 4,
    "start_time": "2022-03-29T15:10:53.684Z"
   },
   {
    "duration": 5155,
    "start_time": "2022-03-29T15:10:54.529Z"
   },
   {
    "duration": 170,
    "start_time": "2022-03-29T15:11:00.840Z"
   },
   {
    "duration": 4,
    "start_time": "2022-03-29T15:12:47.880Z"
   },
   {
    "duration": 4785,
    "start_time": "2022-03-29T15:12:48.890Z"
   },
   {
    "duration": 168,
    "start_time": "2022-03-29T15:12:56.637Z"
   },
   {
    "duration": 4,
    "start_time": "2022-03-29T15:13:31.221Z"
   },
   {
    "duration": 4879,
    "start_time": "2022-03-29T15:13:32.973Z"
   },
   {
    "duration": 249,
    "start_time": "2022-03-29T15:13:40.215Z"
   },
   {
    "duration": 183,
    "start_time": "2022-03-29T15:14:16.281Z"
   },
   {
    "duration": 176,
    "start_time": "2022-03-29T15:14:26.649Z"
   },
   {
    "duration": 6,
    "start_time": "2022-03-29T15:14:40.193Z"
   },
   {
    "duration": 148,
    "start_time": "2022-03-29T15:17:03.116Z"
   },
   {
    "duration": 4299,
    "start_time": "2022-03-29T15:17:10.503Z"
   },
   {
    "duration": 512,
    "start_time": "2022-03-31T04:47:43.136Z"
   },
   {
    "duration": 9,
    "start_time": "2022-03-31T04:47:43.650Z"
   },
   {
    "duration": 4,
    "start_time": "2022-03-31T04:47:43.663Z"
   },
   {
    "duration": 4956,
    "start_time": "2022-03-31T04:47:43.669Z"
   },
   {
    "duration": 146,
    "start_time": "2022-03-31T04:47:48.627Z"
   },
   {
    "duration": 3524,
    "start_time": "2022-03-31T04:47:48.775Z"
   },
   {
    "duration": 692,
    "start_time": "2022-04-01T03:42:20.639Z"
   },
   {
    "duration": 16,
    "start_time": "2022-04-01T03:42:21.334Z"
   },
   {
    "duration": 5,
    "start_time": "2022-04-01T03:42:21.352Z"
   },
   {
    "duration": 7668,
    "start_time": "2022-04-01T03:42:21.376Z"
   },
   {
    "duration": 182,
    "start_time": "2022-04-01T03:42:29.047Z"
   },
   {
    "duration": 182,
    "start_time": "2022-04-01T03:42:29.231Z"
   },
   {
    "duration": 6053,
    "start_time": "2022-04-01T03:42:29.416Z"
   }
  ],
  "kernelspec": {
   "display_name": "Python 3",
   "language": "python",
   "name": "python3"
  },
  "language_info": {
   "codemirror_mode": {
    "name": "ipython",
    "version": 3
   },
   "file_extension": ".py",
   "mimetype": "text/x-python",
   "name": "python",
   "nbconvert_exporter": "python",
   "pygments_lexer": "ipython3",
   "version": "3.8.3"
  },
  "toc": {
   "base_numbering": 1,
   "nav_menu": {},
   "number_sections": true,
   "sideBar": true,
   "skip_h1_title": true,
   "title_cell": "Table of Contents",
   "title_sidebar": "Contents",
   "toc_cell": false,
   "toc_position": {},
   "toc_section_display": true,
   "toc_window_display": false
  }
 },
 "nbformat": 4,
 "nbformat_minor": 5
}
